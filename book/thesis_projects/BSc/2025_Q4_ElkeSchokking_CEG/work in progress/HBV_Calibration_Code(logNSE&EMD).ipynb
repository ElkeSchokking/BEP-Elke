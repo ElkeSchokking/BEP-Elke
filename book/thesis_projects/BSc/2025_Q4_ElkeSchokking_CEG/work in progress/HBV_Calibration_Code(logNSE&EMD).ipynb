{
 "cells": [
  {
   "cell_type": "markdown",
   "id": "ec436ed0-14fc-4985-bd19-5eb99fc2e04c",
   "metadata": {},
   "source": [
    "# HBV Calibration"
   ]
  },
  {
   "cell_type": "markdown",
   "id": "dee5c51d-893f-488f-889c-8c95e9dec5ee",
   "metadata": {},
   "source": [
    "## Setup and Data Preparation"
   ]
  },
  {
   "cell_type": "code",
   "execution_count": 1,
   "id": "dd089a07-e205-4df7-b638-3f03693fabd9",
   "metadata": {},
   "outputs": [],
   "source": [
    "%matplotlib inline\n",
    "# General python\n",
    "import warnings\n",
    "warnings.filterwarnings(\"ignore\", category=UserWarning)\n",
    "\n",
    "import numpy as np\n",
    "from pathlib import Path\n",
    "import pandas as pd\n",
    "import geopandas as gpd\n",
    "import matplotlib.pyplot as plt\n",
    "import xarray as xr\n",
    "from scipy.stats import wasserstein_distance\n",
    "\n",
    "# Niceties\n",
    "from rich import print\n",
    "from tqdm import tqdm\n",
    "\n",
    "\n",
    "# General eWaterCycle\n",
    "import ewatercycle\n",
    "import ewatercycle.models\n",
    "import ewatercycle.forcing\n",
    "from ewatercycle.forcing import sources\n",
    "from ewatercycle.models import HBV\n",
    "\n",
    "# Optional: Data Assimilation\n",
    "# If not installed, uncomment below to install\n",
    "# !pip install ewatercycle-da\n",
    "from ewatercycle_DA import DA"
   ]
  },
  {
   "cell_type": "markdown",
   "id": "4d65bbc6-038e-482c-8ac9-c47187638374",
   "metadata": {},
   "source": [
    "## Choose region and time period"
   ]
  },
  {
   "cell_type": "code",
   "execution_count": 2,
   "id": "cf1a189d-d7e8-4902-a9b6-7591b80c4ba7",
   "metadata": {},
   "outputs": [
    {
     "data": {
      "text/plain": [
       "<Axes: >"
      ]
     },
     "execution_count": 2,
     "metadata": {},
     "output_type": "execute_result"
    },
    {
     "data": {
      "image/png": "[encoded data removed]",
      "text/plain": [
       "<Figure size 640x480 with 1 Axes>"
      ]
     },
     "metadata": {},
     "output_type": "display_data"
    }
   ],
   "source": [
    "# name of the catchment\n",
    "basin_name = \"FR000119\"\n",
    "\n",
    "# defining dates for calibration\n",
    "experiment_start_date = \"2013-11-26T00:00:00Z\"\n",
    "experiment_end_date = \"2019-12-31T00:00:00Z\"\n",
    "\n",
    "#Define Catchment Area\n",
    "shapefile_path = Path.home() / \"BEP-Elke\" / \"book\" / \"thesis_projects\" / \"BSc\" / \"2025_Q4_ElkeSchokking_CEG\" / \"work in progress\" / \"ShapefilesFR000119\" / \"FR000119.shp\"\n",
    "\n",
    "#check\n",
    "catchment = gpd.read_file(shapefile_path)\n",
    "catchment = catchment.to_crs(epsg=3035)\n",
    "catchment[\"area_km2\"] = catchment.geometry.area / 1e6  \n",
    "basin_area = catchment[\"area_km2\"].sum()\n",
    "catchment.plot()"
   ]
  },
  {
   "cell_type": "code",
   "execution_count": 3,
   "id": "c5485562-e12b-466f-b42c-69a56b96ac5e",
   "metadata": {},
   "outputs": [],
   "source": [
    "# Location forcing files in home directory\n",
    "forcing_path = Path.home() / \"forcing\" / \"FR000119\"/\"ERA5\"\n",
    "forcing_path.mkdir(parents=True, exist_ok=True)"
   ]
  },
  {
   "cell_type": "markdown",
   "id": "d2235d1a-3eb9-427d-b6e5-50848565fedd",
   "metadata": {},
   "source": [
    "## Generate ERA 5 Forcing"
   ]
  },
  {
   "cell_type": "code",
   "execution_count": 4,
   "id": "8abd4fc5-f7ce-496b-af4f-fecdc30a4be4",
   "metadata": {},
   "outputs": [],
   "source": [
    "# Option one: generate forcing:\n",
    "#ERA5_forcing = sources[\"LumpedMakkinkForcing\"].generate(\n",
    "    #dataset=\"ERA5\",\n",
    "    #start_time=experiment_start_date,\n",
    "    #end_time=experiment_end_date,\n",
    "    #shape=shapefile_path,\n",
    "#)\n",
    "\n",
    "# Option two: Load generated (merged) data\n",
    "forcing_dir = Path(\"/home/elke/BEP-Elke/book/thesis_projects/BSc/2025_Q4_ElkeSchokking_CEG/work in progress/esmvaltool_output/ewcrep5yvtlv4f_20250525_104347/work/diagnostic/script\")\n",
    "ERA5_forcing = sources[\"LumpedMakkinkForcing\"].load(directory=forcing_dir)"
   ]
  },
  {
   "cell_type": "markdown",
   "id": "92374f0a-73da-4f37-97dd-831cd33aed07",
   "metadata": {},
   "source": [
    "## Defining historical data from eStreams\n",
    "The original CSV file had some formatting and encoding issues—like strange quotation marks and all the data crammed into a single column—which made it impossible to load with the usual pandas.read_csv() method. To work around this, I used a custom parser to manually extract the dates and discharge values."
   ]
  },
  {
   "cell_type": "code",
   "execution_count": 5,
   "id": "094c39b1-6e56-4394-9ecc-a23f3e48f5a7",
   "metadata": {},
   "outputs": [],
   "source": [
    "# Manually parse the file\n",
    "dates = []\n",
    "discharges = []\n",
    "\n",
    "with open(\"A3550050.csv\", \"r\", encoding=\"utf-8\") as f:\n",
    "    next(f)\n",
    "    for line in f:\n",
    "        parts = line.replace('\"\"', '\"').strip().split(',\"')\n",
    "        if len(parts) >= 2:\n",
    "            date_str = parts[0].strip('\"')\n",
    "            discharge_str = parts[1].strip('\"')\n",
    "            try:\n",
    "                dates.append(pd.to_datetime(date_str))\n",
    "                discharges.append(float(discharge_str))\n",
    "            except ValueError:\n",
    "                continue\n",
    "\n",
    "discharge_series = pd.Series(discharges, index=dates, name=\"Discharge (m³/s)\")\n",
    "Q_obs = discharge_series[experiment_start_date:experiment_end_date]"
   ]
  },
  {
   "cell_type": "markdown",
   "id": "6a4b5b54-8161-4f90-846b-78d4365976dc",
   "metadata": {},
   "source": [
    "## Ensemble Initialization and Parameter Sampling"
   ]
  },
  {
   "cell_type": "code",
   "execution_count": 6,
   "id": "30616e6f-be53-41da-9ade-6c2dda6cd5e0",
   "metadata": {},
   "outputs": [],
   "source": [
    "# Define HBV parameter bounds and names\n",
    "param_names = [\"Imax\", \"Ce\", \"Sumax\", \"Beta\", \"Pmax\", \"Tlag\", \"Kf\", \"Ks\", \"FM\"]\n",
    "p_min = np.array([0.0,  0.2,   40.0,  0.5,   0.001,   1.0,   0.01,  0.0001,  0.01])\n",
    "p_max = np.array([8.0,  1.0,  800.0,  4.0,   0.3,    10.0,   0.1,   0.01,   10.0])\n",
    "\n",
    "n_particles = 1000  # ensemble size\n",
    "# Sample random parameters for each particle within bounds\n",
    "parameters = np.zeros((len(param_names), n_particles))\n",
    "for j in range(len(param_names)):\n",
    "    parameters[j, :] = np.random.uniform(p_min[j], p_max[j], size=n_particles)"
   ]
  },
  {
   "cell_type": "code",
   "execution_count": 8,
   "id": "cd97535d-53ea-4a54-aa37-56c8d3ddfaa0",
   "metadata": {},
   "outputs": [],
   "source": [
    "# Create ensemble and initialize each member with HBV model and unique parameters\n",
    "ensemble = DA.Ensemble(N=n_particles)\n",
    "ensemble.setup()  # set up the ensemble environment\n",
    "\n",
    "# Prepare setup arguments for each particle (each gets its parameter set)\n",
    "setup_kwargs_list = [{'parameters': parameters[:, i]} for i in range(n_particles)]\n",
    "\n",
    "# Initialize all ensemble members with the HBVLocal model, forcing data, and parameters\n",
    "ensemble.initialize(model_name=[\"HBVLocal\"] * n_particles,\n",
    "                    forcing=[ERA5_forcing] * n_particles,\n",
    "                    setup_kwargs=setup_kwargs_list) \n",
    "\n",
    "# (Optional) Choose a reference model for time tracking\n",
    "ref_model = ensemble.ensemble_list[0].model\n",
    "\n",
    "# Generate config file with first parameter set\n",
    "config_file, _ = ref_model.setup(parameters=parameters[:, 0])\n",
    "\n",
    "# Initialize model\n",
    "ref_model.initialize(config_file)"
   ]
  },
  {
   "cell_type": "code",
   "execution_count": 9,
   "id": "1009994e-5984-44d1-befb-a4890a362ccf",
   "metadata": {},
   "outputs": [],
   "source": [
    "# Watchout with this!!!\n",
    "#import shutil\n",
    "# from pathlib import Path\n",
    "\n",
    "# # Search for all folders starting with \"hbvlocal_\"\n",
    "# work_dir = Path(\".\")\n",
    "# folders = [f for f in work_dir.glob(\"hbvlocal_*\") if f.is_dir()]\n",
    "\n",
    "# # Delete them all\n",
    "# for folder in folders:\n",
    "#     print(f\"Delete: {folder}\")\n",
    "#     shutil.rmtree(folder)"
   ]
  },
  {
   "cell_type": "markdown",
   "id": "3ebd6bea-6539-4448-90d7-2b48b4d78a7c",
   "metadata": {},
   "source": [
    "## Running the Ensemble Simulation"
   ]
  },
  {
   "cell_type": "code",
   "execution_count": 10,
   "id": "92a3452e-3658-45a4-84c6-7f80f66de40e",
   "metadata": {},
   "outputs": [],
   "source": [
    "# Determine number of time steps in the simulation period\n",
    "n_timesteps = int((ref_model.end_time - ref_model.start_time) / ref_model.time_step)\n",
    "\n",
    "time_index = []           # list to store timestamps for each time step\n",
    "ensemble_Q_outputs = []   # list to store discharge arrays for each time step\n",
    "\n",
    "for step in range(n_timesteps):\n",
    "    # Record current model time\n",
    "    current_time = pd.Timestamp(ref_model.time_as_datetime.date())\n",
    "    time_index.append(current_time)\n",
    "    \n",
    "    # Advance all models by one time step and collect their discharge values\n",
    "    ensemble.update()  # update all ensemble members by one step\n",
    "    Q_values = np.array(ensemble.get_value(\"Q\")).flatten()  # discharge of all particles\n",
    "    Q_values_m3s = Q_values * basin_area * 1000 / 86400 #convert to m3/s\n",
    "    ensemble_Q_outputs.append(Q_values_m3s)\n",
    "\n",
    "# Finalize the ensemble to release resources (important if models run in containers)\n",
    "ensemble.finalize()\n",
    "\n",
    "# Convert collected outputs to a DataFrame for convenience\n",
    "Q_array = np.array(ensemble_Q_outputs)        # shape: (n_timesteps, n_particles)\n",
    "df_ensemble = pd.DataFrame(\n",
    "    data=Q_array, \n",
    "    index=pd.DatetimeIndex(time_index), \n",
    "    columns=[f\"particle_{i}\" for i in range(n_particles)]\n",
    ")"
   ]
  },
  {
   "cell_type": "code",
   "execution_count": 11,
   "id": "e16ef914-7b58-46ce-9700-fc50c0e44170",
   "metadata": {},
   "outputs": [
    {
     "data": {
      "text/html": [
       "<pre style=\"white-space:pre;overflow-x:auto;line-height:normal;font-family:Menlo,'DejaVu Sans Mono',consolas,'Courier New',monospace\"><span style=\"font-weight: bold\">(</span><span style=\"color: #008080; text-decoration-color: #008080; font-weight: bold\">2555</span>, <span style=\"color: #008080; text-decoration-color: #008080; font-weight: bold\">1000</span><span style=\"font-weight: bold\">)</span>\n",
       "</pre>\n"
      ],
      "text/plain": [
       "\u001b[1m(\u001b[0m\u001b[1;36m2555\u001b[0m, \u001b[1;36m1000\u001b[0m\u001b[1m)\u001b[0m\n"
      ]
     },
     "metadata": {},
     "output_type": "display_data"
    },
    {
     "data": {
      "text/html": [
       "<pre style=\"white-space:pre;overflow-x:auto;line-height:normal;font-family:Menlo,'DejaVu Sans Mono',consolas,'Courier New',monospace\">            particle_0  particle_1  particle_2  particle_3  particle_4  \\\n",
       "<span style=\"color: #008080; text-decoration-color: #008080; font-weight: bold\">2013</span>-<span style=\"color: #008080; text-decoration-color: #008080; font-weight: bold\">01</span>-<span style=\"color: #008080; text-decoration-color: #008080; font-weight: bold\">01</span>    <span style=\"color: #008080; text-decoration-color: #008080; font-weight: bold\">0.000066</span>    <span style=\"color: #008080; text-decoration-color: #008080; font-weight: bold\">0.000000</span>    <span style=\"color: #008080; text-decoration-color: #008080; font-weight: bold\">0.000000</span>    <span style=\"color: #008080; text-decoration-color: #008080; font-weight: bold\">0.001587</span>    <span style=\"color: #008080; text-decoration-color: #008080; font-weight: bold\">0.000362</span>   \n",
       "<span style=\"color: #008080; text-decoration-color: #008080; font-weight: bold\">2013</span>-<span style=\"color: #008080; text-decoration-color: #008080; font-weight: bold\">01</span>-<span style=\"color: #008080; text-decoration-color: #008080; font-weight: bold\">02</span>    <span style=\"color: #008080; text-decoration-color: #008080; font-weight: bold\">0.001235</span>    <span style=\"color: #008080; text-decoration-color: #008080; font-weight: bold\">0.000022</span>    <span style=\"color: #008080; text-decoration-color: #008080; font-weight: bold\">0.000690</span>    <span style=\"color: #008080; text-decoration-color: #008080; font-weight: bold\">0.019136</span>    <span style=\"color: #008080; text-decoration-color: #008080; font-weight: bold\">0.002352</span>   \n",
       "<span style=\"color: #008080; text-decoration-color: #008080; font-weight: bold\">2013</span>-<span style=\"color: #008080; text-decoration-color: #008080; font-weight: bold\">01</span>-<span style=\"color: #008080; text-decoration-color: #008080; font-weight: bold\">03</span>    <span style=\"color: #008080; text-decoration-color: #008080; font-weight: bold\">0.004531</span>    <span style=\"color: #008080; text-decoration-color: #008080; font-weight: bold\">0.000111</span>    <span style=\"color: #008080; text-decoration-color: #008080; font-weight: bold\">0.002065</span>    <span style=\"color: #008080; text-decoration-color: #008080; font-weight: bold\">0.035988</span>    <span style=\"color: #008080; text-decoration-color: #008080; font-weight: bold\">0.006095</span>   \n",
       "<span style=\"color: #008080; text-decoration-color: #008080; font-weight: bold\">2013</span>-<span style=\"color: #008080; text-decoration-color: #008080; font-weight: bold\">01</span>-<span style=\"color: #008080; text-decoration-color: #008080; font-weight: bold\">04</span>    <span style=\"color: #008080; text-decoration-color: #008080; font-weight: bold\">0.012561</span>    <span style=\"color: #008080; text-decoration-color: #008080; font-weight: bold\">0.000609</span>    <span style=\"color: #008080; text-decoration-color: #008080; font-weight: bold\">8.542215</span>    <span style=\"color: #008080; text-decoration-color: #008080; font-weight: bold\">0.084091</span>    <span style=\"color: #008080; text-decoration-color: #008080; font-weight: bold\">0.014017</span>   \n",
       "<span style=\"color: #008080; text-decoration-color: #008080; font-weight: bold\">2013</span>-<span style=\"color: #008080; text-decoration-color: #008080; font-weight: bold\">01</span>-<span style=\"color: #008080; text-decoration-color: #008080; font-weight: bold\">05</span>    <span style=\"color: #008080; text-decoration-color: #008080; font-weight: bold\">0.030427</span>    <span style=\"color: #008080; text-decoration-color: #008080; font-weight: bold\">0.002373</span>   <span style=\"color: #008080; text-decoration-color: #008080; font-weight: bold\">29.096132</span>    <span style=\"color: #008080; text-decoration-color: #008080; font-weight: bold\">0.197466</span>    <span style=\"color: #008080; text-decoration-color: #008080; font-weight: bold\">0.043699</span>   \n",
       "\n",
       "            particle_5  particle_6  particle_7  particle_8  particle_9  <span style=\"color: #808000; text-decoration-color: #808000\">...</span>  \\\n",
       "<span style=\"color: #008080; text-decoration-color: #008080; font-weight: bold\">2013</span>-<span style=\"color: #008080; text-decoration-color: #008080; font-weight: bold\">01</span>-<span style=\"color: #008080; text-decoration-color: #008080; font-weight: bold\">01</span>    <span style=\"color: #008080; text-decoration-color: #008080; font-weight: bold\">0.000000</span>    <span style=\"color: #008080; text-decoration-color: #008080; font-weight: bold\">0.009566</span>    <span style=\"color: #008080; text-decoration-color: #008080; font-weight: bold\">0.000011</span>    <span style=\"color: #008080; text-decoration-color: #008080; font-weight: bold\">0.000095</span>    <span style=\"color: #008080; text-decoration-color: #008080; font-weight: bold\">0.000067</span>  <span style=\"color: #808000; text-decoration-color: #808000\">...</span>   \n",
       "<span style=\"color: #008080; text-decoration-color: #008080; font-weight: bold\">2013</span>-<span style=\"color: #008080; text-decoration-color: #008080; font-weight: bold\">01</span>-<span style=\"color: #008080; text-decoration-color: #008080; font-weight: bold\">02</span>    <span style=\"color: #008080; text-decoration-color: #008080; font-weight: bold\">0.000000</span>    <span style=\"color: #008080; text-decoration-color: #008080; font-weight: bold\">0.038451</span>    <span style=\"color: #008080; text-decoration-color: #008080; font-weight: bold\">0.000071</span>    <span style=\"color: #008080; text-decoration-color: #008080; font-weight: bold\">0.000558</span>    <span style=\"color: #008080; text-decoration-color: #008080; font-weight: bold\">0.000420</span>  <span style=\"color: #808000; text-decoration-color: #808000\">...</span>   \n",
       "<span style=\"color: #008080; text-decoration-color: #008080; font-weight: bold\">2013</span>-<span style=\"color: #008080; text-decoration-color: #008080; font-weight: bold\">01</span>-<span style=\"color: #008080; text-decoration-color: #008080; font-weight: bold\">03</span>    <span style=\"color: #008080; text-decoration-color: #008080; font-weight: bold\">0.000000</span>    <span style=\"color: #008080; text-decoration-color: #008080; font-weight: bold\">0.076782</span>    <span style=\"color: #008080; text-decoration-color: #008080; font-weight: bold\">0.000234</span>    <span style=\"color: #008080; text-decoration-color: #008080; font-weight: bold\">0.001735</span>    <span style=\"color: #008080; text-decoration-color: #008080; font-weight: bold\">0.001351</span>  <span style=\"color: #808000; text-decoration-color: #808000\">...</span>   \n",
       "<span style=\"color: #008080; text-decoration-color: #008080; font-weight: bold\">2013</span>-<span style=\"color: #008080; text-decoration-color: #008080; font-weight: bold\">01</span>-<span style=\"color: #008080; text-decoration-color: #008080; font-weight: bold\">04</span>    <span style=\"color: #008080; text-decoration-color: #008080; font-weight: bold\">0.003612</span>    <span style=\"color: #008080; text-decoration-color: #008080; font-weight: bold\">0.135985</span>    <span style=\"color: #008080; text-decoration-color: #008080; font-weight: bold\">0.000589</span>    <span style=\"color: #008080; text-decoration-color: #008080; font-weight: bold\">0.004157</span>    <span style=\"color: #008080; text-decoration-color: #008080; font-weight: bold\">0.003408</span>  <span style=\"color: #808000; text-decoration-color: #808000\">...</span>   \n",
       "<span style=\"color: #008080; text-decoration-color: #008080; font-weight: bold\">2013</span>-<span style=\"color: #008080; text-decoration-color: #008080; font-weight: bold\">01</span>-<span style=\"color: #008080; text-decoration-color: #008080; font-weight: bold\">05</span>    <span style=\"color: #008080; text-decoration-color: #008080; font-weight: bold\">0.467988</span>    <span style=\"color: #008080; text-decoration-color: #008080; font-weight: bold\">0.251039</span>    <span style=\"color: #008080; text-decoration-color: #008080; font-weight: bold\">0.001287</span>    <span style=\"color: #008080; text-decoration-color: #008080; font-weight: bold\">0.008582</span>    <span style=\"color: #008080; text-decoration-color: #008080; font-weight: bold\">0.007782</span>  <span style=\"color: #808000; text-decoration-color: #808000\">...</span>   \n",
       "\n",
       "            particle_990  particle_991  particle_992  particle_993  \\\n",
       "<span style=\"color: #008080; text-decoration-color: #008080; font-weight: bold\">2013</span>-<span style=\"color: #008080; text-decoration-color: #008080; font-weight: bold\">01</span>-<span style=\"color: #008080; text-decoration-color: #008080; font-weight: bold\">01</span>      <span style=\"color: #008080; text-decoration-color: #008080; font-weight: bold\">0.002708</span>      <span style=\"color: #008080; text-decoration-color: #008080; font-weight: bold\">0.000019</span>      <span style=\"color: #008080; text-decoration-color: #008080; font-weight: bold\">0.000000</span>      <span style=\"color: #008080; text-decoration-color: #008080; font-weight: bold\">0.001816</span>   \n",
       "<span style=\"color: #008080; text-decoration-color: #008080; font-weight: bold\">2013</span>-<span style=\"color: #008080; text-decoration-color: #008080; font-weight: bold\">01</span>-<span style=\"color: #008080; text-decoration-color: #008080; font-weight: bold\">02</span>      <span style=\"color: #008080; text-decoration-color: #008080; font-weight: bold\">0.017966</span>      <span style=\"color: #008080; text-decoration-color: #008080; font-weight: bold\">0.056953</span>      <span style=\"color: #008080; text-decoration-color: #008080; font-weight: bold\">0.000343</span>      <span style=\"color: #008080; text-decoration-color: #008080; font-weight: bold\">0.009281</span>   \n",
       "<span style=\"color: #008080; text-decoration-color: #008080; font-weight: bold\">2013</span>-<span style=\"color: #008080; text-decoration-color: #008080; font-weight: bold\">01</span>-<span style=\"color: #008080; text-decoration-color: #008080; font-weight: bold\">03</span>      <span style=\"color: #008080; text-decoration-color: #008080; font-weight: bold\">0.034237</span>      <span style=\"color: #008080; text-decoration-color: #008080; font-weight: bold\">0.197568</span>      <span style=\"color: #008080; text-decoration-color: #008080; font-weight: bold\">0.001711</span>      <span style=\"color: #008080; text-decoration-color: #008080; font-weight: bold\">0.021314</span>   \n",
       "<span style=\"color: #008080; text-decoration-color: #008080; font-weight: bold\">2013</span>-<span style=\"color: #008080; text-decoration-color: #008080; font-weight: bold\">01</span>-<span style=\"color: #008080; text-decoration-color: #008080; font-weight: bold\">04</span>      <span style=\"color: #008080; text-decoration-color: #008080; font-weight: bold\">0.073228</span>      <span style=\"color: #008080; text-decoration-color: #008080; font-weight: bold\">0.479186</span>      <span style=\"color: #008080; text-decoration-color: #008080; font-weight: bold\">0.202499</span>      <span style=\"color: #008080; text-decoration-color: #008080; font-weight: bold\">0.036490</span>   \n",
       "<span style=\"color: #008080; text-decoration-color: #008080; font-weight: bold\">2013</span>-<span style=\"color: #008080; text-decoration-color: #008080; font-weight: bold\">01</span>-<span style=\"color: #008080; text-decoration-color: #008080; font-weight: bold\">05</span>      <span style=\"color: #008080; text-decoration-color: #008080; font-weight: bold\">0.159058</span>      <span style=\"color: #008080; text-decoration-color: #008080; font-weight: bold\">1.363217</span>      <span style=\"color: #008080; text-decoration-color: #008080; font-weight: bold\">1.224075</span>      <span style=\"color: #008080; text-decoration-color: #008080; font-weight: bold\">0.058434</span>   \n",
       "\n",
       "            particle_994  particle_995  particle_996  particle_997  \\\n",
       "<span style=\"color: #008080; text-decoration-color: #008080; font-weight: bold\">2013</span>-<span style=\"color: #008080; text-decoration-color: #008080; font-weight: bold\">01</span>-<span style=\"color: #008080; text-decoration-color: #008080; font-weight: bold\">01</span>      <span style=\"color: #008080; text-decoration-color: #008080; font-weight: bold\">0.000019</span>      <span style=\"color: #008080; text-decoration-color: #008080; font-weight: bold\">0.000098</span>      <span style=\"color: #008080; text-decoration-color: #008080; font-weight: bold\">0.001398</span>      <span style=\"color: #008080; text-decoration-color: #008080; font-weight: bold\">0.000020</span>   \n",
       "<span style=\"color: #008080; text-decoration-color: #008080; font-weight: bold\">2013</span>-<span style=\"color: #008080; text-decoration-color: #008080; font-weight: bold\">01</span>-<span style=\"color: #008080; text-decoration-color: #008080; font-weight: bold\">02</span>      <span style=\"color: #008080; text-decoration-color: #008080; font-weight: bold\">0.000113</span>      <span style=\"color: #008080; text-decoration-color: #008080; font-weight: bold\">0.001940</span>      <span style=\"color: #008080; text-decoration-color: #008080; font-weight: bold\">0.014977</span>      <span style=\"color: #008080; text-decoration-color: #008080; font-weight: bold\">0.001404</span>   \n",
       "<span style=\"color: #008080; text-decoration-color: #008080; font-weight: bold\">2013</span>-<span style=\"color: #008080; text-decoration-color: #008080; font-weight: bold\">01</span>-<span style=\"color: #008080; text-decoration-color: #008080; font-weight: bold\">03</span>      <span style=\"color: #008080; text-decoration-color: #008080; font-weight: bold\">0.000351</span>      <span style=\"color: #008080; text-decoration-color: #008080; font-weight: bold\">0.007200</span>      <span style=\"color: #008080; text-decoration-color: #008080; font-weight: bold\">0.042813</span>      <span style=\"color: #008080; text-decoration-color: #008080; font-weight: bold\">0.005496</span>   \n",
       "<span style=\"color: #008080; text-decoration-color: #008080; font-weight: bold\">2013</span>-<span style=\"color: #008080; text-decoration-color: #008080; font-weight: bold\">01</span>-<span style=\"color: #008080; text-decoration-color: #008080; font-weight: bold\">04</span>      <span style=\"color: #008080; text-decoration-color: #008080; font-weight: bold\">0.000837</span>      <span style=\"color: #008080; text-decoration-color: #008080; font-weight: bold\">0.023394</span>      <span style=\"color: #008080; text-decoration-color: #008080; font-weight: bold\">0.086676</span>      <span style=\"color: #008080; text-decoration-color: #008080; font-weight: bold\">0.017837</span>   \n",
       "<span style=\"color: #008080; text-decoration-color: #008080; font-weight: bold\">2013</span>-<span style=\"color: #008080; text-decoration-color: #008080; font-weight: bold\">01</span>-<span style=\"color: #008080; text-decoration-color: #008080; font-weight: bold\">05</span>      <span style=\"color: #008080; text-decoration-color: #008080; font-weight: bold\">0.001725</span>      <span style=\"color: #008080; text-decoration-color: #008080; font-weight: bold\">0.068075</span>      <span style=\"color: #008080; text-decoration-color: #008080; font-weight: bold\">0.212021</span>      <span style=\"color: #008080; text-decoration-color: #008080; font-weight: bold\">0.050188</span>   \n",
       "\n",
       "            particle_998  particle_999  \n",
       "<span style=\"color: #008080; text-decoration-color: #008080; font-weight: bold\">2013</span>-<span style=\"color: #008080; text-decoration-color: #008080; font-weight: bold\">01</span>-<span style=\"color: #008080; text-decoration-color: #008080; font-weight: bold\">01</span>      <span style=\"color: #008080; text-decoration-color: #008080; font-weight: bold\">0.002325</span>      <span style=\"color: #008080; text-decoration-color: #008080; font-weight: bold\">0.000000</span>  \n",
       "<span style=\"color: #008080; text-decoration-color: #008080; font-weight: bold\">2013</span>-<span style=\"color: #008080; text-decoration-color: #008080; font-weight: bold\">01</span>-<span style=\"color: #008080; text-decoration-color: #008080; font-weight: bold\">02</span>      <span style=\"color: #008080; text-decoration-color: #008080; font-weight: bold\">0.012147</span>      <span style=\"color: #008080; text-decoration-color: #008080; font-weight: bold\">0.000028</span>  \n",
       "<span style=\"color: #008080; text-decoration-color: #008080; font-weight: bold\">2013</span>-<span style=\"color: #008080; text-decoration-color: #008080; font-weight: bold\">01</span>-<span style=\"color: #008080; text-decoration-color: #008080; font-weight: bold\">03</span>      <span style=\"color: #008080; text-decoration-color: #008080; font-weight: bold\">0.028198</span>      <span style=\"color: #008080; text-decoration-color: #008080; font-weight: bold\">0.000139</span>  \n",
       "<span style=\"color: #008080; text-decoration-color: #008080; font-weight: bold\">2013</span>-<span style=\"color: #008080; text-decoration-color: #008080; font-weight: bold\">01</span>-<span style=\"color: #008080; text-decoration-color: #008080; font-weight: bold\">04</span>      <span style=\"color: #008080; text-decoration-color: #008080; font-weight: bold\">0.049508</span>      <span style=\"color: #008080; text-decoration-color: #008080; font-weight: bold\">0.000460</span>  \n",
       "<span style=\"color: #008080; text-decoration-color: #008080; font-weight: bold\">2013</span>-<span style=\"color: #008080; text-decoration-color: #008080; font-weight: bold\">01</span>-<span style=\"color: #008080; text-decoration-color: #008080; font-weight: bold\">05</span>      <span style=\"color: #008080; text-decoration-color: #008080; font-weight: bold\">0.090675</span>      <span style=\"color: #008080; text-decoration-color: #008080; font-weight: bold\">0.001253</span>  \n",
       "\n",
       "<span style=\"font-weight: bold\">[</span><span style=\"color: #008080; text-decoration-color: #008080; font-weight: bold\">5</span> rows x <span style=\"color: #008080; text-decoration-color: #008080; font-weight: bold\">1000</span> columns<span style=\"font-weight: bold\">]</span>\n",
       "</pre>\n"
      ],
      "text/plain": [
       "            particle_0  particle_1  particle_2  particle_3  particle_4  \\\n",
       "\u001b[1;36m2013\u001b[0m-\u001b[1;36m01\u001b[0m-\u001b[1;36m01\u001b[0m    \u001b[1;36m0.000066\u001b[0m    \u001b[1;36m0.000000\u001b[0m    \u001b[1;36m0.000000\u001b[0m    \u001b[1;36m0.001587\u001b[0m    \u001b[1;36m0.000362\u001b[0m   \n",
       "\u001b[1;36m2013\u001b[0m-\u001b[1;36m01\u001b[0m-\u001b[1;36m02\u001b[0m    \u001b[1;36m0.001235\u001b[0m    \u001b[1;36m0.000022\u001b[0m    \u001b[1;36m0.000690\u001b[0m    \u001b[1;36m0.019136\u001b[0m    \u001b[1;36m0.002352\u001b[0m   \n",
       "\u001b[1;36m2013\u001b[0m-\u001b[1;36m01\u001b[0m-\u001b[1;36m03\u001b[0m    \u001b[1;36m0.004531\u001b[0m    \u001b[1;36m0.000111\u001b[0m    \u001b[1;36m0.002065\u001b[0m    \u001b[1;36m0.035988\u001b[0m    \u001b[1;36m0.006095\u001b[0m   \n",
       "\u001b[1;36m2013\u001b[0m-\u001b[1;36m01\u001b[0m-\u001b[1;36m04\u001b[0m    \u001b[1;36m0.012561\u001b[0m    \u001b[1;36m0.000609\u001b[0m    \u001b[1;36m8.542215\u001b[0m    \u001b[1;36m0.084091\u001b[0m    \u001b[1;36m0.014017\u001b[0m   \n",
       "\u001b[1;36m2013\u001b[0m-\u001b[1;36m01\u001b[0m-\u001b[1;36m05\u001b[0m    \u001b[1;36m0.030427\u001b[0m    \u001b[1;36m0.002373\u001b[0m   \u001b[1;36m29.096132\u001b[0m    \u001b[1;36m0.197466\u001b[0m    \u001b[1;36m0.043699\u001b[0m   \n",
       "\n",
       "            particle_5  particle_6  particle_7  particle_8  particle_9  \u001b[33m...\u001b[0m  \\\n",
       "\u001b[1;36m2013\u001b[0m-\u001b[1;36m01\u001b[0m-\u001b[1;36m01\u001b[0m    \u001b[1;36m0.000000\u001b[0m    \u001b[1;36m0.009566\u001b[0m    \u001b[1;36m0.000011\u001b[0m    \u001b[1;36m0.000095\u001b[0m    \u001b[1;36m0.000067\u001b[0m  \u001b[33m...\u001b[0m   \n",
       "\u001b[1;36m2013\u001b[0m-\u001b[1;36m01\u001b[0m-\u001b[1;36m02\u001b[0m    \u001b[1;36m0.000000\u001b[0m    \u001b[1;36m0.038451\u001b[0m    \u001b[1;36m0.000071\u001b[0m    \u001b[1;36m0.000558\u001b[0m    \u001b[1;36m0.000420\u001b[0m  \u001b[33m...\u001b[0m   \n",
       "\u001b[1;36m2013\u001b[0m-\u001b[1;36m01\u001b[0m-\u001b[1;36m03\u001b[0m    \u001b[1;36m0.000000\u001b[0m    \u001b[1;36m0.076782\u001b[0m    \u001b[1;36m0.000234\u001b[0m    \u001b[1;36m0.001735\u001b[0m    \u001b[1;36m0.001351\u001b[0m  \u001b[33m...\u001b[0m   \n",
       "\u001b[1;36m2013\u001b[0m-\u001b[1;36m01\u001b[0m-\u001b[1;36m04\u001b[0m    \u001b[1;36m0.003612\u001b[0m    \u001b[1;36m0.135985\u001b[0m    \u001b[1;36m0.000589\u001b[0m    \u001b[1;36m0.004157\u001b[0m    \u001b[1;36m0.003408\u001b[0m  \u001b[33m...\u001b[0m   \n",
       "\u001b[1;36m2013\u001b[0m-\u001b[1;36m01\u001b[0m-\u001b[1;36m05\u001b[0m    \u001b[1;36m0.467988\u001b[0m    \u001b[1;36m0.251039\u001b[0m    \u001b[1;36m0.001287\u001b[0m    \u001b[1;36m0.008582\u001b[0m    \u001b[1;36m0.007782\u001b[0m  \u001b[33m...\u001b[0m   \n",
       "\n",
       "            particle_990  particle_991  particle_992  particle_993  \\\n",
       "\u001b[1;36m2013\u001b[0m-\u001b[1;36m01\u001b[0m-\u001b[1;36m01\u001b[0m      \u001b[1;36m0.002708\u001b[0m      \u001b[1;36m0.000019\u001b[0m      \u001b[1;36m0.000000\u001b[0m      \u001b[1;36m0.001816\u001b[0m   \n",
       "\u001b[1;36m2013\u001b[0m-\u001b[1;36m01\u001b[0m-\u001b[1;36m02\u001b[0m      \u001b[1;36m0.017966\u001b[0m      \u001b[1;36m0.056953\u001b[0m      \u001b[1;36m0.000343\u001b[0m      \u001b[1;36m0.009281\u001b[0m   \n",
       "\u001b[1;36m2013\u001b[0m-\u001b[1;36m01\u001b[0m-\u001b[1;36m03\u001b[0m      \u001b[1;36m0.034237\u001b[0m      \u001b[1;36m0.197568\u001b[0m      \u001b[1;36m0.001711\u001b[0m      \u001b[1;36m0.021314\u001b[0m   \n",
       "\u001b[1;36m2013\u001b[0m-\u001b[1;36m01\u001b[0m-\u001b[1;36m04\u001b[0m      \u001b[1;36m0.073228\u001b[0m      \u001b[1;36m0.479186\u001b[0m      \u001b[1;36m0.202499\u001b[0m      \u001b[1;36m0.036490\u001b[0m   \n",
       "\u001b[1;36m2013\u001b[0m-\u001b[1;36m01\u001b[0m-\u001b[1;36m05\u001b[0m      \u001b[1;36m0.159058\u001b[0m      \u001b[1;36m1.363217\u001b[0m      \u001b[1;36m1.224075\u001b[0m      \u001b[1;36m0.058434\u001b[0m   \n",
       "\n",
       "            particle_994  particle_995  particle_996  particle_997  \\\n",
       "\u001b[1;36m2013\u001b[0m-\u001b[1;36m01\u001b[0m-\u001b[1;36m01\u001b[0m      \u001b[1;36m0.000019\u001b[0m      \u001b[1;36m0.000098\u001b[0m      \u001b[1;36m0.001398\u001b[0m      \u001b[1;36m0.000020\u001b[0m   \n",
       "\u001b[1;36m2013\u001b[0m-\u001b[1;36m01\u001b[0m-\u001b[1;36m02\u001b[0m      \u001b[1;36m0.000113\u001b[0m      \u001b[1;36m0.001940\u001b[0m      \u001b[1;36m0.014977\u001b[0m      \u001b[1;36m0.001404\u001b[0m   \n",
       "\u001b[1;36m2013\u001b[0m-\u001b[1;36m01\u001b[0m-\u001b[1;36m03\u001b[0m      \u001b[1;36m0.000351\u001b[0m      \u001b[1;36m0.007200\u001b[0m      \u001b[1;36m0.042813\u001b[0m      \u001b[1;36m0.005496\u001b[0m   \n",
       "\u001b[1;36m2013\u001b[0m-\u001b[1;36m01\u001b[0m-\u001b[1;36m04\u001b[0m      \u001b[1;36m0.000837\u001b[0m      \u001b[1;36m0.023394\u001b[0m      \u001b[1;36m0.086676\u001b[0m      \u001b[1;36m0.017837\u001b[0m   \n",
       "\u001b[1;36m2013\u001b[0m-\u001b[1;36m01\u001b[0m-\u001b[1;36m05\u001b[0m      \u001b[1;36m0.001725\u001b[0m      \u001b[1;36m0.068075\u001b[0m      \u001b[1;36m0.212021\u001b[0m      \u001b[1;36m0.050188\u001b[0m   \n",
       "\n",
       "            particle_998  particle_999  \n",
       "\u001b[1;36m2013\u001b[0m-\u001b[1;36m01\u001b[0m-\u001b[1;36m01\u001b[0m      \u001b[1;36m0.002325\u001b[0m      \u001b[1;36m0.000000\u001b[0m  \n",
       "\u001b[1;36m2013\u001b[0m-\u001b[1;36m01\u001b[0m-\u001b[1;36m02\u001b[0m      \u001b[1;36m0.012147\u001b[0m      \u001b[1;36m0.000028\u001b[0m  \n",
       "\u001b[1;36m2013\u001b[0m-\u001b[1;36m01\u001b[0m-\u001b[1;36m03\u001b[0m      \u001b[1;36m0.028198\u001b[0m      \u001b[1;36m0.000139\u001b[0m  \n",
       "\u001b[1;36m2013\u001b[0m-\u001b[1;36m01\u001b[0m-\u001b[1;36m04\u001b[0m      \u001b[1;36m0.049508\u001b[0m      \u001b[1;36m0.000460\u001b[0m  \n",
       "\u001b[1;36m2013\u001b[0m-\u001b[1;36m01\u001b[0m-\u001b[1;36m05\u001b[0m      \u001b[1;36m0.090675\u001b[0m      \u001b[1;36m0.001253\u001b[0m  \n",
       "\n",
       "\u001b[1m[\u001b[0m\u001b[1;36m5\u001b[0m rows x \u001b[1;36m1000\u001b[0m columns\u001b[1m]\u001b[0m\n"
      ]
     },
     "metadata": {},
     "output_type": "display_data"
    }
   ],
   "source": [
    "print(df_ensemble.shape)\n",
    "print(df_ensemble.head())"
   ]
  },
  {
   "cell_type": "markdown",
   "id": "889ce629-d9c6-46b3-90c5-6a6ccbb808cc",
   "metadata": {},
   "source": [
    "## Defining the Calibration Objective"
   ]
  },
  {
   "cell_type": "code",
   "execution_count": 12,
   "id": "d6309b70-d220-4485-944b-5d50f5ddce9a",
   "metadata": {},
   "outputs": [],
   "source": [
    "def calibration_objective(simulated_series: pd.Series, observed_series: pd.Series,\n",
    "                          w_lognse: float = 0.7, w_emd: float = 0.3) -> float:\n",
    "    \"\"\"\n",
    "    Calibrate model by combining:\n",
    "    - log-NSE: performance during low flows\n",
    "    - EMD: match drought event characteristics (timing, deficit)\n",
    "    Weights w_lognse and w_emd define the importance of each.\n",
    "    Lower total_score indicates better calibration.\n",
    "    \"\"\"\n",
    "\n",
    "    # Align indices\n",
    "    sim = simulated_series.loc[observed_series.index]\n",
    "    obs = observed_series\n",
    "\n",
    "    # 1. log-NSE\n",
    "    sim_pos = sim[sim > 0]\n",
    "    obs_pos = obs[obs > 0]\n",
    "    common_index = sim_pos.index.intersection(obs_pos.index)\n",
    "    sim_log = np.log(sim_pos.loc[common_index])\n",
    "    obs_log = np.log(obs_pos.loc[common_index])\n",
    "    \n",
    "    numerator = np.sum((sim_log - obs_log) ** 2)\n",
    "    denominator = np.sum((obs_log - np.mean(obs_log)) ** 2)\n",
    "    log_nse = 1 - (numerator / denominator) if denominator != 0 else np.inf\n",
    "    error_nse = 1 - log_nse  # to be minimized\n",
    "\n",
    "    # 2. EMD from drought characteristics\n",
    "    obs_droughts = droughts(obs, basin_name=\"obs\", q_crit=500)\n",
    "    sim_droughts = droughts(sim, basin_name=\"sim\", q_crit=500)\n",
    "\n",
    "    obs_durations = pd.DataFrame(obs_droughts)[\"Duration (days)\"].values\n",
    "    sim_durations = pd.DataFrame(sim_droughts)[\"Duration (days)\"].values\n",
    "    obs_deficits = pd.DataFrame(obs_droughts)[\"Max Cumulative Deficit (m3/s)\"].abs().values\n",
    "    sim_deficits = pd.DataFrame(sim_droughts)[\"Max Cumulative Deficit (m3/s)\"].abs().values\n",
    "\n",
    "    emd_duration = wasserstein_distance(obs_durations, sim_durations)\n",
    "    emd_deficit = wasserstein_distance(obs_deficits, sim_deficits)\n",
    "    error_emd = emd_duration + emd_deficit\n",
    "\n",
    "    # Combine with weighted sum\n",
    "    total_score = w_lognse * error_nse + w_emd * error_emd\n",
    "    return total_score"
   ]
  },
  {
   "cell_type": "code",
   "execution_count": 13,
   "id": "bb057fe4-718d-4883-8e07-1317e6074517",
   "metadata": {},
   "outputs": [
    {
     "data": {
      "text/html": [
       "<pre style=\"white-space:pre;overflow-x:auto;line-height:normal;font-family:Menlo,'DejaVu Sans Mono',consolas,'Courier New',monospace\">Q_obs index sample: <span style=\"color: #800080; text-decoration-color: #800080; font-weight: bold\">DatetimeIndex</span><span style=\"font-weight: bold\">([</span><span style=\"color: #008000; text-decoration-color: #008000\">'2013-11-26 00:00:00+00:00'</span>, <span style=\"color: #008000; text-decoration-color: #008000\">'2013-11-27 00:00:00+00:00'</span>,\n",
       "               <span style=\"color: #008000; text-decoration-color: #008000\">'2013-11-28 00:00:00+00:00'</span><span style=\"font-weight: bold\">]</span>,\n",
       "              <span style=\"color: #808000; text-decoration-color: #808000\">dtype</span>=<span style=\"color: #008000; text-decoration-color: #008000\">'datetime64[ns, UTC]'</span>, <span style=\"color: #808000; text-decoration-color: #808000\">freq</span>=<span style=\"color: #800080; text-decoration-color: #800080; font-style: italic\">None</span><span style=\"font-weight: bold\">)</span>\n",
       "</pre>\n"
      ],
      "text/plain": [
       "Q_obs index sample: \u001b[1;35mDatetimeIndex\u001b[0m\u001b[1m(\u001b[0m\u001b[1m[\u001b[0m\u001b[32m'2013-11-26 00:00:00+00:00'\u001b[0m, \u001b[32m'2013-11-27 00:00:00+00:00'\u001b[0m,\n",
       "               \u001b[32m'2013-11-28 00:00:00+00:00'\u001b[0m\u001b[1m]\u001b[0m,\n",
       "              \u001b[33mdtype\u001b[0m=\u001b[32m'datetime64\u001b[0m\u001b[32m[\u001b[0m\u001b[32mns, UTC\u001b[0m\u001b[32m]\u001b[0m\u001b[32m'\u001b[0m, \u001b[33mfreq\u001b[0m=\u001b[3;35mNone\u001b[0m\u001b[1m)\u001b[0m\n"
      ]
     },
     "metadata": {},
     "output_type": "display_data"
    },
    {
     "data": {
      "text/html": [
       "<pre style=\"white-space:pre;overflow-x:auto;line-height:normal;font-family:Menlo,'DejaVu Sans Mono',consolas,'Courier New',monospace\">df_ensemble index sample: <span style=\"color: #800080; text-decoration-color: #800080; font-weight: bold\">DatetimeIndex</span><span style=\"font-weight: bold\">([</span><span style=\"color: #008000; text-decoration-color: #008000\">'2013-01-01'</span>, <span style=\"color: #008000; text-decoration-color: #008000\">'2013-01-02'</span>, <span style=\"color: #008000; text-decoration-color: #008000\">'2013-01-03'</span><span style=\"font-weight: bold\">]</span>, <span style=\"color: #808000; text-decoration-color: #808000\">dtype</span>=<span style=\"color: #008000; text-decoration-color: #008000\">'datetime64[ns]'</span>, \n",
       "<span style=\"color: #808000; text-decoration-color: #808000\">freq</span>=<span style=\"color: #800080; text-decoration-color: #800080; font-style: italic\">None</span><span style=\"font-weight: bold\">)</span>\n",
       "</pre>\n"
      ],
      "text/plain": [
       "df_ensemble index sample: \u001b[1;35mDatetimeIndex\u001b[0m\u001b[1m(\u001b[0m\u001b[1m[\u001b[0m\u001b[32m'2013-01-01'\u001b[0m, \u001b[32m'2013-01-02'\u001b[0m, \u001b[32m'2013-01-03'\u001b[0m\u001b[1m]\u001b[0m, \u001b[33mdtype\u001b[0m=\u001b[32m'datetime64\u001b[0m\u001b[32m[\u001b[0m\u001b[32mns\u001b[0m\u001b[32m]\u001b[0m\u001b[32m'\u001b[0m, \n",
       "\u001b[33mfreq\u001b[0m=\u001b[3;35mNone\u001b[0m\u001b[1m)\u001b[0m\n"
      ]
     },
     "metadata": {},
     "output_type": "display_data"
    }
   ],
   "source": [
    "print(\"Q_obs index sample:\", Q_obs.index[:3])\n",
    "print(\"df_ensemble index sample:\", df_ensemble.index[:3])"
   ]
  },
  {
   "cell_type": "markdown",
   "id": "920f5d40-e059-477e-9acf-0b9c012f40b6",
   "metadata": {},
   "source": [
    "## Evaluating Performance and Selecting the Best Parameter Set"
   ]
  },
  {
   "cell_type": "code",
   "execution_count": 14,
   "id": "7caee127-3c0f-41cb-8c17-6535f8bc7d5b",
   "metadata": {},
   "outputs": [
    {
     "name": "stdout",
     "output_type": "stream",
     "text": [
      "Exported functions to: critical_days_module.py\n"
     ]
    }
   ],
   "source": [
    "from critical_days_module import droughts"
   ]
  },
  {
   "cell_type": "code",
   "execution_count": 15,
   "id": "c2e947a3-7167-42fe-8a7c-1513982d7bf9",
   "metadata": {},
   "outputs": [
    {
     "data": {
      "text/html": [
       "<pre style=\"white-space:pre;overflow-x:auto;line-height:normal;font-family:Menlo,'DejaVu Sans Mono',consolas,'Courier New',monospace\">Beste score: <span style=\"color: #008080; text-decoration-color: #008080; font-weight: bold\">78.981</span> <span style=\"font-weight: bold\">(</span>deeltje <span style=\"color: #008080; text-decoration-color: #008080; font-weight: bold\">72</span><span style=\"font-weight: bold\">)</span>\n",
       "</pre>\n"
      ],
      "text/plain": [
       "Beste score: \u001b[1;36m78.981\u001b[0m \u001b[1m(\u001b[0mdeeltje \u001b[1;36m72\u001b[0m\u001b[1m)\u001b[0m\n"
      ]
     },
     "metadata": {},
     "output_type": "display_data"
    }
   ],
   "source": [
    "# Evaluate objective for each ensemble member\n",
    "scores = []\n",
    "\n",
    "# Same datetime-index\n",
    "Q_obs.index = Q_obs.index.normalize()\n",
    "Q_obs.index = Q_obs.index.tz_localize(None)\n",
    "\n",
    "# Slice only the overlap \n",
    "Q_obs_aligned = Q_obs.loc[df_ensemble.index.min():df_ensemble.index.max()]\n",
    "\n",
    "for i in range(n_particles):\n",
    "    sim_series = df_ensemble[f\"particle_{i}\"]\n",
    "\n",
    "    if sim_series is None or sim_series.empty:\n",
    "        print(f\"Skipping particle_{i} (empty output)\")\n",
    "        scores.append(np.inf)  # Assign a bad score\n",
    "        continue\n",
    "\n",
    "    # Use the correct observation series (make sure Q_obs exists and matches in index)\n",
    "    score = calibration_objective(sim_series, Q_obs_aligned)\n",
    "    scores.append(score)\n",
    "\n",
    "scores = np.array(scores)\n",
    "best_index = np.argmin(scores)              # index of minimum objective value\n",
    "best_score = scores[best_index]             # lowest score\n",
    "best_params = parameters[:, best_index]     # parameter set corresponding to best score\n",
    "\n",
    "print(f\"Best score: {best_score:.3f} (part {best_index})\")"
   ]
  },
  {
   "cell_type": "code",
   "execution_count": 16,
   "id": "e53a5e1c-4826-4bae-84a4-f8b2eff3fe4e",
   "metadata": {},
   "outputs": [
    {
     "data": {
      "text/html": [
       "<pre style=\"white-space:pre;overflow-x:auto;line-height:normal;font-family:Menlo,'DejaVu Sans Mono',consolas,'Courier New',monospace\">Aantal scores: <span style=\"color: #008080; text-decoration-color: #008080; font-weight: bold\">1000</span>\n",
       "</pre>\n"
      ],
      "text/plain": [
       "Aantal scores: \u001b[1;36m1000\u001b[0m\n"
      ]
     },
     "metadata": {},
     "output_type": "display_data"
    },
    {
     "data": {
      "text/html": [
       "<pre style=\"white-space:pre;overflow-x:auto;line-height:normal;font-family:Menlo,'DejaVu Sans Mono',consolas,'Courier New',monospace\">Eerste <span style=\"color: #008080; text-decoration-color: #008080; font-weight: bold\">5</span> scores: <span style=\"font-weight: bold\">[</span><span style=\"color: #008080; text-decoration-color: #008080; font-weight: bold\">1962.76187702</span> <span style=\"color: #008080; text-decoration-color: #008080; font-weight: bold\">1436.39995507</span>  <span style=\"color: #008080; text-decoration-color: #008080; font-weight: bold\">418.9822811</span>   <span style=\"color: #008080; text-decoration-color: #008080; font-weight: bold\">320.18997986</span> <span style=\"color: #008080; text-decoration-color: #008080; font-weight: bold\">1298.25772133</span><span style=\"font-weight: bold\">]</span>\n",
       "</pre>\n"
      ],
      "text/plain": [
       "Eerste \u001b[1;36m5\u001b[0m scores: \u001b[1m[\u001b[0m\u001b[1;36m1962.76187702\u001b[0m \u001b[1;36m1436.39995507\u001b[0m  \u001b[1;36m418.9822811\u001b[0m   \u001b[1;36m320.18997986\u001b[0m \u001b[1;36m1298.25772133\u001b[0m\u001b[1m]\u001b[0m\n"
      ]
     },
     "metadata": {},
     "output_type": "display_data"
    }
   ],
   "source": [
    "print(\"Number of scores:\", len(scores))\n",
    "print(\"First 5 scores:\", scores[:5])"
   ]
  },
  {
   "cell_type": "code",
   "execution_count": 17,
   "id": "0403a517-3f0d-45ab-a7e9-83f06b9e2f8c",
   "metadata": {},
   "outputs": [
    {
     "data": {
      "image/png": "[encoded data removed]",
      "text/plain": [
       "<Figure size 1200x500 with 1 Axes>"
      ]
     },
     "metadata": {},
     "output_type": "display_data"
    },
    {
     "data": {
      "text/html": [
       "<pre style=\"white-space:pre;overflow-x:auto;line-height:normal;font-family:Menlo,'DejaVu Sans Mono',consolas,'Courier New',monospace\">Beste score: <span style=\"color: #008080; text-decoration-color: #008080; font-weight: bold\">78.981</span> bij particle index: <span style=\"color: #008080; text-decoration-color: #008080; font-weight: bold\">72</span>\n",
       "</pre>\n"
      ],
      "text/plain": [
       "Beste score: \u001b[1;36m78.981\u001b[0m bij particle index: \u001b[1;36m72\u001b[0m\n"
      ]
     },
     "metadata": {},
     "output_type": "display_data"
    }
   ],
   "source": [
    "# Histogram of scores\n",
    "import matplotlib.pyplot as plt\n",
    "\n",
    "plt.figure(figsize=(12, 5))\n",
    "plt.hist(scores, bins=30)\n",
    "plt.title(\"Distributie van calibratiescores\")\n",
    "plt.xlabel(\"Calibratie Score\")\n",
    "plt.ylabel(\"Aantal modellen\")\n",
    "plt.grid(True)\n",
    "plt.show()\n",
    "\n",
    "# Print best score\n",
    "print(f\"Best score: {best_score:.3f} at particle index: {best_index}\")"
   ]
  },
  {
   "cell_type": "markdown",
   "id": "7a8eb397-b432-4555-a5c7-ad9b286ec5f2",
   "metadata": {},
   "source": [
    "## Outputting the Optimal Parameters"
   ]
  },
  {
   "cell_type": "code",
   "execution_count": 18,
   "id": "5e988e77-dab4-49b3-93af-a9f5818158bd",
   "metadata": {},
   "outputs": [
    {
     "data": {
      "text/html": [
       "<pre style=\"white-space:pre;overflow-x:auto;line-height:normal;font-family:Menlo,'DejaVu Sans Mono',consolas,'Courier New',monospace\">Best objective score: <span style=\"color: #008080; text-decoration-color: #008080; font-weight: bold\">78.9806</span>\n",
       "</pre>\n"
      ],
      "text/plain": [
       "Best objective score: \u001b[1;36m78.9806\u001b[0m\n"
      ]
     },
     "metadata": {},
     "output_type": "display_data"
    },
    {
     "data": {
      "text/html": [
       "<pre style=\"white-space:pre;overflow-x:auto;line-height:normal;font-family:Menlo,'DejaVu Sans Mono',consolas,'Courier New',monospace\">par_0 =\n",
       "<span style=\"font-weight: bold\">[</span><span style=\"color: #008080; text-decoration-color: #008080; font-weight: bold\">6.3785</span>, <span style=\"color: #008080; text-decoration-color: #008080; font-weight: bold\">0.9656</span>, <span style=\"color: #008080; text-decoration-color: #008080; font-weight: bold\">235.0548</span>, <span style=\"color: #008080; text-decoration-color: #008080; font-weight: bold\">3.8811</span>, <span style=\"color: #008080; text-decoration-color: #008080; font-weight: bold\">0.2353</span>, <span style=\"color: #008080; text-decoration-color: #008080; font-weight: bold\">5.3018</span>, <span style=\"color: #008080; text-decoration-color: #008080; font-weight: bold\">0.0244</span>, <span style=\"color: #008080; text-decoration-color: #008080; font-weight: bold\">0.0055</span>, <span style=\"color: #008080; text-decoration-color: #008080; font-weight: bold\">7.4328</span><span style=\"font-weight: bold\">]</span>\n",
       "</pre>\n"
      ],
      "text/plain": [
       "par_0 =\n",
       "\u001b[1m[\u001b[0m\u001b[1;36m6.3785\u001b[0m, \u001b[1;36m0.9656\u001b[0m, \u001b[1;36m235.0548\u001b[0m, \u001b[1;36m3.8811\u001b[0m, \u001b[1;36m0.2353\u001b[0m, \u001b[1;36m5.3018\u001b[0m, \u001b[1;36m0.0244\u001b[0m, \u001b[1;36m0.0055\u001b[0m, \u001b[1;36m7.4328\u001b[0m\u001b[1m]\u001b[0m\n"
      ]
     },
     "metadata": {},
     "output_type": "display_data"
    },
    {
     "data": {
      "text/html": [
       "<pre style=\"white-space:pre;overflow-x:auto;line-height:normal;font-family:Menlo,'DejaVu Sans Mono',consolas,'Courier New',monospace\">param_names =\n",
       "<span style=\"font-weight: bold\">[</span><span style=\"color: #008000; text-decoration-color: #008000\">'Imax'</span>, <span style=\"color: #008000; text-decoration-color: #008000\">'Ce'</span>, <span style=\"color: #008000; text-decoration-color: #008000\">'Sumax'</span>, <span style=\"color: #008000; text-decoration-color: #008000\">'Beta'</span>, <span style=\"color: #008000; text-decoration-color: #008000\">'Pmax'</span>, <span style=\"color: #008000; text-decoration-color: #008000\">'Tlag'</span>, <span style=\"color: #008000; text-decoration-color: #008000\">'Kf'</span>, <span style=\"color: #008000; text-decoration-color: #008000\">'Ks'</span>, <span style=\"color: #008000; text-decoration-color: #008000\">'FM'</span><span style=\"font-weight: bold\">]</span>\n",
       "</pre>\n"
      ],
      "text/plain": [
       "param_names =\n",
       "\u001b[1m[\u001b[0m\u001b[32m'Imax'\u001b[0m, \u001b[32m'Ce'\u001b[0m, \u001b[32m'Sumax'\u001b[0m, \u001b[32m'Beta'\u001b[0m, \u001b[32m'Pmax'\u001b[0m, \u001b[32m'Tlag'\u001b[0m, \u001b[32m'Kf'\u001b[0m, \u001b[32m'Ks'\u001b[0m, \u001b[32m'FM'\u001b[0m\u001b[1m]\u001b[0m\n"
      ]
     },
     "metadata": {},
     "output_type": "display_data"
    }
   ],
   "source": [
    "# Print the best score and parameter set\n",
    "print(f\"Best objective score: {best_score:.4f}\")\n",
    "best_params_list = [round(val, 4) for val in best_params]\n",
    "print(\"par_0 =\", best_params_list)\n",
    "print(\"param_names =\", param_names)"
   ]
  },
  {
   "cell_type": "code",
   "execution_count": null,
   "id": "b9477af8-b5ef-4fbe-8ea3-a1c33a10aef6",
   "metadata": {},
   "outputs": [],
   "source": []
  }
 ],
 "metadata": {
  "kernelspec": {
   "display_name": "Python 3 (ipykernel)",
   "language": "python",
   "name": "python3"
  },
  "language_info": {
   "codemirror_mode": {
    "name": "ipython",
    "version": 3
   },
   "file_extension": ".py",
   "mimetype": "text/x-python",
   "name": "python",
   "nbconvert_exporter": "python",
   "pygments_lexer": "ipython3",
   "version": "3.12.7"
  }
 },
 "nbformat": 4,
 "nbformat_minor": 5
}
