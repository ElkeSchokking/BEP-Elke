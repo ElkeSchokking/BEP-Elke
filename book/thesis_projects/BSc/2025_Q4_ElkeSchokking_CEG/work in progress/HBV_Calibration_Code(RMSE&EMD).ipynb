{
 "cells": [
  {
   "cell_type": "markdown",
   "id": "ec436ed0-14fc-4985-bd19-5eb99fc2e04c",
   "metadata": {},
   "source": [
    "# HBV Calibration"
   ]
  },
  {
   "cell_type": "markdown",
   "id": "dee5c51d-893f-488f-889c-8c95e9dec5ee",
   "metadata": {},
   "source": [
    "## Setup and Data Preparation"
   ]
  },
  {
   "cell_type": "code",
   "execution_count": 16,
   "id": "dd089a07-e205-4df7-b638-3f03693fabd9",
   "metadata": {},
   "outputs": [],
   "source": [
    "%matplotlib inline\n",
    "# General python\n",
    "import warnings\n",
    "warnings.filterwarnings(\"ignore\", category=UserWarning)\n",
    "\n",
    "import numpy as np\n",
    "from pathlib import Path\n",
    "import pandas as pd\n",
    "import geopandas as gpd\n",
    "import matplotlib.pyplot as plt\n",
    "import xarray as xr\n",
    "from scipy.stats import wasserstein_distance\n",
    "\n",
    "# Niceties\n",
    "from rich import print\n",
    "from tqdm import tqdm\n",
    "\n",
    "\n",
    "# General eWaterCycle\n",
    "import ewatercycle\n",
    "import ewatercycle.models\n",
    "import ewatercycle.forcing\n",
    "from ewatercycle.forcing import sources\n",
    "from ewatercycle.models import HBV\n",
    "\n",
    "# Optional: Data Assimilation\n",
    "# If not installed, uncomment below to install\n",
    "# !pip install ewatercycle-da\n",
    "from ewatercycle_DA import DA"
   ]
  },
  {
   "cell_type": "markdown",
   "id": "4d65bbc6-038e-482c-8ac9-c47187638374",
   "metadata": {},
   "source": [
    "## Choose region and time period"
   ]
  },
  {
   "cell_type": "code",
   "execution_count": 2,
   "id": "cf1a189d-d7e8-4902-a9b6-7591b80c4ba7",
   "metadata": {},
   "outputs": [
    {
     "data": {
      "text/plain": [
       "<Axes: >"
      ]
     },
     "execution_count": 2,
     "metadata": {},
     "output_type": "execute_result"
    },
    {
     "data": {
      "image/png": "[encoded data removed]",
      "text/plain": [
       "<Figure size 640x480 with 1 Axes>"
      ]
     },
     "metadata": {},
     "output_type": "display_data"
    }
   ],
   "source": [
    "# name of the catchment\n",
    "basin_name = \"FR000119\"\n",
    "\n",
    "# defining dates for calibration\n",
    "experiment_start_date = \"2013-11-26T00:00:00Z\"\n",
    "experiment_end_date = \"2019-12-31T00:00:00Z\"\n",
    "\n",
    "#Define Catchment Area\n",
    "shapefile_path = Path.home() / \"BEP-Elke\" / \"book\" / \"thesis_projects\" / \"BSc\" / \"2025_Q4_ElkeSchokking_CEG\" / \"work in progress\" / \"ShapefilesFR000119\" / \"FR000119.shp\"\n",
    "\n",
    "#check\n",
    "catchment = gpd.read_file(shapefile_path)\n",
    "catchment = catchment.to_crs(epsg=3035)\n",
    "catchment[\"area_km2\"] = catchment.geometry.area / 1e6  \n",
    "basin_area = catchment[\"area_km2\"].sum()\n",
    "catchment.plot()"
   ]
  },
  {
   "cell_type": "code",
   "execution_count": 3,
   "id": "c5485562-e12b-466f-b42c-69a56b96ac5e",
   "metadata": {},
   "outputs": [],
   "source": [
    "# Location forcing files in home directory\n",
    "forcing_path = Path.home() / \"forcing\" / \"FR000119\"/\"ERA5\"\n",
    "forcing_path.mkdir(parents=True, exist_ok=True)"
   ]
  },
  {
   "cell_type": "markdown",
   "id": "d2235d1a-3eb9-427d-b6e5-50848565fedd",
   "metadata": {},
   "source": [
    "## Generate ERA 5 Forcing"
   ]
  },
  {
   "cell_type": "code",
   "execution_count": 4,
   "id": "8abd4fc5-f7ce-496b-af4f-fecdc30a4be4",
   "metadata": {},
   "outputs": [],
   "source": [
    "# Option one: generate forcing:\n",
    "#ERA5_forcing = sources[\"LumpedMakkinkForcing\"].generate(\n",
    "    #dataset=\"ERA5\",\n",
    "    #start_time=experiment_start_date,\n",
    "    #end_time=experiment_end_date,\n",
    "    #shape=shapefile_path,\n",
    "#)\n",
    "\n",
    "# Option two: Load generated (merged) data\n",
    "forcing_dir = Path(\"/home/elke/BEP-Elke/book/thesis_projects/BSc/2025_Q4_ElkeSchokking_CEG/work in progress/esmvaltool_output/ewcrep5yvtlv4f_20250525_104347/work/diagnostic/script\")\n",
    "ERA5_forcing = sources[\"LumpedMakkinkForcing\"].load(directory=forcing_dir)"
   ]
  },
  {
   "cell_type": "markdown",
   "id": "92374f0a-73da-4f37-97dd-831cd33aed07",
   "metadata": {},
   "source": [
    "## Defining historical data from eStreams\n",
    "The original CSV file had some formatting and encoding issues—like strange quotation marks and all the data crammed into a single column—which made it impossible to load with the usual pandas.read_csv() method. To work around this, I used a custom parser to manually extract the dates and discharge values."
   ]
  },
  {
   "cell_type": "code",
   "execution_count": 5,
   "id": "094c39b1-6e56-4394-9ecc-a23f3e48f5a7",
   "metadata": {},
   "outputs": [],
   "source": [
    "# Manually parse the file\n",
    "dates = []\n",
    "discharges = []\n",
    "\n",
    "with open(\"A3550050.csv\", \"r\", encoding=\"utf-8\") as f:\n",
    "    next(f)\n",
    "    for line in f:\n",
    "        parts = line.replace('\"\"', '\"').strip().split(',\"')\n",
    "        if len(parts) >= 2:\n",
    "            date_str = parts[0].strip('\"')\n",
    "            discharge_str = parts[1].strip('\"')\n",
    "            try:\n",
    "                dates.append(pd.to_datetime(date_str))\n",
    "                discharges.append(float(discharge_str))\n",
    "            except ValueError:\n",
    "                continue\n",
    "\n",
    "discharge_series = pd.Series(discharges, index=dates, name=\"Discharge (m³/s)\")\n",
    "Q_obs = discharge_series[experiment_start_date:experiment_end_date]"
   ]
  },
  {
   "cell_type": "markdown",
   "id": "6a4b5b54-8161-4f90-846b-78d4365976dc",
   "metadata": {},
   "source": [
    "## Ensemble Initialization and Parameter Sampling"
   ]
  },
  {
   "cell_type": "code",
   "execution_count": 6,
   "id": "30616e6f-be53-41da-9ade-6c2dda6cd5e0",
   "metadata": {},
   "outputs": [],
   "source": [
    "# Define HBV parameter bounds and names\n",
    "param_names = [\"Imax\", \"Ce\", \"Sumax\", \"Beta\", \"Pmax\", \"Tlag\", \"Kf\", \"Ks\", \"FM\"]\n",
    "p_min = np.array([0.0,  0.2,   40.0,  0.5,   0.001,   1.0,   0.01,  0.0001,  0.01])\n",
    "p_max = np.array([8.0,  1.0,  800.0,  4.0,   0.3,    10.0,   0.1,   0.01,   10.0])\n",
    "\n",
    "n_particles = 1000  # ensemble size\n",
    "\n",
    "# Sample random parameters for each particle within bounds\n",
    "parameters = np.zeros((len(param_names), n_particles))\n",
    "for j in range(len(param_names)):\n",
    "    parameters[j, :] = np.random.uniform(p_min[j], p_max[j], size=n_particles)"
   ]
  },
  {
   "cell_type": "code",
   "execution_count": 8,
   "id": "cd97535d-53ea-4a54-aa37-56c8d3ddfaa0",
   "metadata": {},
   "outputs": [],
   "source": [
    "# Create ensemble and initialize each member with HBV model and unique parameters\n",
    "ensemble = DA.Ensemble(N=n_particles)\n",
    "ensemble.setup()  # set up the ensemble environment\n",
    "\n",
    "# Prepare setup arguments for each particle (each gets its parameter set)\n",
    "setup_kwargs_list = [{'parameters': parameters[:, i]} for i in range(n_particles)]\n",
    "\n",
    "# Initialize all ensemble members with the HBVLocal model, forcing data, and parameters\n",
    "ensemble.initialize(model_name=[\"HBVLocal\"] * n_particles,\n",
    "                    forcing=[ERA5_forcing] * n_particles,\n",
    "                    setup_kwargs=setup_kwargs_list) \n",
    "\n",
    "# Choose a reference model for time tracking\n",
    "ref_model = ensemble.ensemble_list[0].model\n",
    "\n",
    "# Generate config file with first parameter set\n",
    "config_file, _ = ref_model.setup(parameters=parameters[:, 0])\n",
    "\n",
    "# Initialize model\n",
    "ref_model.initialize(config_file)"
   ]
  },
  {
   "cell_type": "code",
   "execution_count": 9,
   "id": "1009994e-5984-44d1-befb-a4890a362ccf",
   "metadata": {},
   "outputs": [],
   "source": [
    "# deleta all unnescessary files, Watchout with this!!!\n",
    "# import shutil\n",
    "# from pathlib import Path\n",
    "\n",
    "# # Search for all folders starting with \"hbvlocal_\"\n",
    "# work_dir = Path(\".\")\n",
    "# folders = [f for f in work_dir.glob(\"hbvlocal_*\") if f.is_dir()]\n",
    "\n",
    "# # Delete them all\n",
    "# for folder in folders:\n",
    "#     print(f\"Delete: {folder}\")\n",
    "#     shutil.rmtree(folder)"
   ]
  },
  {
   "cell_type": "markdown",
   "id": "3ebd6bea-6539-4448-90d7-2b48b4d78a7c",
   "metadata": {},
   "source": [
    "## Running the Ensemble Simulation"
   ]
  },
  {
   "cell_type": "code",
   "execution_count": 10,
   "id": "92a3452e-3658-45a4-84c6-7f80f66de40e",
   "metadata": {},
   "outputs": [],
   "source": [
    "# Determine number of time steps in the simulation period\n",
    "n_timesteps = int((ref_model.end_time - ref_model.start_time) / ref_model.time_step)\n",
    "\n",
    "time_index = []           # list to store timestamps for each time step\n",
    "ensemble_Q_outputs = []   # list to store discharge arrays for each time step\n",
    "\n",
    "for step in range(n_timesteps):\n",
    "    # Record current model time\n",
    "    current_time = pd.Timestamp(ref_model.time_as_datetime.date())\n",
    "    time_index.append(current_time)\n",
    "    \n",
    "    # Advance all models by one time step and collect their discharge values\n",
    "    ensemble.update()  # update all ensemble members by one step\n",
    "    Q_values = np.array(ensemble.get_value(\"Q\")).flatten()  # discharge of all particles\n",
    "    Q_values_m3s = Q_values * basin_area * 1000 / 86400 #convert to m3/s\n",
    "    ensemble_Q_outputs.append(Q_values_m3s)\n",
    "\n",
    "# Finalize the ensemble to release resources\n",
    "ensemble.finalize()\n",
    "\n",
    "# Convert collected outputs to a DataFrame for convenience\n",
    "Q_array = np.array(ensemble_Q_outputs)        # shape: (n_timesteps, n_particles)\n",
    "df_ensemble = pd.DataFrame(\n",
    "    data=Q_array, \n",
    "    index=pd.DatetimeIndex(time_index), \n",
    "    columns=[f\"particle_{i}\" for i in range(n_particles)]\n",
    ")"
   ]
  },
  {
   "cell_type": "code",
   "execution_count": 11,
   "id": "e16ef914-7b58-46ce-9700-fc50c0e44170",
   "metadata": {},
   "outputs": [
    {
     "data": {
      "text/html": [
       "<pre style=\"white-space:pre;overflow-x:auto;line-height:normal;font-family:Menlo,'DejaVu Sans Mono',consolas,'Courier New',monospace\"><span style=\"font-weight: bold\">(</span><span style=\"color: #008080; text-decoration-color: #008080; font-weight: bold\">2555</span>, <span style=\"color: #008080; text-decoration-color: #008080; font-weight: bold\">1000</span><span style=\"font-weight: bold\">)</span>\n",
       "</pre>\n"
      ],
      "text/plain": [
       "\u001b[1m(\u001b[0m\u001b[1;36m2555\u001b[0m, \u001b[1;36m1000\u001b[0m\u001b[1m)\u001b[0m\n"
      ]
     },
     "metadata": {},
     "output_type": "display_data"
    },
    {
     "data": {
      "text/html": [
       "<pre style=\"white-space:pre;overflow-x:auto;line-height:normal;font-family:Menlo,'DejaVu Sans Mono',consolas,'Courier New',monospace\">            particle_0  particle_1  particle_2  particle_3  particle_4  \\\n",
       "<span style=\"color: #008080; text-decoration-color: #008080; font-weight: bold\">2013</span>-<span style=\"color: #008080; text-decoration-color: #008080; font-weight: bold\">01</span>-<span style=\"color: #008080; text-decoration-color: #008080; font-weight: bold\">01</span>    <span style=\"color: #008080; text-decoration-color: #008080; font-weight: bold\">0.000031</span>    <span style=\"color: #008080; text-decoration-color: #008080; font-weight: bold\">0.000000</span>    <span style=\"color: #008080; text-decoration-color: #008080; font-weight: bold\">0.005173</span>    <span style=\"color: #008080; text-decoration-color: #008080; font-weight: bold\">0.000018</span>    <span style=\"color: #008080; text-decoration-color: #008080; font-weight: bold\">0.000674</span>   \n",
       "<span style=\"color: #008080; text-decoration-color: #008080; font-weight: bold\">2013</span>-<span style=\"color: #008080; text-decoration-color: #008080; font-weight: bold\">01</span>-<span style=\"color: #008080; text-decoration-color: #008080; font-weight: bold\">02</span>    <span style=\"color: #008080; text-decoration-color: #008080; font-weight: bold\">0.006097</span>    <span style=\"color: #008080; text-decoration-color: #008080; font-weight: bold\">0.000049</span>    <span style=\"color: #008080; text-decoration-color: #008080; font-weight: bold\">0.025426</span>    <span style=\"color: #008080; text-decoration-color: #008080; font-weight: bold\">0.016131</span>    <span style=\"color: #008080; text-decoration-color: #008080; font-weight: bold\">0.138722</span>   \n",
       "<span style=\"color: #008080; text-decoration-color: #008080; font-weight: bold\">2013</span>-<span style=\"color: #008080; text-decoration-color: #008080; font-weight: bold\">01</span>-<span style=\"color: #008080; text-decoration-color: #008080; font-weight: bold\">03</span>    <span style=\"color: #008080; text-decoration-color: #008080; font-weight: bold\">0.023692</span>    <span style=\"color: #008080; text-decoration-color: #008080; font-weight: bold\">0.000244</span>    <span style=\"color: #008080; text-decoration-color: #008080; font-weight: bold\">0.055979</span>    <span style=\"color: #008080; text-decoration-color: #008080; font-weight: bold\">0.063487</span>    <span style=\"color: #008080; text-decoration-color: #008080; font-weight: bold\">0.273492</span>   \n",
       "<span style=\"color: #008080; text-decoration-color: #008080; font-weight: bold\">2013</span>-<span style=\"color: #008080; text-decoration-color: #008080; font-weight: bold\">01</span>-<span style=\"color: #008080; text-decoration-color: #008080; font-weight: bold\">04</span>    <span style=\"color: #008080; text-decoration-color: #008080; font-weight: bold\">0.083401</span>    <span style=\"color: #008080; text-decoration-color: #008080; font-weight: bold\">0.004950</span>    <span style=\"color: #008080; text-decoration-color: #008080; font-weight: bold\">0.092711</span>    <span style=\"color: #008080; text-decoration-color: #008080; font-weight: bold\">0.181193</span>    <span style=\"color: #008080; text-decoration-color: #008080; font-weight: bold\">0.689728</span>   \n",
       "<span style=\"color: #008080; text-decoration-color: #008080; font-weight: bold\">2013</span>-<span style=\"color: #008080; text-decoration-color: #008080; font-weight: bold\">01</span>-<span style=\"color: #008080; text-decoration-color: #008080; font-weight: bold\">05</span>    <span style=\"color: #008080; text-decoration-color: #008080; font-weight: bold\">0.264369</span>    <span style=\"color: #008080; text-decoration-color: #008080; font-weight: bold\">0.050217</span>    <span style=\"color: #008080; text-decoration-color: #008080; font-weight: bold\">0.144993</span>    <span style=\"color: #008080; text-decoration-color: #008080; font-weight: bold\">0.450459</span>    <span style=\"color: #008080; text-decoration-color: #008080; font-weight: bold\">1.627383</span>   \n",
       "\n",
       "            particle_5  particle_6  particle_7  particle_8  particle_9  <span style=\"color: #808000; text-decoration-color: #808000\">...</span>  \\\n",
       "<span style=\"color: #008080; text-decoration-color: #008080; font-weight: bold\">2013</span>-<span style=\"color: #008080; text-decoration-color: #008080; font-weight: bold\">01</span>-<span style=\"color: #008080; text-decoration-color: #008080; font-weight: bold\">01</span>    <span style=\"color: #008080; text-decoration-color: #008080; font-weight: bold\">0.000612</span>    <span style=\"color: #008080; text-decoration-color: #008080; font-weight: bold\">0.000028</span>    <span style=\"color: #008080; text-decoration-color: #008080; font-weight: bold\">0.000000</span>    <span style=\"color: #008080; text-decoration-color: #008080; font-weight: bold\">0.000002</span>    <span style=\"color: #008080; text-decoration-color: #008080; font-weight: bold\">0.000135</span>  <span style=\"color: #808000; text-decoration-color: #808000\">...</span>   \n",
       "<span style=\"color: #008080; text-decoration-color: #008080; font-weight: bold\">2013</span>-<span style=\"color: #008080; text-decoration-color: #008080; font-weight: bold\">01</span>-<span style=\"color: #008080; text-decoration-color: #008080; font-weight: bold\">02</span>    <span style=\"color: #008080; text-decoration-color: #008080; font-weight: bold\">0.006413</span>    <span style=\"color: #008080; text-decoration-color: #008080; font-weight: bold\">0.001476</span>    <span style=\"color: #008080; text-decoration-color: #008080; font-weight: bold\">0.000586</span>    <span style=\"color: #008080; text-decoration-color: #008080; font-weight: bold\">0.000010</span>    <span style=\"color: #008080; text-decoration-color: #008080; font-weight: bold\">0.001198</span>  <span style=\"color: #808000; text-decoration-color: #808000\">...</span>   \n",
       "<span style=\"color: #008080; text-decoration-color: #008080; font-weight: bold\">2013</span>-<span style=\"color: #008080; text-decoration-color: #008080; font-weight: bold\">01</span>-<span style=\"color: #008080; text-decoration-color: #008080; font-weight: bold\">03</span>    <span style=\"color: #008080; text-decoration-color: #008080; font-weight: bold\">0.022200</span>    <span style=\"color: #008080; text-decoration-color: #008080; font-weight: bold\">0.005712</span>    <span style=\"color: #008080; text-decoration-color: #008080; font-weight: bold\">0.002924</span>    <span style=\"color: #008080; text-decoration-color: #008080; font-weight: bold\">0.000030</span>    <span style=\"color: #008080; text-decoration-color: #008080; font-weight: bold\">0.004226</span>  <span style=\"color: #808000; text-decoration-color: #808000\">...</span>   \n",
       "<span style=\"color: #008080; text-decoration-color: #008080; font-weight: bold\">2013</span>-<span style=\"color: #008080; text-decoration-color: #008080; font-weight: bold\">01</span>-<span style=\"color: #008080; text-decoration-color: #008080; font-weight: bold\">04</span>    <span style=\"color: #008080; text-decoration-color: #008080; font-weight: bold\">0.064091</span>    <span style=\"color: #008080; text-decoration-color: #008080; font-weight: bold\">0.016991</span>    <span style=\"color: #008080; text-decoration-color: #008080; font-weight: bold\">0.036716</span>    <span style=\"color: #008080; text-decoration-color: #008080; font-weight: bold\">0.000070</span>    <span style=\"color: #008080; text-decoration-color: #008080; font-weight: bold\">0.010022</span>  <span style=\"color: #808000; text-decoration-color: #808000\">...</span>   \n",
       "<span style=\"color: #008080; text-decoration-color: #008080; font-weight: bold\">2013</span>-<span style=\"color: #008080; text-decoration-color: #008080; font-weight: bold\">01</span>-<span style=\"color: #008080; text-decoration-color: #008080; font-weight: bold\">05</span>    <span style=\"color: #008080; text-decoration-color: #008080; font-weight: bold\">0.172354</span>    <span style=\"color: #008080; text-decoration-color: #008080; font-weight: bold\">0.045285</span>    <span style=\"color: #008080; text-decoration-color: #008080; font-weight: bold\">0.188905</span>    <span style=\"color: #008080; text-decoration-color: #008080; font-weight: bold\">0.000141</span>    <span style=\"color: #008080; text-decoration-color: #008080; font-weight: bold\">0.021437</span>  <span style=\"color: #808000; text-decoration-color: #808000\">...</span>   \n",
       "\n",
       "            particle_990  particle_991  particle_992  particle_993  \\\n",
       "<span style=\"color: #008080; text-decoration-color: #008080; font-weight: bold\">2013</span>-<span style=\"color: #008080; text-decoration-color: #008080; font-weight: bold\">01</span>-<span style=\"color: #008080; text-decoration-color: #008080; font-weight: bold\">01</span>      <span style=\"color: #008080; text-decoration-color: #008080; font-weight: bold\">0.000007</span>      <span style=\"color: #008080; text-decoration-color: #008080; font-weight: bold\">0.000128</span>      <span style=\"color: #008080; text-decoration-color: #008080; font-weight: bold\">0.000038</span>      <span style=\"color: #008080; text-decoration-color: #008080; font-weight: bold\">0.000000</span>   \n",
       "<span style=\"color: #008080; text-decoration-color: #008080; font-weight: bold\">2013</span>-<span style=\"color: #008080; text-decoration-color: #008080; font-weight: bold\">01</span>-<span style=\"color: #008080; text-decoration-color: #008080; font-weight: bold\">02</span>      <span style=\"color: #008080; text-decoration-color: #008080; font-weight: bold\">0.010975</span>      <span style=\"color: #008080; text-decoration-color: #008080; font-weight: bold\">0.000727</span>      <span style=\"color: #008080; text-decoration-color: #008080; font-weight: bold\">0.027168</span>      <span style=\"color: #008080; text-decoration-color: #008080; font-weight: bold\">0.000008</span>   \n",
       "<span style=\"color: #008080; text-decoration-color: #008080; font-weight: bold\">2013</span>-<span style=\"color: #008080; text-decoration-color: #008080; font-weight: bold\">01</span>-<span style=\"color: #008080; text-decoration-color: #008080; font-weight: bold\">03</span>      <span style=\"color: #008080; text-decoration-color: #008080; font-weight: bold\">0.043501</span>      <span style=\"color: #008080; text-decoration-color: #008080; font-weight: bold\">0.002200</span>      <span style=\"color: #008080; text-decoration-color: #008080; font-weight: bold\">0.106441</span>      <span style=\"color: #008080; text-decoration-color: #008080; font-weight: bold\">0.000042</span>   \n",
       "<span style=\"color: #008080; text-decoration-color: #008080; font-weight: bold\">2013</span>-<span style=\"color: #008080; text-decoration-color: #008080; font-weight: bold\">01</span>-<span style=\"color: #008080; text-decoration-color: #008080; font-weight: bold\">04</span>      <span style=\"color: #008080; text-decoration-color: #008080; font-weight: bold\">0.143951</span>      <span style=\"color: #008080; text-decoration-color: #008080; font-weight: bold\">0.005167</span>      <span style=\"color: #008080; text-decoration-color: #008080; font-weight: bold\">0.303352</span>      <span style=\"color: #008080; text-decoration-color: #008080; font-weight: bold\">0.016255</span>   \n",
       "<span style=\"color: #008080; text-decoration-color: #008080; font-weight: bold\">2013</span>-<span style=\"color: #008080; text-decoration-color: #008080; font-weight: bold\">01</span>-<span style=\"color: #008080; text-decoration-color: #008080; font-weight: bold\">05</span>      <span style=\"color: #008080; text-decoration-color: #008080; font-weight: bold\">0.418614</span>      <span style=\"color: #008080; text-decoration-color: #008080; font-weight: bold\">0.010495</span>      <span style=\"color: #008080; text-decoration-color: #008080; font-weight: bold\">0.866135</span>      <span style=\"color: #008080; text-decoration-color: #008080; font-weight: bold\">0.099217</span>   \n",
       "\n",
       "            particle_994  particle_995  particle_996  particle_997  \\\n",
       "<span style=\"color: #008080; text-decoration-color: #008080; font-weight: bold\">2013</span>-<span style=\"color: #008080; text-decoration-color: #008080; font-weight: bold\">01</span>-<span style=\"color: #008080; text-decoration-color: #008080; font-weight: bold\">01</span>      <span style=\"color: #008080; text-decoration-color: #008080; font-weight: bold\">0.000185</span>  <span style=\"color: #008080; text-decoration-color: #008080; font-weight: bold\">0.000000e+00</span>      <span style=\"color: #008080; text-decoration-color: #008080; font-weight: bold\">0.000000</span>      <span style=\"color: #008080; text-decoration-color: #008080; font-weight: bold\">0.000026</span>   \n",
       "<span style=\"color: #008080; text-decoration-color: #008080; font-weight: bold\">2013</span>-<span style=\"color: #008080; text-decoration-color: #008080; font-weight: bold\">01</span>-<span style=\"color: #008080; text-decoration-color: #008080; font-weight: bold\">02</span>      <span style=\"color: #008080; text-decoration-color: #008080; font-weight: bold\">0.000920</span>  <span style=\"color: #008080; text-decoration-color: #008080; font-weight: bold\">4.690262e-07</span>      <span style=\"color: #008080; text-decoration-color: #008080; font-weight: bold\">0.000074</span>      <span style=\"color: #008080; text-decoration-color: #008080; font-weight: bold\">0.000165</span>   \n",
       "<span style=\"color: #008080; text-decoration-color: #008080; font-weight: bold\">2013</span>-<span style=\"color: #008080; text-decoration-color: #008080; font-weight: bold\">01</span>-<span style=\"color: #008080; text-decoration-color: #008080; font-weight: bold\">03</span>      <span style=\"color: #008080; text-decoration-color: #008080; font-weight: bold\">0.002053</span>  <span style=\"color: #008080; text-decoration-color: #008080; font-weight: bold\">2.344535e-06</span>      <span style=\"color: #008080; text-decoration-color: #008080; font-weight: bold\">0.000370</span>      <span style=\"color: #008080; text-decoration-color: #008080; font-weight: bold\">0.000534</span>   \n",
       "<span style=\"color: #008080; text-decoration-color: #008080; font-weight: bold\">2013</span>-<span style=\"color: #008080; text-decoration-color: #008080; font-weight: bold\">01</span>-<span style=\"color: #008080; text-decoration-color: #008080; font-weight: bold\">04</span>      <span style=\"color: #008080; text-decoration-color: #008080; font-weight: bold\">0.003438</span>  <span style=\"color: #008080; text-decoration-color: #008080; font-weight: bold\">8.147060e-06</span>      <span style=\"color: #008080; text-decoration-color: #008080; font-weight: bold\">0.493454</span>      <span style=\"color: #008080; text-decoration-color: #008080; font-weight: bold\">0.001344</span>   \n",
       "<span style=\"color: #008080; text-decoration-color: #008080; font-weight: bold\">2013</span>-<span style=\"color: #008080; text-decoration-color: #008080; font-weight: bold\">01</span>-<span style=\"color: #008080; text-decoration-color: #008080; font-weight: bold\">05</span>      <span style=\"color: #008080; text-decoration-color: #008080; font-weight: bold\">0.005435</span>  <span style=\"color: #008080; text-decoration-color: #008080; font-weight: bold\">2.377485e-05</span>      <span style=\"color: #008080; text-decoration-color: #008080; font-weight: bold\">2.647484</span>      <span style=\"color: #008080; text-decoration-color: #008080; font-weight: bold\">0.003028</span>   \n",
       "\n",
       "            particle_998  particle_999  \n",
       "<span style=\"color: #008080; text-decoration-color: #008080; font-weight: bold\">2013</span>-<span style=\"color: #008080; text-decoration-color: #008080; font-weight: bold\">01</span>-<span style=\"color: #008080; text-decoration-color: #008080; font-weight: bold\">01</span>      <span style=\"color: #008080; text-decoration-color: #008080; font-weight: bold\">0.000550</span>      <span style=\"color: #008080; text-decoration-color: #008080; font-weight: bold\">0.000098</span>  \n",
       "<span style=\"color: #008080; text-decoration-color: #008080; font-weight: bold\">2013</span>-<span style=\"color: #008080; text-decoration-color: #008080; font-weight: bold\">01</span>-<span style=\"color: #008080; text-decoration-color: #008080; font-weight: bold\">02</span>      <span style=\"color: #008080; text-decoration-color: #008080; font-weight: bold\">0.003196</span>      <span style=\"color: #008080; text-decoration-color: #008080; font-weight: bold\">0.000666</span>  \n",
       "<span style=\"color: #008080; text-decoration-color: #008080; font-weight: bold\">2013</span>-<span style=\"color: #008080; text-decoration-color: #008080; font-weight: bold\">01</span>-<span style=\"color: #008080; text-decoration-color: #008080; font-weight: bold\">03</span>      <span style=\"color: #008080; text-decoration-color: #008080; font-weight: bold\">0.009913</span>      <span style=\"color: #008080; text-decoration-color: #008080; font-weight: bold\">0.001817</span>  \n",
       "<span style=\"color: #008080; text-decoration-color: #008080; font-weight: bold\">2013</span>-<span style=\"color: #008080; text-decoration-color: #008080; font-weight: bold\">01</span>-<span style=\"color: #008080; text-decoration-color: #008080; font-weight: bold\">04</span>      <span style=\"color: #008080; text-decoration-color: #008080; font-weight: bold\">0.023234</span>      <span style=\"color: #008080; text-decoration-color: #008080; font-weight: bold\">0.005467</span>  \n",
       "<span style=\"color: #008080; text-decoration-color: #008080; font-weight: bold\">2013</span>-<span style=\"color: #008080; text-decoration-color: #008080; font-weight: bold\">01</span>-<span style=\"color: #008080; text-decoration-color: #008080; font-weight: bold\">05</span>      <span style=\"color: #008080; text-decoration-color: #008080; font-weight: bold\">0.045325</span>      <span style=\"color: #008080; text-decoration-color: #008080; font-weight: bold\">0.028389</span>  \n",
       "\n",
       "<span style=\"font-weight: bold\">[</span><span style=\"color: #008080; text-decoration-color: #008080; font-weight: bold\">5</span> rows x <span style=\"color: #008080; text-decoration-color: #008080; font-weight: bold\">1000</span> columns<span style=\"font-weight: bold\">]</span>\n",
       "</pre>\n"
      ],
      "text/plain": [
       "            particle_0  particle_1  particle_2  particle_3  particle_4  \\\n",
       "\u001b[1;36m2013\u001b[0m-\u001b[1;36m01\u001b[0m-\u001b[1;36m01\u001b[0m    \u001b[1;36m0.000031\u001b[0m    \u001b[1;36m0.000000\u001b[0m    \u001b[1;36m0.005173\u001b[0m    \u001b[1;36m0.000018\u001b[0m    \u001b[1;36m0.000674\u001b[0m   \n",
       "\u001b[1;36m2013\u001b[0m-\u001b[1;36m01\u001b[0m-\u001b[1;36m02\u001b[0m    \u001b[1;36m0.006097\u001b[0m    \u001b[1;36m0.000049\u001b[0m    \u001b[1;36m0.025426\u001b[0m    \u001b[1;36m0.016131\u001b[0m    \u001b[1;36m0.138722\u001b[0m   \n",
       "\u001b[1;36m2013\u001b[0m-\u001b[1;36m01\u001b[0m-\u001b[1;36m03\u001b[0m    \u001b[1;36m0.023692\u001b[0m    \u001b[1;36m0.000244\u001b[0m    \u001b[1;36m0.055979\u001b[0m    \u001b[1;36m0.063487\u001b[0m    \u001b[1;36m0.273492\u001b[0m   \n",
       "\u001b[1;36m2013\u001b[0m-\u001b[1;36m01\u001b[0m-\u001b[1;36m04\u001b[0m    \u001b[1;36m0.083401\u001b[0m    \u001b[1;36m0.004950\u001b[0m    \u001b[1;36m0.092711\u001b[0m    \u001b[1;36m0.181193\u001b[0m    \u001b[1;36m0.689728\u001b[0m   \n",
       "\u001b[1;36m2013\u001b[0m-\u001b[1;36m01\u001b[0m-\u001b[1;36m05\u001b[0m    \u001b[1;36m0.264369\u001b[0m    \u001b[1;36m0.050217\u001b[0m    \u001b[1;36m0.144993\u001b[0m    \u001b[1;36m0.450459\u001b[0m    \u001b[1;36m1.627383\u001b[0m   \n",
       "\n",
       "            particle_5  particle_6  particle_7  particle_8  particle_9  \u001b[33m...\u001b[0m  \\\n",
       "\u001b[1;36m2013\u001b[0m-\u001b[1;36m01\u001b[0m-\u001b[1;36m01\u001b[0m    \u001b[1;36m0.000612\u001b[0m    \u001b[1;36m0.000028\u001b[0m    \u001b[1;36m0.000000\u001b[0m    \u001b[1;36m0.000002\u001b[0m    \u001b[1;36m0.000135\u001b[0m  \u001b[33m...\u001b[0m   \n",
       "\u001b[1;36m2013\u001b[0m-\u001b[1;36m01\u001b[0m-\u001b[1;36m02\u001b[0m    \u001b[1;36m0.006413\u001b[0m    \u001b[1;36m0.001476\u001b[0m    \u001b[1;36m0.000586\u001b[0m    \u001b[1;36m0.000010\u001b[0m    \u001b[1;36m0.001198\u001b[0m  \u001b[33m...\u001b[0m   \n",
       "\u001b[1;36m2013\u001b[0m-\u001b[1;36m01\u001b[0m-\u001b[1;36m03\u001b[0m    \u001b[1;36m0.022200\u001b[0m    \u001b[1;36m0.005712\u001b[0m    \u001b[1;36m0.002924\u001b[0m    \u001b[1;36m0.000030\u001b[0m    \u001b[1;36m0.004226\u001b[0m  \u001b[33m...\u001b[0m   \n",
       "\u001b[1;36m2013\u001b[0m-\u001b[1;36m01\u001b[0m-\u001b[1;36m04\u001b[0m    \u001b[1;36m0.064091\u001b[0m    \u001b[1;36m0.016991\u001b[0m    \u001b[1;36m0.036716\u001b[0m    \u001b[1;36m0.000070\u001b[0m    \u001b[1;36m0.010022\u001b[0m  \u001b[33m...\u001b[0m   \n",
       "\u001b[1;36m2013\u001b[0m-\u001b[1;36m01\u001b[0m-\u001b[1;36m05\u001b[0m    \u001b[1;36m0.172354\u001b[0m    \u001b[1;36m0.045285\u001b[0m    \u001b[1;36m0.188905\u001b[0m    \u001b[1;36m0.000141\u001b[0m    \u001b[1;36m0.021437\u001b[0m  \u001b[33m...\u001b[0m   \n",
       "\n",
       "            particle_990  particle_991  particle_992  particle_993  \\\n",
       "\u001b[1;36m2013\u001b[0m-\u001b[1;36m01\u001b[0m-\u001b[1;36m01\u001b[0m      \u001b[1;36m0.000007\u001b[0m      \u001b[1;36m0.000128\u001b[0m      \u001b[1;36m0.000038\u001b[0m      \u001b[1;36m0.000000\u001b[0m   \n",
       "\u001b[1;36m2013\u001b[0m-\u001b[1;36m01\u001b[0m-\u001b[1;36m02\u001b[0m      \u001b[1;36m0.010975\u001b[0m      \u001b[1;36m0.000727\u001b[0m      \u001b[1;36m0.027168\u001b[0m      \u001b[1;36m0.000008\u001b[0m   \n",
       "\u001b[1;36m2013\u001b[0m-\u001b[1;36m01\u001b[0m-\u001b[1;36m03\u001b[0m      \u001b[1;36m0.043501\u001b[0m      \u001b[1;36m0.002200\u001b[0m      \u001b[1;36m0.106441\u001b[0m      \u001b[1;36m0.000042\u001b[0m   \n",
       "\u001b[1;36m2013\u001b[0m-\u001b[1;36m01\u001b[0m-\u001b[1;36m04\u001b[0m      \u001b[1;36m0.143951\u001b[0m      \u001b[1;36m0.005167\u001b[0m      \u001b[1;36m0.303352\u001b[0m      \u001b[1;36m0.016255\u001b[0m   \n",
       "\u001b[1;36m2013\u001b[0m-\u001b[1;36m01\u001b[0m-\u001b[1;36m05\u001b[0m      \u001b[1;36m0.418614\u001b[0m      \u001b[1;36m0.010495\u001b[0m      \u001b[1;36m0.866135\u001b[0m      \u001b[1;36m0.099217\u001b[0m   \n",
       "\n",
       "            particle_994  particle_995  particle_996  particle_997  \\\n",
       "\u001b[1;36m2013\u001b[0m-\u001b[1;36m01\u001b[0m-\u001b[1;36m01\u001b[0m      \u001b[1;36m0.000185\u001b[0m  \u001b[1;36m0.000000e+00\u001b[0m      \u001b[1;36m0.000000\u001b[0m      \u001b[1;36m0.000026\u001b[0m   \n",
       "\u001b[1;36m2013\u001b[0m-\u001b[1;36m01\u001b[0m-\u001b[1;36m02\u001b[0m      \u001b[1;36m0.000920\u001b[0m  \u001b[1;36m4.690262e-07\u001b[0m      \u001b[1;36m0.000074\u001b[0m      \u001b[1;36m0.000165\u001b[0m   \n",
       "\u001b[1;36m2013\u001b[0m-\u001b[1;36m01\u001b[0m-\u001b[1;36m03\u001b[0m      \u001b[1;36m0.002053\u001b[0m  \u001b[1;36m2.344535e-06\u001b[0m      \u001b[1;36m0.000370\u001b[0m      \u001b[1;36m0.000534\u001b[0m   \n",
       "\u001b[1;36m2013\u001b[0m-\u001b[1;36m01\u001b[0m-\u001b[1;36m04\u001b[0m      \u001b[1;36m0.003438\u001b[0m  \u001b[1;36m8.147060e-06\u001b[0m      \u001b[1;36m0.493454\u001b[0m      \u001b[1;36m0.001344\u001b[0m   \n",
       "\u001b[1;36m2013\u001b[0m-\u001b[1;36m01\u001b[0m-\u001b[1;36m05\u001b[0m      \u001b[1;36m0.005435\u001b[0m  \u001b[1;36m2.377485e-05\u001b[0m      \u001b[1;36m2.647484\u001b[0m      \u001b[1;36m0.003028\u001b[0m   \n",
       "\n",
       "            particle_998  particle_999  \n",
       "\u001b[1;36m2013\u001b[0m-\u001b[1;36m01\u001b[0m-\u001b[1;36m01\u001b[0m      \u001b[1;36m0.000550\u001b[0m      \u001b[1;36m0.000098\u001b[0m  \n",
       "\u001b[1;36m2013\u001b[0m-\u001b[1;36m01\u001b[0m-\u001b[1;36m02\u001b[0m      \u001b[1;36m0.003196\u001b[0m      \u001b[1;36m0.000666\u001b[0m  \n",
       "\u001b[1;36m2013\u001b[0m-\u001b[1;36m01\u001b[0m-\u001b[1;36m03\u001b[0m      \u001b[1;36m0.009913\u001b[0m      \u001b[1;36m0.001817\u001b[0m  \n",
       "\u001b[1;36m2013\u001b[0m-\u001b[1;36m01\u001b[0m-\u001b[1;36m04\u001b[0m      \u001b[1;36m0.023234\u001b[0m      \u001b[1;36m0.005467\u001b[0m  \n",
       "\u001b[1;36m2013\u001b[0m-\u001b[1;36m01\u001b[0m-\u001b[1;36m05\u001b[0m      \u001b[1;36m0.045325\u001b[0m      \u001b[1;36m0.028389\u001b[0m  \n",
       "\n",
       "\u001b[1m[\u001b[0m\u001b[1;36m5\u001b[0m rows x \u001b[1;36m1000\u001b[0m columns\u001b[1m]\u001b[0m\n"
      ]
     },
     "metadata": {},
     "output_type": "display_data"
    }
   ],
   "source": [
    "print(df_ensemble.shape)\n",
    "print(df_ensemble.head())"
   ]
  },
  {
   "cell_type": "markdown",
   "id": "889ce629-d9c6-46b3-90c5-6a6ccbb808cc",
   "metadata": {},
   "source": [
    "## Defining the Calibration Objective"
   ]
  },
  {
   "cell_type": "code",
   "execution_count": 12,
   "id": "d6309b70-d220-4485-944b-5d50f5ddce9a",
   "metadata": {},
   "outputs": [],
   "source": [
    "def calibration_objective(simulated_series: pd.Series, observed_series: pd.Series) -> float:\n",
    "    \"\"\"\n",
    "    Compute the calibration objective for a single model run by comparing \n",
    "    simulated and observed discharge series. The objective combines:\n",
    "      - RMSE on days with observed flow < 500 m³/s\n",
    "      - EMD between distributions of drought event durations\n",
    "      - EMD between distributions of drought event cumulative deficits\n",
    "    Lower values indicate a better fit to observations.\n",
    "    \"\"\"\n",
    "    # Align simulated series with observed series index\n",
    "    sim = simulated_series.loc[observed_series.index]\n",
    "    obs = observed_series\n",
    "\n",
    "    # 1. RMSE for days with observed discharge < 500 m³/s\n",
    "    low_flow_mask = obs < 500.0\n",
    "    if low_flow_mask.sum() == 0:\n",
    "        rmse_low_flow = 0.0  # no low-flow days, no penalty\n",
    "    else:\n",
    "        errors = sim[low_flow_mask] - obs[low_flow_mask]\n",
    "        rmse_low_flow = np.sqrt(np.mean(errors**2))\n",
    "\n",
    "    # 2. EMD between drought event durations\n",
    "    # Identify drought events in observed and simulated series\n",
    "    obs_droughts = droughts(obs, basin_name=\"obs\", q_crit=500)\n",
    "    sim_droughts = droughts(sim, basin_name=\"sim\", q_crit=500)\n",
    "    # Convert to DataFrame for\n",
    "    obs_droughts_df = pd.DataFrame(obs_droughts)\n",
    "    sim_droughts_df = pd.DataFrame(sim_droughts)\n",
    "    # Extract durations of each drought event\n",
    "    obs_durations = obs_droughts_df[\"Duration (days)\"].values\n",
    "    sim_durations = sim_droughts_df[\"Duration (days)\"].values\n",
    "    # Compute EMD (Wasserstein distance) between duration distributions\n",
    "    emd_duration = wasserstein_distance(obs_durations, sim_durations)\n",
    "\n",
    "    # 3. EMD between drought cumulative deficits\n",
    "    # Extract the maximum cumulative deficit of each drought event (most negative deficit)\n",
    "    obs_deficits = obs_droughts_df[\"Max Cumulative Deficit (m3/s)\"].values\n",
    "    sim_deficits = sim_droughts_df[\"Max Cumulative Deficit (m3/s)\"].values\n",
    "    #Cconvert negative values to positive magnitudes for comparison\n",
    "    obs_deficits = -obs_deficits\n",
    "    sim_deficits = -sim_deficits\n",
    "    # Compute EMD between deficit distributions\n",
    "    emd_deficit = wasserstein_distance(obs_deficits, sim_deficits)\n",
    "\n",
    "    # Combine the three components into a single score\n",
    "    total_score = rmse_low_flow + emd_duration + emd_deficit\n",
    "    return total_score"
   ]
  },
  {
   "cell_type": "code",
   "execution_count": 13,
   "id": "bb057fe4-718d-4883-8e07-1317e6074517",
   "metadata": {},
   "outputs": [
    {
     "data": {
      "text/html": [
       "<pre style=\"white-space:pre;overflow-x:auto;line-height:normal;font-family:Menlo,'DejaVu Sans Mono',consolas,'Courier New',monospace\">Q_obs index sample: <span style=\"color: #800080; text-decoration-color: #800080; font-weight: bold\">DatetimeIndex</span><span style=\"font-weight: bold\">([</span><span style=\"color: #008000; text-decoration-color: #008000\">'2013-11-26 00:00:00+00:00'</span>, <span style=\"color: #008000; text-decoration-color: #008000\">'2013-11-27 00:00:00+00:00'</span>,\n",
       "               <span style=\"color: #008000; text-decoration-color: #008000\">'2013-11-28 00:00:00+00:00'</span><span style=\"font-weight: bold\">]</span>,\n",
       "              <span style=\"color: #808000; text-decoration-color: #808000\">dtype</span>=<span style=\"color: #008000; text-decoration-color: #008000\">'datetime64[ns, UTC]'</span>, <span style=\"color: #808000; text-decoration-color: #808000\">freq</span>=<span style=\"color: #800080; text-decoration-color: #800080; font-style: italic\">None</span><span style=\"font-weight: bold\">)</span>\n",
       "</pre>\n"
      ],
      "text/plain": [
       "Q_obs index sample: \u001b[1;35mDatetimeIndex\u001b[0m\u001b[1m(\u001b[0m\u001b[1m[\u001b[0m\u001b[32m'2013-11-26 00:00:00+00:00'\u001b[0m, \u001b[32m'2013-11-27 00:00:00+00:00'\u001b[0m,\n",
       "               \u001b[32m'2013-11-28 00:00:00+00:00'\u001b[0m\u001b[1m]\u001b[0m,\n",
       "              \u001b[33mdtype\u001b[0m=\u001b[32m'datetime64\u001b[0m\u001b[32m[\u001b[0m\u001b[32mns, UTC\u001b[0m\u001b[32m]\u001b[0m\u001b[32m'\u001b[0m, \u001b[33mfreq\u001b[0m=\u001b[3;35mNone\u001b[0m\u001b[1m)\u001b[0m\n"
      ]
     },
     "metadata": {},
     "output_type": "display_data"
    },
    {
     "data": {
      "text/html": [
       "<pre style=\"white-space:pre;overflow-x:auto;line-height:normal;font-family:Menlo,'DejaVu Sans Mono',consolas,'Courier New',monospace\">df_ensemble index sample: <span style=\"color: #800080; text-decoration-color: #800080; font-weight: bold\">DatetimeIndex</span><span style=\"font-weight: bold\">([</span><span style=\"color: #008000; text-decoration-color: #008000\">'2013-01-01'</span>, <span style=\"color: #008000; text-decoration-color: #008000\">'2013-01-02'</span>, <span style=\"color: #008000; text-decoration-color: #008000\">'2013-01-03'</span><span style=\"font-weight: bold\">]</span>, <span style=\"color: #808000; text-decoration-color: #808000\">dtype</span>=<span style=\"color: #008000; text-decoration-color: #008000\">'datetime64[ns]'</span>, \n",
       "<span style=\"color: #808000; text-decoration-color: #808000\">freq</span>=<span style=\"color: #800080; text-decoration-color: #800080; font-style: italic\">None</span><span style=\"font-weight: bold\">)</span>\n",
       "</pre>\n"
      ],
      "text/plain": [
       "df_ensemble index sample: \u001b[1;35mDatetimeIndex\u001b[0m\u001b[1m(\u001b[0m\u001b[1m[\u001b[0m\u001b[32m'2013-01-01'\u001b[0m, \u001b[32m'2013-01-02'\u001b[0m, \u001b[32m'2013-01-03'\u001b[0m\u001b[1m]\u001b[0m, \u001b[33mdtype\u001b[0m=\u001b[32m'datetime64\u001b[0m\u001b[32m[\u001b[0m\u001b[32mns\u001b[0m\u001b[32m]\u001b[0m\u001b[32m'\u001b[0m, \n",
       "\u001b[33mfreq\u001b[0m=\u001b[3;35mNone\u001b[0m\u001b[1m)\u001b[0m\n"
      ]
     },
     "metadata": {},
     "output_type": "display_data"
    }
   ],
   "source": [
    "print(\"Q_obs index sample:\", Q_obs.index[:3])\n",
    "print(\"df_ensemble index sample:\", df_ensemble.index[:3])"
   ]
  },
  {
   "cell_type": "markdown",
   "id": "920f5d40-e059-477e-9acf-0b9c012f40b6",
   "metadata": {},
   "source": [
    "## Evaluating Performance and Selecting the Best Parameter Set"
   ]
  },
  {
   "cell_type": "code",
   "execution_count": 14,
   "id": "7caee127-3c0f-41cb-8c17-6535f8bc7d5b",
   "metadata": {},
   "outputs": [
    {
     "name": "stdout",
     "output_type": "stream",
     "text": [
      "Exported functions to: critical_days_module.py\n"
     ]
    }
   ],
   "source": [
    "from critical_days_module import droughts"
   ]
  },
  {
   "cell_type": "code",
   "execution_count": 1,
   "id": "c2e947a3-7167-42fe-8a7c-1513982d7bf9",
   "metadata": {},
   "outputs": [
    {
     "ename": "NameError",
     "evalue": "name 'Q_obs' is not defined",
     "output_type": "error",
     "traceback": [
      "\u001b[0;31m---------------------------------------------------------------------------\u001b[0m",
      "\u001b[0;31mNameError\u001b[0m                                 Traceback (most recent call last)",
      "Cell \u001b[0;32mIn[1], line 5\u001b[0m\n\u001b[1;32m      2\u001b[0m scores \u001b[38;5;241m=\u001b[39m []\n\u001b[1;32m      4\u001b[0m \u001b[38;5;66;03m# Same datetime-index\u001b[39;00m\n\u001b[0;32m----> 5\u001b[0m Q_obs\u001b[38;5;241m.\u001b[39mindex \u001b[38;5;241m=\u001b[39m \u001b[43mQ_obs\u001b[49m\u001b[38;5;241m.\u001b[39mindex\u001b[38;5;241m.\u001b[39mnormalize()\n\u001b[1;32m      6\u001b[0m Q_obs\u001b[38;5;241m.\u001b[39mindex \u001b[38;5;241m=\u001b[39m Q_obs\u001b[38;5;241m.\u001b[39mindex\u001b[38;5;241m.\u001b[39mtz_localize(\u001b[38;5;28;01mNone\u001b[39;00m)\n\u001b[1;32m      8\u001b[0m \u001b[38;5;66;03m# Slice only the overlap \u001b[39;00m\n",
      "\u001b[0;31mNameError\u001b[0m: name 'Q_obs' is not defined"
     ]
    }
   ],
   "source": [
    "# Evaluate objective for each ensemble member\n",
    "scores = []\n",
    "\n",
    "# Same datetime-index\n",
    "Q_obs.index = Q_obs.index.normalize()\n",
    "Q_obs.index = Q_obs.index.tz_localize(None)\n",
    "\n",
    "# Slice only the overlap \n",
    "Q_obs_aligned = Q_obs.loc[df_ensemble.index.min():df_ensemble.index.max()]\n",
    "\n",
    "for i in range(n_particles):\n",
    "    sim_series = df_ensemble[f\"particle_{i}\"]\n",
    "\n",
    "    if sim_series is None or sim_series.empty:\n",
    "        print(f\"Skipping particle_{i} (empty output)\")\n",
    "        scores.append(np.inf)  # Assign a bad score\n",
    "        continue\n",
    "\n",
    "    # Use the correct observation series (make sure Q_obs exists and matches in index)\n",
    "    score = calibration_objective(sim_series, Q_obs_aligned)\n",
    "    scores.append(score)\n",
    "\n",
    "scores = np.array(scores)\n",
    "best_index = np.argmin(scores)              # index of minimum objective value\n",
    "best_score = scores[best_index]             # lowest score\n",
    "best_params = parameters[:, best_index]     # parameter set corresponding to best score\n",
    "\n",
    "print(f\"Best score: {best_score:.3f} (part {best_index})\")"
   ]
  },
  {
   "cell_type": "code",
   "execution_count": 18,
   "id": "e53a5e1c-4826-4bae-84a4-f8b2eff3fe4e",
   "metadata": {},
   "outputs": [
    {
     "data": {
      "text/html": [
       "<pre style=\"white-space:pre;overflow-x:auto;line-height:normal;font-family:Menlo,'DejaVu Sans Mono',consolas,'Courier New',monospace\">Aantal scores: <span style=\"color: #008080; text-decoration-color: #008080; font-weight: bold\">1000</span>\n",
       "</pre>\n"
      ],
      "text/plain": [
       "Aantal scores: \u001b[1;36m1000\u001b[0m\n"
      ]
     },
     "metadata": {},
     "output_type": "display_data"
    },
    {
     "data": {
      "text/html": [
       "<pre style=\"white-space:pre;overflow-x:auto;line-height:normal;font-family:Menlo,'DejaVu Sans Mono',consolas,'Courier New',monospace\">Eerste <span style=\"color: #008080; text-decoration-color: #008080; font-weight: bold\">5</span> scores: <span style=\"font-weight: bold\">[</span> <span style=\"color: #008080; text-decoration-color: #008080; font-weight: bold\">2337.02408574</span>  <span style=\"color: #008080; text-decoration-color: #008080; font-weight: bold\">1847.55440469</span> <span style=\"color: #008080; text-decoration-color: #008080; font-weight: bold\">10368.85292768</span>  <span style=\"color: #008080; text-decoration-color: #008080; font-weight: bold\">2977.28651546</span>\n",
       "  <span style=\"color: #008080; text-decoration-color: #008080; font-weight: bold\">4202.46654696</span><span style=\"font-weight: bold\">]</span>\n",
       "</pre>\n"
      ],
      "text/plain": [
       "Eerste \u001b[1;36m5\u001b[0m scores: \u001b[1m[\u001b[0m \u001b[1;36m2337.02408574\u001b[0m  \u001b[1;36m1847.55440469\u001b[0m \u001b[1;36m10368.85292768\u001b[0m  \u001b[1;36m2977.28651546\u001b[0m\n",
       "  \u001b[1;36m4202.46654696\u001b[0m\u001b[1m]\u001b[0m\n"
      ]
     },
     "metadata": {},
     "output_type": "display_data"
    }
   ],
   "source": [
    "print(\"Number of scores:\", len(scores))\n",
    "print(\"First 5 scores:\", scores[:5])"
   ]
  },
  {
   "cell_type": "code",
   "execution_count": 19,
   "id": "0403a517-3f0d-45ab-a7e9-83f06b9e2f8c",
   "metadata": {},
   "outputs": [
    {
     "data": {
      "image/png": "[encoded data removed]",
      "text/plain": [
       "<Figure size 1200x500 with 1 Axes>"
      ]
     },
     "metadata": {},
     "output_type": "display_data"
    },
    {
     "data": {
      "text/html": [
       "<pre style=\"white-space:pre;overflow-x:auto;line-height:normal;font-family:Menlo,'DejaVu Sans Mono',consolas,'Courier New',monospace\">Beste score: <span style=\"color: #008080; text-decoration-color: #008080; font-weight: bold\">261.035</span> bij particle index: <span style=\"color: #008080; text-decoration-color: #008080; font-weight: bold\">298</span>\n",
       "</pre>\n"
      ],
      "text/plain": [
       "Beste score: \u001b[1;36m261.035\u001b[0m bij particle index: \u001b[1;36m298\u001b[0m\n"
      ]
     },
     "metadata": {},
     "output_type": "display_data"
    }
   ],
   "source": [
    "# Histogram of scores\n",
    "import matplotlib.pyplot as plt\n",
    "\n",
    "plt.figure(figsize=(12, 5))\n",
    "plt.hist(scores, bins=30)\n",
    "plt.title(\"Distributie van calibratiescores\")\n",
    "plt.xlabel(\"Calibratie Score\")\n",
    "plt.ylabel(\"Aantal modellen\")\n",
    "plt.grid(True)\n",
    "plt.show()\n",
    "\n",
    "# Print best score\n",
    "print(f\"Best score: {best_score:.3f} at particle index: {best_index}\")"
   ]
  },
  {
   "cell_type": "markdown",
   "id": "7a8eb397-b432-4555-a5c7-ad9b286ec5f2",
   "metadata": {},
   "source": [
    "## Outputting the Optimal Parameters"
   ]
  },
  {
   "cell_type": "code",
   "execution_count": 20,
   "id": "5e988e77-dab4-49b3-93af-a9f5818158bd",
   "metadata": {},
   "outputs": [
    {
     "data": {
      "text/html": [
       "<pre style=\"white-space:pre;overflow-x:auto;line-height:normal;font-family:Menlo,'DejaVu Sans Mono',consolas,'Courier New',monospace\">Best objective score: <span style=\"color: #008080; text-decoration-color: #008080; font-weight: bold\">261.0352</span>\n",
       "</pre>\n"
      ],
      "text/plain": [
       "Best objective score: \u001b[1;36m261.0352\u001b[0m\n"
      ]
     },
     "metadata": {},
     "output_type": "display_data"
    },
    {
     "data": {
      "text/html": [
       "<pre style=\"white-space:pre;overflow-x:auto;line-height:normal;font-family:Menlo,'DejaVu Sans Mono',consolas,'Courier New',monospace\">par_0 =\n",
       "<span style=\"font-weight: bold\">[</span><span style=\"color: #008080; text-decoration-color: #008080; font-weight: bold\">3.0921</span>, <span style=\"color: #008080; text-decoration-color: #008080; font-weight: bold\">0.928</span>, <span style=\"color: #008080; text-decoration-color: #008080; font-weight: bold\">131.8813</span>, <span style=\"color: #008080; text-decoration-color: #008080; font-weight: bold\">3.7768</span>, <span style=\"color: #008080; text-decoration-color: #008080; font-weight: bold\">0.0578</span>, <span style=\"color: #008080; text-decoration-color: #008080; font-weight: bold\">5.6994</span>, <span style=\"color: #008080; text-decoration-color: #008080; font-weight: bold\">0.0168</span>, <span style=\"color: #008080; text-decoration-color: #008080; font-weight: bold\">0.0002</span>, <span style=\"color: #008080; text-decoration-color: #008080; font-weight: bold\">1.4708</span><span style=\"font-weight: bold\">]</span>\n",
       "</pre>\n"
      ],
      "text/plain": [
       "par_0 =\n",
       "\u001b[1m[\u001b[0m\u001b[1;36m3.0921\u001b[0m, \u001b[1;36m0.928\u001b[0m, \u001b[1;36m131.8813\u001b[0m, \u001b[1;36m3.7768\u001b[0m, \u001b[1;36m0.0578\u001b[0m, \u001b[1;36m5.6994\u001b[0m, \u001b[1;36m0.0168\u001b[0m, \u001b[1;36m0.0002\u001b[0m, \u001b[1;36m1.4708\u001b[0m\u001b[1m]\u001b[0m\n"
      ]
     },
     "metadata": {},
     "output_type": "display_data"
    },
    {
     "data": {
      "text/html": [
       "<pre style=\"white-space:pre;overflow-x:auto;line-height:normal;font-family:Menlo,'DejaVu Sans Mono',consolas,'Courier New',monospace\">param_names =\n",
       "<span style=\"font-weight: bold\">[</span><span style=\"color: #008000; text-decoration-color: #008000\">'Imax'</span>, <span style=\"color: #008000; text-decoration-color: #008000\">'Ce'</span>, <span style=\"color: #008000; text-decoration-color: #008000\">'Sumax'</span>, <span style=\"color: #008000; text-decoration-color: #008000\">'Beta'</span>, <span style=\"color: #008000; text-decoration-color: #008000\">'Pmax'</span>, <span style=\"color: #008000; text-decoration-color: #008000\">'Tlag'</span>, <span style=\"color: #008000; text-decoration-color: #008000\">'Kf'</span>, <span style=\"color: #008000; text-decoration-color: #008000\">'Ks'</span>, <span style=\"color: #008000; text-decoration-color: #008000\">'FM'</span><span style=\"font-weight: bold\">]</span>\n",
       "</pre>\n"
      ],
      "text/plain": [
       "param_names =\n",
       "\u001b[1m[\u001b[0m\u001b[32m'Imax'\u001b[0m, \u001b[32m'Ce'\u001b[0m, \u001b[32m'Sumax'\u001b[0m, \u001b[32m'Beta'\u001b[0m, \u001b[32m'Pmax'\u001b[0m, \u001b[32m'Tlag'\u001b[0m, \u001b[32m'Kf'\u001b[0m, \u001b[32m'Ks'\u001b[0m, \u001b[32m'FM'\u001b[0m\u001b[1m]\u001b[0m\n"
      ]
     },
     "metadata": {},
     "output_type": "display_data"
    }
   ],
   "source": [
    "# Print the best score and parameter\n",
    "print(f\"Best objective score: {best_score:.4f}\")\n",
    "best_params_list = [round(val, 4) for val in best_params]\n",
    "print(\"par_0 =\", best_params_list)\n",
    "print(\"param_names =\", param_names)"
   ]
  },
  {
   "cell_type": "code",
   "execution_count": null,
   "id": "b9477af8-b5ef-4fbe-8ea3-a1c33a10aef6",
   "metadata": {},
   "outputs": [],
   "source": []
  }
 ],
 "metadata": {
  "kernelspec": {
   "display_name": "Python 3 (ipykernel)",
   "language": "python",
   "name": "python3"
  },
  "language_info": {
   "codemirror_mode": {
    "name": "ipython",
    "version": 3
   },
   "file_extension": ".py",
   "mimetype": "text/x-python",
   "name": "python",
   "nbconvert_exporter": "python",
   "pygments_lexer": "ipython3",
   "version": "3.12.7"
  }
 },
 "nbformat": 4,
 "nbformat_minor": 5
}
