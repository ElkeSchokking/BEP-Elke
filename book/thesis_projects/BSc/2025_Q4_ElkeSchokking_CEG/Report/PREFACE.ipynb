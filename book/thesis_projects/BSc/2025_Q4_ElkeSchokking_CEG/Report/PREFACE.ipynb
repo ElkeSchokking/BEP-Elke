{
 "cells": [
  {
   "cell_type": "markdown",
   "id": "5d1f9f45-562c-49f9-99c1-e622a7f09f47",
   "metadata": {},
   "source": [
    "## Preface"
   ]
  },
  {
   "cell_type": "markdown",
   "id": "00f4534a-8a71-414c-b52a-f7c17d76efbe",
   "metadata": {},
   "source": [
    "Presented before you is my bachelor thesis titled: \"Impact of Climate Change on the Crossing of Atlantic Salmon through the Iffezheim Fish Passage\". During my studies in Civil Engineering and Geosciences at Delft University of Technology (TU Delft), I developed a keen interest in hydrology and environmental challenges.\n",
    "\n",
    "As Europe continues to experience the consequences of a changing climate, the resilience of its ecological systems is increasingly being tested. One such system is the Rhine River, and specifically, the migratory path of the Atlantic salmon. The Iffezheim fish passage caught my attention as both a remarkable engineering solution and a potential climate vulnerability.\n",
    "\n",
    "Working on this project deepened my understanding of hydrological modeling and allowed me to explore the ecological impacts of low-flow conditions. I hope this research contributes to the growing body of knowledge on climate adaptation in river management."
   ]
  },
  {
   "cell_type": "code",
   "execution_count": null,
   "id": "b7f5ba64-afc1-4be5-9cc1-5819aa23ef3b",
   "metadata": {},
   "outputs": [],
   "source": []
  }
 ],
 "metadata": {
  "kernelspec": {
   "display_name": "Python 3 (ipykernel)",
   "language": "python",
   "name": "python3"
  },
  "language_info": {
   "codemirror_mode": {
    "name": "ipython",
    "version": 3
   },
   "file_extension": ".py",
   "mimetype": "text/x-python",
   "name": "python",
   "nbconvert_exporter": "python",
   "pygments_lexer": "ipython3",
   "version": "3.12.7"
  }
 },
 "nbformat": 4,
 "nbformat_minor": 5
}
