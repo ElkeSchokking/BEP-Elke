{
 "cells": [
  {
   "cell_type": "markdown",
   "id": "f19d4245-1d27-4b72-aa15-228410bcc7b7",
   "metadata": {},
   "source": [
    "# Abstract"
   ]
  },
  {
   "cell_type": "markdown",
   "id": "bb31128b-f247-453e-a63f-1477085244d6",
   "metadata": {},
   "source": [
    "Climate change is expected to significantly alter the hydrological systems around the world, the Rhine River included. This will have consequences for the migration success of the reintroduced Atlantic salmon. This research investigates how climate change will effect the river discharge and how it may impact the effectiveness of the fish passage at the Iffezheim dam. The central hypothesis is that lower discharge levels will prevent salmon from successfully ascending the fish passage, leading to a decline in migration success.\n",
    "The study will combine a literature review with data analysis of historical discharge and migration patterns and simulate future discharge scenarios. This will be done using the eWaterCycle platform. The expected outcome is a risk assessment of salmon migration under climate change.\n"
   ]
  }
 ],
 "metadata": {
  "kernelspec": {
   "display_name": "Python 3 (ipykernel)",
   "language": "python",
   "name": "python3"
  },
  "language_info": {
   "codemirror_mode": {
    "name": "ipython",
    "version": 3
   },
   "file_extension": ".py",
   "mimetype": "text/x-python",
   "name": "python",
   "nbconvert_exporter": "python",
   "pygments_lexer": "ipython3",
   "version": "3.12.7"
  }
 },
 "nbformat": 4,
 "nbformat_minor": 5
}
