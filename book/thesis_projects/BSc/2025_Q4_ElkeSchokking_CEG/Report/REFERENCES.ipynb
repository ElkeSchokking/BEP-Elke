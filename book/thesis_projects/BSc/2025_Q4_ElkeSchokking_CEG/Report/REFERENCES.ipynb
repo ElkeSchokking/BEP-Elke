{
 "cells": [
  {
   "cell_type": "markdown",
   "id": "a984983e-6f26-4f84-ba39-b1251bd1a9cd",
   "metadata": {},
   "source": [
    "# Bibliography"
   ]
  },
  {
   "cell_type": "markdown",
   "id": "1d536fdf-1718-4d7c-a08b-b44153a5217c",
   "metadata": {},
   "source": [
    "CHR. (2009). Erosion, Transport and Deposition of Sediment, Case Study Rhine (M. Spreafico, Ed.; Report no II-20). International Commission for the Hydrology of the Rhine Basin.\n",
    "\n",
    "EnBW Kraftwerke AG. (2009). Rheinkraftwerk Iffezheim – Ausbau zu einem der größten Laufwasserkraftwerke Europas. Energie Baden-Württemberg AG. https://www.enbw.com/media/konzern/docs/energieerzeugung/03_archiv_projektverlauf_rki_2007__2013_gesamt_1.pdf\n",
    "\n",
    "EnBW Representative. (2025, April). Personal communication with the operator of the Iffezheim dam [Phone call]\n",
    "\n",
    "Frings, R., Hillebrand, G., Gehres, N., Banhold, K., Schriever, S., & Hoffmann, T. (2019). From source to mouth: Basin-scale morphodynamics of the Rhine River. Earth-Science Reviews, 196, 102830. https://doi.org/10.1016/j.earscirev.2019.04.002\n",
    "\n",
    "Froehlich-Schmitt, B. (2004). Rhine & Salmon 2020: A programme for migratory fish in the Rhine system (A. Schulte-Wülwer-Leidig, Ed.; K. Wehner, Trans.; ISBN: 3-935324-51-0). ICPR.\n",
    "\n",
    "Gerlier, M., & Roche, P. (1998). A radio telemetry study of the migration of Atlantic salmon (Salmo salar L.) and sea trout (Salmo trutta trutta L.) in the upper Rhine. In Springer eBooks (pp. 283–293). https://doi.org/10.1007/978-94-011-5090-3_32\n",
    "\n",
    "GöRgen, K., Centre de Recherche Public, & Lippmann, G. (2010). Assessment of climate change impacts on discharge in the Rhine River Basin: results of the RheinBlick2050 Project. (report I-23). CHR.\n",
    "\n",
    "Hameed, I. H., & Hilo, A. N. (2021). Design of vertical slot fish ladder: review paper. IOP Conference Series Earth and Environmental Science, 779(1), 012080. https://doi.org/10.1088/1755-1315/779/1/012080\n",
    "\n",
    "ICPR. (2018). Master Plan Migratory Fish Rhine 2018 (No. 247). International Commission for the Protection of the Rhine(ICPR). https://www.iksr.org/fileadmin/user_upload/DKDM/Dokumente/Fachberichte/EN/rp_En_0247.pdf\n",
    "\n",
    "Iffezheim run-of-river power plant - The project. (n.d.). Iffezheim Run-of-river Power Plant - the Project. https://www.enbw.com/company/the-group/energy-production/new-buildings-and-major-projects/iffezheim_staustufe/\n",
    "\n",
    "LARINIER & JENS. (n.d.). Technical fish passes. In Technical fish passes (p. 69). https://www.fao.org/4/y4454e/y4454e02.pdf\n",
    "\n",
    "MAP. (2014). WE2 - Turning point Analysis of Rhine River policies. https://www.pik-potsdam.de/~wrobel/mediation-platform/cases/we2_salmon_policy_when_will_thresholds_be_crossed.html#:~:text=,the%20threshold%20for%20upstream%20migration\n",
    "\n",
    "Marine Institute. (2022). Salmon Life Cycle. https://www.marine.ie/site-area/areas-activity/fisheries-ecosystems/salmon-life-cycle\n",
    "\n",
    "Nilson, E., International Commission for the Protection of the Rhine, Viergutz, C., Kruijshoop, J., Rijkswaterstaat Water, Verkeer en Leefomgeving (RWS WVL), Nied, M., Landesanstalt für Umwelt Baden-Württemberg (LUBW), Direction Régionale de l’Environnement, de l’Aménagement et du Logement « Grand Est » (DREAL Grand Est), Schmocker-Fackel, P., Federal Office for the Environment (FOEN), Van Doorn, S., Rijkswaterstaat Water, Verkeer en Leefomgeving (RWS WVL), Schielen, R., Rijkswaterstaat Water, Verkeer en Leefomgeving (RWS WVL), Willkomm, M., Hochwassernotgemeinschaft Rhein (HWNG Rhein), Meisch, C., Administration de la Gestion de l’Eau (AGE), Neuhold, C., . . . Amt der Vorarlberger Landesregierung (AVL). (2024). Climate change induced discharge scenarios for the Rhine basin. In Technical Report (No. 297). International Commission for the Protection of the Rhine (ICPR).\n",
    "\n",
    "Rubenstein, S. R., Peterson, E., Christman, P., & Zydlewski, J. D. (2022). Adult Atlantic salmon (Salmo salar) delayed below dams rapidly deplete energy stores. Canadian Journal of Fisheries and Aquatic Sciences, 80(1), 170–182. https://doi.org/10.1139/cjfas-2022-0008\n",
    "\n",
    "Schmutz, S., Mielach, C., Eckert, M., Filzwieser, M., Grigull, M., Radolf, M., Support, E., Krohn, Schmeier, S., Degen, S., So, P., Ngor, N., Starr, P., & Chheana, C. (2015). Review of Existing Research on Fish Passage through Large Dams and its Applicability to Mekong Mainstream Dams. https://doi.org/10.52107/mrc.ajg82u\n",
    "\n",
    "Uehlinger, U., Arndt, H., Wantzen, K. M., & Leuven, R. S. (2009). The Rhine River Basin. In Elsevier eBooks (pp. 199–245). https://doi.org/10.1016/b978-0-12-369449-2.00006-0\n",
    "\n",
    "Van Brenk. (2021). Return period of low water periods in the River Rhine. University of Twente.\n",
    "\n",
    "Van Rijssel, J. C., Breukelaar, A. W., De Leeuw, J. J., Van Puijenbroek, M. E. B., Schilder, K., Schrimpf, A., Vriese, F. T., & Winter, H. V. (2024). Reintroducing Atlantic salmon in the river Rhine for decades: Why did it not result in the return of a viable population? River Research and Applications, 40(7), 1164–1182. https://doi.org/10.1002/rra.4284\n",
    "\n",
    "Wasserbau, B. F. (2020). Fischpass der Staustufe Iffezheim/Rhein. Flickr. https://www.flickr.com/photos/bundesanstalt_fuer_wasserbau/49361963241/"
   ]
  }
 ],
 "metadata": {
  "kernelspec": {
   "display_name": "Python 3 (ipykernel)",
   "language": "python",
   "name": "python3"
  },
  "language_info": {
   "codemirror_mode": {
    "name": "ipython",
    "version": 3
   },
   "file_extension": ".py",
   "mimetype": "text/x-python",
   "name": "python",
   "nbconvert_exporter": "python",
   "pygments_lexer": "ipython3",
   "version": "3.12.7"
  }
 },
 "nbformat": 4,
 "nbformat_minor": 5
}
