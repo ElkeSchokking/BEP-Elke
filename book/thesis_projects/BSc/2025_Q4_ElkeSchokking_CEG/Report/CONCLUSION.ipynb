{
 "cells": [
  {
   "cell_type": "markdown",
   "id": "73d11300-a789-44ac-a34f-7c395a790c6d",
   "metadata": {},
   "source": [
    "# Conclusion\n",
    "\n",
    "word vomit"
   ]
  },
  {
   "cell_type": "markdown",
   "id": "bf5e20ca-4230-4d15-b7d1-d091610abfd8",
   "metadata": {},
   "source": [
    "## Central Research Question: *What is the influence of climate change alterations in the discharge patterns of the Rhine on the occurrence of critical low flow for crossing of Atlantic salmon at the Iffezheim fish passage?*\n",
    "\n",
    "Climate change is projected to significantly alter the hydrological regime of the Rhine, with a continued decrease in summer discharge and an increase in winter discharge, leading to an intensification of hydrological extremes. This will directly influence the occurrence of critical low-flow events at the Iffezheim fish passage, severely impeding Atlantic salmon migration success.\n",
    "The sources identify a critical low-flow threshold of 500 m³/s for the Iffezheim fish passage to remain operational. Below this discharge, the hydraulic head difference becomes too great, rendering the fishway inaccessible and undetectable to migrating Atlantic salmon.\n",
    "\n",
    "Analyzing the \"Drought Return Periods by Scenario (MEV Gumbel)\" plot and \"Number of Drought Events by Scenario and Category\" plot, we observe the following trends:\n",
    "\n",
    "•\n",
    "Observed Historical Conditions: The observed data indicates a return period for \"critical\" drought events of approximately 5 years, with 2 critical events recorded in the observed dataset.\n",
    "\n",
    "•\n",
    "Simulated Historic Conditions: The simulated historic data shows a shorter return period of about 2.5 years for \"critical\" events, with 19 critical events detected. This suggests that the historic simulation used in the analysis captured more frequent critical events than the specific observed period.\n",
    "\n",
    "•\n",
    "Future Climate Scenarios (SSP1-2.6, SSP2-4.5, SSP3-7.0, SSP5-8.5): Under these future scenarios, the return periods for \"critical\" drought events are projected to be shorter than the observed period but generally longer than the simulated historic period, ranging from approximately 3.5 to 4 years. The number of \"critical\" events projected in the future scenarios ranges from 10 to 20 events, generally higher than the observed data (2 events) and comparable to or slightly higher than the historic simulated data (19 events in SSP2-4.5).\n",
    "\n",
    "This data strongly indicates that climate change alterations in Rhine discharge patterns are expected to increase the frequency and number of critical low-flow events during the future period compared to the observed historical conditions. Such increased occurrences of low flow will severely impede Atlantic salmon migration success at the Iffezheim fish passage. When salmon encounter these impassable conditions, they exhibit prolonged holding behavior, increasing their predation risk from predators such as pike, catfish, cormorants, herons, seals, and otters. They also suffer from thermal and physiological stress at elevated water temperatures exceeding 20–23 °C, which can lead to lethargy or a halt in migratory activity. Furthermore, energy depletion occurs due to delays and the effort of searching for passage, compromising their ability to reach spawning grounds and reproduce, as salmon do not feed in freshwater during their migration. This situation directly undermines efforts to restore the Rhine's salmon population.\n"
   ]
  },
  {
   "cell_type": "markdown",
   "id": "d5730491-5ef7-419d-b2e5-1223ff962597",
   "metadata": {},
   "source": [
    "## Sub-question 1: *What is the critical low flow for crossing of Atlantic salmon at the Iffezheim fish passage?*\n",
    "Based on direct communication with a representative of EnBW, the company operating the Iffezheim dam, the critical low-flow threshold for the Iffezheim fish passage is 500 m³/s. When the Rhine's discharge falls below this value, the fish passage becomes non-functional because the resulting hydraulic head difference becomes too great, rendering the fishway inaccessible and undetectable to migrating Atlantic salmon. This minimum flow ensures that the attraction flow of 11–13 m³/s, which represents 1.0–1.3% of the Rhine's average discharge (~1,000 m³/s), remains effective."
   ]
  },
  {
   "cell_type": "markdown",
   "id": "55db39e5-46fc-4c26-a8f3-bd7cd603dafc",
   "metadata": {},
   "source": [
    "## Sub-question 2: *When in the year does critical low flow in the Rhine occur at the Iffezheim fish passage?*\n",
    "The sources state that low-flow conditions in the Rhine typically occur in late summer and autumn, particularly during September to October. This period significantly overlaps with the upstream migration window for adult Atlantic salmon, who primarily migrate in summer (June–July) and autumn (October–November) to reach their spawning grounds. The concurrence of these critical low-flow periods with the salmon's peak migration times means that the risk of migration failure due to insufficient flow is highest during these crucial months."
   ]
  },
  {
   "cell_type": "markdown",
   "id": "d91b31de-c26f-43ae-a65a-ba4e8a42ed9b",
   "metadata": {},
   "source": [
    "## Sub-question 3: *How many times from 1900 until now does critical low flow in the Rhine occur at the Iffezheim fish passage?*\n",
    "To answer this question, we refer to the \"Number of Drought Events by Scenario and Category\" plot and the \"Drought Return Periods by Scenario (MEV Gumbel)\" plot.\n",
    "\n",
    "•\n",
    "For the \"Observed\" data, which represents a segment of the historical period, there were 2 critical drought events. The return period for these critical events was approximately 5 years.\n",
    "\n",
    "•\n",
    "For the \"Historic\" simulated data (which covers a longer, simulated historical period and is used for comparison with future scenarios), there were 19 critical drought events. The return period for these critical events was approximately 2.5 years.\n",
    "The conceptual code for the categorical analyzer defines \"critical\" low-flow events as more than 7 consecutive days of discharge below the 500 m³/s threshold. The difference between the observed and simulated historic event counts and return periods highlights the variability and potential for different periods of historical data to show varying frequencies of extreme events."
   ]
  },
  {
   "cell_type": "markdown",
   "id": "2463d19d-c32d-4179-a085-5468322a1a9e",
   "metadata": {},
   "source": [
    "## Sub-question 4: *How many times from now till 2100 will there be critical low flow at the Iffezheim fish passage, under different climate scenarios?*\n",
    "The analysis of future climate scenarios (Representative Concentration Pathways - RCPs) using the Metastatistical Extreme Value (MEV) Gumbel fit provides projections for critical low-flow events until 2100. The Gumbel distribution was chosen as the best fit for the return period analysis because it yielded the closest return periods for observed and historical data among the distributions tested (Weibull, Gumbel, GEV).\n",
    "The \"Number of Drought Events by Scenario and Category\" plot shows the following projections for critical low-flow events:\n",
    "\n",
    "•\n",
    "SSP1-2.6 scenario: Approximately 10 critical events are projected.\n",
    "\n",
    "•\n",
    "SSP2-4.5 scenario: Approximately 20 critical events are projected.\n",
    "\n",
    "•\n",
    "SSP3-7.0 scenario: Approximately 16 critical events are projected.\n",
    "\n",
    "•\n",
    "SSP5-8.5 scenario: Approximately 16 critical events are projected.\n",
    "\n",
    "The \"Drought Return Periods by Scenario (MEV Gumbel)\" plot shows the corresponding return periods for critical drought events:\n",
    "\n",
    "•\n",
    "SSP1-2.6 scenario: Around 3.5 years.\n",
    "\n",
    "•\n",
    "SSP2-4.5 scenario: Around 4 years.\n",
    "\n",
    "•\n",
    "SSP3-7.0 scenario: Around 3.5 years.\n",
    "\n",
    "•\n",
    "SSP5-8.5 scenario: Around 3.8 years."
   ]
  },
  {
   "cell_type": "markdown",
   "id": "59270b6b-1092-4e09-8d9a-db67f95eca7a",
   "metadata": {},
   "source": [
    "Comparing these future projections to the observed historical data (2 critical events with a ~5-year return period), it is evident that all future climate scenarios project a significant increase in the number of critical low-flow events and a reduction in their return periods (i.e., more frequent critical droughts). This indicates that climate change will lead to more frequent and numerous critical low-flow conditions that will challenge Atlantic salmon migration at the Iffezheim fish passage."
   ]
  },
  {
   "cell_type": "markdown",
   "id": "3fa2ac39-a11b-4214-8ade-0a1857a883e1",
   "metadata": {},
   "source": [
    "## A bit more concise\n",
    "wel nog herschrijven"
   ]
  },
  {
   "cell_type": "markdown",
   "id": "bb10b245-54ec-41c3-916f-f9a9b183da80",
   "metadata": {},
   "source": [
    "In this thesis, the impact of twenty-first-century climate change on critical low-flow events at the Iffezheim fish passage—and consequently on Atlantic salmon migration—has been explored using the HBV hydrological model. Four Shared Socioeconomic Pathways (SSP1-2.6, SSP2-4.5, SSP3-7.0 and SSP5-8.5) drove simulations over 2026–2099, covering a wide range of future emission and warming scenarios.\n",
    "\n",
    "First, the Iffezheim fishway’s operational threshold was established at 500 m³/s; below this flow, the attraction current (11–13 m³/s) is too weak for salmon to locate and use the passage. Observations show that low-flow conditions consistently occur in late summer and autumn (September–October), exactly when adult salmon migrate upstream—highlighting a critical overlap in timing.\n",
    "\n",
    "Second, historical records reveal just two critical events (≈5-year return period), while the longer simulated historical period shows nineteen events (≈2.5-year return period). This difference underlines the variability in extreme events and the value of extended simulations for reliable frequency estimates.\n",
    "\n",
    "Third, future projections indicate a clear rise in critical low-flow frequency under all scenarios.\n",
    "\n",
    "SSP1-2.6: ~10 events to 2100 (≈3.5-year return period)\n",
    "\n",
    "SSP2-4.5: ~20 events (≈4-year return period)\n",
    "\n",
    "SSP3-7.0: ~16 events (≈3.5-year return period)\n",
    "\n",
    "SSP5-8.5: ~16 events (≈3.8-year return period)\n",
    "\n",
    "Compared to the observed record, these projections represent a two- to ten-fold increase in event frequency, even under moderate warming pathways. This result makes it clear that climate change will intensify low-flow extremes in the Rhine, posing serious challenges for salmon passage at Iffezheim.\n",
    "\n",
    "Taken together, these findings demonstrate that even moderate warming pathways will intensify low-flow extremes in the Rhine, imperiling salmon passage at Iffezheim. To mitigate this emerging threat, adaptive measures—such as seasonal flow augmentation, fishway modifications to reduce minimum hydraulic thresholds, and dynamic operational protocols—should be considered. Ensuring resilient infrastructure and management strategies will be essential to sustain Atlantic salmon restoration efforts in the Rhine under a changing climate."
   ]
  },
  {
   "cell_type": "code",
   "execution_count": null,
   "id": "5de222b4-3297-4390-bf0b-5bed91180c3d",
   "metadata": {},
   "outputs": [],
   "source": []
  }
 ],
 "metadata": {
  "kernelspec": {
   "display_name": "Python 3 (ipykernel)",
   "language": "python",
   "name": "python3"
  },
  "language_info": {
   "codemirror_mode": {
    "name": "ipython",
    "version": 3
   },
   "file_extension": ".py",
   "mimetype": "text/x-python",
   "name": "python",
   "nbconvert_exporter": "python",
   "pygments_lexer": "ipython3",
   "version": "3.12.7"
  }
 },
 "nbformat": 4,
 "nbformat_minor": 5
}
