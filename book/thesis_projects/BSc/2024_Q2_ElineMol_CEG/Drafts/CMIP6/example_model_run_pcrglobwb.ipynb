{
 "cells": [
  {
   "cell_type": "markdown",
   "id": "e5442182",
   "metadata": {},
   "source": [
    "![ewatercycle logo](https://raw.githubusercontent.com/eWaterCycle/ewatercycle/main/docs/examples/logo.png)\n",
    "\n",
    "# PCRGlobWB example use case: CMIP6\n",
    "\n",
    "This example shows how the [PCRGlobWB model](https://globalhydrology.nl/research/models/pcr-globwb-2-0/) can be used within the eWaterCycle system. It is assumed you have already seen [this tutorial notebook](../../example_model_run_HBV.ipynb) explaining how to run the simple HBV model for the River Leven at Newby Bridge. \n",
    "\n",
    "The PCRGlobWB model is an example of a distributed model where fluxes and stores in the balance are calculated for grid cells (often also called pixels). This requires both the forcing data as well as any parameters to also be spatially distributed. Depending on the complexity of the model, these datasets can be quite large in memory size.\n",
    "\n",
    "Here we will be running PCRGLobWB for Great Brittain and will extract discharge data at the location of the River Leven again, to compare with the HBV model run. We will also demonstrate how to interact with the state of the model, during runtime, showcasing the benefit of using the BMI interface when building experiments using models."
   ]
  },
  {
   "cell_type": "code",
   "execution_count": 1,
   "id": "424992ea",
   "metadata": {},
   "outputs": [],
   "source": [
    "# This cell is only used to suppress some distracting output messages\n",
    "import warnings\n",
    "\n",
    "warnings.filterwarnings(\"ignore\", category=UserWarning)"
   ]
  },
  {
   "cell_type": "code",
   "execution_count": 2,
   "id": "cec50ce3",
   "metadata": {},
   "outputs": [],
   "source": [
    "import matplotlib.pyplot as plt\n",
    "from cartopy import crs\n",
    "from cartopy import feature as cfeature\n",
    "import fiona\n",
    "import shapely.geometry\n",
    "from pyproj import Geod\n",
    "from rich import print\n",
    "import pandas as pd\n",
    "import xarray as xr\n",
    "\n",
    "import ewatercycle.forcing\n",
    "import ewatercycle.models\n",
    "import ewatercycle.parameter_sets"
   ]
  },
  {
   "cell_type": "code",
   "execution_count": 3,
   "id": "3f186494-1f05-445d-8663-306591c87320",
   "metadata": {},
   "outputs": [],
   "source": [
    "station_latitude = 32.76108802182168 #Gila near Yuma\n",
    "station_longitude = -114.41721725761596"
   ]
  },
  {
   "cell_type": "markdown",
   "id": "194f357f",
   "metadata": {},
   "source": [
    "## Loading a parameter set"
   ]
  },
  {
   "cell_type": "markdown",
   "id": "1cdf38a2",
   "metadata": {},
   "source": [
    "For this example we have prepared and hosted a global parameter set made by Utrecht University. For each model run, what needs to be specified to deliniate the region of interest is a \"clone map\". The config file has many options, one of which is the location of this clone map.\n",
    "\n",
    "Note that this is very specific to PCRGlobWB. For complex (and legacy) models like PCRGlobWB one needs to know quite detailed information about the model before being able to run it. However, using eWaterCycle does reduce the time for seting up the model and getting it to run."
   ]
  },
  {
   "cell_type": "code",
   "execution_count": 4,
   "id": "3d38bc4c-fec2-4572-983b-376edbaefde3",
   "metadata": {},
   "outputs": [],
   "source": [
    "parameter_set = ewatercycle.parameter_sets.ParameterSet(\n",
    "    name=\"custom_parameter_set\",\n",
    "    directory= \"/data/shared/parameter-sets/pcrglobwb_global\",\n",
    "    config=\"./pcrglobwb_sonoran_mpi-esm1-2-hr_05min.ini\",\n",
    "    target_model=\"pcrglobwb\",\n",
    "    supported_model_versions={\"setters\"},\n",
    ")"
   ]
  },
  {
   "cell_type": "code",
   "execution_count": 5,
   "id": "fbabe50c",
   "metadata": {},
   "outputs": [
    {
     "data": {
      "text/html": [
       "<pre style=\"white-space:pre;overflow-x:auto;line-height:normal;font-family:Menlo,'DejaVu Sans Mono',consolas,'Courier New',monospace\"><span style=\"color: #800080; text-decoration-color: #800080; font-weight: bold\">ParameterSet</span><span style=\"font-weight: bold\">(</span>\n",
       "    <span style=\"color: #808000; text-decoration-color: #808000\">name</span>=<span style=\"color: #008000; text-decoration-color: #008000\">'custom_parameter_set'</span>,\n",
       "    <span style=\"color: #808000; text-decoration-color: #808000\">directory</span>=<span style=\"color: #800080; text-decoration-color: #800080; font-weight: bold\">PosixPath</span><span style=\"font-weight: bold\">(</span><span style=\"color: #008000; text-decoration-color: #008000\">'/data/shared/parameter-sets/pcrglobwb_global'</span><span style=\"font-weight: bold\">)</span>,\n",
       "    <span style=\"color: #808000; text-decoration-color: #808000\">config</span>=<span style=\"color: #800080; text-decoration-color: #800080; font-weight: bold\">PosixPath</span><span style=\"font-weight: bold\">(</span><span style=\"color: #008000; text-decoration-color: #008000\">'pcrglobwb_sonoran_mpi-esm1-2-hr_05min.ini'</span><span style=\"font-weight: bold\">)</span>,\n",
       "    <span style=\"color: #808000; text-decoration-color: #808000\">doi</span>=<span style=\"color: #008000; text-decoration-color: #008000\">'N/A'</span>,\n",
       "    <span style=\"color: #808000; text-decoration-color: #808000\">target_model</span>=<span style=\"color: #008000; text-decoration-color: #008000\">'pcrglobwb'</span>,\n",
       "    <span style=\"color: #808000; text-decoration-color: #808000\">supported_model_versions</span>=<span style=\"font-weight: bold\">{</span><span style=\"color: #008000; text-decoration-color: #008000\">'setters'</span><span style=\"font-weight: bold\">}</span>,\n",
       "    <span style=\"color: #808000; text-decoration-color: #808000\">downloader</span>=<span style=\"color: #800080; text-decoration-color: #800080; font-style: italic\">None</span>\n",
       "<span style=\"font-weight: bold\">)</span>\n",
       "</pre>\n"
      ],
      "text/plain": [
       "\u001b[1;35mParameterSet\u001b[0m\u001b[1m(\u001b[0m\n",
       "    \u001b[33mname\u001b[0m=\u001b[32m'custom_parameter_set'\u001b[0m,\n",
       "    \u001b[33mdirectory\u001b[0m=\u001b[1;35mPosixPath\u001b[0m\u001b[1m(\u001b[0m\u001b[32m'/data/shared/parameter-sets/pcrglobwb_global'\u001b[0m\u001b[1m)\u001b[0m,\n",
       "    \u001b[33mconfig\u001b[0m=\u001b[1;35mPosixPath\u001b[0m\u001b[1m(\u001b[0m\u001b[32m'pcrglobwb_sonoran_mpi-esm1-2-hr_05min.ini'\u001b[0m\u001b[1m)\u001b[0m,\n",
       "    \u001b[33mdoi\u001b[0m=\u001b[32m'N/A'\u001b[0m,\n",
       "    \u001b[33mtarget_model\u001b[0m=\u001b[32m'pcrglobwb'\u001b[0m,\n",
       "    \u001b[33msupported_model_versions\u001b[0m=\u001b[1m{\u001b[0m\u001b[32m'setters'\u001b[0m\u001b[1m}\u001b[0m,\n",
       "    \u001b[33mdownloader\u001b[0m=\u001b[3;35mNone\u001b[0m\n",
       "\u001b[1m)\u001b[0m\n"
      ]
     },
     "metadata": {},
     "output_type": "display_data"
    }
   ],
   "source": [
    "print(parameter_set)"
   ]
  },
  {
   "cell_type": "markdown",
   "id": "1271ae04",
   "metadata": {},
   "source": [
    "## Load forcing data\n",
    "\n",
    "For this example case, the forcing is generated in [this seperate notebook](generate_forcing.ipynb). This is a common practice when generating forcing takes considerable (CPU, memory, disk) resources. \n",
    "\n",
    "In the cell below, we load the pre-generated forcing. Note that in contrast with HBV, PCRGlobWB only needs temperature and precipitation as forcing inputs. HBV also needs potential evaporation. PCRGlobWB calculated potential and actual evaporation as part of its update step."
   ]
  },
  {
   "cell_type": "code",
   "execution_count": 6,
   "id": "870c4af6",
   "metadata": {},
   "outputs": [
    {
     "ename": "PermissionError",
     "evalue": "[Errno 13] Permission denied: '/home/emol/forcing/csonoran_desert/work/diagnostic/script/ewatercycle_forcing.yaml'",
     "output_type": "error",
     "traceback": [
      "\u001b[0;31m---------------------------------------------------------------------------\u001b[0m",
      "\u001b[0;31mPermissionError\u001b[0m                           Traceback (most recent call last)",
      "Cell \u001b[0;32mIn[6], line 1\u001b[0m\n\u001b[0;32m----> 1\u001b[0m forcing \u001b[38;5;241m=\u001b[39m \u001b[43mewatercycle\u001b[49m\u001b[38;5;241;43m.\u001b[39;49m\u001b[43mforcing\u001b[49m\u001b[38;5;241;43m.\u001b[39;49m\u001b[43msources\u001b[49m\u001b[43m[\u001b[49m\u001b[38;5;124;43m\"\u001b[39;49m\u001b[38;5;124;43mPCRGlobWBForcing\u001b[39;49m\u001b[38;5;124;43m\"\u001b[39;49m\u001b[43m]\u001b[49m\u001b[38;5;241;43m.\u001b[39;49m\u001b[43mload\u001b[49m\u001b[43m(\u001b[49m\n\u001b[1;32m      2\u001b[0m \u001b[43m    \u001b[49m\u001b[43mdirectory\u001b[49m\u001b[38;5;241;43m=\u001b[39;49m\u001b[38;5;124;43m\"\u001b[39;49m\u001b[38;5;124;43m/home/emol/forcing/csonoran_desert/work/diagnostic/script\u001b[39;49m\u001b[38;5;124;43m\"\u001b[39;49m\u001b[43m,\u001b[49m\n\u001b[1;32m      3\u001b[0m \u001b[43m)\u001b[49m\n\u001b[1;32m      4\u001b[0m \u001b[38;5;28mprint\u001b[39m(forcing)\n",
      "File \u001b[0;32m~/.local/lib/python3.12/site-packages/ewatercycle/base/forcing.py:271\u001b[0m, in \u001b[0;36mDefaultForcing.load\u001b[0;34m(cls, directory)\u001b[0m\n\u001b[1;32m    268\u001b[0m meta \u001b[38;5;241m=\u001b[39m data_source \u001b[38;5;241m/\u001b[39m FORCING_YAML\n\u001b[1;32m    269\u001b[0m yaml \u001b[38;5;241m=\u001b[39m YAML(typ\u001b[38;5;241m=\u001b[39m\u001b[38;5;124m\"\u001b[39m\u001b[38;5;124msafe\u001b[39m\u001b[38;5;124m\"\u001b[39m)\n\u001b[0;32m--> 271\u001b[0m \u001b[38;5;28;01mif\u001b[39;00m \u001b[38;5;129;01mnot\u001b[39;00m \u001b[43mmeta\u001b[49m\u001b[38;5;241;43m.\u001b[39;49m\u001b[43mexists\u001b[49m\u001b[43m(\u001b[49m\u001b[43m)\u001b[49m:\n\u001b[1;32m    272\u001b[0m     msg \u001b[38;5;241m=\u001b[39m (\n\u001b[1;32m    273\u001b[0m         \u001b[38;5;124mf\u001b[39m\u001b[38;5;124m\"\u001b[39m\u001b[38;5;124mForcing file \u001b[39m\u001b[38;5;132;01m{\u001b[39;00mmeta\u001b[38;5;132;01m}\u001b[39;00m\u001b[38;5;124m not found. \u001b[39m\u001b[38;5;124m\"\u001b[39m\n\u001b[1;32m    274\u001b[0m         \u001b[38;5;124mf\u001b[39m\u001b[38;5;124m\"\u001b[39m\u001b[38;5;124mPerhaps you want to use \u001b[39m\u001b[38;5;132;01m{\u001b[39;00m\u001b[38;5;28mcls\u001b[39m\u001b[38;5;241m.\u001b[39m\u001b[38;5;18m__name__\u001b[39m\u001b[38;5;132;01m}\u001b[39;00m\u001b[38;5;124m(...)?\u001b[39m\u001b[38;5;124m\"\u001b[39m\n\u001b[1;32m    275\u001b[0m     )\n\u001b[1;32m    276\u001b[0m     \u001b[38;5;28;01mraise\u001b[39;00m \u001b[38;5;167;01mFileNotFoundError\u001b[39;00m(msg)\n",
      "File \u001b[0;32m/opt/conda/envs/ewatercycle2/lib/python3.12/pathlib.py:860\u001b[0m, in \u001b[0;36mPath.exists\u001b[0;34m(self, follow_symlinks)\u001b[0m\n\u001b[1;32m    853\u001b[0m \u001b[38;5;250m\u001b[39m\u001b[38;5;124;03m\"\"\"\u001b[39;00m\n\u001b[1;32m    854\u001b[0m \u001b[38;5;124;03mWhether this path exists.\u001b[39;00m\n\u001b[1;32m    855\u001b[0m \n\u001b[1;32m    856\u001b[0m \u001b[38;5;124;03mThis method normally follows symlinks; to check whether a symlink exists,\u001b[39;00m\n\u001b[1;32m    857\u001b[0m \u001b[38;5;124;03madd the argument follow_symlinks=False.\u001b[39;00m\n\u001b[1;32m    858\u001b[0m \u001b[38;5;124;03m\"\"\"\u001b[39;00m\n\u001b[1;32m    859\u001b[0m \u001b[38;5;28;01mtry\u001b[39;00m:\n\u001b[0;32m--> 860\u001b[0m     \u001b[38;5;28;43mself\u001b[39;49m\u001b[38;5;241;43m.\u001b[39;49m\u001b[43mstat\u001b[49m\u001b[43m(\u001b[49m\u001b[43mfollow_symlinks\u001b[49m\u001b[38;5;241;43m=\u001b[39;49m\u001b[43mfollow_symlinks\u001b[49m\u001b[43m)\u001b[49m\n\u001b[1;32m    861\u001b[0m \u001b[38;5;28;01mexcept\u001b[39;00m \u001b[38;5;167;01mOSError\u001b[39;00m \u001b[38;5;28;01mas\u001b[39;00m e:\n\u001b[1;32m    862\u001b[0m     \u001b[38;5;28;01mif\u001b[39;00m \u001b[38;5;129;01mnot\u001b[39;00m _ignore_error(e):\n",
      "File \u001b[0;32m/opt/conda/envs/ewatercycle2/lib/python3.12/pathlib.py:840\u001b[0m, in \u001b[0;36mPath.stat\u001b[0;34m(self, follow_symlinks)\u001b[0m\n\u001b[1;32m    835\u001b[0m \u001b[38;5;28;01mdef\u001b[39;00m \u001b[38;5;21mstat\u001b[39m(\u001b[38;5;28mself\u001b[39m, \u001b[38;5;241m*\u001b[39m, follow_symlinks\u001b[38;5;241m=\u001b[39m\u001b[38;5;28;01mTrue\u001b[39;00m):\n\u001b[1;32m    836\u001b[0m \u001b[38;5;250m    \u001b[39m\u001b[38;5;124;03m\"\"\"\u001b[39;00m\n\u001b[1;32m    837\u001b[0m \u001b[38;5;124;03m    Return the result of the stat() system call on this path, like\u001b[39;00m\n\u001b[1;32m    838\u001b[0m \u001b[38;5;124;03m    os.stat() does.\u001b[39;00m\n\u001b[1;32m    839\u001b[0m \u001b[38;5;124;03m    \"\"\"\u001b[39;00m\n\u001b[0;32m--> 840\u001b[0m     \u001b[38;5;28;01mreturn\u001b[39;00m \u001b[43mos\u001b[49m\u001b[38;5;241;43m.\u001b[39;49m\u001b[43mstat\u001b[49m\u001b[43m(\u001b[49m\u001b[38;5;28;43mself\u001b[39;49m\u001b[43m,\u001b[49m\u001b[43m \u001b[49m\u001b[43mfollow_symlinks\u001b[49m\u001b[38;5;241;43m=\u001b[39;49m\u001b[43mfollow_symlinks\u001b[49m\u001b[43m)\u001b[49m\n",
      "\u001b[0;31mPermissionError\u001b[0m: [Errno 13] Permission denied: '/home/emol/forcing/csonoran_desert/work/diagnostic/script/ewatercycle_forcing.yaml'"
     ]
    }
   ],
   "source": [
    "forcing = ewatercycle.forcing.sources[\"PCRGlobWBForcing\"].load(\n",
    "    directory=\"/home/emol/forcing/csonoran_desert/work/diagnostic/script\",\n",
    ")\n",
    "print(forcing)"
   ]
  },
  {
   "cell_type": "markdown",
   "id": "d5b82a92",
   "metadata": {},
   "source": [
    "## Setting up the model\n",
    "\n",
    "Note that the model version and the parameterset versions should be compatible."
   ]
  },
  {
   "cell_type": "code",
   "execution_count": null,
   "id": "08a4ed9e",
   "metadata": {},
   "outputs": [],
   "source": [
    "pcrglob = ewatercycle.models.PCRGlobWB(\n",
    "    parameter_set=parameter_set,\n",
    "    forcing=forcing\n",
    ")\n",
    "print(pcrglob)"
   ]
  },
  {
   "cell_type": "code",
   "execution_count": null,
   "id": "a45eba5c",
   "metadata": {},
   "outputs": [],
   "source": [
    "pcrglob.version"
   ]
  },
  {
   "cell_type": "markdown",
   "id": "a69e1212",
   "metadata": {},
   "source": [
    "eWaterCycle exposes a selected set of configurable parameters. These can be modified in the `setup()` method."
   ]
  },
  {
   "cell_type": "code",
   "execution_count": null,
   "id": "4a62965a",
   "metadata": {},
   "outputs": [],
   "source": [
    "print(pcrglob.parameters)"
   ]
  },
  {
   "cell_type": "markdown",
   "id": "2a27869b",
   "metadata": {},
   "source": [
    "Calling `setup()` will start up the model container. Be careful with calling it multiple times!"
   ]
  },
  {
   "cell_type": "code",
   "execution_count": null,
   "id": "cc852425",
   "metadata": {},
   "outputs": [],
   "source": [
    "cfg_file, cfg_dir = pcrglob.setup(\n",
    "    end_time=\"2025-08-31T00:00:00Z\",\n",
    "    max_spinups_in_years=0\n",
    ")\n",
    "cfg_file, cfg_dir"
   ]
  },
  {
   "cell_type": "code",
   "execution_count": null,
   "id": "4456b5e2",
   "metadata": {},
   "outputs": [],
   "source": [
    "print(pcrglob.parameters)"
   ]
  },
  {
   "cell_type": "markdown",
   "id": "0480d34c",
   "metadata": {},
   "source": [
    "Note that the parameters have been changed. A new config file which incorporates these updated parameters has been generated as well. If you want to see or modify any additional model settings, you can acces this file directly. When you're ready, pass the path to the config file to `initialize()`."
   ]
  },
  {
   "cell_type": "code",
   "execution_count": null,
   "id": "87144041",
   "metadata": {},
   "outputs": [],
   "source": [
    "pcrglob.initialize(cfg_file)"
   ]
  },
  {
   "cell_type": "markdown",
   "id": "f16e18c7-88b1-4019-9281-44a4a51d21d0",
   "metadata": {},
   "source": [
    "We prepare a small dataframe where we can store the discharge output from the model"
   ]
  },
  {
   "cell_type": "code",
   "execution_count": null,
   "id": "664b32b6-2b4c-49f1-be5a-b451fceb9ecc",
   "metadata": {},
   "outputs": [],
   "source": [
    "time = pd.date_range(pcrglob.start_time_as_isostr, pcrglob.end_time_as_isostr)\n",
    "timeseries = pd.DataFrame(\n",
    "    index=pd.Index(time, name=\"time\"), columns=[\"PCRGlobWB: Sonoran Desert\"]\n",
    ")\n",
    "timeseries.head()"
   ]
  },
  {
   "cell_type": "markdown",
   "id": "f0f4987f",
   "metadata": {},
   "source": [
    "## Running the model\n",
    "\n",
    "Simply running the model from start to end is straightforward. At each time step we can retrieve information from the model."
   ]
  },
  {
   "cell_type": "code",
   "execution_count": null,
   "id": "403d55e6",
   "metadata": {
    "scrolled": true
   },
   "outputs": [],
   "source": [
    "while pcrglob.time < pcrglob.end_time:\n",
    "    pcrglob.update()\n",
    "\n",
    "    # Track discharge at station location\n",
    "    discharge_at_station = pcrglob.get_value_at_coords(\n",
    "        \"groundwater recharge\", lat=[station_latitude], lon=[station_longitude]\n",
    "    )\n",
    "    time = pcrglob.time_as_isostr\n",
    "    timeseries[\"PCRGlobWB: Sonoran Desert\"][time] = discharge_at_station[0]\n",
    "\n",
    "    # Show progress\n",
    "    print(time,end='\\r')  # \"\\r\" clears the output before printing the next timestamp\n"
   ]
  },
  {
   "cell_type": "markdown",
   "id": "53a937e8",
   "metadata": {},
   "source": [
    "## Interacting with the model"
   ]
  },
  {
   "cell_type": "markdown",
   "id": "3ce583fa",
   "metadata": {},
   "source": [
    "PCRGlobWB exposes many variables. Just a few of them are shown here:"
   ]
  },
  {
   "cell_type": "code",
   "execution_count": null,
   "id": "23d55863",
   "metadata": {},
   "outputs": [],
   "source": [
    "#list(pcrglob.output_var_names)[-15:-5]"
   ]
  },
  {
   "cell_type": "markdown",
   "id": "bc3037d6",
   "metadata": {},
   "source": [
    "Model fields can be fetched as xarray objects (or as flat numpy arrays using `get_value()`):"
   ]
  },
  {
   "cell_type": "code",
   "execution_count": null,
   "id": "b37943a9",
   "metadata": {},
   "outputs": [],
   "source": [
    "da = pcrglob.get_value_as_xarray(\"groundwater recharge\")\n",
    "da.thin(5)  # only show every 5th value in each dim"
   ]
  },
  {
   "cell_type": "markdown",
   "id": "b68de73f",
   "metadata": {},
   "source": [
    "Xarray makes it very easy to plot the data. In the figure below, we add a cross at the location where we collected the discharge every timestep: Leven at Newby bridge."
   ]
  },
  {
   "cell_type": "code",
   "execution_count": null,
   "id": "f30ab9b3",
   "metadata": {},
   "outputs": [],
   "source": [
    "fig = plt.figure(dpi=120)\n",
    "ax = fig.add_subplot(111, projection=crs.PlateCarree())\n",
    "da.plot(ax=ax, cmap=\"GnBu\")\n",
    "\n",
    "# Overlay ocean and coastines\n",
    "ax.add_feature(cfeature.OCEAN)\n",
    "ax.add_feature(cfeature.RIVERS, color=\"k\")\n",
    "ax.coastlines()\n",
    "\n",
    "# Add a red cross marker at the location of the Leven River at Newby Bridge\n",
    "ax.scatter(station_longitude, station_latitude, s=250, c=\"r\", marker=\"x\", lw=2)"
   ]
  },
  {
   "cell_type": "markdown",
   "id": "418c4d74",
   "metadata": {},
   "source": [
    "We can get (or set) the values at custom points as well:"
   ]
  },
  {
   "cell_type": "code",
   "execution_count": null,
   "id": "eb8a054b-44dc-4bdc-8179-c3796af26c2e",
   "metadata": {},
   "outputs": [],
   "source": [
    "#extra\n",
    "timeseries.plot()"
   ]
  },
  {
   "cell_type": "markdown",
   "id": "e68ed4a2-82c9-482c-a51b-8973cd009091",
   "metadata": {},
   "source": [
    "We of course want to compare this both to observations as well as to the result of the HBV model.\n"
   ]
  },
  {
   "cell_type": "code",
   "execution_count": null,
   "id": "f62de858-940c-46d2-b5ac-5b5268609911",
   "metadata": {},
   "outputs": [],
   "source": [
    "prepared_forcing_path_caravan_central = \"/home/emol/forcing/caravan/camelsgb_73010\"\n",
    "caravan_forcing = ewatercycle.forcing.sources['CaravanForcing'].load(directory=\"/home/rhut/forcing/caravan/hysets_09488650\")\n",
    "xr_caravan_forcing = xr.open_dataset(caravan_forcing['Q'])\n"
   ]
  },
  {
   "cell_type": "code",
   "execution_count": null,
   "id": "05522b52-eb4a-458e-a44d-cda10229e0be",
   "metadata": {},
   "outputs": [],
   "source": [
    "timeseries.plot()\n",
    "xr_caravan_forcing[\"Q\"].plot(label=\"Observed discharge\")\n",
    "\n",
    "plt.legend()"
   ]
  },
  {
   "cell_type": "markdown",
   "id": "c3479c71",
   "metadata": {},
   "source": [
    "## Cleaning up\n",
    "\n",
    "Models usually perform some \"wrap up tasks\" at the end of a model run, such as writing the last outputs to disk and releasing memory. In the case of eWaterCycle, another important teardown task is destroying the container in which the model was running. This can free up a lot of resources on your system. Therefore it is good practice to always call `finalize()` when you're done with an experiment."
   ]
  },
  {
   "cell_type": "code",
   "execution_count": null,
   "id": "b5846be2",
   "metadata": {},
   "outputs": [],
   "source": [
    "pcrglob.finalize()"
   ]
  },
  {
   "cell_type": "code",
   "execution_count": null,
   "id": "73a24d2a-8087-4818-9b6f-d256f0ae31f5",
   "metadata": {},
   "outputs": [],
   "source": []
  }
 ],
 "metadata": {
  "kernelspec": {
   "display_name": "Python 3 (ipykernel)",
   "language": "python",
   "name": "python3"
  },
  "language_info": {
   "codemirror_mode": {
    "name": "ipython",
    "version": 3
   },
   "file_extension": ".py",
   "mimetype": "text/x-python",
   "name": "python",
   "nbconvert_exporter": "python",
   "pygments_lexer": "ipython3",
   "version": "3.12.5"
  }
 },
 "nbformat": 4,
 "nbformat_minor": 5
}
