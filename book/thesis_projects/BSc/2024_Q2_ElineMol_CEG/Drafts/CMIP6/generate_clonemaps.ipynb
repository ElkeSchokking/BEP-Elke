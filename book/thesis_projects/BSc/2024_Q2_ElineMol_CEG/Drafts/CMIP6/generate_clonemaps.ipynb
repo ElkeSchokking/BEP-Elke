{
 "cells": [
  {
   "cell_type": "code",
   "execution_count": 21,
   "id": "61349563-68d3-4695-8c2c-24653662dffa",
   "metadata": {},
   "outputs": [],
   "source": [
    "import subprocess"
   ]
  },
  {
   "cell_type": "code",
   "execution_count": 22,
   "id": "8f76339f-9809-4ff5-863c-1d274993001a",
   "metadata": {},
   "outputs": [],
   "source": [
    "# Catchment bounding boxes\n",
    "clonemap_extents = {\n",
    "    \"csonoran_desert\": {\"latitude\": (24.0, 36.0), \"longitude\": (-120.0, 108.0)},\n",
    "    \"sonoran_desert\": {\"latitude\": (25, 34), \"longitude\": (-116, 110)},\n",
    "    \"UK\": {\"latitude\": (49, 61), \"longitude\": (-6, 22.5)},\n",
    "    \"Great_Kei\": {\"latitude\": (-34.5, -30.0), \"longitude\": (24.0, 30.0)},\n",
    "    \"Merrimack\": {\"latitude\": (40.5, 45.0), \"longitude\": (-73.5, -69.0)},\n",
    "    \"Meuse\": {\"latitude\": (46.5, 52.5), \"longitude\": (1.5, 7.5)},\n",
    "    \"Rhine\": {\"latitude\": (45.0, 54.0), \"longitude\": (3.0, 13.5)},\n",
    "    \"Savannah\": {\"latitude\": (30.0, 36), \"longitude\": (-85.5, -79.5)},\n",
    "}\n",
    "\n",
    "# Set the extent of the forcing data suffiently larger than the clonemap.\n",
    "esmvaltool_padding = 1.5  # degrees lat/lon"
   ]
  },
  {
   "cell_type": "code",
   "execution_count": 23,
   "id": "db657bd7",
   "metadata": {},
   "outputs": [],
   "source": [
    "def create_clonemap(lonmin, latmin, lonmax, latmax, forcing_resolution, catchment):\n",
    "    \"\"\"Create new clonemap compatible with forcing data resolution.\"\"\"\n",
    "    dlon = lonmax - lonmin\n",
    "    dlat = latmax - latmin\n",
    "\n",
    "    msg = (\n",
    "        \"The clonemap extent divided by the forcing resolution must yield\"\n",
    "        \"an integer number of grid cells.\"\n",
    "    )\n",
    "    assert dlon % forcing_resolution == 0, f\"Longitudes not compatible. {msg}\"\n",
    "    assert dlat % forcing_resolution == 0, f\"Latitudes not compatible. {msg}\"\n",
    "\n",
    "    clonemap_dir = (\n",
    "        \"/data/shared/parameter-sets/pcrglobwb_global/global_05min/cloneMaps\"\n",
    "    )\n",
    "    globalclonemap = clonemap_dir + \"/clone_global_05min.map\"\n",
    "    outputclonemap = f\"./{catchment.lower()}_05min.map\"  # copy to clonemap dir after ensuring it is correct\n",
    "\n",
    "    subprocess.call(\n",
    "        f\"gdal_translate -of PCRaster {globalclonemap} -projwin \"\n",
    "        f\"{lonmin} {latmax} {lonmax} {latmin} {outputclonemap}\",\n",
    "        shell=True,\n",
    "    )\n",
    "    return outputclonemap"
   ]
  },
  {
   "cell_type": "code",
   "execution_count": 24,
   "id": "3afb9c1d-cecc-4e54-967f-40d16f85af5f",
   "metadata": {},
   "outputs": [
    {
     "name": "stdout",
     "output_type": "stream",
     "text": [
      "Input file size is 4320, 2160\n",
      "0...10...20...30...40...50...60...70...80...90...100 - done.\n",
      "./csonoran_desert_05min.map\n"
     ]
    },
    {
     "ename": "AssertionError",
     "evalue": "Longitudes not compatible. The clonemap extent divided by the forcing resolution must yieldan integer number of grid cells.",
     "output_type": "error",
     "traceback": [
      "\u001b[0;31m---------------------------------------------------------------------------\u001b[0m",
      "\u001b[0;31mAssertionError\u001b[0m                            Traceback (most recent call last)",
      "Cell \u001b[0;32mIn[24], line 6\u001b[0m\n\u001b[1;32m      3\u001b[0m latmin, latmax \u001b[38;5;241m=\u001b[39m extents[\u001b[38;5;124m\"\u001b[39m\u001b[38;5;124mlatitude\u001b[39m\u001b[38;5;124m\"\u001b[39m]\n\u001b[1;32m      4\u001b[0m lonmin, lonmax \u001b[38;5;241m=\u001b[39m extents[\u001b[38;5;124m\"\u001b[39m\u001b[38;5;124mlongitude\u001b[39m\u001b[38;5;124m\"\u001b[39m]\n\u001b[1;32m      5\u001b[0m \u001b[38;5;28mprint\u001b[39m(\n\u001b[0;32m----> 6\u001b[0m     \u001b[43mcreate_clonemap\u001b[49m\u001b[43m(\u001b[49m\u001b[43mlonmin\u001b[49m\u001b[43m,\u001b[49m\u001b[43m \u001b[49m\u001b[43mlatmin\u001b[49m\u001b[43m,\u001b[49m\u001b[43m \u001b[49m\u001b[43mlonmax\u001b[49m\u001b[43m,\u001b[49m\u001b[43m \u001b[49m\u001b[43mlatmax\u001b[49m\u001b[43m,\u001b[49m\u001b[43m \u001b[49m\u001b[43mforcing_resolution\u001b[49m\u001b[43m,\u001b[49m\u001b[43m \u001b[49m\u001b[43mcatchment\u001b[49m\u001b[43m)\u001b[49m\n\u001b[1;32m      7\u001b[0m )\n",
      "Cell \u001b[0;32mIn[23], line 10\u001b[0m, in \u001b[0;36mcreate_clonemap\u001b[0;34m(lonmin, latmin, lonmax, latmax, forcing_resolution, catchment)\u001b[0m\n\u001b[1;32m      4\u001b[0m dlat \u001b[38;5;241m=\u001b[39m latmax \u001b[38;5;241m-\u001b[39m latmin\n\u001b[1;32m      6\u001b[0m msg \u001b[38;5;241m=\u001b[39m (\n\u001b[1;32m      7\u001b[0m     \u001b[38;5;124m\"\u001b[39m\u001b[38;5;124mThe clonemap extent divided by the forcing resolution must yield\u001b[39m\u001b[38;5;124m\"\u001b[39m\n\u001b[1;32m      8\u001b[0m     \u001b[38;5;124m\"\u001b[39m\u001b[38;5;124man integer number of grid cells.\u001b[39m\u001b[38;5;124m\"\u001b[39m\n\u001b[1;32m      9\u001b[0m )\n\u001b[0;32m---> 10\u001b[0m \u001b[38;5;28;01massert\u001b[39;00m dlon \u001b[38;5;241m%\u001b[39m forcing_resolution \u001b[38;5;241m==\u001b[39m \u001b[38;5;241m0\u001b[39m, \u001b[38;5;124mf\u001b[39m\u001b[38;5;124m\"\u001b[39m\u001b[38;5;124mLongitudes not compatible. \u001b[39m\u001b[38;5;132;01m{\u001b[39;00mmsg\u001b[38;5;132;01m}\u001b[39;00m\u001b[38;5;124m\"\u001b[39m\n\u001b[1;32m     11\u001b[0m \u001b[38;5;28;01massert\u001b[39;00m dlat \u001b[38;5;241m%\u001b[39m forcing_resolution \u001b[38;5;241m==\u001b[39m \u001b[38;5;241m0\u001b[39m, \u001b[38;5;124mf\u001b[39m\u001b[38;5;124m\"\u001b[39m\u001b[38;5;124mLatitudes not compatible. \u001b[39m\u001b[38;5;132;01m{\u001b[39;00mmsg\u001b[38;5;132;01m}\u001b[39;00m\u001b[38;5;124m\"\u001b[39m\n\u001b[1;32m     13\u001b[0m clonemap_dir \u001b[38;5;241m=\u001b[39m (\n\u001b[1;32m     14\u001b[0m     \u001b[38;5;124m\"\u001b[39m\u001b[38;5;124m/data/shared/parameter-sets/pcrglobwb_global/global_05min/cloneMaps\u001b[39m\u001b[38;5;124m\"\u001b[39m\n\u001b[1;32m     15\u001b[0m )\n",
      "\u001b[0;31mAssertionError\u001b[0m: Longitudes not compatible. The clonemap extent divided by the forcing resolution must yieldan integer number of grid cells."
     ]
    }
   ],
   "source": [
    "forcing_resolution = 0.75\n",
    "for (catchment, extents) in clonemap_extents.items():\n",
    "    latmin, latmax = extents[\"latitude\"]\n",
    "    lonmin, lonmax = extents[\"longitude\"]\n",
    "    print(\n",
    "        create_clonemap(lonmin, latmin, lonmax, latmax, forcing_resolution, catchment)\n",
    "    )"
   ]
  },
  {
   "cell_type": "code",
   "execution_count": null,
   "id": "c8067a01-0be1-40c5-bc45-c587c1000544",
   "metadata": {},
   "outputs": [],
   "source": []
  }
 ],
 "metadata": {
  "kernelspec": {
   "display_name": "Python 3 (ipykernel)",
   "language": "python",
   "name": "python3"
  },
  "language_info": {
   "codemirror_mode": {
    "name": "ipython",
    "version": 3
   },
   "file_extension": ".py",
   "mimetype": "text/x-python",
   "name": "python",
   "nbconvert_exporter": "python",
   "pygments_lexer": "ipython3",
   "version": "3.12.5"
  }
 },
 "nbformat": 4,
 "nbformat_minor": 5
}
