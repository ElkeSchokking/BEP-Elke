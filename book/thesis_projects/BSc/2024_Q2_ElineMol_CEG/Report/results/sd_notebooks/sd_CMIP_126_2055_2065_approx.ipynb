{
 "cells": [
  {
   "cell_type": "markdown",
   "id": "d4d13fc0-6d2f-453f-b045-39555dc93f4f",
   "metadata": {},
   "source": [
    "# Sonoran Desert: CMIP6 projections\n",
    "#### Approximation groundwater recharge in 2055-2065\n",
    "Evaporation in 2025, 2050, 2075 and 2100  for the climate scenarios SSP1-2.6, SSP2-4.5 and SSP5-8.5. The camel that is used for this notebook is: hysets_09488650"
   ]
  },
  {
   "cell_type": "code",
   "execution_count": 1,
   "id": "ddba7aa6-2113-4e4d-b642-5aed6107211a",
   "metadata": {},
   "outputs": [],
   "source": [
    "import warnings\n",
    "warnings.filterwarnings(\"ignore\", category=UserWarning)\n",
    "\n",
    "import matplotlib.pyplot as plt\n",
    "from cartopy import crs\n",
    "from cartopy import feature as cfeature\n",
    "import fiona\n",
    "import shapely.geometry\n",
    "from pyproj import Geod\n",
    "from rich import print\n",
    "import pandas as pd\n",
    "import xarray as xr\n",
    "\n",
    "import ewatercycle.forcing\n",
    "import ewatercycle.models\n",
    "import ewatercycle.parameter_sets"
   ]
  },
  {
   "cell_type": "markdown",
   "id": "a3fd9deb-bdbe-469f-b5d2-57f0236ba4a3",
   "metadata": {},
   "source": [
    "### Setting up the model: SSP1-2.6\n",
    "Location of the groundwater recharge: Gila river near Yuma."
   ]
  },
  {
   "cell_type": "code",
   "execution_count": 2,
   "id": "3036b0d0-1f6e-4502-8638-3a63e5756b94",
   "metadata": {},
   "outputs": [],
   "source": [
    "station_latitude = [32.76336494699427, 32.88909499784028, 32.684089485789755, 32.865669088682274, 32.719162360122446, 32.828650757990125, 32.756881878799334, 32.82063561463508, 32.60777730703933, 32.67058677793268, 32.94848416830013]\n",
    "station_longitude = [-114.55114003114731, -114.5017866074773, -114.51809096391581, -113.9776363724262, -114.07727215815218, -113.85359656233821, -114.01646418905023, -113.60895076390092,  -114.10631164360657, -113.76005959016287, -113.35280271756335]"
   ]
  },
  {
   "cell_type": "markdown",
   "id": "301ecb08-2f39-4e80-ac25-2d74d30376f7",
   "metadata": {},
   "source": [
    "Loading the parameter set and forcing set. Setting up the PCR-GlobWB model. "
   ]
  },
  {
   "cell_type": "code",
   "execution_count": 3,
   "id": "9e3e0cc8-8e50-4066-86cc-55628f64da46",
   "metadata": {},
   "outputs": [],
   "source": [
    "parameter_set = ewatercycle.parameter_sets.ParameterSet(\n",
    "    name=\"custom_parameter_set\",\n",
    "    directory= \"/data/shared/parameter-sets/pcrglobwb_global\",\n",
    "    config=\"./pcrglobwb_sonoran_ERA5_05min.ini\",\n",
    "    target_model=\"pcrglobwb\",\n",
    "    supported_model_versions={\"setters\"},\n",
    ")\n",
    "#print(parameter_set)"
   ]
  },
  {
   "cell_type": "code",
   "execution_count": 4,
   "id": "706d3bba-db77-46f2-bff2-090dcb00019d",
   "metadata": {},
   "outputs": [],
   "source": [
    "forcing126 = ewatercycle.forcing.sources[\"PCRGlobWBForcing\"].load(\n",
    "    directory=\"/home/emol/forcing/sonoran_desert_CMIP_SSP126_75/work/diagnostic/script\",\n",
    ")"
   ]
  },
  {
   "cell_type": "code",
   "execution_count": 5,
   "id": "13cd01f4-0e0e-4dd4-836b-1a5f9eccc6b5",
   "metadata": {},
   "outputs": [],
   "source": [
    "pcrglob126 = ewatercycle.models.PCRGlobWB(\n",
    "    parameter_set=parameter_set,\n",
    "    forcing=forcing126\n",
    ")\n",
    "#print(pcrglob)"
   ]
  },
  {
   "cell_type": "markdown",
   "id": "ba4d3e92-38a1-4316-82e5-4a2f0311425c",
   "metadata": {},
   "source": [
    "Years for which PCR-GlobWB needs to simulate the approximation; 2025, 2050, 2075 and 2100."
   ]
  },
  {
   "cell_type": "code",
   "execution_count": 6,
   "id": "6cfa8860-2782-47d1-af1c-aeeafef73561",
   "metadata": {},
   "outputs": [
    {
     "data": {
      "text/plain": [
       "('/home/emol/repos/projects/book/thesis_projects/BSc/2024_Q2_ElineMol_CEG/Deliverables/pcrglobwb_20250110_121759/pcrglobwb_ewatercycle.ini',\n",
       " '/home/emol/repos/projects/book/thesis_projects/BSc/2024_Q2_ElineMol_CEG/Deliverables/pcrglobwb_20250110_121759')"
      ]
     },
     "execution_count": 6,
     "metadata": {},
     "output_type": "execute_result"
    }
   ],
   "source": [
    "#start_time = \"2025-01-01T00:00:00Z\"\n",
    "#end_time = \"2025-12-31T00:00:00Z\"\n",
    "\n",
    "cfg_file126, cfg_dir126 = pcrglob126.setup(\n",
    "    start_time=\"2055-01-01T00:00:00Z\",\n",
    "    end_time=\"2065-01-01T00:00:00Z\",\n",
    "    max_spinups_in_years=0\n",
    ")\n",
    "cfg_file126, cfg_dir126"
   ]
  },
  {
   "cell_type": "code",
   "execution_count": 7,
   "id": "fcf19a7a-59e3-41af-9290-990379cbff6d",
   "metadata": {},
   "outputs": [],
   "source": [
    "pcrglob126.initialize(cfg_file126)"
   ]
  },
  {
   "cell_type": "code",
   "execution_count": 8,
   "id": "6f9d70d7-9673-4dfd-bd06-b6f20608a5e8",
   "metadata": {},
   "outputs": [],
   "source": [
    "time126 = pd.date_range(pcrglob126.start_time_as_isostr, pcrglob126.end_time_as_isostr)\n",
    "timeseries126 = pd.DataFrame(\n",
    "    index=pd.Index(time126, name=\"time\"), columns=[\"PCRGlobWB: Sonoran Desert\"]\n",
    ")\n",
    "\n",
    "recharge126 = pd.DataFrame(\n",
    "    index=pd.Index(time126, name=\"time\"), columns=[\"PCRGlobWB: Sonoran Desert\"]\n",
    ")\n",
    "\n",
    "discharge126 = pd.DataFrame(\n",
    "    index=pd.Index(time126, name=\"time\"), columns=[\"PCRGlobWB: Sonoran Desert\"]\n",
    ")"
   ]
  },
  {
   "cell_type": "code",
   "execution_count": 9,
   "id": "30c0a13d-3c93-434f-8ff6-aedaf80f3dee",
   "metadata": {},
   "outputs": [],
   "source": [
    "while pcrglob126.time < pcrglob126.end_time:\n",
    "    pcrglob126.update()\n",
    "\n",
    "    # Track discharge for all station locations\n",
    "    time = pcrglob126.time_as_isostr  # Current time as ISO string\n",
    "    for i in range(len(station_latitude)):\n",
    "        \n",
    "        discharge_at_station126 = pcrglob126.get_value_at_coords(\n",
    "            \"discharge\", lat=[station_latitude[i]], lon=[station_longitude[i]]\n",
    "        )\n",
    "\n",
    "        precipitation_at_station126 = pcrglob126.get_value_at_coords(\n",
    "            \"precipitation\", lat=[station_latitude[i]], lon=[station_longitude[i]]\n",
    "        )\n",
    "\n",
    "        landsurface_at_station126 = pcrglob126.get_value_at_coords(\n",
    "            \"land_surface_runoff\", lat=[station_latitude[i]], lon=[station_longitude[i]]\n",
    "        )\n",
    "    \n",
    "        evaporation_at_station126 = pcrglob126.get_value_at_coords(\n",
    "            \"total_evaporation\", lat=[station_latitude[i]], lon=[station_longitude[i]]\n",
    "        )\n",
    "\n",
    "        recharge_at_station126 = pcrglob126.get_value_at_coords(\n",
    "            \"groundwater_recharge\", lat=[station_latitude[i]], lon=[station_longitude[i]]\n",
    "        )\n",
    "\n",
    "        abstraction_at_station126 = pcrglob126.get_value_at_coords(\n",
    "            \"total_groundwater_abstraction\", lat=[station_latitude[i]], lon=[station_longitude[i]]\n",
    "        )\n",
    "    \n",
    "        station_key = f\"PCRGlobWB: Station {i+1}\"  \n",
    "        if station_key not in timeseries126:\n",
    "            timeseries126[station_key] = {}\n",
    "\n",
    "        if station_key not in recharge126:\n",
    "            recharge126[station_key] = {}\n",
    "        \n",
    "        if station_key not in discharge126:\n",
    "            discharge126[station_key] = {}\n",
    "        \n",
    "        # Store the discharge value for the current time\n",
    "        timeseries126[station_key][time] = precipitation_at_station126[0] + landsurface_at_station126[0] - evaporation_at_station126[0] - abstraction_at_station126[0] \n",
    "        recharge126[station_key][time] = recharge_at_station126[0]\n",
    "        discharge126[station_key][time] = discharge_at_station126[0]\n",
    "    #print(time126,end='\\r')  # \"\\r\" clears the output before printing the next timestamp"
   ]
  },
  {
   "cell_type": "code",
   "execution_count": 19,
   "id": "705d9a06-5b4f-4419-b3bc-30fb82c72676",
   "metadata": {},
   "outputs": [],
   "source": [
    "approx126 = pd.DataFrame(timeseries126)\n",
    "approx126.to_csv('approx126_2055_2065.csv')\n",
    "\n",
    "Q126 = pd.DataFrame(discharge126)\n",
    "Q126.to_csv('discharge126_2055_2065.csv')\n",
    "\n",
    "r126 = pd.DataFrame(recharge126)\n",
    "r126.to_csv('recharge126_2055_2065.csv')"
   ]
  },
  {
   "cell_type": "code",
   "execution_count": 14,
   "id": "226aa154-132e-49ac-877e-13ca3a154bc5",
   "metadata": {},
   "outputs": [
    {
     "data": {
      "text/plain": [
       "<Axes: title={'center': 'Discharge'}, xlabel='time', ylabel='Discharge [mm/day]'>"
      ]
     },
     "execution_count": 14,
     "metadata": {},
     "output_type": "execute_result"
    },
    {
     "data": {
      "image/png": "[encoded data removed]",
      "text/plain": [
       "<Figure size 640x480 with 1 Axes>"
      ]
     },
     "metadata": {},
     "output_type": "display_data"
    }
   ],
   "source": [
    "Q126 = pd.DataFrame(discharge126)\n",
    "Q126['Discharge'] = Q126.mean(axis=1) * 86400 * 1000 / (388*10**6)\n",
    "Q126['Discharge'].plot(title='Discharge', ylabel='Discharge [mm/day]')"
   ]
  },
  {
   "cell_type": "code",
   "execution_count": 16,
   "id": "4d06691d-29a0-48c5-8e2e-b0bdc4628c15",
   "metadata": {},
   "outputs": [
    {
     "data": {
      "text/plain": [
       "<Axes: title={'center': 'Approximation Groundwater Recharge (2055-2065)'}, xlabel='time', ylabel='Recharge [mm/day]'>"
      ]
     },
     "execution_count": 16,
     "metadata": {},
     "output_type": "execute_result"
    },
    {
     "data": {
      "image/png": "[encoded data removed]",
      "text/plain": [
       "<Figure size 640x480 with 1 Axes>"
      ]
     },
     "metadata": {},
     "output_type": "display_data"
    }
   ],
   "source": [
    "approx126 = pd.DataFrame(timeseries126)\n",
    "approx126['Approximation Groundwater Recharge'] = approx126.mean(axis=1)*1000 - Q126['Discharge'].min()\n",
    "approx126['Approximation Groundwater Recharge'].plot(title='Approximation Groundwater Recharge (2055-2065)', ylabel = 'Recharge [mm/day]', color='darkblue')"
   ]
  },
  {
   "cell_type": "code",
   "execution_count": 17,
   "id": "33517f31-da38-4b8a-8a7d-8fddb479d57e",
   "metadata": {},
   "outputs": [
    {
     "data": {
      "text/plain": [
       "<Axes: title={'center': 'PCR-GlobWB Groundwater Recharge'}, xlabel='time', ylabel='Recharge [mm/day]'>"
      ]
     },
     "execution_count": 17,
     "metadata": {},
     "output_type": "execute_result"
    },
    {
     "data": {
      "image/png": "[encoded data removed]",
      "text/plain": [
       "<Figure size 640x480 with 1 Axes>"
      ]
     },
     "metadata": {},
     "output_type": "display_data"
    }
   ],
   "source": [
    "recharge126 = pd.DataFrame(recharge126)\n",
    "recharge126['Groundwater Recharge'] = recharge126.mean(axis=1)*1000 \n",
    "recharge126['Groundwater Recharge'].plot(title='PCR-GlobWB Groundwater Recharge', ylabel = 'Recharge [mm/day]', color='darkblue')"
   ]
  },
  {
   "cell_type": "markdown",
   "id": "d145747f-bd55-4111-8932-c6f962548d04",
   "metadata": {},
   "source": [
    "Comparing the approximation with the groundwater recharge that is simulated with PCR-GlobWB."
   ]
  },
  {
   "cell_type": "markdown",
   "id": "e34fe514-d9df-4b9d-9b7a-71ea07382107",
   "metadata": {},
   "source": [
    "### Now for SSP4-6.0\n",
    "First, set up the forcing that will be used in the model."
   ]
  },
  {
   "cell_type": "code",
   "execution_count": null,
   "id": "3677eeee-25f6-4630-ad0e-b5691ad0e050",
   "metadata": {},
   "outputs": [],
   "source": [
    "parameter_set = ewatercycle.parameter_sets.ParameterSet(\n",
    "    name=\"custom_parameter_set\",\n",
    "    directory= \"/data/shared/parameter-sets/pcrglobwb_global\",\n",
    "    config=\"./pcrglobwb_sonoran_ERA5_05min.ini\",\n",
    "    target_model=\"pcrglobwb\",\n",
    "    supported_model_versions={\"setters\"},\n",
    ")"
   ]
  },
  {
   "cell_type": "code",
   "execution_count": null,
   "id": "bac804af-28e9-46e7-8e3e-0254009ebf11",
   "metadata": {},
   "outputs": [],
   "source": [
    "forcing245 = ewatercycle.forcing.sources[\"PCRGlobWBForcing\"].load(\n",
    "    directory=\"/home/emol/forcing/sonoran_desert_CMIP_SSP245_100/work/diagnostic/script\",\n",
    ")"
   ]
  },
  {
   "cell_type": "code",
   "execution_count": null,
   "id": "72866c75-a7e3-4028-8adc-43075591833d",
   "metadata": {},
   "outputs": [],
   "source": [
    "pcrglob245 = ewatercycle.models.PCRGlobWB(\n",
    "    parameter_set=parameter_set,\n",
    "    forcing=forcing245\n",
    ")"
   ]
  },
  {
   "cell_type": "code",
   "execution_count": null,
   "id": "11d50b22-cf60-44cb-92f8-dec10807cd6b",
   "metadata": {},
   "outputs": [],
   "source": [
    "#start_time = \"2025-01-01T00:00:00Z\"\n",
    "#end_time = \"2025-12-31T00:00:00Z\"\n",
    "\n",
    "cfg_file245, cfg_dir245 = pcrglob245.setup(\n",
    "    start_time=\"2085-01-01T00:00:00Z\",\n",
    "    end_time=\"2095-01-01T00:00:00Z\",\n",
    "    max_spinups_in_years=0\n",
    ")\n",
    "cfg_file245, cfg_dir245"
   ]
  },
  {
   "cell_type": "code",
   "execution_count": null,
   "id": "e53b1244-ca3f-4824-b227-f900343b3871",
   "metadata": {},
   "outputs": [],
   "source": [
    "pcrglob245.initialize(cfg_file245)"
   ]
  },
  {
   "cell_type": "code",
   "execution_count": null,
   "id": "509ea6fd-30d0-49d7-ab08-7bbd5f8c27ab",
   "metadata": {},
   "outputs": [],
   "source": [
    "time245 = pd.date_range(pcrglob245.start_time_as_isostr, pcrglob245.end_time_as_isostr)\n",
    "timeseries245 = pd.DataFrame(\n",
    "    index=pd.Index(time245, name=\"time\"), columns=[\"PCRGlobWB: Sonoran Desert\"]\n",
    ")\n",
    "recharge245 = pd.DataFrame(\n",
    "    index=pd.Index(time245, name=\"time\"), columns=[\"PCRGlobWB: Sonoran Desert\"]\n",
    ")\n",
    "\n",
    "discharge245 = pd.DataFrame(\n",
    "    index=pd.Index(time245, name=\"time\"), columns=[\"PCRGlobWB: Sonoran Desert\"]\n",
    ")"
   ]
  },
  {
   "cell_type": "code",
   "execution_count": null,
   "id": "ff5ac20b-2a79-4de3-80ec-8b1f1ff92ef0",
   "metadata": {},
   "outputs": [],
   "source": [
    "while pcrglob245.time < pcrglob245.end_time:\n",
    "    pcrglob245.update()\n",
    "\n",
    "    # Track discharge for all station locations\n",
    "    time = pcrglob245.time_as_isostr  # Current time as ISO string\n",
    "    for i in range(len(station_latitude)):\n",
    "        \n",
    "        discharge_at_station245 = pcrglob245.get_value_at_coords(\n",
    "            \"discharge\", lat=[station_latitude[i]], lon=[station_longitude[i]]\n",
    "        )\n",
    "\n",
    "        precipitation_at_station245 = pcrglob245.get_value_at_coords(\n",
    "            \"precipitation\", lat=[station_latitude[i]], lon=[station_longitude[i]]\n",
    "        )\n",
    "\n",
    "        landsurface_at_station245 = pcrglob245.get_value_at_coords(\n",
    "            \"land_surface_runoff\", lat=[station_latitude[i]], lon=[station_longitude[i]]\n",
    "        )\n",
    "    \n",
    "        evaporation_at_station245 = pcrglob245.get_value_at_coords(\n",
    "            \"total_evaporation\", lat=[station_latitude[i]], lon=[station_longitude[i]]\n",
    "        )\n",
    "\n",
    "        recharge_at_station245 = pcrglob245.get_value_at_coords(\n",
    "            \"groundwater_recharge\", lat=[station_latitude[i]], lon=[station_longitude[i]]\n",
    "        )\n",
    "\n",
    "        abstraction_at_station245 = pcrglob245.get_value_at_coords(\n",
    "            \"total_groundwater_abstraction\", lat=[station_latitude[i]], lon=[station_longitude[i]]\n",
    "        )\n",
    "        station_key = f\"PCRGlobWB: Station {i+1}\"  \n",
    "        if station_key not in timeseries245:\n",
    "            timeseries245[station_key] = {}\n",
    "\n",
    "        if station_key not in recharge245:\n",
    "            recharge245[station_key] = {}\n",
    "        \n",
    "        if station_key not in discharge245:\n",
    "            discharge245[station_key] = {}\n",
    "        \n",
    "        # Store the discharge value for the current time\n",
    "        timeseries245[station_key][time] = precipitation_at_station245[0] + landsurface_at_station245[0] - evaporation_at_station245[0] - abstraction_at_station245[0] \n",
    "        recharge245[station_key][time] = recharge_at_station245[0]\n",
    "        discharge245[station_key][time] = discharge_at_station245[0]\n",
    "    \n",
    "    #print(time245,end='\\r')  # \"\\r\" clears the output before printing the next timestamp"
   ]
  },
  {
   "cell_type": "code",
   "execution_count": null,
   "id": "0c0a3e0b-3957-4f63-929b-5d33b19415f3",
   "metadata": {},
   "outputs": [],
   "source": [
    "approx245 = pd.DataFrame(timeseries245)\n",
    "approx245.to_csv('approx245_2085_2095.csv', index=False)\n",
    "\n",
    "Q245 = pd.DataFrame(discharge245)\n",
    "Q245.to_csv('discharge245_2085_2095.csv', index=False)\n",
    "\n",
    "r245 = pd.DataFrame(recharge245)\n",
    "r245.to_csv('recharge245_2085_2095.csv', index=False)"
   ]
  },
  {
   "cell_type": "code",
   "execution_count": null,
   "id": "738a3103-9d2e-423d-a6fa-4d9b85ea8db5",
   "metadata": {},
   "outputs": [],
   "source": [
    "Q245 = pd.DataFrame(discharge245)\n",
    "Q245['Discharge'] = Q245.mean(axis=1) * 86400 * 1000 / (160000*10**6)\n",
    "Q245['Discharge'].plot(title='Discharge', ylabel='Discharge [mm/day]')"
   ]
  },
  {
   "cell_type": "code",
   "execution_count": null,
   "id": "1f199162-2022-4f3c-bf4d-f5fafa3d7135",
   "metadata": {},
   "outputs": [],
   "source": [
    "approx245 = pd.DataFrame(timeseries245)\n",
    "approx245['Approximation Groundwater Recharge'] = approx245.mean(axis=1)*1000 - Q245['Discharge']\n",
    "approx245['Approximation Groundwater Recharge'].plot(title='Approximation Groundwater Recharge', ylabel = 'Recharge [mm/day]')"
   ]
  },
  {
   "cell_type": "code",
   "execution_count": null,
   "id": "57c01429-5f18-4f6e-8b90-8101f27820b8",
   "metadata": {},
   "outputs": [],
   "source": [
    "recharge245 = pd.DataFrame(recharge245)\n",
    "recharge245['Groundwater Recharge'] = recharge245.mean(axis=1)*1000 \n",
    "recharge245['Groundwater Recharge'].plot(title='PCR-GlobWB Groundwater Recharge', ylabel = 'Recharge [mm/day]')"
   ]
  },
  {
   "cell_type": "markdown",
   "id": "bf0cbc1c-3cb8-43ae-89b7-387e2b76e8a8",
   "metadata": {},
   "source": [
    "Comparing the approximation with the groundwater recharge that is simulated with PCR-GlobWB."
   ]
  },
  {
   "cell_type": "markdown",
   "id": "febb76b8-1990-494e-aa87-ab8bb72a14e0",
   "metadata": {},
   "source": [
    "### Now for SSP5-8.5\n",
    "First, set up the forcing."
   ]
  },
  {
   "cell_type": "code",
   "execution_count": null,
   "id": "3662294b-edb4-43a0-b843-34662415a949",
   "metadata": {},
   "outputs": [],
   "source": [
    "parameter_set = ewatercycle.parameter_sets.ParameterSet(\n",
    "    name=\"custom_parameter_set\",\n",
    "    directory= \"/data/shared/parameter-sets/pcrglobwb_global\",\n",
    "    config=\"./pcrglobwb_sonoran_ERA5_05min.ini\",\n",
    "    target_model=\"pcrglobwb\",\n",
    "    supported_model_versions={\"setters\"},\n",
    ")\n",
    "#print(parameter_set)"
   ]
  },
  {
   "cell_type": "code",
   "execution_count": null,
   "id": "6f60a5f7-0fbc-489a-80d5-6da781029b3a",
   "metadata": {},
   "outputs": [],
   "source": [
    "forcing585 = ewatercycle.forcing.sources[\"PCRGlobWBForcing\"].load(\n",
    "    directory=\"/home/emol/forcing/sonoran_desert_CMIP_SSP585_100/work/diagnostic/script\",\n",
    ")\n",
    "#print(forcing)"
   ]
  },
  {
   "cell_type": "code",
   "execution_count": null,
   "id": "a2b305b0-26d0-4a85-8cc1-d46c0897d3bc",
   "metadata": {},
   "outputs": [],
   "source": [
    "pcrglob585 = ewatercycle.models.PCRGlobWB(\n",
    "    parameter_set=parameter_set,\n",
    "    forcing=forcing585\n",
    ")"
   ]
  },
  {
   "cell_type": "code",
   "execution_count": null,
   "id": "13f65ae0-7964-43fe-afe4-ef82d170343f",
   "metadata": {},
   "outputs": [],
   "source": [
    "#start_time = \"2025-01-01T00:00:00Z\"\n",
    "#end_time = \"2025-12-31T00:00:00Z\"\n",
    "\n",
    "cfg_file585, cfg_dir585 = pcrglob585.setup(\n",
    "    start_time=\"2085-01-01T00:00:00Z\",\n",
    "    end_time=\"2095-01-01T00:00:00Z\",\n",
    "    max_spinups_in_years=0\n",
    ")\n",
    "cfg_file585, cfg_dir585"
   ]
  },
  {
   "cell_type": "code",
   "execution_count": null,
   "id": "e4a5a284-f81c-40fd-9181-eaa9369eb8a8",
   "metadata": {},
   "outputs": [],
   "source": [
    "pcrglob585.initialize(cfg_file585)"
   ]
  },
  {
   "cell_type": "code",
   "execution_count": null,
   "id": "2da2e165-ffe4-404b-9836-d3ebba8e20c7",
   "metadata": {},
   "outputs": [],
   "source": [
    "time585 = pd.date_range(pcrglob585.start_time_as_isostr, pcrglob585.end_time_as_isostr)\n",
    "timeseries585 = pd.DataFrame(\n",
    "    index=pd.Index(time585, name=\"time\"), columns=[\"PCRGlobWB: Sonoran Desert\"]\n",
    ")\n",
    "\n",
    "recharge585 =  pd.DataFrame(\n",
    "    index=pd.Index(time585, name=\"time\"), columns=[\"PCRGlobWB: Sonoran Desert\"]\n",
    ")\n",
    "\n",
    "discharge585 = pd.DataFrame(\n",
    "    index=pd.Index(time585, name=\"time\"), columns=[\"PCRGlobWB: Sonoran Desert\"]\n",
    ")"
   ]
  },
  {
   "cell_type": "code",
   "execution_count": null,
   "id": "637e5f77-1364-4615-8959-75ff18a431bd",
   "metadata": {},
   "outputs": [],
   "source": [
    "while pcrglob585.time < pcrglob585.end_time:\n",
    "    pcrglob585.update()\n",
    "\n",
    "    # Track discharge for all station locations\n",
    "    time = pcrglob585.time_as_isostr  # Current time as ISO string\n",
    "    for i in range(len(station_latitude)):\n",
    "        \n",
    "        discharge_at_station585 = pcrglob585.get_value_at_coords(\n",
    "            \"discharge\", lat=[station_latitude[i]], lon=[station_longitude[i]]\n",
    "        )\n",
    "\n",
    "        precipitation_at_station585 = pcrglob585.get_value_at_coords(\n",
    "            \"precipitation\", lat=[station_latitude[i]], lon=[station_longitude[i]]\n",
    "        )\n",
    "\n",
    "        landsurface_at_station585 = pcrglob585.get_value_at_coords(\n",
    "            \"land_surface_runoff\", lat=[station_latitude[i]], lon=[station_longitude[i]]\n",
    "        )\n",
    "    \n",
    "        evaporation_at_station585 = pcrglob585.get_value_at_coords(\n",
    "            \"total_evaporation\", lat=[station_latitude[i]], lon=[station_longitude[i]]\n",
    "        )\n",
    "\n",
    "        recharge_at_station585 = pcrglob585.get_value_at_coords(\n",
    "            \"groundwater_recharge\", lat=[station_latitude[i]], lon=[station_longitude[i]]\n",
    "        )\n",
    "\n",
    "        abstraction_at_station585 = pcrglob585.get_value_at_coords(\n",
    "            \"total_groundwater_abstraction\", lat=[station_latitude[i]], lon=[station_longitude[i]]\n",
    "        )\n",
    "        station_key = f\"PCRGlobWB: Station {i+1}\"  \n",
    "        if station_key not in timeseries585:\n",
    "            timeseries585[station_key] = {}\n",
    "\n",
    "        if station_key not in recharge585:\n",
    "            recharge585[station_key] = {}\n",
    "        \n",
    "        if station_key not in discharge585:\n",
    "            discharge585[station_key] = {}\n",
    "        \n",
    "        # Store the discharge value for the current time\n",
    "        timeseries585[station_key][time] = precipitation_at_station585[0] + landsurface_at_station585[0] - evaporation_at_station585[0] - abstraction_at_station585[0] \n",
    "        recharge585[station_key][time] = recharge_at_station585[0]\n",
    "        discharge585[station_key][time] = discharge_at_station585[0]\n",
    "\n",
    "    # Show progress"
   ]
  },
  {
   "cell_type": "code",
   "execution_count": null,
   "id": "55e2a462-e5df-4a20-8464-5ac216b941b7",
   "metadata": {},
   "outputs": [],
   "source": [
    "approx585 = pd.DataFrame(timeseries585)\n",
    "approx585.to_csv('approx585_2085_2095.csv', index=False)\n",
    "\n",
    "Q585 = pd.DataFrame(discharge585)\n",
    "Q585.to_csv('discharge585_2085_2095.csv', index=False)\n",
    "\n",
    "r585 = pd.DataFrame(recharge585)\n",
    "r585.to_csv('recharge585_2085_2095.csv', index=False)"
   ]
  },
  {
   "cell_type": "code",
   "execution_count": null,
   "id": "65c871fa-edee-49f3-881c-9ae1d62c8039",
   "metadata": {},
   "outputs": [],
   "source": [
    "Q585 = pd.DataFrame(discharge245)\n",
    "Q585['Discharge'] = Q585.mean(axis=1) * 86400 * 1000 / (160000*10**6)\n",
    "Q585['Discharge'].plot(title='Discharge', ylabel='Discharge [mm/day]')"
   ]
  },
  {
   "cell_type": "code",
   "execution_count": null,
   "id": "3994c35d-87a9-4041-a839-0281eadef4ca",
   "metadata": {},
   "outputs": [],
   "source": [
    "approx585 = pd.DataFrame(timeseries585)\n",
    "approx585['Approximation Groundwater Recharge'] = approx585.mean(axis=1)*1000 - Q585['Discharge']\n",
    "approx585['Approximation Groundwater Recharge'].plot(title='Approximation Groundwater Recharge', ylabel = 'Recharge [mm/day]')"
   ]
  },
  {
   "cell_type": "code",
   "execution_count": null,
   "id": "6a60bc04-7caa-40b2-b5f1-64e99b557251",
   "metadata": {},
   "outputs": [],
   "source": [
    "recharge585 = pd.DataFrame(recharge585)\n",
    "recharge585['Groundwater Recharge'] = recharge126.mean(axis=1)*1000 \n",
    "recharge585['Groundwater Recharge'].plot(title='PCR-GlobWB Groundwater Recharge', ylabel = 'Recharge [mm/day]')"
   ]
  },
  {
   "cell_type": "code",
   "execution_count": null,
   "id": "0ac47703-d02a-4c8d-a594-1d4b2dba637c",
   "metadata": {},
   "outputs": [],
   "source": [
    "recharge126['Groundwater Recharge'].plot(title='PCR-GlobWB Groundwater Recharge (2085-2095)', ylabel = 'Recharge [mm/day]', label=\"SSP1-2.6\", color=\"green\")\n",
    "recharge245['Groundwater Recharge'].plot(title='PCR-GlobWB Groundwater Recharge (2085-2095)', ylabel = 'Recharge [mm/day]', label=\"SSP2-4.5\", color=\"darkblue\")\n",
    "recharge585['Groundwater Recharge'].plot(title='PCR-GlobWB Groundwater Recharge (2085-2095)', ylabel = 'Recharge [mm/day]', label=\"SSP5-8.5\", color=\"orange\")\n",
    "plt.legend();"
   ]
  },
  {
   "cell_type": "code",
   "execution_count": null,
   "id": "e446fc27-56fb-46d0-ac26-e4e3aaeb265d",
   "metadata": {},
   "outputs": [],
   "source": [
    "t_126 = recharge126.sum() \n",
    "t_245 = recharge245.sum() \n",
    "t_585 = recharge585.sum() \n",
    "\n",
    "categories = [\"SSP1-2.6\", \"SSP2-4.5\", \"SSP5-8.5\"]\n",
    "totals = [t_126, t_245, t_585]\n",
    "colors = [\"green\", \"darkblue\", \"orange\"]\n",
    "\n",
    "for i in range(len(totals)):\n",
    "    plt.bar(categories[i], totals[i], color=colors[i])\n",
    "\n",
    "plt.title(\"PCR-GlobWB Groundwater Recharge (2085-2095)\")\n",
    "plt.ylabel(\"Total Groundwater Recharge [mm]\")\n",
    "plt.grid()"
   ]
  },
  {
   "cell_type": "markdown",
   "id": "6f3a0e25-cc9f-4666-8e84-a37259a9770e",
   "metadata": {},
   "source": [
    "Comparing the approximation with the groundwater recharge that is simulated with PCR-GlobWB."
   ]
  },
  {
   "cell_type": "code",
   "execution_count": null,
   "id": "57ef65ed-520f-4f70-904d-98869ff9fa4e",
   "metadata": {},
   "outputs": [],
   "source": [
    "approx126['Approximation Groundwater Recharge'].plot(title='Approximation Groundwater Recharge (2085-2095)', ylabel = 'Recharge [mm/day]', label=\"SSP1-2.6\", color=\"green\")\n",
    "approx245['Approximation Groundwater Recharge'].plot(title='Approximation Groundwater Recharge (2085-2095)', ylabel = 'Recharge [mm/day]', label=\"SSP2-4.5\", color=\"darkblue\")\n",
    "approx585['Approximation Groundwater Recharge'].plot(title='Approximation Groundwater Recharge (2085-2095)', ylabel = 'Recharge [mm/day]', label=\"SSP5-8.5\", color=\"orange\")\n",
    "plt.legend()"
   ]
  },
  {
   "cell_type": "code",
   "execution_count": null,
   "id": "10ca47a4-cc34-4945-a81e-cc1621dc561f",
   "metadata": {},
   "outputs": [],
   "source": [
    "total_126 = approx126.sum() \n",
    "total_245 = approx245.sum() \n",
    "total_585 = approx585.sum() \n",
    "\n",
    "categories = [\"SSP1-2.6\", \"SSP2-4.5\", \"SSP5-8.5\"]\n",
    "totals = [total_126, total_245, total_585]\n",
    "colors = [\"green\", \"darkblue\", \"orange\"]\n",
    "\n",
    "for i in range(len(totals)):\n",
    "    plt.bar(categories[i], totals[i], color=colors[i])\n",
    "\n",
    "plt.title(\"Total Groundwater Recharge Approximation (2085-2095)\")\n",
    "plt.ylabel(\"Total Groundwater Recharge [mm]\")\n",
    "plt.grid()"
   ]
  },
  {
   "cell_type": "markdown",
   "id": "e0715da0-88a2-4d51-8fd1-1d2de40a9c9a",
   "metadata": {},
   "source": [
    "### Plotting the timeseries"
   ]
  },
  {
   "cell_type": "code",
   "execution_count": 20,
   "id": "14b7a686-644f-48d8-a957-8ca6415673af",
   "metadata": {},
   "outputs": [],
   "source": [
    "pcrglob126.finalize()\n",
    "#pcrglob245.finalize()\n",
    "#pcrglob585.finalize()"
   ]
  },
  {
   "cell_type": "code",
   "execution_count": null,
   "id": "b88d737e-7911-4bc4-ad57-7e6c4631e2a7",
   "metadata": {},
   "outputs": [],
   "source": []
  }
 ],
 "metadata": {
  "kernelspec": {
   "display_name": "Python 3 (ipykernel)",
   "language": "python",
   "name": "python3"
  },
  "language_info": {
   "codemirror_mode": {
    "name": "ipython",
    "version": 3
   },
   "file_extension": ".py",
   "mimetype": "text/x-python",
   "name": "python",
   "nbconvert_exporter": "python",
   "pygments_lexer": "ipython3",
   "version": "3.12.5"
  }
 },
 "nbformat": 4,
 "nbformat_minor": 5
}
