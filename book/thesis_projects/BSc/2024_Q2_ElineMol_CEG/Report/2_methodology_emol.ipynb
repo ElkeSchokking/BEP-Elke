{
 "cells": [
  {
   "cell_type": "markdown",
   "id": "560c1047-0b25-4d5d-96ab-0d969180759f",
   "metadata": {},
   "source": [
    "# The Impact of Climate Change on the Groundwater Recharge in the Sonoran Desert\n",
    "By Eline Mol"
   ]
  },
  {
   "cell_type": "markdown",
   "id": "58619540-4ec2-43f0-9f8d-0face55dcd31",
   "metadata": {},
   "source": [
    "## 2 Methodology\n",
    "\n",
    "This study will focus on the impact of climate change on the groundwater recharge in the Sonoran Desert. To assess the impact, the eWaterCycle platform will be used. In eWaterCycle, hydrological models are made FAIR (findable, accessible, interoperable and reproducible) by adding a Basic Model Interface (BMI). These models can be run through the open interface of eWaterCycle and run using Jupyter notebooks provided by the platform. The eWaterCycle platform currently supports the following hydrological models: PCR-GlobWB, wflow, Hype, LISFLOOD, MARRMoT and WALRUS. To predict the effects on the groundwater recharge, the PCR-GlobWB model will be used (Hut et al., 2022).  "
   ]
  },
  {
   "cell_type": "markdown",
   "id": "bd480fa8-414d-4e21-9ef9-c0fe9665d888",
   "metadata": {},
   "source": [
    "### 2.1 PCR-GlobWb\n",
    "\n",
    "The PCR-GlobWB model is a grid based, global hydrology and water resources model. PCR-GlobWB integrates water use of: sector-specific water demand, groundwater and surface water withdrawal, water consumption and return flows. This model can simulate soil moisture storage, water exchange between the soil, atmosphere and the underlying groundwater reservoir. All of these uses are determined at every time step and are connected to the simulated hydrology. In Figure 3 a simplified overview of a PCR-GlobWB cell can be found to give an impression of all the fluxes in a system. PCR-GlobWB simulates at a spatial resolution of 5 arc-minute, which is ~10x10 km at the equator (Sutanudjaja et al., 2018).\n",
    "\n",
    "Forcing for models such as PCR-GlobWB in eWaterCycle is accessible through ERA5 datasets (Hut et al., 2022). ERA5 provides detailed recorded data on the global atmosphere, the land surface and ocean waves from 1950 onwards (Hersbach et al., 2020). The ESMValTool in eWaterCycle is used to pre-process the ERA5 dataset, enabling its direct application in the hydrological model. In this research, precipitation and temperature serve as the input for forcing. Additionally, a parameter set including is required as model input, which includes the catchment area and the time period (Hut et al., 2022). Figure 4 presents a flow chart of the PCR-GlobWB model, with ERA5 and a parameter set as input."
   ]
  },
  {
   "cell_type": "markdown",
   "id": "f572dad4-fb1b-4e9a-bb25-09b4ebda0f54",
   "metadata": {},
   "source": [
    "### 2.2 Climate Projections\n",
    "\n",
    "To evaluate the potential impact of climate change, the Coupled Model Intercomparison Project Phase 6 (CMIP6) will be used for climate simulations. Three Shared Socioeconomic Pathways (SSPs) are selected for analysis: SSP1-2.6, SSP4-6.0 and SSP5-8.5. These pathways correspond to an optimistic scenario limiting the future warming to 2.0°C, a divided middle road limiting the warming to 4.1°C and the worst-case scenario which limits the future warming to 5.0°C, respectively (Hausfather, 2019). Appendix A explains the narratives of each of the selected SSPs. Figure 5 provides a flowchart of the PCR-GlobWB model with CMIP6 as forcing input."
   ]
  },
  {
   "cell_type": "markdown",
   "id": "f110523d-f7d7-4ccc-8e8f-73ff2f6a8f04",
   "metadata": {},
   "source": [
    "### 2.3 Groundwater Recharge Threshold\n",
    "\n",
    "To evaluate which climate scenario will have the greatest impact, a threshold for groundwater recharge must be defined. In arid regions on regional scale, the baseflow discharge of rivers is often indicative of the minimum groundwater recharge that is required to sustain streamflow (Schilling et al., 2021). If the groundwater recharge falls below the threshold, there will not be enough water to sustain the streamflow.  \n",
    "\n",
    "As mentioned in section 1.1, the Gila River spans a greater stretch within the Sonoran Desert compared to the Colorado River. The Colorado River extends to the Rocky Mountains and flows through multiple regions, which can be categorized into the Upper basin and the Lower basin. The discharge in the basins is influenced by several factors, including the amount of precipitation and milder temperatures (Salehabadi et al., 2020). Appendix B provides the mean temperature, mean precipitation and mean runoff of the two basins. Since many factors influencing the discharge of the Colorado river originate outside the Sonoran Desert, this research focuses on the Gila River.\n",
    "\n",
    "Near the city Yuma, the Gila River converges with the Colorado River. Just before this convergence, the Gila River’s baseflow is a determining factor for assessing the groundwater recharge threshold. Based on the graph provided in Figure 6 by the United States Geological Survey (USGS, n.d.), the baseflow at this point is measured at 0 m3/s. This could serve as the groundwater recharge threshold. However, a threshold of zero implies that no groundwater recharge would be required. To provide a more realistic assessment, the groundwater extraction by sectors such as agriculture will also be take into consideration.\n"
   ]
  },
  {
   "cell_type": "code",
   "execution_count": 4,
   "id": "a7b0d7cf-88d8-4325-9107-eb0e8f20bd23",
   "metadata": {},
   "outputs": [],
   "source": [
    "#Determining the groundwater recharge threshold\n",
    "P = 15                      #Precipitation in in/s\n",
    "ET = 8.83 * 10**6           #Evapotranspiration in m3/yr\n",
    "R = 0                       #Runoff \n",
    "extraction = 1.15 * 10**6   #Groundwater extraction by humans in AF/yr\n",
    "Q = 3.5                     #Mean discharge Gile River in ft3/s\n",
    "S = -0.39                   #Mean change in storage in m/year\n",
    "Area = 60000                #Area Gila River Watershed in mi2"
   ]
  },
  {
   "cell_type": "code",
   "execution_count": 43,
   "id": "14241a11-80e0-44af-bf0b-a2d60f758e34",
   "metadata": {},
   "outputs": [
    {
     "name": "stdout",
     "output_type": "stream",
     "text": [
      "Precipitation             P = 5.9e+10  [m^3/yr]\n",
      "Evapotranspiration       ET = 4.05e+08 [m^3/yr]\n",
      "Runoff                    R = 0.00e+00 [m^3/yr]\n",
      "Groundwater extraction      = 1.42e+09 [m^3/yr]\n",
      "Mean discharge Gila River Q = 3.1e+06  [m^3/yr]\n",
      "Change in storage         S = -2.5e+09 [m^3/yr]\n"
     ]
    }
   ],
   "source": [
    "#All factors to metric system\n",
    "in_to_m = 0.0254\n",
    "ft3_to_m3 = 0.0283168\n",
    "AF_to_m3 = 1233.48\n",
    "mi2_to_m2 = 2589988.11\n",
    "seconds_per_year = 365 * 24 * 60 * 60  \n",
    "Area = 60000 * mi2_to_m2                  #Area Gila River Watershed from mi2 to m2\n",
    "SC_to_GR = Area/(3391.4 * 10**6)          #Area Santa Cruz to Gila River watershed in m2\n",
    "\n",
    "P = 15 * in_to_m * Area                   #Precipitation from in/yr to m/yr\n",
    "ET = 8.83 * 10**6 * SC_to_GR              #Evapotranspiration in m3/yr\n",
    "R = 0                                     #Runoff \n",
    "extraction = 1.15 * 10**6 * AF_to_m3      #Groundwater extraction by humans from AF/yr to m3/yr\n",
    "Q = 3.5 * ft3_to_m3 * seconds_per_year    #Mean discharge Gile River from ft3/s to m3/yr\n",
    "S = -0.016256 * Area#-0.39 * Area                          #Mean change in storage in m/year\n",
    "\n",
    "print(f'Precipitation             P = {P:.1e}  [m^3/yr]')\n",
    "print(f'Evapotranspiration       ET = {ET:.2e} [m^3/yr]')\n",
    "print(f'Runoff                    R = {R:.2e} [m^3/yr]')\n",
    "print(f'Groundwater extraction      = {extraction:.2e} [m^3/yr]')\n",
    "print(f'Mean discharge Gila River Q = {Q:.1e}  [m^3/yr]')\n",
    "print(f'Change in storage         S = {S:.1e} [m^3/yr]')"
   ]
  },
  {
   "cell_type": "code",
   "execution_count": 44,
   "id": "1ff92d00-d148-44ae-b738-90be7d3ebac3",
   "metadata": {},
   "outputs": [
    {
     "name": "stdout",
     "output_type": "stream",
     "text": [
      "Groundwater recharge threshold = 0.353 [m/yr] which is 0.000967 [m/day]\n",
      "Groundwater recharge threshold = 3.742 [m3/yr] which is 0.010245 [m3/day]\n"
     ]
    }
   ],
   "source": [
    "#Groundwater recharge\n",
    "recharge = S + Q + P + R - ET - extraction\n",
    "print(f'Groundwater recharge threshold = {recharge/Area:.3f} [m/yr] which is {recharge/Area/365.25:.6f} [m/day]')\n",
    "print(f'Groundwater recharge threshold = {recharge/Area *20*0.53:.3f} [m3/yr] which is {recharge/Area/365.25 * 20*0.53:.6f} [m3/day]')"
   ]
  },
  {
   "cell_type": "code",
   "execution_count": 22,
   "id": "cbb49dc2-7a61-4e1a-976e-6b60b4e3eacc",
   "metadata": {},
   "outputs": [
    {
     "name": "stdout",
     "output_type": "stream",
     "text": [
      "-0.64\n",
      "-0.016256\n"
     ]
    }
   ],
   "source": [
    "#Change in groundwater storage\n",
    "#basin = [y, w, d, h, w]\n",
    "import numpy as np\n",
    "change = [-0.7, -0.2, -2, -0.1, -0.2]\n",
    "print(np.mean(change))\n",
    "meter = []\n",
    "for i in range(len(change)):\n",
    "    meter.append(change[i]*0.0254)\n",
    "\n",
    "print(np.mean(meter))"
   ]
  },
  {
   "cell_type": "code",
   "execution_count": 18,
   "id": "2d4d21c8-8027-4e0f-a667-3a3c91ae835b",
   "metadata": {},
   "outputs": [
    {
     "name": "stdout",
     "output_type": "stream",
     "text": [
      "155399286600.0\n",
      "Precipitation             P = 5.9e+10  [m^3/yr]\n",
      "Evapotranspiration       ET = 4.05e+08 [m^3/yr]\n",
      "Runoff                    R = 0.00e+00 [m^3/yr]\n",
      "Groundwater extraction      = 1.01e+11 [m^3/yr]\n",
      "Mean discharge Gila River Q = 0.0e+00  [m^3/yr]\n",
      "Change in storage         S = -2.5e+09 [m^3/yr]\n"
     ]
    }
   ],
   "source": [
    "#All factors to metric system\n",
    "in_to_m = 0.0254\n",
    "ft3_to_m3 = 0.0283168\n",
    "AF_to_m3 = 1233.48\n",
    "mi2_to_m2 = 2589988.11\n",
    "seconds_per_year = 365 * 24 * 60 * 60  \n",
    "Area = 60000 * mi2_to_m2                  #Area Gila River Watershed from mi2 to m2\n",
    "SC_to_GR = Area/(3391.4 * 10**6)          #Area Santa Cruz to Gila River watershed in m2\n",
    "\n",
    "P = 15 * in_to_m * Area                   #Precipitation from in/yr to m/yr\n",
    "ET = 8.83 * 10**6 * SC_to_GR              #Evapotranspiration in m3/yr\n",
    "R = 0                                     #Runoff \n",
    "extraction = (1.15 * 10**6 * AF_to_m3 *Area) / (2.19117446*10**9)      #Groundwater extraction by humans from AF/yr to m3/yr\n",
    "Q = 0#3.5 * ft3_to_m3 * seconds_per_year    #Mean discharge Gile River from ft3/s to m3/yr\n",
    "S = -0.016256 * Area#-0.39 * Area                          #Mean change in storage in m/year\n",
    "print(Area)\n",
    "print(f'Precipitation             P = {P:.1e}  [m^3/yr]')\n",
    "print(f'Evapotranspiration       ET = {ET:.2e} [m^3/yr]')\n",
    "print(f'Runoff                    R = {R:.2e} [m^3/yr]')\n",
    "print(f'Groundwater extraction      = {extraction:.2e} [m^3/yr]')\n",
    "print(f'Mean discharge Gila River Q = {Q:.1e}  [m^3/yr]')\n",
    "print(f'Change in storage         S = {S:.1e} [m^3/yr]')"
   ]
  },
  {
   "cell_type": "code",
   "execution_count": 13,
   "id": "fc3fc2ae-9b98-4a7a-af7d-a009a4c99bb0",
   "metadata": {},
   "outputs": [
    {
     "name": "stdout",
     "output_type": "stream",
     "text": [
      "Groundwater recharge threshold = -0.285 [m/yr] which is -0.780918 [mm/day]\n",
      "Groundwater recharge threshold = -3.023 [m3/yr] which is -0.008278 [m3/day]\n"
     ]
    }
   ],
   "source": [
    "recharge = S + Q + P + R - ET - extraction\n",
    "print(f'Groundwater recharge threshold = {recharge/Area:.3f} [m/yr] which is {recharge/Area/365.25*1000:.6f} [mm/day]')\n",
    "print(f'Groundwater recharge threshold = {recharge/Area *20*0.53:.3f} [m3/yr] which is {recharge/Area/365.25 * 20*0.53:.6f} [m3/day]')"
   ]
  },
  {
   "cell_type": "code",
   "execution_count": null,
   "id": "6d2954c0-0f37-41b5-916c-256921fd6a9b",
   "metadata": {},
   "outputs": [],
   "source": []
  }
 ],
 "metadata": {
  "kernelspec": {
   "display_name": "Python 3 (ipykernel)",
   "language": "python",
   "name": "python3"
  },
  "language_info": {
   "codemirror_mode": {
    "name": "ipython",
    "version": 3
   },
   "file_extension": ".py",
   "mimetype": "text/x-python",
   "name": "python",
   "nbconvert_exporter": "python",
   "pygments_lexer": "ipython3",
   "version": "3.12.5"
  }
 },
 "nbformat": 4,
 "nbformat_minor": 5
}
