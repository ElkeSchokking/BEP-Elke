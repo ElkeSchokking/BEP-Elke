{
 "cells": [
  {
   "cell_type": "markdown",
   "id": "560c1047-0b25-4d5d-96ab-0d969180759f",
   "metadata": {},
   "source": [
    "# The Impact of Climate Change on the Groundwater Recharge in the Sonoran Desert\n",
    "By Eline Mol"
   ]
  },
  {
   "cell_type": "markdown",
   "id": "58619540-4ec2-43f0-9f8d-0face55dcd31",
   "metadata": {},
   "source": [
    "## 2 Methodology\n",
    "\n",
    "This study will focus on the impact of climate change on the groundwater recharge in the Sonoran Desert. To assess the impact, the eWaterCycle platform will be used. In eWaterCycle, hydrological models are made FAIR (findable, accessible, interoperable and reproducible) by adding a Basic Model Interface (BMI). These models can be run through the open interface of eWaterCycle and run using Jupyter notebooks provided by the platform. The eWaterCycle platform currently supports the following hydrological models: PCR-GlobWB, wflow, Hype, LISFLOOD, MARRMoT and WALRUS. To predict the effects on the groundwater recharge, the PCR-GlobWB model will be used (Hut et al., 2022).  "
   ]
  },
  {
   "cell_type": "markdown",
   "id": "bd480fa8-414d-4e21-9ef9-c0fe9665d888",
   "metadata": {},
   "source": [
    "### 2.1 PCR-GlobWb\n",
    "\n",
    "The PCR-GlobWB model is a grid based, global hydrology and water resources model. PCR-GlobWB integrates water use of: sector-specific water demand, groundwater and surface water withdrawal, water consumption and return flows. This model can simulate soil moisture storage, water exchange between the soil, atmosphere and the underlying groundwater reservoir. All of these uses are determined at every time step and are connected to the simulated hydrology. In Figure 3 a simplified overview of a PCR-GlobWB cell can be found to give an impression of all the fluxes in a system. PCR-GlobWB simulates at a spatial resolution of 5 arc-minute, which is ~10x10 km at the equator (Sutanudjaja et al., 2018).\n",
    "\n",
    "Forcing for models such as PCR-GlobWB in eWaterCycle is accessible through ERA5 datasets (Hut et al., 2022). ERA5 provides detailed recorded data on the global atmosphere, the land surface and ocean waves from 1950 onwards (Hersbach et al., 2020). The ESMValTool in eWaterCycle is used to pre-process the ERA5 dataset, enabling its direct application in the hydrological model. In this research, precipitation and temperature serve as the input for forcing. Additionally, a parameter set including is required as model input, which includes the catchment area and the time period (Hut et al., 2022). Figure 4 presents a flow chart of the PCR-GlobWB model, with ERA5 and a parameter set as input."
   ]
  },
  {
   "cell_type": "markdown",
   "id": "f572dad4-fb1b-4e9a-bb25-09b4ebda0f54",
   "metadata": {},
   "source": [
    "### 2.2 Climate Projections\n",
    "\n",
    "To evaluate the potential impact of climate change, the Coupled Model Intercomparison Project Phase 6 (CMIP6) will be used for climate simulations. Three Shared Socioeconomic Pathways (SSPs) are selected for analysis: SSP1-2.6, SSP4-6.0 and SSP5-8.5. These pathways correspond to an optimistic scenario limiting the future warming to 2.0°C, a divided middle road limiting the warming to 4.1°C and the worst-case scenario which limits the future warming to 5.0°C, respectively (Hausfather, 2019). Appendix A explains the narratives of each of the selected SSPs. Figure 5 provides a flowchart of the PCR-GlobWB model with CMIP6 as forcing input."
   ]
  },
  {
   "cell_type": "markdown",
   "id": "f110523d-f7d7-4ccc-8e8f-73ff2f6a8f04",
   "metadata": {},
   "source": [
    "### 2.3 Groundwater Recharge Threshold\n",
    "\n",
    "To evaluate which climate scenario will have the greatest impact, a threshold for groundwater recharge must be defined. In arid regions on regional scale, the baseflow discharge of rivers is often indicative of the minimum groundwater recharge that is required to sustain streamflow (Schilling et al., 2021). If the groundwater recharge falls below the threshold, there will not be enough water to sustain the streamflow.  \n",
    "\n",
    "As mentioned in section 1.1, the Gila River spans a greater stretch within the Sonoran Desert compared to the Colorado River. The Colorado River extends to the Rocky Mountains and flows through multiple regions, which can be categorized into the Upper basin and the Lower basin. The discharge in the basins is influenced by several factors, including the amount of precipitation and milder temperatures (Salehabadi et al., 2020). Appendix B provides the mean temperature, mean precipitation and mean runoff of the two basins. Since many factors influencing the discharge of the Colorado river originate outside the Sonoran Desert, this research focuses on the Gila River.\n",
    "\n",
    "Near the city Yuma, the Gila River converges with the Colorado River. Just before this convergence, the Gila River’s baseflow is a determining factor for assessing the groundwater recharge threshold. Based on the graph provided in Figure 6 by the United States Geological Survey (USGS, n.d.), the baseflow at this point is measured at 0 m3/s. This could serve as the groundwater recharge threshold. However, a threshold of zero implies that no groundwater recharge would be required. To provide a more realistic assessment, the groundwater extraction by sectors such as agriculture will also be take into consideration.\n"
   ]
  },
  {
   "cell_type": "code",
   "execution_count": null,
   "id": "a7b0d7cf-88d8-4325-9107-eb0e8f20bd23",
   "metadata": {},
   "outputs": [],
   "source": []
  }
 ],
 "metadata": {
  "kernelspec": {
   "display_name": "Python 3 (ipykernel)",
   "language": "python",
   "name": "python3"
  },
  "language_info": {
   "codemirror_mode": {
    "name": "ipython",
    "version": 3
   },
   "file_extension": ".py",
   "mimetype": "text/x-python",
   "name": "python",
   "nbconvert_exporter": "python",
   "pygments_lexer": "ipython3",
   "version": "3.12.5"
  }
 },
 "nbformat": 4,
 "nbformat_minor": 5
}
