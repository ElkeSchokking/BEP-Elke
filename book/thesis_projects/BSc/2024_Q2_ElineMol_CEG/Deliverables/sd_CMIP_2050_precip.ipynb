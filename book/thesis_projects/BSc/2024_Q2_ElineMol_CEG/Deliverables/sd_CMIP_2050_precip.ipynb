{
 "cells": [
  {
   "cell_type": "markdown",
   "id": "d4d13fc0-6d2f-453f-b045-39555dc93f4f",
   "metadata": {},
   "source": [
    "# Sonoran Desert: CMIP6 projections\n",
    "#### Precipitation in 2050\n",
    "Precipitation in 2025, 2050, 2075 and 2100 for the climate scenarios SSP1-2.6, SSP2-4.5 and SSP5-8.5. The camel that is used for this notebook is: hysets_09488650"
   ]
  },
  {
   "cell_type": "code",
   "execution_count": 22,
   "id": "ddba7aa6-2113-4e4d-b642-5aed6107211a",
   "metadata": {},
   "outputs": [],
   "source": [
    "import warnings\n",
    "warnings.filterwarnings(\"ignore\", category=UserWarning)\n",
    "\n",
    "import matplotlib.pyplot as plt\n",
    "from cartopy import crs\n",
    "from cartopy import feature as cfeature\n",
    "import fiona\n",
    "import shapely.geometry\n",
    "from pyproj import Geod\n",
    "from rich import print\n",
    "import pandas as pd\n",
    "import xarray as xr\n",
    "\n",
    "import ewatercycle.forcing\n",
    "import ewatercycle.models\n",
    "import ewatercycle.parameter_sets"
   ]
  },
  {
   "cell_type": "markdown",
   "id": "a3fd9deb-bdbe-469f-b5d2-57f0236ba4a3",
   "metadata": {},
   "source": [
    "### Setting up the model: SSP1-2.6\n",
    "Location of the groundwater recharge: Gila river near Yuma."
   ]
  },
  {
   "cell_type": "code",
   "execution_count": 2,
   "id": "3036b0d0-1f6e-4502-8638-3a63e5756b94",
   "metadata": {},
   "outputs": [],
   "source": [
    "station_latitude = 32.71555556\n",
    "station_longitude = -114.533386"
   ]
  },
  {
   "cell_type": "markdown",
   "id": "301ecb08-2f39-4e80-ac25-2d74d30376f7",
   "metadata": {},
   "source": [
    "Loading the parameter set and forcing set. Setting up the PCR-GlobWB model. "
   ]
  },
  {
   "cell_type": "code",
   "execution_count": 3,
   "id": "9e3e0cc8-8e50-4066-86cc-55628f64da46",
   "metadata": {},
   "outputs": [],
   "source": [
    "parameter_set = ewatercycle.parameter_sets.ParameterSet(\n",
    "    name=\"custom_parameter_set\",\n",
    "    directory= \"/data/shared/parameter-sets/pcrglobwb_global\",\n",
    "    config=\"./pcrglobwb_sonoran_ERA5_05min.ini\",\n",
    "    target_model=\"pcrglobwb\",\n",
    "    supported_model_versions={\"setters\"},\n",
    ")\n",
    "#print(parameter_set)"
   ]
  },
  {
   "cell_type": "code",
   "execution_count": 4,
   "id": "706d3bba-db77-46f2-bff2-090dcb00019d",
   "metadata": {},
   "outputs": [],
   "source": [
    "forcing126 = ewatercycle.forcing.sources[\"PCRGlobWBForcing\"].load(\n",
    "    directory=\"/home/emol/forcing/sonoran_desert_CMIP_SSP126/work/diagnostic/script\",\n",
    ")\n",
    "#print(forcing)"
   ]
  },
  {
   "cell_type": "code",
   "execution_count": 5,
   "id": "13cd01f4-0e0e-4dd4-836b-1a5f9eccc6b5",
   "metadata": {},
   "outputs": [],
   "source": [
    "pcrglob126 = ewatercycle.models.PCRGlobWB(\n",
    "    parameter_set=parameter_set,\n",
    "    forcing=forcing126\n",
    ")\n",
    "#print(pcrglob)"
   ]
  },
  {
   "cell_type": "markdown",
   "id": "ba4d3e92-38a1-4316-82e5-4a2f0311425c",
   "metadata": {},
   "source": [
    "Starting and initializing the model"
   ]
  },
  {
   "cell_type": "code",
   "execution_count": 6,
   "id": "6cfa8860-2782-47d1-af1c-aeeafef73561",
   "metadata": {},
   "outputs": [
    {
     "data": {
      "text/plain": [
       "('/home/emol/repos/projects/book/thesis_projects/BSc/2024_Q2_ElineMol_CEG/Deliverables/pcrglobwb_20250107_191718/pcrglobwb_ewatercycle.ini',\n",
       " '/home/emol/repos/projects/book/thesis_projects/BSc/2024_Q2_ElineMol_CEG/Deliverables/pcrglobwb_20250107_191718')"
      ]
     },
     "execution_count": 6,
     "metadata": {},
     "output_type": "execute_result"
    }
   ],
   "source": [
    "#start_time = \"2025-01-01T00:00:00Z\"\n",
    "#end_time = \"2025-12-31T00:00:00Z\"\n",
    "\n",
    "cfg_file126, cfg_dir126 = pcrglob126.setup(\n",
    "    end_time=\"2050-12-31T00:00:00Z\",\n",
    "    max_spinups_in_years=0\n",
    ")\n",
    "cfg_file126, cfg_dir126"
   ]
  },
  {
   "cell_type": "code",
   "execution_count": 7,
   "id": "fcf19a7a-59e3-41af-9290-990379cbff6d",
   "metadata": {},
   "outputs": [],
   "source": [
    "pcrglob126.initialize(cfg_file126)"
   ]
  },
  {
   "cell_type": "code",
   "execution_count": 8,
   "id": "6f9d70d7-9673-4dfd-bd06-b6f20608a5e8",
   "metadata": {},
   "outputs": [],
   "source": [
    "time126 = pd.date_range(pcrglob126.start_time_as_isostr, pcrglob126.end_time_as_isostr)\n",
    "timeseries126 = pd.DataFrame(\n",
    "    index=pd.Index(time126, name=\"time\"), columns=[\"PCRGlobWB: Sonoran Desert\"]\n",
    ")"
   ]
  },
  {
   "cell_type": "code",
   "execution_count": 9,
   "id": "30c0a13d-3c93-434f-8ff6-aedaf80f3dee",
   "metadata": {},
   "outputs": [],
   "source": [
    "while pcrglob126.time < pcrglob126.end_time:\n",
    "    pcrglob126.update()\n",
    "\n",
    "    # Track discharge at station location\n",
    "    discharge_at_station126 = pcrglob126.get_value_at_coords(\n",
    "        \"precipitation\", lat=[station_latitude], lon=[station_longitude]\n",
    "    )\n",
    "    time126 = pcrglob126.time_as_isostr\n",
    "    timeseries126[\"PCRGlobWB: Sonoran Desert\"][time126] = discharge_at_station126[0]\n",
    "\n",
    "    # Show progress\n",
    "    #print(time126,end='\\r')  # \"\\r\" clears the output before printing the next timestamp\n"
   ]
  },
  {
   "cell_type": "markdown",
   "id": "b247d9a7-00d8-4d1b-8b2a-62a3f61ccde7",
   "metadata": {},
   "source": [
    "Now the model can be used. A map is made to show the location of the ... for SSP1-2.6."
   ]
  },
  {
   "cell_type": "code",
   "execution_count": null,
   "id": "e32dc1d3-b768-4dd3-8919-67af82b627bd",
   "metadata": {},
   "outputs": [],
   "source": [
    "da126 = pcrglob126.get_value_as_xarray(\"precipitation\")"
   ]
  },
  {
   "cell_type": "code",
   "execution_count": null,
   "id": "916657b4-b345-42fe-9ac5-3762ac86c595",
   "metadata": {},
   "outputs": [],
   "source": [
    "fig126 = plt.figure(dpi=120)\n",
    "ax126 = fig126.add_subplot(111, projection=crs.PlateCarree())\n",
    "da126.plot(ax=ax126, cmap=\"GnBu\")\n",
    "\n",
    "# Overlay ocean and coastines\n",
    "ax126.add_feature(cfeature.OCEAN)\n",
    "ax126.add_feature(cfeature.RIVERS, color=\"k\")\n",
    "ax126.coastlines()\n",
    "\n",
    "# Add a red cross marker at specified location near the Gila River\n",
    "ax126.scatter(station_longitude, station_latitude, s=250, c=\"r\", marker=\"x\", lw=2)\n",
    "ax126.set_title(\"Sonoran Desert SSP1-2.6\", fontsize=12);"
   ]
  },
  {
   "cell_type": "code",
   "execution_count": null,
   "id": "887871e5-f3dd-4063-a983-0cd3e458f8fa",
   "metadata": {},
   "outputs": [],
   "source": [
    "plt.plot(timeseries126*1000, label=\"SSP1-2.6\", color=\"darkblue\")\n",
    "plt.title(\"Precipitation (2025)\")\n",
    "plt.ylabel(\"Precipitation [mm/day]\")\n",
    "plt.xlabel(\"Time\")\n",
    "plt.xticks(rotation=30, ha='right')\n",
    "plt.legend();"
   ]
  },
  {
   "cell_type": "markdown",
   "id": "e34fe514-d9df-4b9d-9b7a-71ea07382107",
   "metadata": {},
   "source": [
    "### Now for SSP4-6.0\n",
    "First, set up the forcing that will be used in the model."
   ]
  },
  {
   "cell_type": "code",
   "execution_count": 10,
   "id": "3677eeee-25f6-4630-ad0e-b5691ad0e050",
   "metadata": {},
   "outputs": [],
   "source": [
    "parameter_set = ewatercycle.parameter_sets.ParameterSet(\n",
    "    name=\"custom_parameter_set\",\n",
    "    directory= \"/data/shared/parameter-sets/pcrglobwb_global\",\n",
    "    config=\"./pcrglobwb_sonoran_ERA5_05min.ini\",\n",
    "    target_model=\"pcrglobwb\",\n",
    "    supported_model_versions={\"setters\"},\n",
    ")"
   ]
  },
  {
   "cell_type": "code",
   "execution_count": 11,
   "id": "bac804af-28e9-46e7-8e3e-0254009ebf11",
   "metadata": {},
   "outputs": [],
   "source": [
    "forcing245 = ewatercycle.forcing.sources[\"PCRGlobWBForcing\"].load(\n",
    "    directory=\"/home/emol/forcing/sonoran_desert_CMIP_SSP245/work/diagnostic/script\",\n",
    ")"
   ]
  },
  {
   "cell_type": "code",
   "execution_count": 12,
   "id": "72866c75-a7e3-4028-8adc-43075591833d",
   "metadata": {},
   "outputs": [],
   "source": [
    "pcrglob245 = ewatercycle.models.PCRGlobWB(\n",
    "    parameter_set=parameter_set,\n",
    "    forcing=forcing245\n",
    ")"
   ]
  },
  {
   "cell_type": "code",
   "execution_count": 13,
   "id": "11d50b22-cf60-44cb-92f8-dec10807cd6b",
   "metadata": {},
   "outputs": [
    {
     "data": {
      "text/plain": [
       "('/home/emol/repos/projects/book/thesis_projects/BSc/2024_Q2_ElineMol_CEG/Deliverables/pcrglobwb_20250107_194754/pcrglobwb_ewatercycle.ini',\n",
       " '/home/emol/repos/projects/book/thesis_projects/BSc/2024_Q2_ElineMol_CEG/Deliverables/pcrglobwb_20250107_194754')"
      ]
     },
     "execution_count": 13,
     "metadata": {},
     "output_type": "execute_result"
    }
   ],
   "source": [
    "#start_time = \"2025-01-01T00:00:00Z\"\n",
    "#end_time = \"2025-12-31T00:00:00Z\"\n",
    "\n",
    "cfg_file245, cfg_dir245 = pcrglob245.setup(\n",
    "    end_time=\"2050-12-31T00:00:00Z\",\n",
    "    max_spinups_in_years=0\n",
    ")\n",
    "cfg_file245, cfg_dir245"
   ]
  },
  {
   "cell_type": "code",
   "execution_count": 14,
   "id": "e53b1244-ca3f-4824-b227-f900343b3871",
   "metadata": {},
   "outputs": [],
   "source": [
    "pcrglob245.initialize(cfg_file245)"
   ]
  },
  {
   "cell_type": "code",
   "execution_count": 15,
   "id": "509ea6fd-30d0-49d7-ab08-7bbd5f8c27ab",
   "metadata": {},
   "outputs": [],
   "source": [
    "time245 = pd.date_range(pcrglob245.start_time_as_isostr, pcrglob245.end_time_as_isostr)\n",
    "timeseries245 = pd.DataFrame(\n",
    "    index=pd.Index(time245, name=\"time\"), columns=[\"PCRGlobWB: Sonoran Desert\"]\n",
    ")"
   ]
  },
  {
   "cell_type": "code",
   "execution_count": 16,
   "id": "ff5ac20b-2a79-4de3-80ec-8b1f1ff92ef0",
   "metadata": {},
   "outputs": [],
   "source": [
    "while pcrglob245.time < pcrglob245.end_time:\n",
    "    pcrglob245.update()\n",
    "\n",
    "    # Track discharge at station location\n",
    "    discharge_at_station245 = pcrglob245.get_value_at_coords(\n",
    "        \"precipitation\", lat=[station_latitude], lon=[station_longitude]\n",
    "    )\n",
    "    time245 = pcrglob245.time_as_isostr\n",
    "    timeseries245[\"PCRGlobWB: Sonoran Desert\"][time245] = discharge_at_station245[0]\n",
    "\n",
    "    # Show progress\n",
    "    #print(time245,end='\\r')  # \"\\r\" clears the output before printing the next timestamp\n"
   ]
  },
  {
   "cell_type": "markdown",
   "id": "37974d63-7177-4681-ac2d-4618b6aae493",
   "metadata": {},
   "source": [
    "Now the model can be used. A map is made to show the location of the ... for SSP4-6.0."
   ]
  },
  {
   "cell_type": "code",
   "execution_count": null,
   "id": "91e9030b-b052-4d90-864c-091217f78292",
   "metadata": {},
   "outputs": [],
   "source": [
    "da245 = pcrglob245.get_value_as_xarray(\"precipitation\")"
   ]
  },
  {
   "cell_type": "code",
   "execution_count": null,
   "id": "dd6408f5-0344-4f53-9c15-be1f7b7dcb67",
   "metadata": {},
   "outputs": [],
   "source": [
    "fig245 = plt.figure(dpi=120)\n",
    "ax245 = fig245.add_subplot(111, projection=crs.PlateCarree())\n",
    "da245.plot(ax=ax245, cmap=\"GnBu\")\n",
    "\n",
    "# Overlay ocean and coastines\n",
    "ax245.add_feature(cfeature.OCEAN)\n",
    "ax245.add_feature(cfeature.RIVERS, color=\"k\")\n",
    "ax245.coastlines()\n",
    "\n",
    "# Add a red cross marker at specified location near the Gila River\n",
    "ax245.scatter(station_longitude, station_latitude, s=250, c=\"r\", marker=\"x\", lw=2)\n",
    "ax245.set_title(\"Sonoran Desert SSP2-4.5\", fontsize=12);"
   ]
  },
  {
   "cell_type": "code",
   "execution_count": null,
   "id": "297fc1fc-cc9c-4b0b-ba7d-e42ed1a156e9",
   "metadata": {},
   "outputs": [],
   "source": [
    "plt.plot(timeseries245*1000, label=\"SSP2-4.5\", color=\"darkblue\")\n",
    "plt.title(\"Precipitation (2025)\")\n",
    "plt.ylabel(\"Precipitation [mm/day]\")\n",
    "plt.xlabel(\"Time\")\n",
    "plt.xticks(rotation=30, ha='right')\n",
    "pl;"
   ]
  },
  {
   "cell_type": "markdown",
   "id": "febb76b8-1990-494e-aa87-ab8bb72a14e0",
   "metadata": {},
   "source": [
    "### Now for SSP5-8.5\n",
    "First, set up the forcing."
   ]
  },
  {
   "cell_type": "code",
   "execution_count": 23,
   "id": "3662294b-edb4-43a0-b843-34662415a949",
   "metadata": {},
   "outputs": [],
   "source": [
    "parameter_set = ewatercycle.parameter_sets.ParameterSet(\n",
    "    name=\"custom_parameter_set\",\n",
    "    directory= \"/data/shared/parameter-sets/pcrglobwb_global\",\n",
    "    config=\"./pcrglobwb_sonoran_ERA5_05min.ini\",\n",
    "    target_model=\"pcrglobwb\",\n",
    "    supported_model_versions={\"setters\"},\n",
    ")\n",
    "#print(parameter_set)"
   ]
  },
  {
   "cell_type": "code",
   "execution_count": 24,
   "id": "6f60a5f7-0fbc-489a-80d5-6da781029b3a",
   "metadata": {},
   "outputs": [],
   "source": [
    "forcing585 = ewatercycle.forcing.sources[\"PCRGlobWBForcing\"].load(\n",
    "    directory=\"/home/emol/forcing/sonoran_desert_CMIP_SSP585/work/diagnostic/script\",\n",
    ")\n",
    "#print(forcing)"
   ]
  },
  {
   "cell_type": "code",
   "execution_count": 25,
   "id": "a2b305b0-26d0-4a85-8cc1-d46c0897d3bc",
   "metadata": {},
   "outputs": [],
   "source": [
    "pcrglob585 = ewatercycle.models.PCRGlobWB(\n",
    "    parameter_set=parameter_set,\n",
    "    forcing=forcing585\n",
    ")"
   ]
  },
  {
   "cell_type": "code",
   "execution_count": 26,
   "id": "13f65ae0-7964-43fe-afe4-ef82d170343f",
   "metadata": {},
   "outputs": [
    {
     "ename": "OSError",
     "evalue": "[Errno 107] Transport endpoint is not connected: '/data/shared/singularity-images/ewatercycle-pcrg-grpc4bmi_setters.sif'",
     "output_type": "error",
     "traceback": [
      "\u001b[0;31m---------------------------------------------------------------------------\u001b[0m",
      "\u001b[0;31mOSError\u001b[0m                                   Traceback (most recent call last)",
      "Cell \u001b[0;32mIn[26], line 4\u001b[0m\n\u001b[1;32m      1\u001b[0m \u001b[38;5;66;03m#start_time = \"2025-01-01T00:00:00Z\"\u001b[39;00m\n\u001b[1;32m      2\u001b[0m \u001b[38;5;66;03m#end_time = \"2025-12-31T00:00:00Z\"\u001b[39;00m\n\u001b[0;32m----> 4\u001b[0m cfg_file585, cfg_dir585 \u001b[38;5;241m=\u001b[39m \u001b[43mpcrglob585\u001b[49m\u001b[38;5;241;43m.\u001b[39;49m\u001b[43msetup\u001b[49m\u001b[43m(\u001b[49m\n\u001b[1;32m      5\u001b[0m \u001b[43m    \u001b[49m\u001b[43mend_time\u001b[49m\u001b[38;5;241;43m=\u001b[39;49m\u001b[38;5;124;43m\"\u001b[39;49m\u001b[38;5;124;43m2050-12-31T00:00:00Z\u001b[39;49m\u001b[38;5;124;43m\"\u001b[39;49m\u001b[43m,\u001b[49m\n\u001b[1;32m      6\u001b[0m \u001b[43m    \u001b[49m\u001b[43mmax_spinups_in_years\u001b[49m\u001b[38;5;241;43m=\u001b[39;49m\u001b[38;5;241;43m0\u001b[39;49m\n\u001b[1;32m      7\u001b[0m \u001b[43m)\u001b[49m\n\u001b[1;32m      8\u001b[0m cfg_file585, cfg_dir585\n",
      "File \u001b[0;32m/opt/conda/envs/ewatercycle2/lib/python3.12/site-packages/ewatercycle/base/model.py:121\u001b[0m, in \u001b[0;36meWaterCycleModel.setup\u001b[0;34m(self, cfg_dir, **kwargs)\u001b[0m\n\u001b[1;32m    119\u001b[0m \u001b[38;5;28mself\u001b[39m\u001b[38;5;241m.\u001b[39m_cfg_dir: Path \u001b[38;5;241m=\u001b[39m \u001b[38;5;28mself\u001b[39m\u001b[38;5;241m.\u001b[39m_make_cfg_dir(cfg_dir)\n\u001b[1;32m    120\u001b[0m \u001b[38;5;28mself\u001b[39m\u001b[38;5;241m.\u001b[39m_cfg_file: Path \u001b[38;5;241m=\u001b[39m \u001b[38;5;28mself\u001b[39m\u001b[38;5;241m.\u001b[39m_make_cfg_file(\u001b[38;5;241m*\u001b[39m\u001b[38;5;241m*\u001b[39mkwargs)\n\u001b[0;32m--> 121\u001b[0m \u001b[38;5;28mself\u001b[39m\u001b[38;5;241m.\u001b[39m_bmi \u001b[38;5;241m=\u001b[39m \u001b[38;5;28;43mself\u001b[39;49m\u001b[38;5;241;43m.\u001b[39;49m\u001b[43m_make_bmi_instance\u001b[49m\u001b[43m(\u001b[49m\u001b[43m)\u001b[49m\n\u001b[1;32m    123\u001b[0m \u001b[38;5;28;01mreturn\u001b[39;00m \u001b[38;5;28mstr\u001b[39m(\u001b[38;5;28mself\u001b[39m\u001b[38;5;241m.\u001b[39m_cfg_file), \u001b[38;5;28mstr\u001b[39m(\u001b[38;5;28mself\u001b[39m\u001b[38;5;241m.\u001b[39m_cfg_dir)\n",
      "File \u001b[0;32m/opt/conda/envs/ewatercycle2/lib/python3.12/site-packages/ewatercycle_pcrglobwb/model.py:123\u001b[0m, in \u001b[0;36mPCRGlobWB._make_bmi_instance\u001b[0;34m(self)\u001b[0m\n\u001b[1;32m    120\u001b[0m \u001b[38;5;28;01mif\u001b[39;00m \u001b[38;5;28mself\u001b[39m\u001b[38;5;241m.\u001b[39mforcing:\n\u001b[1;32m    121\u001b[0m     \u001b[38;5;28mself\u001b[39m\u001b[38;5;241m.\u001b[39m_additional_input_dirs\u001b[38;5;241m.\u001b[39mappend(\u001b[38;5;28mstr\u001b[39m(\u001b[38;5;28mself\u001b[39m\u001b[38;5;241m.\u001b[39mforcing\u001b[38;5;241m.\u001b[39mdirectory))\n\u001b[0;32m--> 123\u001b[0m \u001b[38;5;28;01mreturn\u001b[39;00m \u001b[43mstart_container\u001b[49m\u001b[43m(\u001b[49m\n\u001b[1;32m    124\u001b[0m \u001b[43m    \u001b[49m\u001b[43mimage\u001b[49m\u001b[38;5;241;43m=\u001b[39;49m\u001b[38;5;28;43mself\u001b[39;49m\u001b[38;5;241;43m.\u001b[39;49m\u001b[43mbmi_image\u001b[49m\u001b[43m,\u001b[49m\n\u001b[1;32m    125\u001b[0m \u001b[43m    \u001b[49m\u001b[43mwork_dir\u001b[49m\u001b[38;5;241;43m=\u001b[39;49m\u001b[38;5;28;43mself\u001b[39;49m\u001b[38;5;241;43m.\u001b[39;49m\u001b[43m_cfg_dir\u001b[49m\u001b[43m,\u001b[49m\n\u001b[1;32m    126\u001b[0m \u001b[43m    \u001b[49m\u001b[43minput_dirs\u001b[49m\u001b[38;5;241;43m=\u001b[39;49m\u001b[38;5;28;43mself\u001b[39;49m\u001b[38;5;241;43m.\u001b[39;49m\u001b[43m_additional_input_dirs\u001b[49m\u001b[43m,\u001b[49m\n\u001b[1;32m    127\u001b[0m \u001b[43m    \u001b[49m\u001b[43mtimeout\u001b[49m\u001b[38;5;241;43m=\u001b[39;49m\u001b[38;5;241;43m300\u001b[39;49m\u001b[43m,\u001b[49m\n\u001b[1;32m    128\u001b[0m \u001b[43m    \u001b[49m\u001b[43mwrappers\u001b[49m\u001b[38;5;241;43m=\u001b[39;49m\u001b[43m(\u001b[49m\u001b[43m_SwapXY\u001b[49m\u001b[43m,\u001b[49m\u001b[43m \u001b[49m\u001b[43mMemoizedBmi\u001b[49m\u001b[43m,\u001b[49m\u001b[43m \u001b[49m\u001b[43mOptionalDestBmi\u001b[49m\u001b[43m)\u001b[49m\u001b[43m,\u001b[49m\n\u001b[1;32m    129\u001b[0m \u001b[43m\u001b[49m\u001b[43m)\u001b[49m\n",
      "File \u001b[0;32m/opt/conda/envs/ewatercycle2/lib/python3.12/site-packages/ewatercycle/container.py:190\u001b[0m, in \u001b[0;36mstart_container\u001b[0;34m(work_dir, image, input_dirs, image_port, timeout, delay, wrappers)\u001b[0m\n\u001b[1;32m    186\u001b[0m     bmi \u001b[38;5;241m=\u001b[39m start_docker_container(\n\u001b[1;32m    187\u001b[0m         work_dir, image, input_dirs, image_port, timeout, delay\n\u001b[1;32m    188\u001b[0m     )\n\u001b[1;32m    189\u001b[0m \u001b[38;5;28;01melif\u001b[39;00m engine \u001b[38;5;241m==\u001b[39m \u001b[38;5;124m\"\u001b[39m\u001b[38;5;124mapptainer\u001b[39m\u001b[38;5;124m\"\u001b[39m:\n\u001b[0;32m--> 190\u001b[0m     bmi \u001b[38;5;241m=\u001b[39m \u001b[43mstart_apptainer_container\u001b[49m\u001b[43m(\u001b[49m\n\u001b[1;32m    191\u001b[0m \u001b[43m        \u001b[49m\u001b[43mwork_dir\u001b[49m\u001b[43m,\u001b[49m\n\u001b[1;32m    192\u001b[0m \u001b[43m        \u001b[49m\u001b[43mimage\u001b[49m\u001b[43m,\u001b[49m\n\u001b[1;32m    193\u001b[0m \u001b[43m        \u001b[49m\u001b[43minput_dirs\u001b[49m\u001b[43m,\u001b[49m\n\u001b[1;32m    194\u001b[0m \u001b[43m        \u001b[49m\u001b[43mtimeout\u001b[49m\u001b[43m,\u001b[49m\n\u001b[1;32m    195\u001b[0m \u001b[43m        \u001b[49m\u001b[43mdelay\u001b[49m\u001b[43m,\u001b[49m\n\u001b[1;32m    196\u001b[0m \u001b[43m    \u001b[49m\u001b[43m)\u001b[49m\n\u001b[1;32m    197\u001b[0m \u001b[38;5;28;01melse\u001b[39;00m:\n\u001b[1;32m    198\u001b[0m     msg \u001b[38;5;241m=\u001b[39m \u001b[38;5;124mf\u001b[39m\u001b[38;5;124m\"\u001b[39m\u001b[38;5;124mUnknown container technology: \u001b[39m\u001b[38;5;132;01m{\u001b[39;00mCFG\u001b[38;5;241m.\u001b[39mcontainer_engine\u001b[38;5;132;01m}\u001b[39;00m\u001b[38;5;124m\"\u001b[39m\n",
      "File \u001b[0;32m/opt/conda/envs/ewatercycle2/lib/python3.12/site-packages/ewatercycle/container.py:233\u001b[0m, in \u001b[0;36mstart_apptainer_container\u001b[0;34m(work_dir, image, input_dirs, timeout, delay)\u001b[0m\n\u001b[1;32m    213\u001b[0m \u001b[38;5;250m\u001b[39m\u001b[38;5;124;03m\"\"\"Start Apptainer container with model inside.\u001b[39;00m\n\u001b[1;32m    214\u001b[0m \n\u001b[1;32m    215\u001b[0m \u001b[38;5;124;03mArgs:\u001b[39;00m\n\u001b[0;32m   (...)\u001b[0m\n\u001b[1;32m    230\u001b[0m \u001b[38;5;124;03m    Bmi object which wraps the container.\u001b[39;00m\n\u001b[1;32m    231\u001b[0m \u001b[38;5;124;03m\"\"\"\u001b[39;00m\n\u001b[1;32m    232\u001b[0m image_fn \u001b[38;5;241m=\u001b[39m image\u001b[38;5;241m.\u001b[39mapptainer_filename\n\u001b[0;32m--> 233\u001b[0m \u001b[38;5;28;01mif\u001b[39;00m \u001b[43m(\u001b[49m\u001b[43mCFG\u001b[49m\u001b[38;5;241;43m.\u001b[39;49m\u001b[43mapptainer_dir\u001b[49m\u001b[43m \u001b[49m\u001b[38;5;241;43m/\u001b[39;49m\u001b[43m \u001b[49m\u001b[43mimage_fn\u001b[49m\u001b[43m)\u001b[49m\u001b[38;5;241;43m.\u001b[39;49m\u001b[43mexists\u001b[49m\u001b[43m(\u001b[49m\u001b[43m)\u001b[49m:\n\u001b[1;32m    234\u001b[0m     image_fn \u001b[38;5;241m=\u001b[39m \u001b[38;5;28mstr\u001b[39m(CFG\u001b[38;5;241m.\u001b[39mapptainer_dir \u001b[38;5;241m/\u001b[39m image_fn)\n\u001b[1;32m    236\u001b[0m \u001b[38;5;28;01mtry\u001b[39;00m:\n",
      "File \u001b[0;32m/opt/conda/envs/ewatercycle2/lib/python3.12/pathlib.py:860\u001b[0m, in \u001b[0;36mPath.exists\u001b[0;34m(self, follow_symlinks)\u001b[0m\n\u001b[1;32m    853\u001b[0m \u001b[38;5;250m\u001b[39m\u001b[38;5;124;03m\"\"\"\u001b[39;00m\n\u001b[1;32m    854\u001b[0m \u001b[38;5;124;03mWhether this path exists.\u001b[39;00m\n\u001b[1;32m    855\u001b[0m \n\u001b[1;32m    856\u001b[0m \u001b[38;5;124;03mThis method normally follows symlinks; to check whether a symlink exists,\u001b[39;00m\n\u001b[1;32m    857\u001b[0m \u001b[38;5;124;03madd the argument follow_symlinks=False.\u001b[39;00m\n\u001b[1;32m    858\u001b[0m \u001b[38;5;124;03m\"\"\"\u001b[39;00m\n\u001b[1;32m    859\u001b[0m \u001b[38;5;28;01mtry\u001b[39;00m:\n\u001b[0;32m--> 860\u001b[0m     \u001b[38;5;28;43mself\u001b[39;49m\u001b[38;5;241;43m.\u001b[39;49m\u001b[43mstat\u001b[49m\u001b[43m(\u001b[49m\u001b[43mfollow_symlinks\u001b[49m\u001b[38;5;241;43m=\u001b[39;49m\u001b[43mfollow_symlinks\u001b[49m\u001b[43m)\u001b[49m\n\u001b[1;32m    861\u001b[0m \u001b[38;5;28;01mexcept\u001b[39;00m \u001b[38;5;167;01mOSError\u001b[39;00m \u001b[38;5;28;01mas\u001b[39;00m e:\n\u001b[1;32m    862\u001b[0m     \u001b[38;5;28;01mif\u001b[39;00m \u001b[38;5;129;01mnot\u001b[39;00m _ignore_error(e):\n",
      "File \u001b[0;32m/opt/conda/envs/ewatercycle2/lib/python3.12/pathlib.py:840\u001b[0m, in \u001b[0;36mPath.stat\u001b[0;34m(self, follow_symlinks)\u001b[0m\n\u001b[1;32m    835\u001b[0m \u001b[38;5;28;01mdef\u001b[39;00m \u001b[38;5;21mstat\u001b[39m(\u001b[38;5;28mself\u001b[39m, \u001b[38;5;241m*\u001b[39m, follow_symlinks\u001b[38;5;241m=\u001b[39m\u001b[38;5;28;01mTrue\u001b[39;00m):\n\u001b[1;32m    836\u001b[0m \u001b[38;5;250m    \u001b[39m\u001b[38;5;124;03m\"\"\"\u001b[39;00m\n\u001b[1;32m    837\u001b[0m \u001b[38;5;124;03m    Return the result of the stat() system call on this path, like\u001b[39;00m\n\u001b[1;32m    838\u001b[0m \u001b[38;5;124;03m    os.stat() does.\u001b[39;00m\n\u001b[1;32m    839\u001b[0m \u001b[38;5;124;03m    \"\"\"\u001b[39;00m\n\u001b[0;32m--> 840\u001b[0m     \u001b[38;5;28;01mreturn\u001b[39;00m \u001b[43mos\u001b[49m\u001b[38;5;241;43m.\u001b[39;49m\u001b[43mstat\u001b[49m\u001b[43m(\u001b[49m\u001b[38;5;28;43mself\u001b[39;49m\u001b[43m,\u001b[49m\u001b[43m \u001b[49m\u001b[43mfollow_symlinks\u001b[49m\u001b[38;5;241;43m=\u001b[39;49m\u001b[43mfollow_symlinks\u001b[49m\u001b[43m)\u001b[49m\n",
      "\u001b[0;31mOSError\u001b[0m: [Errno 107] Transport endpoint is not connected: '/data/shared/singularity-images/ewatercycle-pcrg-grpc4bmi_setters.sif'"
     ]
    }
   ],
   "source": [
    "#start_time = \"2025-01-01T00:00:00Z\"\n",
    "#end_time = \"2025-12-31T00:00:00Z\"\n",
    "\n",
    "cfg_file585, cfg_dir585 = pcrglob585.setup(\n",
    "    end_time=\"2050-12-31T00:00:00Z\",\n",
    "    max_spinups_in_years=0\n",
    ")\n",
    "cfg_file585, cfg_dir585"
   ]
  },
  {
   "cell_type": "code",
   "execution_count": 21,
   "id": "e4a5a284-f81c-40fd-9181-eaa9369eb8a8",
   "metadata": {},
   "outputs": [
    {
     "ename": "_InactiveRpcError",
     "evalue": "<_InactiveRpcError of RPC that terminated with:\n\tstatus = StatusCode.UNAVAILABLE\n\tdetails = \"Socket closed\"\n\tdebug_error_string = \"UNKNOWN:Error received from peer  {created_time:\"2025-01-07T21:20:27.193151011+01:00\", grpc_status:14, grpc_message:\"Socket closed\"}\"\n>",
     "output_type": "error",
     "traceback": [
      "\u001b[0;31m---------------------------------------------------------------------------\u001b[0m",
      "\u001b[0;31m_InactiveRpcError\u001b[0m                         Traceback (most recent call last)",
      "Cell \u001b[0;32mIn[21], line 1\u001b[0m\n\u001b[0;32m----> 1\u001b[0m \u001b[43mpcrglob585\u001b[49m\u001b[38;5;241;43m.\u001b[39;49m\u001b[43minitialize\u001b[49m\u001b[43m(\u001b[49m\u001b[43mcfg_file585\u001b[49m\u001b[43m)\u001b[49m\n",
      "File \u001b[0;32m/opt/conda/envs/ewatercycle2/lib/python3.12/site-packages/ewatercycle/base/model.py:170\u001b[0m, in \u001b[0;36meWaterCycleModel.initialize\u001b[0;34m(self, config_file)\u001b[0m\n\u001b[1;32m    164\u001b[0m \u001b[38;5;28;01mdef\u001b[39;00m \u001b[38;5;21minitialize\u001b[39m(\u001b[38;5;28mself\u001b[39m, config_file: \u001b[38;5;28mstr\u001b[39m) \u001b[38;5;241m-\u001b[39m\u001b[38;5;241m>\u001b[39m \u001b[38;5;28;01mNone\u001b[39;00m:\n\u001b[1;32m    165\u001b[0m \u001b[38;5;250m    \u001b[39m\u001b[38;5;124;03m\"\"\"Initialize the model.\u001b[39;00m\n\u001b[1;32m    166\u001b[0m \n\u001b[1;32m    167\u001b[0m \u001b[38;5;124;03m    Args:\u001b[39;00m\n\u001b[1;32m    168\u001b[0m \u001b[38;5;124;03m        config_file: Name of initialization file.\u001b[39;00m\n\u001b[1;32m    169\u001b[0m \u001b[38;5;124;03m    \"\"\"\u001b[39;00m\n\u001b[0;32m--> 170\u001b[0m     \u001b[38;5;28;43mself\u001b[39;49m\u001b[38;5;241;43m.\u001b[39;49m\u001b[43m_bmi\u001b[49m\u001b[38;5;241;43m.\u001b[39;49m\u001b[43minitialize\u001b[49m\u001b[43m(\u001b[49m\u001b[43mconfig_file\u001b[49m\u001b[43m)\u001b[49m\n",
      "File \u001b[0;32m/opt/conda/envs/ewatercycle2/lib/python3.12/site-packages/grpc4bmi/bmi_optionaldest.py:49\u001b[0m, in \u001b[0;36mOptionalDestBmi.initialize\u001b[0;34m(self, config_file)\u001b[0m\n\u001b[1;32m     48\u001b[0m \u001b[38;5;28;01mdef\u001b[39;00m \u001b[38;5;21minitialize\u001b[39m(\u001b[38;5;28mself\u001b[39m, config_file: Optional[\u001b[38;5;28mstr\u001b[39m]) \u001b[38;5;241m-\u001b[39m\u001b[38;5;241m>\u001b[39m \u001b[38;5;28;01mNone\u001b[39;00m:\n\u001b[0;32m---> 49\u001b[0m     \u001b[38;5;28;01mreturn\u001b[39;00m \u001b[38;5;28;43mself\u001b[39;49m\u001b[38;5;241;43m.\u001b[39;49m\u001b[43morigin\u001b[49m\u001b[38;5;241;43m.\u001b[39;49m\u001b[43minitialize\u001b[49m\u001b[43m(\u001b[49m\u001b[43mconfig_file\u001b[49m\u001b[43m)\u001b[49m\n",
      "File \u001b[0;32m/opt/conda/envs/ewatercycle2/lib/python3.12/site-packages/grpc4bmi/bmi_memoized.py:57\u001b[0m, in \u001b[0;36mMemoizedBmi.initialize\u001b[0;34m(self, filename)\u001b[0m\n\u001b[1;32m     55\u001b[0m \u001b[38;5;28;01mdef\u001b[39;00m \u001b[38;5;21minitialize\u001b[39m(\u001b[38;5;28mself\u001b[39m, filename):\n\u001b[1;32m     56\u001b[0m     \u001b[38;5;28mself\u001b[39m\u001b[38;5;241m.\u001b[39mcache \u001b[38;5;241m=\u001b[39m \u001b[38;5;28mdict\u001b[39m()\n\u001b[0;32m---> 57\u001b[0m     \u001b[38;5;28;01mreturn\u001b[39;00m \u001b[38;5;28;43mself\u001b[39;49m\u001b[38;5;241;43m.\u001b[39;49m\u001b[43morigin\u001b[49m\u001b[38;5;241;43m.\u001b[39;49m\u001b[43minitialize\u001b[49m\u001b[43m(\u001b[49m\u001b[43mfilename\u001b[49m\u001b[43m)\u001b[49m\n",
      "File \u001b[0;32m/opt/conda/envs/ewatercycle2/lib/python3.12/site-packages/ewatercycle/container.py:442\u001b[0m, in \u001b[0;36mBmiProxy.initialize\u001b[0;34m(self, filename)\u001b[0m\n\u001b[1;32m    441\u001b[0m \u001b[38;5;28;01mdef\u001b[39;00m \u001b[38;5;21minitialize\u001b[39m(\u001b[38;5;28mself\u001b[39m, filename: \u001b[38;5;28mstr\u001b[39m) \u001b[38;5;241m-\u001b[39m\u001b[38;5;241m>\u001b[39m \u001b[38;5;28;01mNone\u001b[39;00m:\n\u001b[0;32m--> 442\u001b[0m     \u001b[38;5;28;01mreturn\u001b[39;00m \u001b[38;5;28;43mself\u001b[39;49m\u001b[38;5;241;43m.\u001b[39;49m\u001b[43morigin\u001b[49m\u001b[38;5;241;43m.\u001b[39;49m\u001b[43minitialize\u001b[49m\u001b[43m(\u001b[49m\u001b[43mfilename\u001b[49m\u001b[43m)\u001b[49m\n",
      "File \u001b[0;32m/opt/conda/envs/ewatercycle2/lib/python3.12/site-packages/grpc4bmi/bmi_grpc_client.py:101\u001b[0m, in \u001b[0;36mBmiClient.initialize\u001b[0;34m(self, filename)\u001b[0m\n\u001b[1;32m     99\u001b[0m     \u001b[38;5;28;01mreturn\u001b[39;00m \u001b[38;5;28mself\u001b[39m\u001b[38;5;241m.\u001b[39mstub\u001b[38;5;241m.\u001b[39minitialize(bmi_pb2\u001b[38;5;241m.\u001b[39mInitializeRequest(config_file\u001b[38;5;241m=\u001b[39mfname))\n\u001b[1;32m    100\u001b[0m \u001b[38;5;28;01mexcept\u001b[39;00m grpc\u001b[38;5;241m.\u001b[39mRpcError \u001b[38;5;28;01mas\u001b[39;00m e:\n\u001b[0;32m--> 101\u001b[0m     \u001b[43mhandle_error\u001b[49m\u001b[43m(\u001b[49m\u001b[43me\u001b[49m\u001b[43m)\u001b[49m\n",
      "File \u001b[0;32m/opt/conda/envs/ewatercycle2/lib/python3.12/site-packages/grpc4bmi/bmi_grpc_client.py:99\u001b[0m, in \u001b[0;36mBmiClient.initialize\u001b[0;34m(self, filename)\u001b[0m\n\u001b[1;32m     97\u001b[0m fname \u001b[38;5;241m=\u001b[39m \u001b[38;5;124m\"\u001b[39m\u001b[38;5;124m\"\u001b[39m \u001b[38;5;28;01mif\u001b[39;00m filename \u001b[38;5;129;01mis\u001b[39;00m \u001b[38;5;28;01mNone\u001b[39;00m \u001b[38;5;28;01melse\u001b[39;00m filename\n\u001b[1;32m     98\u001b[0m \u001b[38;5;28;01mtry\u001b[39;00m:\n\u001b[0;32m---> 99\u001b[0m     \u001b[38;5;28;01mreturn\u001b[39;00m \u001b[38;5;28;43mself\u001b[39;49m\u001b[38;5;241;43m.\u001b[39;49m\u001b[43mstub\u001b[49m\u001b[38;5;241;43m.\u001b[39;49m\u001b[43minitialize\u001b[49m\u001b[43m(\u001b[49m\u001b[43mbmi_pb2\u001b[49m\u001b[38;5;241;43m.\u001b[39;49m\u001b[43mInitializeRequest\u001b[49m\u001b[43m(\u001b[49m\u001b[43mconfig_file\u001b[49m\u001b[38;5;241;43m=\u001b[39;49m\u001b[43mfname\u001b[49m\u001b[43m)\u001b[49m\u001b[43m)\u001b[49m\n\u001b[1;32m    100\u001b[0m \u001b[38;5;28;01mexcept\u001b[39;00m grpc\u001b[38;5;241m.\u001b[39mRpcError \u001b[38;5;28;01mas\u001b[39;00m e:\n\u001b[1;32m    101\u001b[0m     handle_error(e)\n",
      "File \u001b[0;32m/opt/conda/envs/ewatercycle2/lib/python3.12/site-packages/grpc/_channel.py:1176\u001b[0m, in \u001b[0;36m_UnaryUnaryMultiCallable.__call__\u001b[0;34m(self, request, timeout, metadata, credentials, wait_for_ready, compression)\u001b[0m\n\u001b[1;32m   1161\u001b[0m \u001b[38;5;28;01mdef\u001b[39;00m \u001b[38;5;21m__call__\u001b[39m(\n\u001b[1;32m   1162\u001b[0m     \u001b[38;5;28mself\u001b[39m,\n\u001b[1;32m   1163\u001b[0m     request: Any,\n\u001b[0;32m   (...)\u001b[0m\n\u001b[1;32m   1168\u001b[0m     compression: Optional[grpc\u001b[38;5;241m.\u001b[39mCompression] \u001b[38;5;241m=\u001b[39m \u001b[38;5;28;01mNone\u001b[39;00m,\n\u001b[1;32m   1169\u001b[0m ) \u001b[38;5;241m-\u001b[39m\u001b[38;5;241m>\u001b[39m Any:\n\u001b[1;32m   1170\u001b[0m     (\n\u001b[1;32m   1171\u001b[0m         state,\n\u001b[1;32m   1172\u001b[0m         call,\n\u001b[1;32m   1173\u001b[0m     ) \u001b[38;5;241m=\u001b[39m \u001b[38;5;28mself\u001b[39m\u001b[38;5;241m.\u001b[39m_blocking(\n\u001b[1;32m   1174\u001b[0m         request, timeout, metadata, credentials, wait_for_ready, compression\n\u001b[1;32m   1175\u001b[0m     )\n\u001b[0;32m-> 1176\u001b[0m     \u001b[38;5;28;01mreturn\u001b[39;00m \u001b[43m_end_unary_response_blocking\u001b[49m\u001b[43m(\u001b[49m\u001b[43mstate\u001b[49m\u001b[43m,\u001b[49m\u001b[43m \u001b[49m\u001b[43mcall\u001b[49m\u001b[43m,\u001b[49m\u001b[43m \u001b[49m\u001b[38;5;28;43;01mFalse\u001b[39;49;00m\u001b[43m,\u001b[49m\u001b[43m \u001b[49m\u001b[38;5;28;43;01mNone\u001b[39;49;00m\u001b[43m)\u001b[49m\n",
      "File \u001b[0;32m/opt/conda/envs/ewatercycle2/lib/python3.12/site-packages/grpc/_channel.py:1005\u001b[0m, in \u001b[0;36m_end_unary_response_blocking\u001b[0;34m(state, call, with_call, deadline)\u001b[0m\n\u001b[1;32m   1003\u001b[0m         \u001b[38;5;28;01mreturn\u001b[39;00m state\u001b[38;5;241m.\u001b[39mresponse\n\u001b[1;32m   1004\u001b[0m \u001b[38;5;28;01melse\u001b[39;00m:\n\u001b[0;32m-> 1005\u001b[0m     \u001b[38;5;28;01mraise\u001b[39;00m _InactiveRpcError(state)\n",
      "\u001b[0;31m_InactiveRpcError\u001b[0m: <_InactiveRpcError of RPC that terminated with:\n\tstatus = StatusCode.UNAVAILABLE\n\tdetails = \"Socket closed\"\n\tdebug_error_string = \"UNKNOWN:Error received from peer  {created_time:\"2025-01-07T21:20:27.193151011+01:00\", grpc_status:14, grpc_message:\"Socket closed\"}\"\n>"
     ]
    }
   ],
   "source": [
    "pcrglob585.initialize(cfg_file585)"
   ]
  },
  {
   "cell_type": "code",
   "execution_count": null,
   "id": "2da2e165-ffe4-404b-9836-d3ebba8e20c7",
   "metadata": {},
   "outputs": [],
   "source": [
    "time585 = pd.date_range(pcrglob585.start_time_as_isostr, pcrglob585.end_time_as_isostr)\n",
    "timeseries585 = pd.DataFrame(\n",
    "    index=pd.Index(time585, name=\"time\"), columns=[\"PCRGlobWB: Sonoran Desert\"]\n",
    ")"
   ]
  },
  {
   "cell_type": "code",
   "execution_count": null,
   "id": "637e5f77-1364-4615-8959-75ff18a431bd",
   "metadata": {},
   "outputs": [],
   "source": [
    "while pcrglob585.time < pcrglob585.end_time:\n",
    "    pcrglob585.update()\n",
    "\n",
    "    # Track discharge at station location\n",
    "    discharge_at_station585 = pcrglob585.get_value_at_coords(\n",
    "        \"precipitation\", lat=[station_latitude], lon=[station_longitude]\n",
    "    )\n",
    "    time585 = pcrglob585.time_as_isostr\n",
    "    timeseries585[\"PCRGlobWB: Sonoran Desert\"][time585] = discharge_at_station585[0]\n",
    "\n",
    "    # Show progress\n",
    "    #print(time585,end='\\r')  # \"\\r\" clears the output before printing the next timestamp\n"
   ]
  },
  {
   "cell_type": "code",
   "execution_count": null,
   "id": "10aa53fd-959a-48cb-961b-3b9235403bb7",
   "metadata": {},
   "outputs": [],
   "source": [
    "plt.plot(timeseries585*1000, label=\"SSP5-8.5\", color=\"darkblue\")\n",
    "plt.title(\"Precipitation (2025)\")\n",
    "plt.ylabel(\"Precipitation [mm/day]\")\n",
    "plt.xlabel(\"Time\")\n",
    "plt.xticks(rotation=30, ha='right')\n",
    "plt.legend();"
   ]
  },
  {
   "cell_type": "markdown",
   "id": "92793746-27c5-4762-8646-00335146db96",
   "metadata": {},
   "source": [
    "Now the model can be used. A map is made to show the location of the ... for SSP5-8.5."
   ]
  },
  {
   "cell_type": "code",
   "execution_count": null,
   "id": "9b397721-1fb5-4b52-a73e-504d3fec2ed4",
   "metadata": {},
   "outputs": [],
   "source": [
    "da585 = pcrglob585.get_value_as_xarray(\"precipitation\")"
   ]
  },
  {
   "cell_type": "code",
   "execution_count": null,
   "id": "cdb73527-fc01-4a0e-a60e-0a3efcadcd87",
   "metadata": {},
   "outputs": [],
   "source": [
    "fig585 = plt.figure(dpi=120)\n",
    "ax585 = fig585.add_subplot(111, projection=crs.PlateCarree())\n",
    "da585.plot(ax=ax585, cmap=\"GnBu\")\n",
    "\n",
    "# Overlay ocean and coastines\n",
    "ax585.add_feature(cfeature.OCEAN)\n",
    "ax585.add_feature(cfeature.RIVERS, color=\"k\")\n",
    "ax585.coastlines()\n",
    "\n",
    "# Add a red cross marker at specified location near the Gila River\n",
    "ax585.scatter(station_longitude, station_latitude, s=250, c=\"r\", marker=\"x\", lw=2)\n",
    "ax585.set_title(\"Sonoran Desert SSP5-8.5\", fontsize=12);"
   ]
  },
  {
   "cell_type": "markdown",
   "id": "e0715da0-88a2-4d51-8fd1-1d2de40a9c9a",
   "metadata": {},
   "source": [
    "### Plotting the timeseries"
   ]
  },
  {
   "cell_type": "code",
   "execution_count": null,
   "id": "0c3bf6f1-0576-417d-9454-d996cb17c40b",
   "metadata": {},
   "outputs": [],
   "source": [
    "plt.plot(timeseries126*1000, label=\"SSP1-2.6\", color=\"green\")\n",
    "plt.plot(timeseries245*1000, label=\"SSP2-4.5\", color=\"darkblue\")\n",
    "plt.plot(timeseries585*1000, label=\"SSP5-8.5\", color=\"orange\")\n",
    "\n",
    "plt.title(\"Precipitation CMIP6 (aug 2025)\")\n",
    "plt.xlabel(\"Time\")\n",
    "plt.ylabel(\"Precipitation [mm/day]\")\n",
    "plt.xticks(rotation=45, ha='right')\n",
    "plt.legend(loc=2);"
   ]
  },
  {
   "cell_type": "code",
   "execution_count": null,
   "id": "14b7a686-644f-48d8-a957-8ca6415673af",
   "metadata": {},
   "outputs": [],
   "source": [
    "pcrglob126.finalize()\n",
    "pcrglob245.finalize()\n",
    "pcrglob585.finalize()"
   ]
  },
  {
   "cell_type": "code",
   "execution_count": null,
   "id": "4e8ca028-958c-42b4-9d2f-c01f7f1096b9",
   "metadata": {},
   "outputs": [],
   "source": []
  }
 ],
 "metadata": {
  "kernelspec": {
   "display_name": "Python 3 (ipykernel)",
   "language": "python",
   "name": "python3"
  },
  "language_info": {
   "codemirror_mode": {
    "name": "ipython",
    "version": 3
   },
   "file_extension": ".py",
   "mimetype": "text/x-python",
   "name": "python",
   "nbconvert_exporter": "python",
   "pygments_lexer": "ipython3",
   "version": "3.12.5"
  }
 },
 "nbformat": 4,
 "nbformat_minor": 5
}
