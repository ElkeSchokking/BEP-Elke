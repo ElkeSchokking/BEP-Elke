{
 "cells": [
  {
   "cell_type": "markdown",
   "id": "d4d13fc0-6d2f-453f-b045-39555dc93f4f",
   "metadata": {},
   "source": [
    "# Sonoran Desert: CMIP6 projections\n",
    "#### Approximation groundwater recharge in 2075 to 2100\n",
    "Evaporation in 2025, 2050, 2075 and 2100  for the climate scenarios SSP1-2.6, SSP2-4.5 and SSP5-8.5. The camel that is used for this notebook is: hysets_09488650"
   ]
  },
  {
   "cell_type": "code",
   "execution_count": null,
   "id": "ddba7aa6-2113-4e4d-b642-5aed6107211a",
   "metadata": {},
   "outputs": [],
   "source": [
    "import warnings\n",
    "warnings.filterwarnings(\"ignore\", category=UserWarning)\n",
    "\n",
    "import matplotlib.pyplot as plt\n",
    "from cartopy import crs\n",
    "from cartopy import feature as cfeature\n",
    "import fiona\n",
    "import shapely.geometry\n",
    "from pyproj import Geod\n",
    "from rich import print\n",
    "import pandas as pd\n",
    "import xarray as xr\n",
    "\n",
    "import ewatercycle.forcing\n",
    "import ewatercycle.models\n",
    "import ewatercycle.parameter_sets"
   ]
  },
  {
   "cell_type": "markdown",
   "id": "a3fd9deb-bdbe-469f-b5d2-57f0236ba4a3",
   "metadata": {},
   "source": [
    "### Setting up the model: SSP1-2.6\n",
    "Location of the groundwater recharge: Gila river near Yuma."
   ]
  },
  {
   "cell_type": "code",
   "execution_count": null,
   "id": "3036b0d0-1f6e-4502-8638-3a63e5756b94",
   "metadata": {},
   "outputs": [],
   "source": [
    "station_latitude = 32.71555556\n",
    "station_longitude = -114.533386"
   ]
  },
  {
   "cell_type": "markdown",
   "id": "301ecb08-2f39-4e80-ac25-2d74d30376f7",
   "metadata": {},
   "source": [
    "Loading the parameter set and forcing set. Setting up the PCR-GlobWB model. "
   ]
  },
  {
   "cell_type": "code",
   "execution_count": null,
   "id": "9e3e0cc8-8e50-4066-86cc-55628f64da46",
   "metadata": {},
   "outputs": [],
   "source": [
    "parameter_set = ewatercycle.parameter_sets.ParameterSet(\n",
    "    name=\"custom_parameter_set\",\n",
    "    directory= \"/data/shared/parameter-sets/pcrglobwb_global\",\n",
    "    config=\"./pcrglobwb_sonoran_ERA5_05min.ini\",\n",
    "    target_model=\"pcrglobwb\",\n",
    "    supported_model_versions={\"setters\"},\n",
    ")\n",
    "#print(parameter_set)"
   ]
  },
  {
   "cell_type": "code",
   "execution_count": null,
   "id": "706d3bba-db77-46f2-bff2-090dcb00019d",
   "metadata": {},
   "outputs": [],
   "source": [
    "forcing126 = ewatercycle.forcing.sources[\"PCRGlobWBForcing\"].load(\n",
    "    directory=\"/home/emol/forcing/sonoran_desert_CMIP_SSP126_75/work/diagnostic/script\",\n",
    ")\n",
    "#print(forcing)"
   ]
  },
  {
   "cell_type": "code",
   "execution_count": null,
   "id": "13cd01f4-0e0e-4dd4-836b-1a5f9eccc6b5",
   "metadata": {},
   "outputs": [],
   "source": [
    "pcrglob126 = ewatercycle.models.PCRGlobWB(\n",
    "    parameter_set=parameter_set,\n",
    "    forcing=forcing126\n",
    ")\n",
    "#print(pcrglob)"
   ]
  },
  {
   "cell_type": "markdown",
   "id": "ba4d3e92-38a1-4316-82e5-4a2f0311425c",
   "metadata": {},
   "source": [
    "Years for which PCR-GlobWB needs to simulate the approximation; 2025, 2050, 2075 and 2100."
   ]
  },
  {
   "cell_type": "code",
   "execution_count": null,
   "id": "6cfa8860-2782-47d1-af1c-aeeafef73561",
   "metadata": {},
   "outputs": [],
   "source": [
    "#start_time = \"2025-01-01T00:00:00Z\"\n",
    "#end_time = \"2025-12-31T00:00:00Z\"\n",
    "\n",
    "cfg_file126, cfg_dir126 = pcrglob126.setup(\n",
    "    start_time=\"2075-01-31T00:00:00Z\",\n",
    "    end_time=\"2100-12-31T00:00:00Z\",\n",
    "    max_spinups_in_years=0\n",
    ")\n",
    "cfg_file126, cfg_dir126"
   ]
  },
  {
   "cell_type": "code",
   "execution_count": null,
   "id": "fcf19a7a-59e3-41af-9290-990379cbff6d",
   "metadata": {},
   "outputs": [],
   "source": [
    "pcrglob126.initialize(cfg_file126)"
   ]
  },
  {
   "cell_type": "code",
   "execution_count": null,
   "id": "6f9d70d7-9673-4dfd-bd06-b6f20608a5e8",
   "metadata": {},
   "outputs": [],
   "source": [
    "time126 = pd.date_range(pcrglob126.start_time_as_isostr, pcrglob126.end_time_as_isostr)\n",
    "timeseries126 = pd.DataFrame(\n",
    "    index=pd.Index(time126, name=\"time\"), columns=[\"PCRGlobWB: Sonoran Desert\"]\n",
    ").resample(\"A\").mean()\n",
    "\n",
    "recharge126 = pd.DataFrame(\n",
    "    index=pd.Index(time126, name=\"time\"), columns=[\"PCRGlobWB: Sonoran Desert\"]\n",
    ").resample(\"A\").mean()"
   ]
  },
  {
   "cell_type": "code",
   "execution_count": null,
   "id": "30c0a13d-3c93-434f-8ff6-aedaf80f3dee",
   "metadata": {},
   "outputs": [],
   "source": [
    "while pcrglob126.time < pcrglob126.end_time:\n",
    "    pcrglob126.update()\n",
    "\n",
    "    precipitation_at_station126 = pcrglob126.get_value_at_coords(\n",
    "        \"precipitation\", lat=[station_latitude], lon=[station_longitude]\n",
    "    )\n",
    "\n",
    "    landsurface_at_station126 = pcrglob126.get_value_at_coords(\n",
    "        \"land_surface_runoff\", lat=[station_latitude], lon=[station_longitude]\n",
    "    )\n",
    "    \n",
    "    evaporation_at_station126 = pcrglob126.get_value_at_coords(\n",
    "        \"total_evaporation\", lat=[station_latitude], lon=[station_longitude]\n",
    "    )\n",
    "\n",
    "    recharge_at_station126 = pcrglob126.get_value_at_coords(\n",
    "        \"groundwater_recharge\", lat=[station_latitude], lon=[station_longitude]\n",
    "    )\n",
    "    \n",
    "    time126 = pcrglob126.time_as_isostr\n",
    "    timeseries126[\"PCRGlobWB: Sonoran Desert\"][time126] = precipitation_at_station126[0] + landsurface_at_station126[0] - evaporation_at_station126[0] \n",
    "    recharge126[\"PCRGlobWB: Sonoran Desert\"][time126] = recharge_at_station126[0]\n",
    "\n",
    "    #print(time126,end='\\r')  # \"\\r\" clears the output before printing the next timestamp"
   ]
  },
  {
   "cell_type": "markdown",
   "id": "d145747f-bd55-4111-8932-c6f962548d04",
   "metadata": {},
   "source": [
    "Comparing the approximation with the groundwater recharge that is simulated with PCR-GlobWB."
   ]
  },
  {
   "cell_type": "code",
   "execution_count": null,
   "id": "64a62425-8a58-455e-a6fd-5c1efef91d90",
   "metadata": {},
   "outputs": [],
   "source": [
    "plt.plot(recharge126*1000, label=\"PCR-GlobWB Recharge\", color=\"darkblue\")\n",
    "plt.plot(timeseries126*1000, label=\"Approximated Recharge\", color=\"orange\")\n",
    "plt.title(\"PCR-GlobWB vs approximated groundwater recharge (SSP1-2.6)\")\n",
    "plt.ylabel(\"Groundwater recharge [mm/day]\")\n",
    "plt.xlabel(\"Time\")\n",
    "plt.xticks(rotation=30, ha='right')\n",
    "plt.legend();"
   ]
  },
  {
   "cell_type": "markdown",
   "id": "e34fe514-d9df-4b9d-9b7a-71ea07382107",
   "metadata": {},
   "source": [
    "### Now for SSP4-6.0\n",
    "First, set up the forcing that will be used in the model."
   ]
  },
  {
   "cell_type": "code",
   "execution_count": null,
   "id": "3677eeee-25f6-4630-ad0e-b5691ad0e050",
   "metadata": {},
   "outputs": [],
   "source": [
    "parameter_set = ewatercycle.parameter_sets.ParameterSet(\n",
    "    name=\"custom_parameter_set\",\n",
    "    directory= \"/data/shared/parameter-sets/pcrglobwb_global\",\n",
    "    config=\"./pcrglobwb_sonoran_ERA5_05min.ini\",\n",
    "    target_model=\"pcrglobwb\",\n",
    "    supported_model_versions={\"setters\"},\n",
    ")"
   ]
  },
  {
   "cell_type": "code",
   "execution_count": null,
   "id": "bac804af-28e9-46e7-8e3e-0254009ebf11",
   "metadata": {},
   "outputs": [],
   "source": [
    "forcing245 = ewatercycle.forcing.sources[\"PCRGlobWBForcing\"].load(\n",
    "    directory=\"/home/emol/forcing/sonoran_desert_CMIP_SSP245_75/work/diagnostic/script\",\n",
    ")"
   ]
  },
  {
   "cell_type": "code",
   "execution_count": null,
   "id": "72866c75-a7e3-4028-8adc-43075591833d",
   "metadata": {},
   "outputs": [],
   "source": [
    "pcrglob245 = ewatercycle.models.PCRGlobWB(\n",
    "    parameter_set=parameter_set,\n",
    "    forcing=forcing245\n",
    ")"
   ]
  },
  {
   "cell_type": "code",
   "execution_count": null,
   "id": "11d50b22-cf60-44cb-92f8-dec10807cd6b",
   "metadata": {},
   "outputs": [],
   "source": [
    "#start_time = \"2025-01-01T00:00:00Z\"\n",
    "#end_time = \"2025-12-31T00:00:00Z\"\n",
    "\n",
    "cfg_file245, cfg_dir245 = pcrglob245.setup(\n",
    "    end_time=\"2075-12-31T00:00:00Z\",\n",
    "    max_spinups_in_years=0\n",
    ")\n",
    "cfg_file245, cfg_dir245"
   ]
  },
  {
   "cell_type": "code",
   "execution_count": null,
   "id": "e53b1244-ca3f-4824-b227-f900343b3871",
   "metadata": {},
   "outputs": [],
   "source": [
    "pcrglob245.initialize(cfg_file245)"
   ]
  },
  {
   "cell_type": "code",
   "execution_count": null,
   "id": "509ea6fd-30d0-49d7-ab08-7bbd5f8c27ab",
   "metadata": {},
   "outputs": [],
   "source": [
    "time245 = pd.date_range(pcrglob245.start_time_as_isostr, pcrglob245.end_time_as_isostr)\n",
    "timeseries245 = pd.DataFrame(\n",
    "    index=pd.Index(time245, name=\"time\"), columns=[\"PCRGlobWB: Sonoran Desert\"]\n",
    ")\n",
    "recharge245 = pd.DataFrame(\n",
    "    index=pd.Index(time245, name=\"time\"), columns=[\"PCRGlobWB: Sonoran Desert\"]\n",
    ") "
   ]
  },
  {
   "cell_type": "code",
   "execution_count": null,
   "id": "ff5ac20b-2a79-4de3-80ec-8b1f1ff92ef0",
   "metadata": {},
   "outputs": [],
   "source": [
    "while pcrglob245.time < pcrglob245.end_time:\n",
    "    pcrglob245.update()\n",
    "    \n",
    "    precipitation_at_station245 = pcrglob245.get_value_at_coords(\n",
    "        \"precipitation\", lat=[station_latitude], lon=[station_longitude]\n",
    "    )\n",
    "\n",
    "    landsurface_at_station245 = pcrglob245.get_value_at_coords(\n",
    "        \"land_surface_runoff\", lat=[station_latitude], lon=[station_longitude]\n",
    "    )\n",
    "    \n",
    "    evaporation_at_station245 = pcrglob245.get_value_at_coords(\n",
    "        \"total_evaporation\", lat=[station_latitude], lon=[station_longitude]\n",
    "    )\n",
    "\n",
    "    recharge_at_station245 = pcrglob245.get_value_at_coords(\n",
    "        \"groundwater_recharge\", lat=[station_latitude], lon=[station_longitude]\n",
    "    )\n",
    "   \n",
    "    time245 = pcrglob245.time_as_isostr\n",
    "    timeseries245[\"PCRGlobWB: Sonoran Desert\"][time245] = precipitation_at_station245[0] + landsurface_at_station245[0] - evaporation_at_station245[0] \n",
    "    recharge245[\"PCRGlobWB: Sonoran Desert\"][time245] = recharge_at_station245[0]\n",
    "    \n",
    "    #print(time245,end='\\r')  # \"\\r\" clears the output before printing the next timestamp"
   ]
  },
  {
   "cell_type": "markdown",
   "id": "bf0cbc1c-3cb8-43ae-89b7-387e2b76e8a8",
   "metadata": {},
   "source": [
    "Comparing the approximation with the groundwater recharge that is simulated with PCR-GlobWB."
   ]
  },
  {
   "cell_type": "code",
   "execution_count": null,
   "id": "f13419b8-1fae-40a1-aa2d-ae2f525c344b",
   "metadata": {},
   "outputs": [],
   "source": [
    "plt.plot(recharge245*1000, label=\"PCR-GlobWB Recharge\", color=\"darkblue\")\n",
    "plt.plot(timeseries245*1000, label=\"Approximated Recharge\", color=\"orange\")\n",
    "plt.title(\"PCR-GlobWB vs approximated groundwater recharge (SSP2-4.5)\")\n",
    "plt.ylabel(\"Groundwater recharge [mm/day]\")\n",
    "plt.xlabel(\"Time\")\n",
    "plt.xticks(rotation=30, ha='right')\n",
    "plt.legend();"
   ]
  },
  {
   "cell_type": "markdown",
   "id": "febb76b8-1990-494e-aa87-ab8bb72a14e0",
   "metadata": {},
   "source": [
    "### Now for SSP5-8.5\n",
    "First, set up the forcing."
   ]
  },
  {
   "cell_type": "code",
   "execution_count": null,
   "id": "3662294b-edb4-43a0-b843-34662415a949",
   "metadata": {},
   "outputs": [],
   "source": [
    "parameter_set = ewatercycle.parameter_sets.ParameterSet(\n",
    "    name=\"custom_parameter_set\",\n",
    "    directory= \"/data/shared/parameter-sets/pcrglobwb_global\",\n",
    "    config=\"./pcrglobwb_sonoran_ERA5_05min.ini\",\n",
    "    target_model=\"pcrglobwb\",\n",
    "    supported_model_versions={\"setters\"},\n",
    ")\n",
    "#print(parameter_set)"
   ]
  },
  {
   "cell_type": "code",
   "execution_count": null,
   "id": "6f60a5f7-0fbc-489a-80d5-6da781029b3a",
   "metadata": {},
   "outputs": [],
   "source": [
    "forcing585 = ewatercycle.forcing.sources[\"PCRGlobWBForcing\"].load(\n",
    "    directory=\"/home/emol/forcing/sonoran_desert_CMIP_SSP585_75/work/diagnostic/script\",\n",
    ")\n",
    "#print(forcing)"
   ]
  },
  {
   "cell_type": "code",
   "execution_count": null,
   "id": "a2b305b0-26d0-4a85-8cc1-d46c0897d3bc",
   "metadata": {},
   "outputs": [],
   "source": [
    "pcrglob585 = ewatercycle.models.PCRGlobWB(\n",
    "    parameter_set=parameter_set,\n",
    "    forcing=forcing585\n",
    ")"
   ]
  },
  {
   "cell_type": "code",
   "execution_count": null,
   "id": "13f65ae0-7964-43fe-afe4-ef82d170343f",
   "metadata": {},
   "outputs": [],
   "source": [
    "#start_time = \"2025-01-01T00:00:00Z\"\n",
    "#end_time = \"2025-12-31T00:00:00Z\"\n",
    "\n",
    "cfg_file585, cfg_dir585 = pcrglob585.setup(\n",
    "    end_time=\"2075-12-31T00:00:00Z\",\n",
    "    max_spinups_in_years=0\n",
    ")\n",
    "cfg_file585, cfg_dir585"
   ]
  },
  {
   "cell_type": "code",
   "execution_count": null,
   "id": "e4a5a284-f81c-40fd-9181-eaa9369eb8a8",
   "metadata": {},
   "outputs": [],
   "source": [
    "pcrglob585.initialize(cfg_file585)"
   ]
  },
  {
   "cell_type": "code",
   "execution_count": null,
   "id": "2da2e165-ffe4-404b-9836-d3ebba8e20c7",
   "metadata": {},
   "outputs": [],
   "source": [
    "time585 = pd.date_range(pcrglob585.start_time_as_isostr, pcrglob585.end_time_as_isostr)\n",
    "timeseries585 = pd.DataFrame(\n",
    "    index=pd.Index(time585, name=\"time\"), columns=[\"PCRGlobWB: Sonoran Desert\"]\n",
    ")\n",
    "\n",
    "recharge585 =  pd.DataFrame(\n",
    "    index=pd.Index(time585, name=\"time\"), columns=[\"PCRGlobWB: Sonoran Desert\"]\n",
    ")"
   ]
  },
  {
   "cell_type": "code",
   "execution_count": null,
   "id": "637e5f77-1364-4615-8959-75ff18a431bd",
   "metadata": {},
   "outputs": [],
   "source": [
    "while pcrglob585.time < pcrglob585.end_time:\n",
    "    pcrglob585.update()\n",
    "\n",
    "    precipitation_at_station585 = pcrglob585.get_value_at_coords(\n",
    "        \"precipitation\", lat=[station_latitude], lon=[station_longitude]\n",
    "    )\n",
    "\n",
    "    landsurface_at_station585 = pcrglob585.get_value_at_coords(\n",
    "        \"land_surface_runoff\", lat=[station_latitude], lon=[station_longitude]\n",
    "    )\n",
    "    \n",
    "    evaporation_at_station585 = pcrglob585.get_value_at_coords(\n",
    "        \"total_evaporation\", lat=[station_latitude], lon=[station_longitude]\n",
    "    )\n",
    "   \n",
    "    recharge_at_station585 = pcrglob585.get_value_at_coords(\n",
    "        \"groundwater_recharge\", lat=[station_latitude], lon=[station_longitude]\n",
    "    )\n",
    "    \n",
    "    time585 = pcrglob585.time_as_isostr\n",
    "    timeseries585[\"PCRGlobWB: Sonoran Desert\"][time585] = precipitation_at_station585[0] + landsurface_at_station585[0] - evaporation_at_station585[0] \n",
    "    recharge585[\"PCRGlobWB: Sonoran Desert\"][time585] = recharge_at_station585[0]\n",
    "\n",
    "    # Show progress\n",
    "    #print(time585,end='\\r')  # \"\\r\" clears the output before printing the next timestamp\n"
   ]
  },
  {
   "cell_type": "markdown",
   "id": "6f3a0e25-cc9f-4666-8e84-a37259a9770e",
   "metadata": {},
   "source": [
    "Comparing the approximation with the groundwater recharge that is simulated with PCR-GlobWB."
   ]
  },
  {
   "cell_type": "code",
   "execution_count": null,
   "id": "d749568c-d2cb-4251-b635-412d2aa507f8",
   "metadata": {},
   "outputs": [],
   "source": [
    "plt.plot(recharge585*1000, label=\"PCR-GlobWB Recharge\", color=\"darkblue\")\n",
    "plt.plot(timeseries585*1000, label=\"Approximated Recharge\", color=\"orange\")\n",
    "plt.title(\"PCR-GlobWB vs approximated groundwater recharge (SSP2-4.5)\")\n",
    "plt.ylabel(\"Groundwater recharge [mm/day]\")\n",
    "plt.xlabel(\"Time\")\n",
    "plt.xticks(rotation=30, ha='right')\n",
    "plt.legend();"
   ]
  },
  {
   "cell_type": "markdown",
   "id": "e0715da0-88a2-4d51-8fd1-1d2de40a9c9a",
   "metadata": {},
   "source": [
    "### Plotting the timeseries"
   ]
  },
  {
   "cell_type": "code",
   "execution_count": null,
   "id": "0c3bf6f1-0576-417d-9454-d996cb17c40b",
   "metadata": {},
   "outputs": [],
   "source": [
    "plt.plot(timeseries126*1000, label=\"SSP1-2.6\", color=\"green\")\n",
    "plt.plot(timeseries245*1000, label=\"SSP2-4.5\", color=\"darkblue\")\n",
    "plt.plot(timeseries585*1000, label=\"SSP5-8.5\", color=\"orange\")\n",
    "\n",
    "plt.title(\"Approximation Groundwater Recharge (2075)\")\n",
    "plt.xlabel(\"Time\")\n",
    "plt.ylabel(\"Groundwater Recharge [mm/day]\")\n",
    "plt.xticks(rotation=30, ha='right')\n",
    "plt.legend(loc=2);"
   ]
  },
  {
   "cell_type": "code",
   "execution_count": null,
   "id": "939e4944-a557-43b4-ac18-0d85f234cd52",
   "metadata": {},
   "outputs": [],
   "source": [
    "total_126 = timeseries126.sum() * 1000 \n",
    "total_245 = timeseries245.sum() * 1000 \n",
    "total_585 = timeseries585.sum() * 1000 \n",
    "\n",
    "categories = [\"SSP1-2.6\", \"SSP2-4.5\", \"SSP5-8.5\"]\n",
    "totals = [total_126, total_245, total_585]\n",
    "colors = [\"green\", \"darkblue\", \"orange\"]\n",
    "\n",
    "for i in range(len(totals)):\n",
    "    plt.bar(categories[i], totals[i], color=colors[i])\n",
    "\n",
    "plt.title(\"Total Groundwater Recharge Approximation (2075)\")\n",
    "plt.ylabel(\"Total Groundwater Recharge [mm]\")\n",
    "plt.grid()"
   ]
  },
  {
   "cell_type": "code",
   "execution_count": null,
   "id": "14b7a686-644f-48d8-a957-8ca6415673af",
   "metadata": {},
   "outputs": [],
   "source": [
    "pcrglob126.finalize()\n",
    "pcrglob245.finalize()\n",
    "pcrglob585.finalize()"
   ]
  },
  {
   "cell_type": "code",
   "execution_count": null,
   "id": "b88d737e-7911-4bc4-ad57-7e6c4631e2a7",
   "metadata": {},
   "outputs": [],
   "source": []
  }
 ],
 "metadata": {
  "kernelspec": {
   "display_name": "Python 3 (ipykernel)",
   "language": "python",
   "name": "python3"
  },
  "language_info": {
   "codemirror_mode": {
    "name": "ipython",
    "version": 3
   },
   "file_extension": ".py",
   "mimetype": "text/x-python",
   "name": "python",
   "nbconvert_exporter": "python",
   "pygments_lexer": "ipython3",
   "version": "3.12.5"
  }
 },
 "nbformat": 4,
 "nbformat_minor": 5
}
