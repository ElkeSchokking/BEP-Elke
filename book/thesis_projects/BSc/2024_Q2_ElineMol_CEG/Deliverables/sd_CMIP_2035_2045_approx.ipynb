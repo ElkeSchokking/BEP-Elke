{
 "cells": [
  {
   "cell_type": "markdown",
   "id": "d4d13fc0-6d2f-453f-b045-39555dc93f4f",
   "metadata": {},
   "source": [
    "# Sonoran Desert: CMIP6 projections\n",
    "#### Approximation groundwater recharge in 2050\n",
    "Evaporation in 2025, 2050, 2075 and 2100  for the climate scenarios SSP1-2.6, SSP2-4.5 and SSP5-8.5. The camel that is used for this notebook is: hysets_09488650"
   ]
  },
  {
   "cell_type": "code",
   "execution_count": 1,
   "id": "ddba7aa6-2113-4e4d-b642-5aed6107211a",
   "metadata": {},
   "outputs": [],
   "source": [
    "import warnings\n",
    "warnings.filterwarnings(\"ignore\", category=UserWarning)\n",
    "\n",
    "import matplotlib.pyplot as plt\n",
    "from cartopy import crs\n",
    "from cartopy import feature as cfeature\n",
    "import fiona\n",
    "import shapely.geometry\n",
    "from pyproj import Geod\n",
    "from rich import print\n",
    "import pandas as pd\n",
    "import xarray as xr\n",
    "\n",
    "import ewatercycle.forcing\n",
    "import ewatercycle.models\n",
    "import ewatercycle.parameter_sets"
   ]
  },
  {
   "cell_type": "markdown",
   "id": "a3fd9deb-bdbe-469f-b5d2-57f0236ba4a3",
   "metadata": {},
   "source": [
    "### Setting up the model: SSP1-2.6\n",
    "Location of the groundwater recharge: Gila river near Yuma."
   ]
  },
  {
   "cell_type": "code",
   "execution_count": 2,
   "id": "3036b0d0-1f6e-4502-8638-3a63e5756b94",
   "metadata": {},
   "outputs": [],
   "source": [
    "station_latitude = [32.76336494699427, 32.88909499784028, 32.684089485789755, 32.865669088682274, 32.719162360122446, 32.828650757990125, 32.756881878799334, 32.82063561463508, 32.60777730703933, 32.67058677793268, 32.94848416830013]\n",
    "station_longitude = [-114.55114003114731, -114.5017866074773, -114.51809096391581, -113.9776363724262, -114.07727215815218, -113.85359656233821, -114.01646418905023, -113.60895076390092,  -114.10631164360657, -113.76005959016287, -113.35280271756335]"
   ]
  },
  {
   "cell_type": "markdown",
   "id": "301ecb08-2f39-4e80-ac25-2d74d30376f7",
   "metadata": {},
   "source": [
    "Loading the parameter set and forcing set. Setting up the PCR-GlobWB model. "
   ]
  },
  {
   "cell_type": "code",
   "execution_count": 3,
   "id": "9e3e0cc8-8e50-4066-86cc-55628f64da46",
   "metadata": {},
   "outputs": [],
   "source": [
    "parameter_set = ewatercycle.parameter_sets.ParameterSet(\n",
    "    name=\"custom_parameter_set\",\n",
    "    directory= \"/data/shared/parameter-sets/pcrglobwb_global\",\n",
    "    config=\"./pcrglobwb_sonoran_ERA5_05min.ini\",\n",
    "    target_model=\"pcrglobwb\",\n",
    "    supported_model_versions={\"setters\"},\n",
    ")\n",
    "#print(parameter_set)"
   ]
  },
  {
   "cell_type": "code",
   "execution_count": 4,
   "id": "706d3bba-db77-46f2-bff2-090dcb00019d",
   "metadata": {},
   "outputs": [],
   "source": [
    "forcing126 = ewatercycle.forcing.sources[\"PCRGlobWBForcing\"].load(\n",
    "    directory=\"/home/emol/forcing/sonoran_desert_CMIP_SSP126_50/work/diagnostic/script\",\n",
    ")"
   ]
  },
  {
   "cell_type": "code",
   "execution_count": 5,
   "id": "13cd01f4-0e0e-4dd4-836b-1a5f9eccc6b5",
   "metadata": {},
   "outputs": [],
   "source": [
    "pcrglob126 = ewatercycle.models.PCRGlobWB(\n",
    "    parameter_set=parameter_set,\n",
    "    forcing=forcing126\n",
    ")\n",
    "#print(pcrglob)"
   ]
  },
  {
   "cell_type": "markdown",
   "id": "ba4d3e92-38a1-4316-82e5-4a2f0311425c",
   "metadata": {},
   "source": [
    "Years for which PCR-GlobWB needs to simulate the approximation; 2025, 2050, 2075 and 2100."
   ]
  },
  {
   "cell_type": "code",
   "execution_count": 6,
   "id": "6cfa8860-2782-47d1-af1c-aeeafef73561",
   "metadata": {},
   "outputs": [
    {
     "data": {
      "text/plain": [
       "('/home/emol/repos/projects/book/thesis_projects/BSc/2024_Q2_ElineMol_CEG/Deliverables/pcrglobwb_20250109_220220/pcrglobwb_ewatercycle.ini',\n",
       " '/home/emol/repos/projects/book/thesis_projects/BSc/2024_Q2_ElineMol_CEG/Deliverables/pcrglobwb_20250109_220220')"
      ]
     },
     "execution_count": 6,
     "metadata": {},
     "output_type": "execute_result"
    }
   ],
   "source": [
    "#start_time = \"2025-01-01T00:00:00Z\"\n",
    "#end_time = \"2025-12-31T00:00:00Z\"\n",
    "\n",
    "cfg_file126, cfg_dir126 = pcrglob126.setup(\n",
    "    start_time=\"2035-01-01T00:00:00Z\",\n",
    "    end_time=\"2045-12-31T00:00:00Z\",\n",
    "    max_spinups_in_years=0\n",
    ")\n",
    "cfg_file126, cfg_dir126"
   ]
  },
  {
   "cell_type": "code",
   "execution_count": 7,
   "id": "fcf19a7a-59e3-41af-9290-990379cbff6d",
   "metadata": {},
   "outputs": [],
   "source": [
    "pcrglob126.initialize(cfg_file126)"
   ]
  },
  {
   "cell_type": "code",
   "execution_count": 8,
   "id": "6f9d70d7-9673-4dfd-bd06-b6f20608a5e8",
   "metadata": {},
   "outputs": [],
   "source": [
    "time126 = pd.date_range(pcrglob126.start_time_as_isostr, pcrglob126.end_time_as_isostr)\n",
    "timeseries126 = pd.DataFrame(\n",
    "    index=pd.Index(time126, name=\"time\"), columns=[\"PCRGlobWB: Sonoran Desert\"]\n",
    ")\n",
    "\n",
    "recharge126 = pd.DataFrame(\n",
    "    index=pd.Index(time126, name=\"time\"), columns=[\"PCRGlobWB: Sonoran Desert\"]\n",
    ")\n",
    "\n",
    "discharge126 = pd.DataFrame(\n",
    "    index=pd.Index(time126, name=\"time\"), columns=[\"PCRGlobWB: Sonoran Desert\"]\n",
    ")"
   ]
  },
  {
   "cell_type": "code",
   "execution_count": 9,
   "id": "30c0a13d-3c93-434f-8ff6-aedaf80f3dee",
   "metadata": {},
   "outputs": [],
   "source": [
    "while pcrglob126.time < pcrglob126.end_time:\n",
    "    pcrglob126.update()\n",
    "\n",
    "    # Track discharge for all station locations\n",
    "    time = pcrglob126.time_as_isostr  # Current time as ISO string\n",
    "    for i in range(len(station_latitude)):\n",
    "        \n",
    "        discharge_at_station126 = pcrglob126.get_value_at_coords(\n",
    "            \"discharge\", lat=[station_latitude[i]], lon=[station_longitude[i]]\n",
    "        )\n",
    "\n",
    "        precipitation_at_station126 = pcrglob126.get_value_at_coords(\n",
    "            \"precipitation\", lat=[station_latitude[i]], lon=[station_longitude[i]]\n",
    "        )\n",
    "\n",
    "        landsurface_at_station126 = pcrglob126.get_value_at_coords(\n",
    "            \"land_surface_runoff\", lat=[station_latitude[i]], lon=[station_longitude[i]]\n",
    "        )\n",
    "    \n",
    "        evaporation_at_station126 = pcrglob126.get_value_at_coords(\n",
    "            \"total_evaporation\", lat=[station_latitude[i]], lon=[station_longitude[i]]\n",
    "        )\n",
    "\n",
    "        recharge_at_station126 = pcrglob126.get_value_at_coords(\n",
    "            \"groundwater_recharge\", lat=[station_latitude[i]], lon=[station_longitude[i]]\n",
    "        )\n",
    "\n",
    "        abstraction_at_station126 = pcrglob126.get_value_at_coords(\n",
    "            \"total_groundwater_abstraction\", lat=[station_latitude[i]], lon=[station_longitude[i]]\n",
    "        )\n",
    "    \n",
    "        station_key = f\"PCRGlobWB: Station {i+1}\"  \n",
    "        if station_key not in timeseries126:\n",
    "            timeseries126[station_key] = {}\n",
    "\n",
    "        if station_key not in recharge126:\n",
    "            recharge126[station_key] = {}\n",
    "        \n",
    "        if station_key not in discharge126:\n",
    "            discharge126[station_key] = {}\n",
    "        \n",
    "        # Store the discharge value for the current time\n",
    "        timeseries126[station_key][time] = precipitation_at_station126[0] + landsurface_at_station126[0] - evaporation_at_station126[0] - abstraction_at_station126[0] \n",
    "        recharge126[station_key][time] = recharge_at_station126[0]\n",
    "        discharge126[station_key][time] = discharge_at_station126[0]\n",
    "    #print(time126,end='\\r')  # \"\\r\" clears the output before printing the next timestamp"
   ]
  },
  {
   "cell_type": "code",
   "execution_count": 33,
   "id": "e39846f9-74c7-44ba-8cca-93b2a7915154",
   "metadata": {},
   "outputs": [],
   "source": [
    "approx126 = pd.DataFrame(timeseries126)\n",
    "approx126.to_csv('approx126_2035_2045.csv', index=False)\n",
    "\n",
    "Q126 = pd.DataFrame(discharge126)\n",
    "Q126.to_csv('discharge126_2035_2045.csv', index=False)\n",
    "\n",
    "r126 = pd.DataFrame(recharge126)\n",
    "r126.to_csv('recharge126_2035_2045.csv', index=False)"
   ]
  },
  {
   "cell_type": "code",
   "execution_count": 23,
   "id": "226aa154-132e-49ac-877e-13ca3a154bc5",
   "metadata": {},
   "outputs": [
    {
     "data": {
      "text/plain": [
       "<Axes: title={'center': 'Discharge'}, xlabel='time', ylabel='Discharge [mm/day]'>"
      ]
     },
     "execution_count": 23,
     "metadata": {},
     "output_type": "execute_result"
    },
    {
     "data": {
      "image/png": "[encoded data removed]",
      "text/plain": [
       "<Figure size 640x480 with 1 Axes>"
      ]
     },
     "metadata": {},
     "output_type": "display_data"
    }
   ],
   "source": [
    "Q126 = pd.DataFrame(discharge126)\n",
    "Q126['Discharge'] = Q126.mean(axis=1) * 86400 * 1000 / (160000*10**6)\n",
    "Q126['Discharge'].plot(title='Discharge', ylabel='Discharge [mm/day]')"
   ]
  },
  {
   "cell_type": "code",
   "execution_count": 24,
   "id": "4d06691d-29a0-48c5-8e2e-b0bdc4628c15",
   "metadata": {},
   "outputs": [
    {
     "data": {
      "text/plain": [
       "<Axes: title={'center': 'Approximation Groundwater Recharge'}, xlabel='time', ylabel='Recharge [mm/day]'>"
      ]
     },
     "execution_count": 24,
     "metadata": {},
     "output_type": "execute_result"
    },
    {
     "data": {
      "image/png": "[encoded data removed]",
      "text/plain": [
       "<Figure size 640x480 with 1 Axes>"
      ]
     },
     "metadata": {},
     "output_type": "display_data"
    }
   ],
   "source": [
    "approx126 = pd.DataFrame(timeseries126)\n",
    "approx126['Approximation Groundwater Recharge'] = approx126.mean(axis=1)*1000 - Q126['Discharge']\n",
    "approx126['Approximation Groundwater Recharge'].plot(title='Approximation Groundwater Recharge', ylabel = 'Recharge [mm/day]')"
   ]
  },
  {
   "cell_type": "code",
   "execution_count": 12,
   "id": "33517f31-da38-4b8a-8a7d-8fddb479d57e",
   "metadata": {},
   "outputs": [
    {
     "data": {
      "text/plain": [
       "<Axes: title={'center': 'PCR-GlobWB Groundwater Recharge (2025)'}, xlabel='time', ylabel='Recharge [mm/day]'>"
      ]
     },
     "execution_count": 12,
     "metadata": {},
     "output_type": "execute_result"
    },
    {
     "data": {
      "image/png": "[encoded data removed]",
      "text/plain": [
       "<Figure size 640x480 with 1 Axes>"
      ]
     },
     "metadata": {},
     "output_type": "display_data"
    }
   ],
   "source": [
    "recharge126 = pd.DataFrame(recharge126)\n",
    "recharge126['Groundwater Recharge'] = recharge126.mean(axis=1)*1000 \n",
    "recharge126['Groundwater Recharge'].plot(title='PCR-GlobWB Groundwater Recharge (2025)', ylabel = 'Recharge [mm/day]')"
   ]
  },
  {
   "cell_type": "markdown",
   "id": "d145747f-bd55-4111-8932-c6f962548d04",
   "metadata": {},
   "source": [
    "Comparing the approximation with the groundwater recharge that is simulated with PCR-GlobWB."
   ]
  },
  {
   "cell_type": "markdown",
   "id": "e34fe514-d9df-4b9d-9b7a-71ea07382107",
   "metadata": {},
   "source": [
    "### Now for SSP4-6.0\n",
    "First, set up the forcing that will be used in the model."
   ]
  },
  {
   "cell_type": "code",
   "execution_count": 26,
   "id": "3677eeee-25f6-4630-ad0e-b5691ad0e050",
   "metadata": {},
   "outputs": [],
   "source": [
    "parameter_set = ewatercycle.parameter_sets.ParameterSet(\n",
    "    name=\"custom_parameter_set\",\n",
    "    directory= \"/data/shared/parameter-sets/pcrglobwb_global\",\n",
    "    config=\"./pcrglobwb_sonoran_ERA5_05min.ini\",\n",
    "    target_model=\"pcrglobwb\",\n",
    "    supported_model_versions={\"setters\"},\n",
    ")"
   ]
  },
  {
   "cell_type": "code",
   "execution_count": 27,
   "id": "bac804af-28e9-46e7-8e3e-0254009ebf11",
   "metadata": {},
   "outputs": [],
   "source": [
    "forcing245 = ewatercycle.forcing.sources[\"PCRGlobWBForcing\"].load(\n",
    "    directory=\"/home/emol/forcing/sonoran_desert_CMIP_SSP245_50/work/diagnostic/script\",\n",
    ")"
   ]
  },
  {
   "cell_type": "code",
   "execution_count": 28,
   "id": "72866c75-a7e3-4028-8adc-43075591833d",
   "metadata": {},
   "outputs": [],
   "source": [
    "pcrglob245 = ewatercycle.models.PCRGlobWB(\n",
    "    parameter_set=parameter_set,\n",
    "    forcing=forcing245\n",
    ")"
   ]
  },
  {
   "cell_type": "code",
   "execution_count": 29,
   "id": "11d50b22-cf60-44cb-92f8-dec10807cd6b",
   "metadata": {},
   "outputs": [
    {
     "data": {
      "text/plain": [
       "('/home/emol/repos/projects/book/thesis_projects/BSc/2024_Q2_ElineMol_CEG/Deliverables/pcrglobwb_20250110_075911/pcrglobwb_ewatercycle.ini',\n",
       " '/home/emol/repos/projects/book/thesis_projects/BSc/2024_Q2_ElineMol_CEG/Deliverables/pcrglobwb_20250110_075911')"
      ]
     },
     "execution_count": 29,
     "metadata": {},
     "output_type": "execute_result"
    }
   ],
   "source": [
    "#start_time = \"2025-01-01T00:00:00Z\"\n",
    "#end_time = \"2025-12-31T00:00:00Z\"\n",
    "\n",
    "cfg_file245, cfg_dir245 = pcrglob245.setup(\n",
    "    start_time=\"2035-01-01T00:00:00Z\",\n",
    "    end_time=\"2045-12-31T00:00:00Z\",\n",
    "    max_spinups_in_years=0\n",
    ")\n",
    "cfg_file245, cfg_dir245"
   ]
  },
  {
   "cell_type": "code",
   "execution_count": 30,
   "id": "e53b1244-ca3f-4824-b227-f900343b3871",
   "metadata": {},
   "outputs": [],
   "source": [
    "pcrglob245.initialize(cfg_file245)"
   ]
  },
  {
   "cell_type": "code",
   "execution_count": 31,
   "id": "509ea6fd-30d0-49d7-ab08-7bbd5f8c27ab",
   "metadata": {},
   "outputs": [],
   "source": [
    "time245 = pd.date_range(pcrglob245.start_time_as_isostr, pcrglob245.end_time_as_isostr)\n",
    "timeseries245 = pd.DataFrame(\n",
    "    index=pd.Index(time245, name=\"time\"), columns=[\"PCRGlobWB: Sonoran Desert\"]\n",
    ")\n",
    "recharge245 = pd.DataFrame(\n",
    "    index=pd.Index(time245, name=\"time\"), columns=[\"PCRGlobWB: Sonoran Desert\"]\n",
    ")\n",
    "\n",
    "discharge245 = pd.DataFrame(\n",
    "    index=pd.Index(time245, name=\"time\"), columns=[\"PCRGlobWB: Sonoran Desert\"]\n",
    ")"
   ]
  },
  {
   "cell_type": "code",
   "execution_count": 32,
   "id": "ff5ac20b-2a79-4de3-80ec-8b1f1ff92ef0",
   "metadata": {},
   "outputs": [
    {
     "ename": "_InactiveRpcError",
     "evalue": "<_InactiveRpcError of RPC that terminated with:\n\tstatus = StatusCode.UNKNOWN\n\tdetails = \"Exception calling application: Size mismatch: Number of array elements is 7488, number of raster cells is 7776\"\n\tdebug_error_string = \"UNKNOWN:Error received from peer  {created_time:\"2025-01-10T09:00:27.988482855+01:00\", grpc_status:2, grpc_message:\"Exception calling application: Size mismatch: Number of array elements is 7488, number of raster cells is 7776\"}\"\n>",
     "output_type": "error",
     "traceback": [
      "\u001b[0;31m---------------------------------------------------------------------------\u001b[0m",
      "\u001b[0;31m_InactiveRpcError\u001b[0m                         Traceback (most recent call last)",
      "Cell \u001b[0;32mIn[32], line 2\u001b[0m\n\u001b[1;32m      1\u001b[0m \u001b[38;5;28;01mwhile\u001b[39;00m pcrglob245\u001b[38;5;241m.\u001b[39mtime \u001b[38;5;241m<\u001b[39m pcrglob245\u001b[38;5;241m.\u001b[39mend_time:\n\u001b[0;32m----> 2\u001b[0m     \u001b[43mpcrglob245\u001b[49m\u001b[38;5;241;43m.\u001b[39;49m\u001b[43mupdate\u001b[49m\u001b[43m(\u001b[49m\u001b[43m)\u001b[49m\n\u001b[1;32m      4\u001b[0m     \u001b[38;5;66;03m# Track discharge for all station locations\u001b[39;00m\n\u001b[1;32m      5\u001b[0m     time \u001b[38;5;241m=\u001b[39m pcrglob245\u001b[38;5;241m.\u001b[39mtime_as_isostr  \u001b[38;5;66;03m# Current time as ISO string\u001b[39;00m\n",
      "File \u001b[0;32m/opt/conda/envs/ewatercycle2/lib/python3.12/site-packages/ewatercycle/base/model.py:182\u001b[0m, in \u001b[0;36meWaterCycleModel.update\u001b[0;34m(self)\u001b[0m\n\u001b[1;32m    180\u001b[0m \u001b[38;5;28;01mdef\u001b[39;00m \u001b[38;5;21mupdate\u001b[39m(\u001b[38;5;28mself\u001b[39m) \u001b[38;5;241m-\u001b[39m\u001b[38;5;241m>\u001b[39m \u001b[38;5;28;01mNone\u001b[39;00m:\n\u001b[1;32m    181\u001b[0m \u001b[38;5;250m    \u001b[39m\u001b[38;5;124;03m\"\"\"Advance model state by one time step.\"\"\"\u001b[39;00m\n\u001b[0;32m--> 182\u001b[0m     \u001b[38;5;28;43mself\u001b[39;49m\u001b[38;5;241;43m.\u001b[39;49m\u001b[43m_bmi\u001b[49m\u001b[38;5;241;43m.\u001b[39;49m\u001b[43mupdate\u001b[49m\u001b[43m(\u001b[49m\u001b[43m)\u001b[49m\n",
      "File \u001b[0;32m/opt/conda/envs/ewatercycle2/lib/python3.12/site-packages/grpc4bmi/bmi_optionaldest.py:52\u001b[0m, in \u001b[0;36mOptionalDestBmi.update\u001b[0;34m(self)\u001b[0m\n\u001b[1;32m     51\u001b[0m \u001b[38;5;28;01mdef\u001b[39;00m \u001b[38;5;21mupdate\u001b[39m(\u001b[38;5;28mself\u001b[39m) \u001b[38;5;241m-\u001b[39m\u001b[38;5;241m>\u001b[39m \u001b[38;5;28;01mNone\u001b[39;00m:\n\u001b[0;32m---> 52\u001b[0m     \u001b[38;5;28;43mself\u001b[39;49m\u001b[38;5;241;43m.\u001b[39;49m\u001b[43morigin\u001b[49m\u001b[38;5;241;43m.\u001b[39;49m\u001b[43mupdate\u001b[49m\u001b[43m(\u001b[49m\u001b[43m)\u001b[49m\n",
      "File \u001b[0;32m/opt/conda/envs/ewatercycle2/lib/python3.12/site-packages/grpc4bmi/bmi_memoized.py:60\u001b[0m, in \u001b[0;36mMemoizedBmi.update\u001b[0;34m(self)\u001b[0m\n\u001b[1;32m     59\u001b[0m \u001b[38;5;28;01mdef\u001b[39;00m \u001b[38;5;21mupdate\u001b[39m(\u001b[38;5;28mself\u001b[39m):\n\u001b[0;32m---> 60\u001b[0m     \u001b[38;5;28;43mself\u001b[39;49m\u001b[38;5;241;43m.\u001b[39;49m\u001b[43morigin\u001b[49m\u001b[38;5;241;43m.\u001b[39;49m\u001b[43mupdate\u001b[49m\u001b[43m(\u001b[49m\u001b[43m)\u001b[49m\n",
      "File \u001b[0;32m/opt/conda/envs/ewatercycle2/lib/python3.12/site-packages/ewatercycle/container.py:453\u001b[0m, in \u001b[0;36mBmiProxy.update\u001b[0;34m(self)\u001b[0m\n\u001b[1;32m    452\u001b[0m \u001b[38;5;28;01mdef\u001b[39;00m \u001b[38;5;21mupdate\u001b[39m(\u001b[38;5;28mself\u001b[39m) \u001b[38;5;241m-\u001b[39m\u001b[38;5;241m>\u001b[39m \u001b[38;5;28;01mNone\u001b[39;00m:\n\u001b[0;32m--> 453\u001b[0m     \u001b[38;5;28;01mreturn\u001b[39;00m \u001b[38;5;28;43mself\u001b[39;49m\u001b[38;5;241;43m.\u001b[39;49m\u001b[43morigin\u001b[49m\u001b[38;5;241;43m.\u001b[39;49m\u001b[43mupdate\u001b[49m\u001b[43m(\u001b[49m\u001b[43m)\u001b[49m\n",
      "File \u001b[0;32m/opt/conda/envs/ewatercycle2/lib/python3.12/site-packages/grpc4bmi/bmi_grpc_client.py:107\u001b[0m, in \u001b[0;36mBmiClient.update\u001b[0;34m(self)\u001b[0m\n\u001b[1;32m    105\u001b[0m     \u001b[38;5;28mself\u001b[39m\u001b[38;5;241m.\u001b[39mstub\u001b[38;5;241m.\u001b[39mupdate(bmi_pb2\u001b[38;5;241m.\u001b[39mEmpty())\n\u001b[1;32m    106\u001b[0m \u001b[38;5;28;01mexcept\u001b[39;00m grpc\u001b[38;5;241m.\u001b[39mRpcError \u001b[38;5;28;01mas\u001b[39;00m e:\n\u001b[0;32m--> 107\u001b[0m     \u001b[43mhandle_error\u001b[49m\u001b[43m(\u001b[49m\u001b[43me\u001b[49m\u001b[43m)\u001b[49m\n",
      "File \u001b[0;32m/opt/conda/envs/ewatercycle2/lib/python3.12/site-packages/grpc4bmi/bmi_grpc_client.py:105\u001b[0m, in \u001b[0;36mBmiClient.update\u001b[0;34m(self)\u001b[0m\n\u001b[1;32m    103\u001b[0m \u001b[38;5;28;01mdef\u001b[39;00m \u001b[38;5;21mupdate\u001b[39m(\u001b[38;5;28mself\u001b[39m):\n\u001b[1;32m    104\u001b[0m     \u001b[38;5;28;01mtry\u001b[39;00m:\n\u001b[0;32m--> 105\u001b[0m         \u001b[38;5;28;43mself\u001b[39;49m\u001b[38;5;241;43m.\u001b[39;49m\u001b[43mstub\u001b[49m\u001b[38;5;241;43m.\u001b[39;49m\u001b[43mupdate\u001b[49m\u001b[43m(\u001b[49m\u001b[43mbmi_pb2\u001b[49m\u001b[38;5;241;43m.\u001b[39;49m\u001b[43mEmpty\u001b[49m\u001b[43m(\u001b[49m\u001b[43m)\u001b[49m\u001b[43m)\u001b[49m\n\u001b[1;32m    106\u001b[0m     \u001b[38;5;28;01mexcept\u001b[39;00m grpc\u001b[38;5;241m.\u001b[39mRpcError \u001b[38;5;28;01mas\u001b[39;00m e:\n\u001b[1;32m    107\u001b[0m         handle_error(e)\n",
      "File \u001b[0;32m/opt/conda/envs/ewatercycle2/lib/python3.12/site-packages/grpc/_channel.py:1176\u001b[0m, in \u001b[0;36m_UnaryUnaryMultiCallable.__call__\u001b[0;34m(self, request, timeout, metadata, credentials, wait_for_ready, compression)\u001b[0m\n\u001b[1;32m   1161\u001b[0m \u001b[38;5;28;01mdef\u001b[39;00m \u001b[38;5;21m__call__\u001b[39m(\n\u001b[1;32m   1162\u001b[0m     \u001b[38;5;28mself\u001b[39m,\n\u001b[1;32m   1163\u001b[0m     request: Any,\n\u001b[0;32m   (...)\u001b[0m\n\u001b[1;32m   1168\u001b[0m     compression: Optional[grpc\u001b[38;5;241m.\u001b[39mCompression] \u001b[38;5;241m=\u001b[39m \u001b[38;5;28;01mNone\u001b[39;00m,\n\u001b[1;32m   1169\u001b[0m ) \u001b[38;5;241m-\u001b[39m\u001b[38;5;241m>\u001b[39m Any:\n\u001b[1;32m   1170\u001b[0m     (\n\u001b[1;32m   1171\u001b[0m         state,\n\u001b[1;32m   1172\u001b[0m         call,\n\u001b[1;32m   1173\u001b[0m     ) \u001b[38;5;241m=\u001b[39m \u001b[38;5;28mself\u001b[39m\u001b[38;5;241m.\u001b[39m_blocking(\n\u001b[1;32m   1174\u001b[0m         request, timeout, metadata, credentials, wait_for_ready, compression\n\u001b[1;32m   1175\u001b[0m     )\n\u001b[0;32m-> 1176\u001b[0m     \u001b[38;5;28;01mreturn\u001b[39;00m \u001b[43m_end_unary_response_blocking\u001b[49m\u001b[43m(\u001b[49m\u001b[43mstate\u001b[49m\u001b[43m,\u001b[49m\u001b[43m \u001b[49m\u001b[43mcall\u001b[49m\u001b[43m,\u001b[49m\u001b[43m \u001b[49m\u001b[38;5;28;43;01mFalse\u001b[39;49;00m\u001b[43m,\u001b[49m\u001b[43m \u001b[49m\u001b[38;5;28;43;01mNone\u001b[39;49;00m\u001b[43m)\u001b[49m\n",
      "File \u001b[0;32m/opt/conda/envs/ewatercycle2/lib/python3.12/site-packages/grpc/_channel.py:1005\u001b[0m, in \u001b[0;36m_end_unary_response_blocking\u001b[0;34m(state, call, with_call, deadline)\u001b[0m\n\u001b[1;32m   1003\u001b[0m         \u001b[38;5;28;01mreturn\u001b[39;00m state\u001b[38;5;241m.\u001b[39mresponse\n\u001b[1;32m   1004\u001b[0m \u001b[38;5;28;01melse\u001b[39;00m:\n\u001b[0;32m-> 1005\u001b[0m     \u001b[38;5;28;01mraise\u001b[39;00m _InactiveRpcError(state)\n",
      "\u001b[0;31m_InactiveRpcError\u001b[0m: <_InactiveRpcError of RPC that terminated with:\n\tstatus = StatusCode.UNKNOWN\n\tdetails = \"Exception calling application: Size mismatch: Number of array elements is 7488, number of raster cells is 7776\"\n\tdebug_error_string = \"UNKNOWN:Error received from peer  {created_time:\"2025-01-10T09:00:27.988482855+01:00\", grpc_status:2, grpc_message:\"Exception calling application: Size mismatch: Number of array elements is 7488, number of raster cells is 7776\"}\"\n>"
     ]
    }
   ],
   "source": [
    "while pcrglob245.time < pcrglob245.end_time:\n",
    "    pcrglob245.update()\n",
    "\n",
    "    # Track discharge for all station locations\n",
    "    time = pcrglob245.time_as_isostr  # Current time as ISO string\n",
    "    for i in range(len(station_latitude)):\n",
    "        \n",
    "        discharge_at_station245 = pcrglob245.get_value_at_coords(\n",
    "            \"discharge\", lat=[station_latitude[i]], lon=[station_longitude[i]]\n",
    "        )\n",
    "\n",
    "        precipitation_at_station245 = pcrglob245.get_value_at_coords(\n",
    "            \"precipitation\", lat=[station_latitude[i]], lon=[station_longitude[i]]\n",
    "        )\n",
    "\n",
    "        landsurface_at_station245 = pcrglob245.get_value_at_coords(\n",
    "            \"land_surface_runoff\", lat=[station_latitude[i]], lon=[station_longitude[i]]\n",
    "        )\n",
    "    \n",
    "        evaporation_at_station245 = pcrglob245.get_value_at_coords(\n",
    "            \"total_evaporation\", lat=[station_latitude[i]], lon=[station_longitude[i]]\n",
    "        )\n",
    "\n",
    "        recharge_at_station245 = pcrglob245.get_value_at_coords(\n",
    "            \"groundwater_recharge\", lat=[station_latitude[i]], lon=[station_longitude[i]]\n",
    "        )\n",
    "\n",
    "        abstraction_at_station245 = pcrglob245.get_value_at_coords(\n",
    "            \"total_groundwater_abstraction\", lat=[station_latitude[i]], lon=[station_longitude[i]]\n",
    "        )\n",
    "        station_key = f\"PCRGlobWB: Station {i+1}\"  \n",
    "        if station_key not in timeseries245:\n",
    "            timeseries245[station_key] = {}\n",
    "\n",
    "        if station_key not in recharge245:\n",
    "            recharge245[station_key] = {}\n",
    "        \n",
    "        if station_key not in discharge245:\n",
    "            discharge245[station_key] = {}\n",
    "        \n",
    "        # Store the discharge value for the current time\n",
    "        timeseries245[station_key][time] = precipitation_at_station245[0] + landsurface_at_station245[0] - evaporation_at_station245[0] - abstraction_at_station245[0] \n",
    "        recharge245[station_key][time] = recharge_at_station245[0]\n",
    "        discharge245[station_key][time] = discharge_at_station245[0]\n",
    "    \n",
    "    #print(time245,end='\\r')  # \"\\r\" clears the output before printing the next timestamp"
   ]
  },
  {
   "cell_type": "code",
   "execution_count": null,
   "id": "738a3103-9d2e-423d-a6fa-4d9b85ea8db5",
   "metadata": {},
   "outputs": [],
   "source": [
    "Q245 = pd.DataFrame(discharge245)\n",
    "Q245['Discharge'] = Q245.mean(axis=1) * 86400 * 1000 / (160000*10**6)\n",
    "Q245['Discharge'].plot(title='Discharge', ylabel='Discharge [mm/day]')"
   ]
  },
  {
   "cell_type": "code",
   "execution_count": null,
   "id": "1f199162-2022-4f3c-bf4d-f5fafa3d7135",
   "metadata": {},
   "outputs": [],
   "source": [
    "approx245 = pd.DataFrame(timeseries245)\n",
    "approx245['Approximation Groundwater Recharge'] = approx245.mean(axis=1)*1000 - Q245['Discharge']\n",
    "approx245['Approximation Groundwater Recharge'].plot(title='Approximation Groundwater Recharge', ylabel = 'Recharge [mm/day]')"
   ]
  },
  {
   "cell_type": "code",
   "execution_count": null,
   "id": "57c01429-5f18-4f6e-8b90-8101f27820b8",
   "metadata": {},
   "outputs": [],
   "source": [
    "recharge245 = pd.DataFrame(recharge245)\n",
    "recharge245['Groundwater Recharge'] = recharge245.mean(axis=1)*1000 \n",
    "recharge245['Groundwater Recharge'].plot(title='PCR-GlobWB Groundwater Recharge (2025)', ylabel = 'Recharge [mm/day]')"
   ]
  },
  {
   "cell_type": "markdown",
   "id": "bf0cbc1c-3cb8-43ae-89b7-387e2b76e8a8",
   "metadata": {},
   "source": [
    "Comparing the approximation with the groundwater recharge that is simulated with PCR-GlobWB."
   ]
  },
  {
   "cell_type": "markdown",
   "id": "febb76b8-1990-494e-aa87-ab8bb72a14e0",
   "metadata": {},
   "source": [
    "### Now for SSP5-8.5\n",
    "First, set up the forcing."
   ]
  },
  {
   "cell_type": "code",
   "execution_count": 34,
   "id": "3662294b-edb4-43a0-b843-34662415a949",
   "metadata": {},
   "outputs": [],
   "source": [
    "parameter_set = ewatercycle.parameter_sets.ParameterSet(\n",
    "    name=\"custom_parameter_set\",\n",
    "    directory= \"/data/shared/parameter-sets/pcrglobwb_global\",\n",
    "    config=\"./pcrglobwb_sonoran_ERA5_05min.ini\",\n",
    "    target_model=\"pcrglobwb\",\n",
    "    supported_model_versions={\"setters\"},\n",
    ")\n",
    "#print(parameter_set)"
   ]
  },
  {
   "cell_type": "code",
   "execution_count": 35,
   "id": "6f60a5f7-0fbc-489a-80d5-6da781029b3a",
   "metadata": {},
   "outputs": [],
   "source": [
    "forcing585 = ewatercycle.forcing.sources[\"PCRGlobWBForcing\"].load(\n",
    "    directory=\"/home/emol/forcing/sonoran_desert_CMIP_SSP585_50/work/diagnostic/script\",\n",
    ")\n",
    "#print(forcing)"
   ]
  },
  {
   "cell_type": "code",
   "execution_count": 36,
   "id": "a2b305b0-26d0-4a85-8cc1-d46c0897d3bc",
   "metadata": {},
   "outputs": [],
   "source": [
    "pcrglob585 = ewatercycle.models.PCRGlobWB(\n",
    "    parameter_set=parameter_set,\n",
    "    forcing=forcing585\n",
    ")"
   ]
  },
  {
   "cell_type": "code",
   "execution_count": 38,
   "id": "13f65ae0-7964-43fe-afe4-ef82d170343f",
   "metadata": {},
   "outputs": [
    {
     "ename": "OSError",
     "evalue": "[Errno 107] Transport endpoint is not connected: '/data/shared/singularity-images/ewatercycle-pcrg-grpc4bmi_setters.sif'",
     "output_type": "error",
     "traceback": [
      "\u001b[0;31m---------------------------------------------------------------------------\u001b[0m",
      "\u001b[0;31mOSError\u001b[0m                                   Traceback (most recent call last)",
      "Cell \u001b[0;32mIn[38], line 4\u001b[0m\n\u001b[1;32m      1\u001b[0m \u001b[38;5;66;03m#start_time = \"2025-01-01T00:00:00Z\"\u001b[39;00m\n\u001b[1;32m      2\u001b[0m \u001b[38;5;66;03m#end_time = \"2025-12-31T00:00:00Z\"\u001b[39;00m\n\u001b[0;32m----> 4\u001b[0m cfg_file585, cfg_dir585 \u001b[38;5;241m=\u001b[39m \u001b[43mpcrglob585\u001b[49m\u001b[38;5;241;43m.\u001b[39;49m\u001b[43msetup\u001b[49m\u001b[43m(\u001b[49m\n\u001b[1;32m      5\u001b[0m \u001b[43m    \u001b[49m\u001b[43mstart_time\u001b[49m\u001b[38;5;241;43m=\u001b[39;49m\u001b[38;5;124;43m\"\u001b[39;49m\u001b[38;5;124;43m2035-01-01T00:00:00Z\u001b[39;49m\u001b[38;5;124;43m\"\u001b[39;49m\u001b[43m,\u001b[49m\n\u001b[1;32m      6\u001b[0m \u001b[43m    \u001b[49m\u001b[43mend_time\u001b[49m\u001b[38;5;241;43m=\u001b[39;49m\u001b[38;5;124;43m\"\u001b[39;49m\u001b[38;5;124;43m2045-12-31T00:00:00Z\u001b[39;49m\u001b[38;5;124;43m\"\u001b[39;49m\u001b[43m,\u001b[49m\n\u001b[1;32m      7\u001b[0m \u001b[43m    \u001b[49m\u001b[43mmax_spinups_in_years\u001b[49m\u001b[38;5;241;43m=\u001b[39;49m\u001b[38;5;241;43m0\u001b[39;49m\n\u001b[1;32m      8\u001b[0m \u001b[43m)\u001b[49m\n\u001b[1;32m      9\u001b[0m cfg_file585, cfg_dir585\n",
      "File \u001b[0;32m/opt/conda/envs/ewatercycle2/lib/python3.12/site-packages/ewatercycle/base/model.py:121\u001b[0m, in \u001b[0;36meWaterCycleModel.setup\u001b[0;34m(self, cfg_dir, **kwargs)\u001b[0m\n\u001b[1;32m    119\u001b[0m \u001b[38;5;28mself\u001b[39m\u001b[38;5;241m.\u001b[39m_cfg_dir: Path \u001b[38;5;241m=\u001b[39m \u001b[38;5;28mself\u001b[39m\u001b[38;5;241m.\u001b[39m_make_cfg_dir(cfg_dir)\n\u001b[1;32m    120\u001b[0m \u001b[38;5;28mself\u001b[39m\u001b[38;5;241m.\u001b[39m_cfg_file: Path \u001b[38;5;241m=\u001b[39m \u001b[38;5;28mself\u001b[39m\u001b[38;5;241m.\u001b[39m_make_cfg_file(\u001b[38;5;241m*\u001b[39m\u001b[38;5;241m*\u001b[39mkwargs)\n\u001b[0;32m--> 121\u001b[0m \u001b[38;5;28mself\u001b[39m\u001b[38;5;241m.\u001b[39m_bmi \u001b[38;5;241m=\u001b[39m \u001b[38;5;28;43mself\u001b[39;49m\u001b[38;5;241;43m.\u001b[39;49m\u001b[43m_make_bmi_instance\u001b[49m\u001b[43m(\u001b[49m\u001b[43m)\u001b[49m\n\u001b[1;32m    123\u001b[0m \u001b[38;5;28;01mreturn\u001b[39;00m \u001b[38;5;28mstr\u001b[39m(\u001b[38;5;28mself\u001b[39m\u001b[38;5;241m.\u001b[39m_cfg_file), \u001b[38;5;28mstr\u001b[39m(\u001b[38;5;28mself\u001b[39m\u001b[38;5;241m.\u001b[39m_cfg_dir)\n",
      "File \u001b[0;32m/opt/conda/envs/ewatercycle2/lib/python3.12/site-packages/ewatercycle_pcrglobwb/model.py:123\u001b[0m, in \u001b[0;36mPCRGlobWB._make_bmi_instance\u001b[0;34m(self)\u001b[0m\n\u001b[1;32m    120\u001b[0m \u001b[38;5;28;01mif\u001b[39;00m \u001b[38;5;28mself\u001b[39m\u001b[38;5;241m.\u001b[39mforcing:\n\u001b[1;32m    121\u001b[0m     \u001b[38;5;28mself\u001b[39m\u001b[38;5;241m.\u001b[39m_additional_input_dirs\u001b[38;5;241m.\u001b[39mappend(\u001b[38;5;28mstr\u001b[39m(\u001b[38;5;28mself\u001b[39m\u001b[38;5;241m.\u001b[39mforcing\u001b[38;5;241m.\u001b[39mdirectory))\n\u001b[0;32m--> 123\u001b[0m \u001b[38;5;28;01mreturn\u001b[39;00m \u001b[43mstart_container\u001b[49m\u001b[43m(\u001b[49m\n\u001b[1;32m    124\u001b[0m \u001b[43m    \u001b[49m\u001b[43mimage\u001b[49m\u001b[38;5;241;43m=\u001b[39;49m\u001b[38;5;28;43mself\u001b[39;49m\u001b[38;5;241;43m.\u001b[39;49m\u001b[43mbmi_image\u001b[49m\u001b[43m,\u001b[49m\n\u001b[1;32m    125\u001b[0m \u001b[43m    \u001b[49m\u001b[43mwork_dir\u001b[49m\u001b[38;5;241;43m=\u001b[39;49m\u001b[38;5;28;43mself\u001b[39;49m\u001b[38;5;241;43m.\u001b[39;49m\u001b[43m_cfg_dir\u001b[49m\u001b[43m,\u001b[49m\n\u001b[1;32m    126\u001b[0m \u001b[43m    \u001b[49m\u001b[43minput_dirs\u001b[49m\u001b[38;5;241;43m=\u001b[39;49m\u001b[38;5;28;43mself\u001b[39;49m\u001b[38;5;241;43m.\u001b[39;49m\u001b[43m_additional_input_dirs\u001b[49m\u001b[43m,\u001b[49m\n\u001b[1;32m    127\u001b[0m \u001b[43m    \u001b[49m\u001b[43mtimeout\u001b[49m\u001b[38;5;241;43m=\u001b[39;49m\u001b[38;5;241;43m300\u001b[39;49m\u001b[43m,\u001b[49m\n\u001b[1;32m    128\u001b[0m \u001b[43m    \u001b[49m\u001b[43mwrappers\u001b[49m\u001b[38;5;241;43m=\u001b[39;49m\u001b[43m(\u001b[49m\u001b[43m_SwapXY\u001b[49m\u001b[43m,\u001b[49m\u001b[43m \u001b[49m\u001b[43mMemoizedBmi\u001b[49m\u001b[43m,\u001b[49m\u001b[43m \u001b[49m\u001b[43mOptionalDestBmi\u001b[49m\u001b[43m)\u001b[49m\u001b[43m,\u001b[49m\n\u001b[1;32m    129\u001b[0m \u001b[43m\u001b[49m\u001b[43m)\u001b[49m\n",
      "File \u001b[0;32m/opt/conda/envs/ewatercycle2/lib/python3.12/site-packages/ewatercycle/container.py:190\u001b[0m, in \u001b[0;36mstart_container\u001b[0;34m(work_dir, image, input_dirs, image_port, timeout, delay, wrappers)\u001b[0m\n\u001b[1;32m    186\u001b[0m     bmi \u001b[38;5;241m=\u001b[39m start_docker_container(\n\u001b[1;32m    187\u001b[0m         work_dir, image, input_dirs, image_port, timeout, delay\n\u001b[1;32m    188\u001b[0m     )\n\u001b[1;32m    189\u001b[0m \u001b[38;5;28;01melif\u001b[39;00m engine \u001b[38;5;241m==\u001b[39m \u001b[38;5;124m\"\u001b[39m\u001b[38;5;124mapptainer\u001b[39m\u001b[38;5;124m\"\u001b[39m:\n\u001b[0;32m--> 190\u001b[0m     bmi \u001b[38;5;241m=\u001b[39m \u001b[43mstart_apptainer_container\u001b[49m\u001b[43m(\u001b[49m\n\u001b[1;32m    191\u001b[0m \u001b[43m        \u001b[49m\u001b[43mwork_dir\u001b[49m\u001b[43m,\u001b[49m\n\u001b[1;32m    192\u001b[0m \u001b[43m        \u001b[49m\u001b[43mimage\u001b[49m\u001b[43m,\u001b[49m\n\u001b[1;32m    193\u001b[0m \u001b[43m        \u001b[49m\u001b[43minput_dirs\u001b[49m\u001b[43m,\u001b[49m\n\u001b[1;32m    194\u001b[0m \u001b[43m        \u001b[49m\u001b[43mtimeout\u001b[49m\u001b[43m,\u001b[49m\n\u001b[1;32m    195\u001b[0m \u001b[43m        \u001b[49m\u001b[43mdelay\u001b[49m\u001b[43m,\u001b[49m\n\u001b[1;32m    196\u001b[0m \u001b[43m    \u001b[49m\u001b[43m)\u001b[49m\n\u001b[1;32m    197\u001b[0m \u001b[38;5;28;01melse\u001b[39;00m:\n\u001b[1;32m    198\u001b[0m     msg \u001b[38;5;241m=\u001b[39m \u001b[38;5;124mf\u001b[39m\u001b[38;5;124m\"\u001b[39m\u001b[38;5;124mUnknown container technology: \u001b[39m\u001b[38;5;132;01m{\u001b[39;00mCFG\u001b[38;5;241m.\u001b[39mcontainer_engine\u001b[38;5;132;01m}\u001b[39;00m\u001b[38;5;124m\"\u001b[39m\n",
      "File \u001b[0;32m/opt/conda/envs/ewatercycle2/lib/python3.12/site-packages/ewatercycle/container.py:233\u001b[0m, in \u001b[0;36mstart_apptainer_container\u001b[0;34m(work_dir, image, input_dirs, timeout, delay)\u001b[0m\n\u001b[1;32m    213\u001b[0m \u001b[38;5;250m\u001b[39m\u001b[38;5;124;03m\"\"\"Start Apptainer container with model inside.\u001b[39;00m\n\u001b[1;32m    214\u001b[0m \n\u001b[1;32m    215\u001b[0m \u001b[38;5;124;03mArgs:\u001b[39;00m\n\u001b[0;32m   (...)\u001b[0m\n\u001b[1;32m    230\u001b[0m \u001b[38;5;124;03m    Bmi object which wraps the container.\u001b[39;00m\n\u001b[1;32m    231\u001b[0m \u001b[38;5;124;03m\"\"\"\u001b[39;00m\n\u001b[1;32m    232\u001b[0m image_fn \u001b[38;5;241m=\u001b[39m image\u001b[38;5;241m.\u001b[39mapptainer_filename\n\u001b[0;32m--> 233\u001b[0m \u001b[38;5;28;01mif\u001b[39;00m \u001b[43m(\u001b[49m\u001b[43mCFG\u001b[49m\u001b[38;5;241;43m.\u001b[39;49m\u001b[43mapptainer_dir\u001b[49m\u001b[43m \u001b[49m\u001b[38;5;241;43m/\u001b[39;49m\u001b[43m \u001b[49m\u001b[43mimage_fn\u001b[49m\u001b[43m)\u001b[49m\u001b[38;5;241;43m.\u001b[39;49m\u001b[43mexists\u001b[49m\u001b[43m(\u001b[49m\u001b[43m)\u001b[49m:\n\u001b[1;32m    234\u001b[0m     image_fn \u001b[38;5;241m=\u001b[39m \u001b[38;5;28mstr\u001b[39m(CFG\u001b[38;5;241m.\u001b[39mapptainer_dir \u001b[38;5;241m/\u001b[39m image_fn)\n\u001b[1;32m    236\u001b[0m \u001b[38;5;28;01mtry\u001b[39;00m:\n",
      "File \u001b[0;32m/opt/conda/envs/ewatercycle2/lib/python3.12/pathlib.py:860\u001b[0m, in \u001b[0;36mPath.exists\u001b[0;34m(self, follow_symlinks)\u001b[0m\n\u001b[1;32m    853\u001b[0m \u001b[38;5;250m\u001b[39m\u001b[38;5;124;03m\"\"\"\u001b[39;00m\n\u001b[1;32m    854\u001b[0m \u001b[38;5;124;03mWhether this path exists.\u001b[39;00m\n\u001b[1;32m    855\u001b[0m \n\u001b[1;32m    856\u001b[0m \u001b[38;5;124;03mThis method normally follows symlinks; to check whether a symlink exists,\u001b[39;00m\n\u001b[1;32m    857\u001b[0m \u001b[38;5;124;03madd the argument follow_symlinks=False.\u001b[39;00m\n\u001b[1;32m    858\u001b[0m \u001b[38;5;124;03m\"\"\"\u001b[39;00m\n\u001b[1;32m    859\u001b[0m \u001b[38;5;28;01mtry\u001b[39;00m:\n\u001b[0;32m--> 860\u001b[0m     \u001b[38;5;28;43mself\u001b[39;49m\u001b[38;5;241;43m.\u001b[39;49m\u001b[43mstat\u001b[49m\u001b[43m(\u001b[49m\u001b[43mfollow_symlinks\u001b[49m\u001b[38;5;241;43m=\u001b[39;49m\u001b[43mfollow_symlinks\u001b[49m\u001b[43m)\u001b[49m\n\u001b[1;32m    861\u001b[0m \u001b[38;5;28;01mexcept\u001b[39;00m \u001b[38;5;167;01mOSError\u001b[39;00m \u001b[38;5;28;01mas\u001b[39;00m e:\n\u001b[1;32m    862\u001b[0m     \u001b[38;5;28;01mif\u001b[39;00m \u001b[38;5;129;01mnot\u001b[39;00m _ignore_error(e):\n",
      "File \u001b[0;32m/opt/conda/envs/ewatercycle2/lib/python3.12/pathlib.py:840\u001b[0m, in \u001b[0;36mPath.stat\u001b[0;34m(self, follow_symlinks)\u001b[0m\n\u001b[1;32m    835\u001b[0m \u001b[38;5;28;01mdef\u001b[39;00m \u001b[38;5;21mstat\u001b[39m(\u001b[38;5;28mself\u001b[39m, \u001b[38;5;241m*\u001b[39m, follow_symlinks\u001b[38;5;241m=\u001b[39m\u001b[38;5;28;01mTrue\u001b[39;00m):\n\u001b[1;32m    836\u001b[0m \u001b[38;5;250m    \u001b[39m\u001b[38;5;124;03m\"\"\"\u001b[39;00m\n\u001b[1;32m    837\u001b[0m \u001b[38;5;124;03m    Return the result of the stat() system call on this path, like\u001b[39;00m\n\u001b[1;32m    838\u001b[0m \u001b[38;5;124;03m    os.stat() does.\u001b[39;00m\n\u001b[1;32m    839\u001b[0m \u001b[38;5;124;03m    \"\"\"\u001b[39;00m\n\u001b[0;32m--> 840\u001b[0m     \u001b[38;5;28;01mreturn\u001b[39;00m \u001b[43mos\u001b[49m\u001b[38;5;241;43m.\u001b[39;49m\u001b[43mstat\u001b[49m\u001b[43m(\u001b[49m\u001b[38;5;28;43mself\u001b[39;49m\u001b[43m,\u001b[49m\u001b[43m \u001b[49m\u001b[43mfollow_symlinks\u001b[49m\u001b[38;5;241;43m=\u001b[39;49m\u001b[43mfollow_symlinks\u001b[49m\u001b[43m)\u001b[49m\n",
      "\u001b[0;31mOSError\u001b[0m: [Errno 107] Transport endpoint is not connected: '/data/shared/singularity-images/ewatercycle-pcrg-grpc4bmi_setters.sif'"
     ]
    }
   ],
   "source": [
    "#start_time = \"2025-01-01T00:00:00Z\"\n",
    "#end_time = \"2025-12-31T00:00:00Z\"\n",
    "\n",
    "cfg_file585, cfg_dir585 = pcrglob585.setup(\n",
    "    start_time=\"2035-01-01T00:00:00Z\",\n",
    "    end_time=\"2045-12-31T00:00:00Z\",\n",
    "    max_spinups_in_years=0\n",
    ")\n",
    "cfg_file585, cfg_dir585"
   ]
  },
  {
   "cell_type": "code",
   "execution_count": null,
   "id": "e4a5a284-f81c-40fd-9181-eaa9369eb8a8",
   "metadata": {},
   "outputs": [],
   "source": [
    "pcrglob585.initialize(cfg_file585)"
   ]
  },
  {
   "cell_type": "code",
   "execution_count": null,
   "id": "2da2e165-ffe4-404b-9836-d3ebba8e20c7",
   "metadata": {},
   "outputs": [],
   "source": [
    "time585 = pd.date_range(pcrglob585.start_time_as_isostr, pcrglob585.end_time_as_isostr)\n",
    "timeseries585 = pd.DataFrame(\n",
    "    index=pd.Index(time585, name=\"time\"), columns=[\"PCRGlobWB: Sonoran Desert\"]\n",
    ")\n",
    "\n",
    "recharge585 =  pd.DataFrame(\n",
    "    index=pd.Index(time585, name=\"time\"), columns=[\"PCRGlobWB: Sonoran Desert\"]\n",
    ")\n",
    "\n",
    "discharge585 = pd.DataFrame(\n",
    "    index=pd.Index(time585, name=\"time\"), columns=[\"PCRGlobWB: Sonoran Desert\"]\n",
    ")"
   ]
  },
  {
   "cell_type": "code",
   "execution_count": null,
   "id": "637e5f77-1364-4615-8959-75ff18a431bd",
   "metadata": {},
   "outputs": [],
   "source": [
    "while pcrglob585.time < pcrglob585.end_time:\n",
    "    pcrglob585.update()\n",
    "\n",
    "    # Track discharge for all station locations\n",
    "    time = pcrglob585.time_as_isostr  # Current time as ISO string\n",
    "    for i in range(len(station_latitude)):\n",
    "        \n",
    "        discharge_at_station585 = pcrglob585.get_value_at_coords(\n",
    "            \"discharge\", lat=[station_latitude[i]], lon=[station_longitude[i]]\n",
    "        )\n",
    "\n",
    "        precipitation_at_station585 = pcrglob585.get_value_at_coords(\n",
    "            \"precipitation\", lat=[station_latitude[i]], lon=[station_longitude[i]]\n",
    "        )\n",
    "\n",
    "        landsurface_at_station585 = pcrglob585.get_value_at_coords(\n",
    "            \"land_surface_runoff\", lat=[station_latitude[i]], lon=[station_longitude[i]]\n",
    "        )\n",
    "    \n",
    "        evaporation_at_station585 = pcrglob585.get_value_at_coords(\n",
    "            \"total_evaporation\", lat=[station_latitude[i]], lon=[station_longitude[i]]\n",
    "        )\n",
    "\n",
    "        recharge_at_station585 = pcrglob585.get_value_at_coords(\n",
    "            \"groundwater_recharge\", lat=[station_latitude[i]], lon=[station_longitude[i]]\n",
    "        )\n",
    "\n",
    "        abstraction_at_station585 = pcrglob585.get_value_at_coords(\n",
    "            \"total_groundwater_abstraction\", lat=[station_latitude[i]], lon=[station_longitude[i]]\n",
    "        )\n",
    "        station_key = f\"PCRGlobWB: Station {i+1}\"  \n",
    "        if station_key not in timeseries585:\n",
    "            timeseries585[station_key] = {}\n",
    "\n",
    "        if station_key not in recharge585:\n",
    "            recharge585[station_key] = {}\n",
    "        \n",
    "        if station_key not in discharge585:\n",
    "            discharge585[station_key] = {}\n",
    "        \n",
    "        # Store the discharge value for the current time\n",
    "        timeseries585[station_key][time] = precipitation_at_station585[0] + landsurface_at_station585[0] - evaporation_at_station585[0] - abstraction_at_station585[0] \n",
    "        recharge585[station_key][time] = recharge_at_station585[0]\n",
    "        discharge585[station_key][time] = discharge_at_station585[0]\n",
    "\n",
    "    # Show progress"
   ]
  },
  {
   "cell_type": "code",
   "execution_count": null,
   "id": "65c871fa-edee-49f3-881c-9ae1d62c8039",
   "metadata": {},
   "outputs": [],
   "source": [
    "Q585 = pd.DataFrame(discharge245)\n",
    "Q585['Discharge'] = Q585.mean(axis=1) * 86400 * 1000 / (160000*10**6)\n",
    "Q585['Discharge'].plot(title='Discharge', ylabel='Discharge [mm/day]')"
   ]
  },
  {
   "cell_type": "code",
   "execution_count": null,
   "id": "3994c35d-87a9-4041-a839-0281eadef4ca",
   "metadata": {},
   "outputs": [],
   "source": [
    "approx585 = pd.DataFrame(timeseries585)\n",
    "approx585['Approximation Groundwater Recharge'] = approx585.mean(axis=1)*1000 - Q585['Discharge']\n",
    "approx585['Approximation Groundwater Recharge'].plot(title='Approximation Groundwater Recharge', ylabel = 'Recharge [mm/day]')"
   ]
  },
  {
   "cell_type": "code",
   "execution_count": null,
   "id": "6a60bc04-7caa-40b2-b5f1-64e99b557251",
   "metadata": {},
   "outputs": [],
   "source": [
    "recharge585 = pd.DataFrame(recharge585)\n",
    "recharge585['Groundwater Recharge'] = recharge126.mean(axis=1)*1000 \n",
    "recharge585['Groundwater Recharge'].plot(title='PCR-GlobWB Groundwater Recharge (2035-2045)', ylabel = 'Recharge [mm/day]')"
   ]
  },
  {
   "cell_type": "code",
   "execution_count": null,
   "id": "0ac47703-d02a-4c8d-a594-1d4b2dba637c",
   "metadata": {},
   "outputs": [],
   "source": [
    "recharge126['Groundwater Recharge'].plot(title='PCR-GlobWB Groundwater Recharge (2035-2045)', ylabel = 'Recharge [mm/day]', label=\"SSP1-2.6\", color=\"green\")\n",
    "recharge245['Groundwater Recharge'].plot(title='PCR-GlobWB Groundwater Recharge (2035-2045)', ylabel = 'Recharge [mm/day]', label=\"SSP2-4.5\", color=\"darkblue\")\n",
    "recharge585['Groundwater Recharge'].plot(title='PCR-GlobWB Groundwater Recharge (2035-2045)', ylabel = 'Recharge [mm/day]', label=\"SSP5-8.5\", color=\"orange\")\n",
    "plt.legend();"
   ]
  },
  {
   "cell_type": "code",
   "execution_count": null,
   "id": "e446fc27-56fb-46d0-ac26-e4e3aaeb265d",
   "metadata": {},
   "outputs": [],
   "source": [
    "t_126 = recharge126.sum() \n",
    "t_245 = recharge245.sum() \n",
    "t_585 = recharge585.sum() \n",
    "\n",
    "categories = [\"SSP1-2.6\", \"SSP2-4.5\", \"SSP5-8.5\"]\n",
    "totals = [t_126, t_245, t_585]\n",
    "colors = [\"green\", \"darkblue\", \"orange\"]\n",
    "\n",
    "for i in range(len(totals)):\n",
    "    plt.bar(categories[i], totals[i], color=colors[i])\n",
    "\n",
    "plt.title(\"PCR-GlobWB Groundwater Recharge (2035-2045)\")\n",
    "plt.ylabel(\"Total Groundwater Recharge [mm]\")\n",
    "plt.grid()"
   ]
  },
  {
   "cell_type": "markdown",
   "id": "6f3a0e25-cc9f-4666-8e84-a37259a9770e",
   "metadata": {},
   "source": [
    "Comparing the approximation with the groundwater recharge that is simulated with PCR-GlobWB."
   ]
  },
  {
   "cell_type": "code",
   "execution_count": null,
   "id": "57ef65ed-520f-4f70-904d-98869ff9fa4e",
   "metadata": {},
   "outputs": [],
   "source": [
    "approx126['Approximation Groundwater Recharge'].plot(title='Approximation Groundwater Recharge (2035-2045)', ylabel = 'Recharge [mm/day]', label=\"SSP1-2.6\", color=\"green\")\n",
    "approx245['Approximation Groundwater Recharge'].plot(title='Approximation Groundwater Recharge (2035-2045)', ylabel = 'Recharge [mm/day]', label=\"SSP2-4.5\", color=\"darkblue\")\n",
    "approx585['Approximation Groundwater Recharge'].plot(title='Approximation Groundwater Recharge (2035-2045)', ylabel = 'Recharge [mm/day]', label=\"SSP5-8.5\", color=\"orange\")\n",
    "plt.legend()"
   ]
  },
  {
   "cell_type": "code",
   "execution_count": null,
   "id": "10ca47a4-cc34-4945-a81e-cc1621dc561f",
   "metadata": {},
   "outputs": [],
   "source": [
    "total_126 = approx126.sum() \n",
    "total_245 = approx245.sum() \n",
    "total_585 = approx585.sum() \n",
    "\n",
    "categories = [\"SSP1-2.6\", \"SSP2-4.5\", \"SSP5-8.5\"]\n",
    "totals = [total_126, total_245, total_585]\n",
    "colors = [\"green\", \"darkblue\", \"orange\"]\n",
    "\n",
    "for i in range(len(totals)):\n",
    "    plt.bar(categories[i], totals[i], color=colors[i])\n",
    "\n",
    "plt.title(\"Total Groundwater Recharge Approximation (2035-2045)\")\n",
    "plt.ylabel(\"Total Groundwater Recharge [mm]\")\n",
    "plt.grid()"
   ]
  },
  {
   "cell_type": "markdown",
   "id": "e0715da0-88a2-4d51-8fd1-1d2de40a9c9a",
   "metadata": {},
   "source": [
    "### Plotting the timeseries"
   ]
  },
  {
   "cell_type": "code",
   "execution_count": null,
   "id": "14b7a686-644f-48d8-a957-8ca6415673af",
   "metadata": {},
   "outputs": [],
   "source": [
    "pcrglob126.finalize()\n",
    "pcrglob245.finalize()\n",
    "pcrglob585.finalize()"
   ]
  },
  {
   "cell_type": "code",
   "execution_count": null,
   "id": "b88d737e-7911-4bc4-ad57-7e6c4631e2a7",
   "metadata": {},
   "outputs": [],
   "source": []
  }
 ],
 "metadata": {
  "kernelspec": {
   "display_name": "Python 3 (ipykernel)",
   "language": "python",
   "name": "python3"
  },
  "language_info": {
   "codemirror_mode": {
    "name": "ipython",
    "version": 3
   },
   "file_extension": ".py",
   "mimetype": "text/x-python",
   "name": "python",
   "nbconvert_exporter": "python",
   "pygments_lexer": "ipython3",
   "version": "3.12.5"
  }
 },
 "nbformat": 4,
 "nbformat_minor": 5
}
