{
 "cells": [
  {
   "cell_type": "markdown",
   "id": "213a76bd-9423-4331-9d41-42533d04553f",
   "metadata": {},
   "source": [
    "# The Impact of Climate Change on the Groundwater Recharge in the Sonoran Desert\n",
    "By Eline Mol"
   ]
  },
  {
   "cell_type": "code",
   "execution_count": null,
   "id": "3959edd1-7f21-481a-9a76-8e99aec081ad",
   "metadata": {},
   "outputs": [],
   "source": []
  },
  {
   "cell_type": "code",
   "execution_count": null,
   "id": "580c0649-7a2a-4142-93e4-1cc3c95be446",
   "metadata": {},
   "outputs": [],
   "source": []
  }
 ],
 "metadata": {
  "kernelspec": {
   "display_name": "Python 3 (ipykernel)",
   "language": "python",
   "name": "python3"
  },
  "language_info": {
   "codemirror_mode": {
    "name": "ipython",
    "version": 3
   },
   "file_extension": ".py",
   "mimetype": "text/x-python",
   "name": "python",
   "nbconvert_exporter": "python",
   "pygments_lexer": "ipython3",
   "version": "3.12.5"
  }
 },
 "nbformat": 4,
 "nbformat_minor": 5
}
