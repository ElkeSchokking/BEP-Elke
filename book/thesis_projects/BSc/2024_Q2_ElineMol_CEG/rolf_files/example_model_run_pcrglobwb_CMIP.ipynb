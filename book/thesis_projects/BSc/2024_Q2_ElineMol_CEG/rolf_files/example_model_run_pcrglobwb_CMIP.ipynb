{
 "cells": [
  {
   "cell_type": "markdown",
   "id": "e5442182",
   "metadata": {},
   "source": [
    "![ewatercycle logo](https://raw.githubusercontent.com/eWaterCycle/ewatercycle/main/docs/examples/logo.png)\n",
    "\n",
    "# PCRGlobWB example use case: CMIP6\n",
    "\n",
    "This example shows how the [PCRGlobWB model](https://globalhydrology.nl/research/models/pcr-globwb-2-0/) can be used within the eWaterCycle system. It is assumed you have already seen [this tutorial notebook](../../example_model_run_HBV.ipynb) explaining how to run the simple HBV model for the River Leven at Newby Bridge. \n",
    "\n",
    "The PCRGlobWB model is an example of a distributed model where fluxes and stores in the balance are calculated for grid cells (often also called pixels). This requires both the forcing data as well as any parameters to also be spatially distributed. Depending on the complexity of the model, these datasets can be quite large in memory size.\n",
    "\n",
    "Here we will be running PCRGLobWB for Great Brittain and will extract discharge data at the location of the River Leven again, to compare with the HBV model run. We will also demonstrate how to interact with the state of the model, during runtime, showcasing the benefit of using the BMI interface when building experiments using models."
   ]
  },
  {
   "cell_type": "code",
   "execution_count": 1,
   "id": "424992ea",
   "metadata": {},
   "outputs": [],
   "source": [
    "# This cell is only used to suppress some distracting output messages\n",
    "import warnings\n",
    "\n",
    "warnings.filterwarnings(\"ignore\", category=UserWarning)"
   ]
  },
  {
   "cell_type": "code",
   "execution_count": 2,
   "id": "cec50ce3",
   "metadata": {},
   "outputs": [],
   "source": [
    "import matplotlib.pyplot as plt\n",
    "from cartopy import crs\n",
    "from cartopy import feature as cfeature\n",
    "import fiona\n",
    "import shapely.geometry\n",
    "from pyproj import Geod\n",
    "from rich import print\n",
    "import pandas as pd\n",
    "import xarray as xr\n",
    "\n",
    "import ewatercycle.forcing\n",
    "import ewatercycle.models\n",
    "import ewatercycle.parameter_sets"
   ]
  },
  {
   "cell_type": "code",
   "execution_count": 3,
   "id": "3f186494-1f05-445d-8663-306591c87320",
   "metadata": {},
   "outputs": [],
   "source": [
    "station_latitude = 30 #Gila near Yuma\n",
    "station_longitude = -113"
   ]
  },
  {
   "cell_type": "markdown",
   "id": "194f357f",
   "metadata": {},
   "source": [
    "## Loading a parameter set"
   ]
  },
  {
   "cell_type": "markdown",
   "id": "1cdf38a2",
   "metadata": {},
   "source": [
    "For this example we have prepared and hosted a global parameter set made by Utrecht University. For each model run, what needs to be specified to deliniate the region of interest is a \"clone map\". The config file has many options, one of which is the location of this clone map.\n",
    "\n",
    "Note that this is very specific to PCRGlobWB. For complex (and legacy) models like PCRGlobWB one needs to know quite detailed information about the model before being able to run it. However, using eWaterCycle does reduce the time for seting up the model and getting it to run."
   ]
  },
  {
   "cell_type": "code",
   "execution_count": 4,
   "id": "3d38bc4c-fec2-4572-983b-376edbaefde3",
   "metadata": {},
   "outputs": [],
   "source": [
    "parameter_set = ewatercycle.parameter_sets.ParameterSet(\n",
    "    name=\"custom_parameter_set\",\n",
    "    directory= \"/data/shared/parameter-sets/pcrglobwb_global\",\n",
    "    config=\"./pcrglobwb_sonoran_ERA5_05min.ini\",\n",
    "    target_model=\"pcrglobwb\",\n",
    "    supported_model_versions={\"setters\"},\n",
    ")"
   ]
  },
  {
   "cell_type": "code",
   "execution_count": 5,
   "id": "fbabe50c",
   "metadata": {},
   "outputs": [
    {
     "data": {
      "text/html": [
       "<pre style=\"white-space:pre;overflow-x:auto;line-height:normal;font-family:Menlo,'DejaVu Sans Mono',consolas,'Courier New',monospace\"><span style=\"color: #800080; text-decoration-color: #800080; font-weight: bold\">ParameterSet</span><span style=\"font-weight: bold\">(</span>\n",
       "    <span style=\"color: #808000; text-decoration-color: #808000\">name</span>=<span style=\"color: #008000; text-decoration-color: #008000\">'custom_parameter_set'</span>,\n",
       "    <span style=\"color: #808000; text-decoration-color: #808000\">directory</span>=<span style=\"color: #800080; text-decoration-color: #800080; font-weight: bold\">PosixPath</span><span style=\"font-weight: bold\">(</span><span style=\"color: #008000; text-decoration-color: #008000\">'/data/shared/parameter-sets/pcrglobwb_global'</span><span style=\"font-weight: bold\">)</span>,\n",
       "    <span style=\"color: #808000; text-decoration-color: #808000\">config</span>=<span style=\"color: #800080; text-decoration-color: #800080; font-weight: bold\">PosixPath</span><span style=\"font-weight: bold\">(</span><span style=\"color: #008000; text-decoration-color: #008000\">'pcrglobwb_sonoran_ERA5_05min.ini'</span><span style=\"font-weight: bold\">)</span>,\n",
       "    <span style=\"color: #808000; text-decoration-color: #808000\">doi</span>=<span style=\"color: #008000; text-decoration-color: #008000\">'N/A'</span>,\n",
       "    <span style=\"color: #808000; text-decoration-color: #808000\">target_model</span>=<span style=\"color: #008000; text-decoration-color: #008000\">'pcrglobwb'</span>,\n",
       "    <span style=\"color: #808000; text-decoration-color: #808000\">supported_model_versions</span>=<span style=\"font-weight: bold\">{</span><span style=\"color: #008000; text-decoration-color: #008000\">'setters'</span><span style=\"font-weight: bold\">}</span>,\n",
       "    <span style=\"color: #808000; text-decoration-color: #808000\">downloader</span>=<span style=\"color: #800080; text-decoration-color: #800080; font-style: italic\">None</span>\n",
       "<span style=\"font-weight: bold\">)</span>\n",
       "</pre>\n"
      ],
      "text/plain": [
       "\u001b[1;35mParameterSet\u001b[0m\u001b[1m(\u001b[0m\n",
       "    \u001b[33mname\u001b[0m=\u001b[32m'custom_parameter_set'\u001b[0m,\n",
       "    \u001b[33mdirectory\u001b[0m=\u001b[1;35mPosixPath\u001b[0m\u001b[1m(\u001b[0m\u001b[32m'/data/shared/parameter-sets/pcrglobwb_global'\u001b[0m\u001b[1m)\u001b[0m,\n",
       "    \u001b[33mconfig\u001b[0m=\u001b[1;35mPosixPath\u001b[0m\u001b[1m(\u001b[0m\u001b[32m'pcrglobwb_sonoran_ERA5_05min.ini'\u001b[0m\u001b[1m)\u001b[0m,\n",
       "    \u001b[33mdoi\u001b[0m=\u001b[32m'N/A'\u001b[0m,\n",
       "    \u001b[33mtarget_model\u001b[0m=\u001b[32m'pcrglobwb'\u001b[0m,\n",
       "    \u001b[33msupported_model_versions\u001b[0m=\u001b[1m{\u001b[0m\u001b[32m'setters'\u001b[0m\u001b[1m}\u001b[0m,\n",
       "    \u001b[33mdownloader\u001b[0m=\u001b[3;35mNone\u001b[0m\n",
       "\u001b[1m)\u001b[0m\n"
      ]
     },
     "metadata": {},
     "output_type": "display_data"
    }
   ],
   "source": [
    "print(parameter_set)"
   ]
  },
  {
   "cell_type": "markdown",
   "id": "1271ae04",
   "metadata": {},
   "source": [
    "## Load forcing data\n",
    "\n",
    "For this example case, the forcing is generated in [this seperate notebook](generate_forcing.ipynb). This is a common practice when generating forcing takes considerable (CPU, memory, disk) resources. \n",
    "\n",
    "In the cell below, we load the pre-generated forcing. Note that in contrast with HBV, PCRGlobWB only needs temperature and precipitation as forcing inputs. HBV also needs potential evaporation. PCRGlobWB calculated potential and actual evaporation as part of its update step."
   ]
  },
  {
   "cell_type": "code",
   "execution_count": 6,
   "id": "870c4af6",
   "metadata": {},
   "outputs": [
    {
     "data": {
      "text/html": [
       "<pre style=\"white-space:pre;overflow-x:auto;line-height:normal;font-family:Menlo,'DejaVu Sans Mono',consolas,'Courier New',monospace\"><span style=\"color: #800080; text-decoration-color: #800080; font-weight: bold\">PCRGlobWBForcing</span><span style=\"font-weight: bold\">(</span>\n",
       "    <span style=\"color: #808000; text-decoration-color: #808000\">start_time</span>=<span style=\"color: #008000; text-decoration-color: #008000\">'2025-08-01T00:00:00Z'</span>,\n",
       "    <span style=\"color: #808000; text-decoration-color: #808000\">end_time</span>=<span style=\"color: #008000; text-decoration-color: #008000\">'2030-08-31T00:00:00Z'</span>,\n",
       "    <span style=\"color: #808000; text-decoration-color: #808000\">directory</span>=<span style=\"color: #800080; text-decoration-color: #800080; font-weight: bold\">PosixPath</span><span style=\"font-weight: bold\">(</span><span style=\"color: #008000; text-decoration-color: #008000\">'/home/rhut/forcing/sonoran_desert_CMIP/work/diagnostic/script'</span><span style=\"font-weight: bold\">)</span>,\n",
       "    <span style=\"color: #808000; text-decoration-color: #808000\">shape</span>=<span style=\"color: #800080; text-decoration-color: #800080; font-weight: bold\">PosixPath</span><span style=\"font-weight: bold\">(</span><span style=\"color: #008000; text-decoration-color: #008000\">'/home/rhut/forcing/sonoran_desert_CMIP/work/diagnostic/script/hysets_09488650.shp'</span><span style=\"font-weight: bold\">)</span>,\n",
       "    <span style=\"color: #808000; text-decoration-color: #808000\">filenames</span>=<span style=\"font-weight: bold\">{}</span>,\n",
       "    <span style=\"color: #808000; text-decoration-color: #808000\">precipitationNC</span>=<span style=\"color: #008000; text-decoration-color: #008000\">'pcrglobwb_CMIP6_EC-Earth3_day_ssp585_r1i1p1f1_pr_gr_2025-2030_hysets_09488650.nc'</span>,\n",
       "    <span style=\"color: #808000; text-decoration-color: #808000\">temperatureNC</span>=<span style=\"color: #008000; text-decoration-color: #008000\">'pcrglobwb_CMIP6_EC-Earth3_day_ssp585_r1i1p1f1_tas_gr_2025-2030_hysets_09488650.nc'</span>\n",
       "<span style=\"font-weight: bold\">)</span>\n",
       "</pre>\n"
      ],
      "text/plain": [
       "\u001b[1;35mPCRGlobWBForcing\u001b[0m\u001b[1m(\u001b[0m\n",
       "    \u001b[33mstart_time\u001b[0m=\u001b[32m'2025-08-01T00:00:00Z'\u001b[0m,\n",
       "    \u001b[33mend_time\u001b[0m=\u001b[32m'2030-08-31T00:00:00Z'\u001b[0m,\n",
       "    \u001b[33mdirectory\u001b[0m=\u001b[1;35mPosixPath\u001b[0m\u001b[1m(\u001b[0m\u001b[32m'/home/rhut/forcing/sonoran_desert_CMIP/work/diagnostic/script'\u001b[0m\u001b[1m)\u001b[0m,\n",
       "    \u001b[33mshape\u001b[0m=\u001b[1;35mPosixPath\u001b[0m\u001b[1m(\u001b[0m\u001b[32m'/home/rhut/forcing/sonoran_desert_CMIP/work/diagnostic/script/hysets_09488650.shp'\u001b[0m\u001b[1m)\u001b[0m,\n",
       "    \u001b[33mfilenames\u001b[0m=\u001b[1m{\u001b[0m\u001b[1m}\u001b[0m,\n",
       "    \u001b[33mprecipitationNC\u001b[0m=\u001b[32m'pcrglobwb_CMIP6_EC-Earth3_day_ssp585_r1i1p1f1_pr_gr_2025-2030_hysets_09488650.nc'\u001b[0m,\n",
       "    \u001b[33mtemperatureNC\u001b[0m=\u001b[32m'pcrglobwb_CMIP6_EC-Earth3_day_ssp585_r1i1p1f1_tas_gr_2025-2030_hysets_09488650.nc'\u001b[0m\n",
       "\u001b[1m)\u001b[0m\n"
      ]
     },
     "metadata": {},
     "output_type": "display_data"
    }
   ],
   "source": [
    "forcing = ewatercycle.forcing.sources[\"PCRGlobWBForcing\"].load(\n",
    "    directory=\"/home/rhut/forcing/sonoran_desert_CMIP/work/diagnostic/script\",\n",
    ")\n",
    "print(forcing)"
   ]
  },
  {
   "cell_type": "markdown",
   "id": "d5b82a92",
   "metadata": {},
   "source": [
    "## Setting up the model\n",
    "\n",
    "Note that the model version and the parameterset versions should be compatible."
   ]
  },
  {
   "cell_type": "code",
   "execution_count": 7,
   "id": "08a4ed9e",
   "metadata": {},
   "outputs": [
    {
     "data": {
      "text/html": [
       "<pre style=\"white-space:pre;overflow-x:auto;line-height:normal;font-family:Menlo,'DejaVu Sans Mono',consolas,'Courier New',monospace\"><span style=\"color: #800080; text-decoration-color: #800080; font-weight: bold\">PCRGlobWB</span><span style=\"font-weight: bold\">(</span>\n",
       "    <span style=\"color: #808000; text-decoration-color: #808000\">parameter_set</span>=<span style=\"color: #800080; text-decoration-color: #800080; font-weight: bold\">ParameterSet</span><span style=\"font-weight: bold\">(</span>\n",
       "        <span style=\"color: #808000; text-decoration-color: #808000\">name</span>=<span style=\"color: #008000; text-decoration-color: #008000\">'custom_parameter_set'</span>,\n",
       "        <span style=\"color: #808000; text-decoration-color: #808000\">directory</span>=<span style=\"color: #800080; text-decoration-color: #800080; font-weight: bold\">PosixPath</span><span style=\"font-weight: bold\">(</span><span style=\"color: #008000; text-decoration-color: #008000\">'/data/shared/parameter-sets/pcrglobwb_global'</span><span style=\"font-weight: bold\">)</span>,\n",
       "        <span style=\"color: #808000; text-decoration-color: #808000\">config</span>=<span style=\"color: #800080; text-decoration-color: #800080; font-weight: bold\">PosixPath</span><span style=\"font-weight: bold\">(</span><span style=\"color: #008000; text-decoration-color: #008000\">'pcrglobwb_sonoran_ERA5_05min.ini'</span><span style=\"font-weight: bold\">)</span>,\n",
       "        <span style=\"color: #808000; text-decoration-color: #808000\">doi</span>=<span style=\"color: #008000; text-decoration-color: #008000\">'N/A'</span>,\n",
       "        <span style=\"color: #808000; text-decoration-color: #808000\">target_model</span>=<span style=\"color: #008000; text-decoration-color: #008000\">'pcrglobwb'</span>,\n",
       "        <span style=\"color: #808000; text-decoration-color: #808000\">supported_model_versions</span>=<span style=\"font-weight: bold\">{</span><span style=\"color: #008000; text-decoration-color: #008000\">'setters'</span><span style=\"font-weight: bold\">}</span>,\n",
       "        <span style=\"color: #808000; text-decoration-color: #808000\">downloader</span>=<span style=\"color: #800080; text-decoration-color: #800080; font-style: italic\">None</span>\n",
       "    <span style=\"font-weight: bold\">)</span>,\n",
       "    <span style=\"color: #808000; text-decoration-color: #808000\">forcing</span>=<span style=\"color: #800080; text-decoration-color: #800080; font-weight: bold\">PCRGlobWBForcing</span><span style=\"font-weight: bold\">(</span>\n",
       "        <span style=\"color: #808000; text-decoration-color: #808000\">start_time</span>=<span style=\"color: #008000; text-decoration-color: #008000\">'2025-08-01T00:00:00Z'</span>,\n",
       "        <span style=\"color: #808000; text-decoration-color: #808000\">end_time</span>=<span style=\"color: #008000; text-decoration-color: #008000\">'2030-08-31T00:00:00Z'</span>,\n",
       "        <span style=\"color: #808000; text-decoration-color: #808000\">directory</span>=<span style=\"color: #800080; text-decoration-color: #800080; font-weight: bold\">PosixPath</span><span style=\"font-weight: bold\">(</span><span style=\"color: #008000; text-decoration-color: #008000\">'/home/rhut/forcing/sonoran_desert_CMIP/work/diagnostic/script'</span><span style=\"font-weight: bold\">)</span>,\n",
       "        <span style=\"color: #808000; text-decoration-color: #808000\">shape</span>=<span style=\"color: #800080; text-decoration-color: #800080; font-weight: bold\">PosixPath</span><span style=\"font-weight: bold\">(</span><span style=\"color: #008000; text-decoration-color: #008000\">'/home/rhut/forcing/sonoran_desert_CMIP/work/diagnostic/script/hysets_09488650.shp'</span><span style=\"font-weight: bold\">)</span>,\n",
       "        <span style=\"color: #808000; text-decoration-color: #808000\">filenames</span>=<span style=\"font-weight: bold\">{}</span>,\n",
       "        <span style=\"color: #808000; text-decoration-color: #808000\">precipitationNC</span>=<span style=\"color: #008000; text-decoration-color: #008000\">'pcrglobwb_CMIP6_EC-Earth3_day_ssp585_r1i1p1f1_pr_gr_2025-2030_hysets_09488650.nc'</span>,\n",
       "        <span style=\"color: #808000; text-decoration-color: #808000\">temperatureNC</span>=<span style=\"color: #008000; text-decoration-color: #008000\">'pcrglobwb_CMIP6_EC-Earth3_day_ssp585_r1i1p1f1_tas_gr_2025-2030_hysets_09488650.nc'</span>\n",
       "    <span style=\"font-weight: bold\">)</span>\n",
       "<span style=\"font-weight: bold\">)</span>\n",
       "</pre>\n"
      ],
      "text/plain": [
       "\u001b[1;35mPCRGlobWB\u001b[0m\u001b[1m(\u001b[0m\n",
       "    \u001b[33mparameter_set\u001b[0m=\u001b[1;35mParameterSet\u001b[0m\u001b[1m(\u001b[0m\n",
       "        \u001b[33mname\u001b[0m=\u001b[32m'custom_parameter_set'\u001b[0m,\n",
       "        \u001b[33mdirectory\u001b[0m=\u001b[1;35mPosixPath\u001b[0m\u001b[1m(\u001b[0m\u001b[32m'/data/shared/parameter-sets/pcrglobwb_global'\u001b[0m\u001b[1m)\u001b[0m,\n",
       "        \u001b[33mconfig\u001b[0m=\u001b[1;35mPosixPath\u001b[0m\u001b[1m(\u001b[0m\u001b[32m'pcrglobwb_sonoran_ERA5_05min.ini'\u001b[0m\u001b[1m)\u001b[0m,\n",
       "        \u001b[33mdoi\u001b[0m=\u001b[32m'N/A'\u001b[0m,\n",
       "        \u001b[33mtarget_model\u001b[0m=\u001b[32m'pcrglobwb'\u001b[0m,\n",
       "        \u001b[33msupported_model_versions\u001b[0m=\u001b[1m{\u001b[0m\u001b[32m'setters'\u001b[0m\u001b[1m}\u001b[0m,\n",
       "        \u001b[33mdownloader\u001b[0m=\u001b[3;35mNone\u001b[0m\n",
       "    \u001b[1m)\u001b[0m,\n",
       "    \u001b[33mforcing\u001b[0m=\u001b[1;35mPCRGlobWBForcing\u001b[0m\u001b[1m(\u001b[0m\n",
       "        \u001b[33mstart_time\u001b[0m=\u001b[32m'2025-08-01T00:00:00Z'\u001b[0m,\n",
       "        \u001b[33mend_time\u001b[0m=\u001b[32m'2030-08-31T00:00:00Z'\u001b[0m,\n",
       "        \u001b[33mdirectory\u001b[0m=\u001b[1;35mPosixPath\u001b[0m\u001b[1m(\u001b[0m\u001b[32m'/home/rhut/forcing/sonoran_desert_CMIP/work/diagnostic/script'\u001b[0m\u001b[1m)\u001b[0m,\n",
       "        \u001b[33mshape\u001b[0m=\u001b[1;35mPosixPath\u001b[0m\u001b[1m(\u001b[0m\u001b[32m'/home/rhut/forcing/sonoran_desert_CMIP/work/diagnostic/script/hysets_09488650.shp'\u001b[0m\u001b[1m)\u001b[0m,\n",
       "        \u001b[33mfilenames\u001b[0m=\u001b[1m{\u001b[0m\u001b[1m}\u001b[0m,\n",
       "        \u001b[33mprecipitationNC\u001b[0m=\u001b[32m'pcrglobwb_CMIP6_EC-Earth3_day_ssp585_r1i1p1f1_pr_gr_2025-2030_hysets_09488650.nc'\u001b[0m,\n",
       "        \u001b[33mtemperatureNC\u001b[0m=\u001b[32m'pcrglobwb_CMIP6_EC-Earth3_day_ssp585_r1i1p1f1_tas_gr_2025-2030_hysets_09488650.nc'\u001b[0m\n",
       "    \u001b[1m)\u001b[0m\n",
       "\u001b[1m)\u001b[0m\n"
      ]
     },
     "metadata": {},
     "output_type": "display_data"
    }
   ],
   "source": [
    "pcrglob = ewatercycle.models.PCRGlobWB(\n",
    "    parameter_set=parameter_set,\n",
    "    forcing=forcing\n",
    ")\n",
    "print(pcrglob)"
   ]
  },
  {
   "cell_type": "code",
   "execution_count": 8,
   "id": "a45eba5c",
   "metadata": {},
   "outputs": [
    {
     "data": {
      "text/plain": [
       "'setters'"
      ]
     },
     "execution_count": 8,
     "metadata": {},
     "output_type": "execute_result"
    }
   ],
   "source": [
    "pcrglob.version"
   ]
  },
  {
   "cell_type": "markdown",
   "id": "a69e1212",
   "metadata": {},
   "source": [
    "eWaterCycle exposes a selected set of configurable parameters. These can be modified in the `setup()` method."
   ]
  },
  {
   "cell_type": "code",
   "execution_count": 9,
   "id": "4a62965a",
   "metadata": {},
   "outputs": [
    {
     "data": {
      "text/html": [
       "<pre style=\"white-space:pre;overflow-x:auto;line-height:normal;font-family:Menlo,'DejaVu Sans Mono',consolas,'Courier New',monospace\"><span style=\"color: #800080; text-decoration-color: #800080; font-weight: bold\">dict_items</span><span style=\"font-weight: bold\">([(</span><span style=\"color: #008000; text-decoration-color: #008000\">'start_time'</span>, <span style=\"color: #008000; text-decoration-color: #008000\">'2025-08-01T00:00:00Z'</span><span style=\"font-weight: bold\">)</span>, <span style=\"font-weight: bold\">(</span><span style=\"color: #008000; text-decoration-color: #008000\">'end_time'</span>, <span style=\"color: #008000; text-decoration-color: #008000\">'2025-08-01T00:00:00Z'</span><span style=\"font-weight: bold\">)</span>, <span style=\"font-weight: bold\">(</span><span style=\"color: #008000; text-decoration-color: #008000\">'routing_method'</span>, \n",
       "<span style=\"color: #008000; text-decoration-color: #008000\">'accuTravelTime'</span><span style=\"font-weight: bold\">)</span>, <span style=\"font-weight: bold\">(</span><span style=\"color: #008000; text-decoration-color: #008000\">'max_spinups_in_years'</span>, <span style=\"color: #008000; text-decoration-color: #008000\">'0'</span><span style=\"font-weight: bold\">)])</span>\n",
       "</pre>\n"
      ],
      "text/plain": [
       "\u001b[1;35mdict_items\u001b[0m\u001b[1m(\u001b[0m\u001b[1m[\u001b[0m\u001b[1m(\u001b[0m\u001b[32m'start_time'\u001b[0m, \u001b[32m'2025-08-01T00:00:00Z'\u001b[0m\u001b[1m)\u001b[0m, \u001b[1m(\u001b[0m\u001b[32m'end_time'\u001b[0m, \u001b[32m'2025-08-01T00:00:00Z'\u001b[0m\u001b[1m)\u001b[0m, \u001b[1m(\u001b[0m\u001b[32m'routing_method'\u001b[0m, \n",
       "\u001b[32m'accuTravelTime'\u001b[0m\u001b[1m)\u001b[0m, \u001b[1m(\u001b[0m\u001b[32m'max_spinups_in_years'\u001b[0m, \u001b[32m'0'\u001b[0m\u001b[1m)\u001b[0m\u001b[1m]\u001b[0m\u001b[1m)\u001b[0m\n"
      ]
     },
     "metadata": {},
     "output_type": "display_data"
    }
   ],
   "source": [
    "print(pcrglob.parameters)"
   ]
  },
  {
   "cell_type": "markdown",
   "id": "2a27869b",
   "metadata": {},
   "source": [
    "Calling `setup()` will start up the model container. Be careful with calling it multiple times!"
   ]
  },
  {
   "cell_type": "code",
   "execution_count": 10,
   "id": "cc852425",
   "metadata": {},
   "outputs": [
    {
     "data": {
      "text/plain": [
       "('/home/rhut/repo/projects/book/thesis_projects/BSc/2024_Q2_ElineMol_CEG/rolf_files/CMIP/pcrglobwb_20241218_130552/pcrglobwb_ewatercycle.ini',\n",
       " '/home/rhut/repo/projects/book/thesis_projects/BSc/2024_Q2_ElineMol_CEG/rolf_files/CMIP/pcrglobwb_20241218_130552')"
      ]
     },
     "execution_count": 10,
     "metadata": {},
     "output_type": "execute_result"
    }
   ],
   "source": [
    "cfg_file, cfg_dir = pcrglob.setup(\n",
    "    end_time=\"2025-08-31T00:00:00Z\",\n",
    "    max_spinups_in_years=0\n",
    ")\n",
    "cfg_file, cfg_dir"
   ]
  },
  {
   "cell_type": "code",
   "execution_count": 11,
   "id": "4456b5e2",
   "metadata": {},
   "outputs": [
    {
     "data": {
      "text/html": [
       "<pre style=\"white-space:pre;overflow-x:auto;line-height:normal;font-family:Menlo,'DejaVu Sans Mono',consolas,'Courier New',monospace\"><span style=\"color: #800080; text-decoration-color: #800080; font-weight: bold\">dict_items</span><span style=\"font-weight: bold\">([(</span><span style=\"color: #008000; text-decoration-color: #008000\">'start_time'</span>, <span style=\"color: #008000; text-decoration-color: #008000\">'2025-08-01T00:00:00Z'</span><span style=\"font-weight: bold\">)</span>, <span style=\"font-weight: bold\">(</span><span style=\"color: #008000; text-decoration-color: #008000\">'end_time'</span>, <span style=\"color: #008000; text-decoration-color: #008000\">'2025-08-31T00:00:00Z'</span><span style=\"font-weight: bold\">)</span>, <span style=\"font-weight: bold\">(</span><span style=\"color: #008000; text-decoration-color: #008000\">'routing_method'</span>, \n",
       "<span style=\"color: #008000; text-decoration-color: #008000\">'accuTravelTime'</span><span style=\"font-weight: bold\">)</span>, <span style=\"font-weight: bold\">(</span><span style=\"color: #008000; text-decoration-color: #008000\">'max_spinups_in_years'</span>, <span style=\"color: #008000; text-decoration-color: #008000\">'0'</span><span style=\"font-weight: bold\">)])</span>\n",
       "</pre>\n"
      ],
      "text/plain": [
       "\u001b[1;35mdict_items\u001b[0m\u001b[1m(\u001b[0m\u001b[1m[\u001b[0m\u001b[1m(\u001b[0m\u001b[32m'start_time'\u001b[0m, \u001b[32m'2025-08-01T00:00:00Z'\u001b[0m\u001b[1m)\u001b[0m, \u001b[1m(\u001b[0m\u001b[32m'end_time'\u001b[0m, \u001b[32m'2025-08-31T00:00:00Z'\u001b[0m\u001b[1m)\u001b[0m, \u001b[1m(\u001b[0m\u001b[32m'routing_method'\u001b[0m, \n",
       "\u001b[32m'accuTravelTime'\u001b[0m\u001b[1m)\u001b[0m, \u001b[1m(\u001b[0m\u001b[32m'max_spinups_in_years'\u001b[0m, \u001b[32m'0'\u001b[0m\u001b[1m)\u001b[0m\u001b[1m]\u001b[0m\u001b[1m)\u001b[0m\n"
      ]
     },
     "metadata": {},
     "output_type": "display_data"
    }
   ],
   "source": [
    "print(pcrglob.parameters)"
   ]
  },
  {
   "cell_type": "markdown",
   "id": "0480d34c",
   "metadata": {},
   "source": [
    "Note that the parameters have been changed. A new config file which incorporates these updated parameters has been generated as well. If you want to see or modify any additional model settings, you can acces this file directly. When you're ready, pass the path to the config file to `initialize()`."
   ]
  },
  {
   "cell_type": "code",
   "execution_count": 12,
   "id": "87144041",
   "metadata": {},
   "outputs": [],
   "source": [
    "pcrglob.initialize(cfg_file)"
   ]
  },
  {
   "cell_type": "markdown",
   "id": "f16e18c7-88b1-4019-9281-44a4a51d21d0",
   "metadata": {},
   "source": [
    "We prepare a small dataframe where we can store the discharge output from the model"
   ]
  },
  {
   "cell_type": "code",
   "execution_count": 13,
   "id": "664b32b6-2b4c-49f1-be5a-b451fceb9ecc",
   "metadata": {},
   "outputs": [
    {
     "data": {
      "text/html": [
       "<div>\n",
       "<style scoped>\n",
       "    .dataframe tbody tr th:only-of-type {\n",
       "        vertical-align: middle;\n",
       "    }\n",
       "\n",
       "    .dataframe tbody tr th {\n",
       "        vertical-align: top;\n",
       "    }\n",
       "\n",
       "    .dataframe thead th {\n",
       "        text-align: right;\n",
       "    }\n",
       "</style>\n",
       "<table border=\"1\" class=\"dataframe\">\n",
       "  <thead>\n",
       "    <tr style=\"text-align: right;\">\n",
       "      <th></th>\n",
       "      <th>PCRGlobWB: Sonoran Desert</th>\n",
       "    </tr>\n",
       "    <tr>\n",
       "      <th>time</th>\n",
       "      <th></th>\n",
       "    </tr>\n",
       "  </thead>\n",
       "  <tbody>\n",
       "    <tr>\n",
       "      <th>2025-08-01 00:00:00+00:00</th>\n",
       "      <td>NaN</td>\n",
       "    </tr>\n",
       "    <tr>\n",
       "      <th>2025-08-02 00:00:00+00:00</th>\n",
       "      <td>NaN</td>\n",
       "    </tr>\n",
       "    <tr>\n",
       "      <th>2025-08-03 00:00:00+00:00</th>\n",
       "      <td>NaN</td>\n",
       "    </tr>\n",
       "    <tr>\n",
       "      <th>2025-08-04 00:00:00+00:00</th>\n",
       "      <td>NaN</td>\n",
       "    </tr>\n",
       "    <tr>\n",
       "      <th>2025-08-05 00:00:00+00:00</th>\n",
       "      <td>NaN</td>\n",
       "    </tr>\n",
       "  </tbody>\n",
       "</table>\n",
       "</div>"
      ],
      "text/plain": [
       "                          PCRGlobWB: Sonoran Desert\n",
       "time                                               \n",
       "2025-08-01 00:00:00+00:00                       NaN\n",
       "2025-08-02 00:00:00+00:00                       NaN\n",
       "2025-08-03 00:00:00+00:00                       NaN\n",
       "2025-08-04 00:00:00+00:00                       NaN\n",
       "2025-08-05 00:00:00+00:00                       NaN"
      ]
     },
     "execution_count": 13,
     "metadata": {},
     "output_type": "execute_result"
    }
   ],
   "source": [
    "time = pd.date_range(pcrglob.start_time_as_isostr, pcrglob.end_time_as_isostr)\n",
    "timeseries = pd.DataFrame(\n",
    "    index=pd.Index(time, name=\"time\"), columns=[\"PCRGlobWB: Sonoran Desert\"]\n",
    ")\n",
    "timeseries.head()"
   ]
  },
  {
   "cell_type": "markdown",
   "id": "f0f4987f",
   "metadata": {},
   "source": [
    "## Running the model\n",
    "\n",
    "Simply running the model from start to end is straightforward. At each time step we can retrieve information from the model."
   ]
  },
  {
   "cell_type": "code",
   "execution_count": 15,
   "id": "403d55e6",
   "metadata": {
    "scrolled": true
   },
   "outputs": [
    {
     "data": {
      "text/html": [
       "<pre style=\"white-space:pre;overflow-x:auto;line-height:normal;font-family:Menlo,'DejaVu Sans Mono',consolas,'Courier New',monospace\"><span style=\"color: #008080; text-decoration-color: #008080; font-weight: bold\">2025</span>-<span style=\"color: #008080; text-decoration-color: #008080; font-weight: bold\">08</span>-02T<span style=\"color: #00ff00; text-decoration-color: #00ff00; font-weight: bold\">00:00:00</span>Z\r",
       "</pre>\n"
      ],
      "text/plain": [
       "\u001b[1;36m2025\u001b[0m-\u001b[1;36m08\u001b[0m-02T\u001b[1;92m00:00:00\u001b[0mZ\r"
      ]
     },
     "metadata": {},
     "output_type": "display_data"
    },
    {
     "data": {
      "text/html": [
       "<pre style=\"white-space:pre;overflow-x:auto;line-height:normal;font-family:Menlo,'DejaVu Sans Mono',consolas,'Courier New',monospace\"><span style=\"color: #008080; text-decoration-color: #008080; font-weight: bold\">2025</span>-<span style=\"color: #008080; text-decoration-color: #008080; font-weight: bold\">08</span>-03T<span style=\"color: #00ff00; text-decoration-color: #00ff00; font-weight: bold\">00:00:00</span>Z\r",
       "</pre>\n"
      ],
      "text/plain": [
       "\u001b[1;36m2025\u001b[0m-\u001b[1;36m08\u001b[0m-03T\u001b[1;92m00:00:00\u001b[0mZ\r"
      ]
     },
     "metadata": {},
     "output_type": "display_data"
    },
    {
     "data": {
      "text/html": [
       "<pre style=\"white-space:pre;overflow-x:auto;line-height:normal;font-family:Menlo,'DejaVu Sans Mono',consolas,'Courier New',monospace\"><span style=\"color: #008080; text-decoration-color: #008080; font-weight: bold\">2025</span>-<span style=\"color: #008080; text-decoration-color: #008080; font-weight: bold\">08</span>-04T<span style=\"color: #00ff00; text-decoration-color: #00ff00; font-weight: bold\">00:00:00</span>Z\r",
       "</pre>\n"
      ],
      "text/plain": [
       "\u001b[1;36m2025\u001b[0m-\u001b[1;36m08\u001b[0m-04T\u001b[1;92m00:00:00\u001b[0mZ\r"
      ]
     },
     "metadata": {},
     "output_type": "display_data"
    },
    {
     "data": {
      "text/html": [
       "<pre style=\"white-space:pre;overflow-x:auto;line-height:normal;font-family:Menlo,'DejaVu Sans Mono',consolas,'Courier New',monospace\"><span style=\"color: #008080; text-decoration-color: #008080; font-weight: bold\">2025</span>-<span style=\"color: #008080; text-decoration-color: #008080; font-weight: bold\">08</span>-05T<span style=\"color: #00ff00; text-decoration-color: #00ff00; font-weight: bold\">00:00:00</span>Z\r",
       "</pre>\n"
      ],
      "text/plain": [
       "\u001b[1;36m2025\u001b[0m-\u001b[1;36m08\u001b[0m-05T\u001b[1;92m00:00:00\u001b[0mZ\r"
      ]
     },
     "metadata": {},
     "output_type": "display_data"
    },
    {
     "data": {
      "text/html": [
       "<pre style=\"white-space:pre;overflow-x:auto;line-height:normal;font-family:Menlo,'DejaVu Sans Mono',consolas,'Courier New',monospace\"><span style=\"color: #008080; text-decoration-color: #008080; font-weight: bold\">2025</span>-<span style=\"color: #008080; text-decoration-color: #008080; font-weight: bold\">08</span>-06T<span style=\"color: #00ff00; text-decoration-color: #00ff00; font-weight: bold\">00:00:00</span>Z\r",
       "</pre>\n"
      ],
      "text/plain": [
       "\u001b[1;36m2025\u001b[0m-\u001b[1;36m08\u001b[0m-06T\u001b[1;92m00:00:00\u001b[0mZ\r"
      ]
     },
     "metadata": {},
     "output_type": "display_data"
    },
    {
     "data": {
      "text/html": [
       "<pre style=\"white-space:pre;overflow-x:auto;line-height:normal;font-family:Menlo,'DejaVu Sans Mono',consolas,'Courier New',monospace\"><span style=\"color: #008080; text-decoration-color: #008080; font-weight: bold\">2025</span>-<span style=\"color: #008080; text-decoration-color: #008080; font-weight: bold\">08</span>-07T<span style=\"color: #00ff00; text-decoration-color: #00ff00; font-weight: bold\">00:00:00</span>Z\r",
       "</pre>\n"
      ],
      "text/plain": [
       "\u001b[1;36m2025\u001b[0m-\u001b[1;36m08\u001b[0m-07T\u001b[1;92m00:00:00\u001b[0mZ\r"
      ]
     },
     "metadata": {},
     "output_type": "display_data"
    },
    {
     "data": {
      "text/html": [
       "<pre style=\"white-space:pre;overflow-x:auto;line-height:normal;font-family:Menlo,'DejaVu Sans Mono',consolas,'Courier New',monospace\"><span style=\"color: #008080; text-decoration-color: #008080; font-weight: bold\">2025</span>-<span style=\"color: #008080; text-decoration-color: #008080; font-weight: bold\">08</span>-08T<span style=\"color: #00ff00; text-decoration-color: #00ff00; font-weight: bold\">00:00:00</span>Z\r",
       "</pre>\n"
      ],
      "text/plain": [
       "\u001b[1;36m2025\u001b[0m-\u001b[1;36m08\u001b[0m-08T\u001b[1;92m00:00:00\u001b[0mZ\r"
      ]
     },
     "metadata": {},
     "output_type": "display_data"
    },
    {
     "data": {
      "text/html": [
       "<pre style=\"white-space:pre;overflow-x:auto;line-height:normal;font-family:Menlo,'DejaVu Sans Mono',consolas,'Courier New',monospace\"><span style=\"color: #008080; text-decoration-color: #008080; font-weight: bold\">2025</span>-<span style=\"color: #008080; text-decoration-color: #008080; font-weight: bold\">08</span>-09T<span style=\"color: #00ff00; text-decoration-color: #00ff00; font-weight: bold\">00:00:00</span>Z\r",
       "</pre>\n"
      ],
      "text/plain": [
       "\u001b[1;36m2025\u001b[0m-\u001b[1;36m08\u001b[0m-09T\u001b[1;92m00:00:00\u001b[0mZ\r"
      ]
     },
     "metadata": {},
     "output_type": "display_data"
    },
    {
     "data": {
      "text/html": [
       "<pre style=\"white-space:pre;overflow-x:auto;line-height:normal;font-family:Menlo,'DejaVu Sans Mono',consolas,'Courier New',monospace\"><span style=\"color: #008080; text-decoration-color: #008080; font-weight: bold\">2025</span>-<span style=\"color: #008080; text-decoration-color: #008080; font-weight: bold\">08</span>-10T<span style=\"color: #00ff00; text-decoration-color: #00ff00; font-weight: bold\">00:00:00</span>Z\r",
       "</pre>\n"
      ],
      "text/plain": [
       "\u001b[1;36m2025\u001b[0m-\u001b[1;36m08\u001b[0m-10T\u001b[1;92m00:00:00\u001b[0mZ\r"
      ]
     },
     "metadata": {},
     "output_type": "display_data"
    },
    {
     "data": {
      "text/html": [
       "<pre style=\"white-space:pre;overflow-x:auto;line-height:normal;font-family:Menlo,'DejaVu Sans Mono',consolas,'Courier New',monospace\"><span style=\"color: #008080; text-decoration-color: #008080; font-weight: bold\">2025</span>-<span style=\"color: #008080; text-decoration-color: #008080; font-weight: bold\">08</span>-11T<span style=\"color: #00ff00; text-decoration-color: #00ff00; font-weight: bold\">00:00:00</span>Z\r",
       "</pre>\n"
      ],
      "text/plain": [
       "\u001b[1;36m2025\u001b[0m-\u001b[1;36m08\u001b[0m-11T\u001b[1;92m00:00:00\u001b[0mZ\r"
      ]
     },
     "metadata": {},
     "output_type": "display_data"
    },
    {
     "data": {
      "text/html": [
       "<pre style=\"white-space:pre;overflow-x:auto;line-height:normal;font-family:Menlo,'DejaVu Sans Mono',consolas,'Courier New',monospace\"><span style=\"color: #008080; text-decoration-color: #008080; font-weight: bold\">2025</span>-<span style=\"color: #008080; text-decoration-color: #008080; font-weight: bold\">08</span>-12T<span style=\"color: #00ff00; text-decoration-color: #00ff00; font-weight: bold\">00:00:00</span>Z\r",
       "</pre>\n"
      ],
      "text/plain": [
       "\u001b[1;36m2025\u001b[0m-\u001b[1;36m08\u001b[0m-12T\u001b[1;92m00:00:00\u001b[0mZ\r"
      ]
     },
     "metadata": {},
     "output_type": "display_data"
    },
    {
     "data": {
      "text/html": [
       "<pre style=\"white-space:pre;overflow-x:auto;line-height:normal;font-family:Menlo,'DejaVu Sans Mono',consolas,'Courier New',monospace\"><span style=\"color: #008080; text-decoration-color: #008080; font-weight: bold\">2025</span>-<span style=\"color: #008080; text-decoration-color: #008080; font-weight: bold\">08</span>-13T<span style=\"color: #00ff00; text-decoration-color: #00ff00; font-weight: bold\">00:00:00</span>Z\r",
       "</pre>\n"
      ],
      "text/plain": [
       "\u001b[1;36m2025\u001b[0m-\u001b[1;36m08\u001b[0m-13T\u001b[1;92m00:00:00\u001b[0mZ\r"
      ]
     },
     "metadata": {},
     "output_type": "display_data"
    },
    {
     "data": {
      "text/html": [
       "<pre style=\"white-space:pre;overflow-x:auto;line-height:normal;font-family:Menlo,'DejaVu Sans Mono',consolas,'Courier New',monospace\"><span style=\"color: #008080; text-decoration-color: #008080; font-weight: bold\">2025</span>-<span style=\"color: #008080; text-decoration-color: #008080; font-weight: bold\">08</span>-14T<span style=\"color: #00ff00; text-decoration-color: #00ff00; font-weight: bold\">00:00:00</span>Z\r",
       "</pre>\n"
      ],
      "text/plain": [
       "\u001b[1;36m2025\u001b[0m-\u001b[1;36m08\u001b[0m-14T\u001b[1;92m00:00:00\u001b[0mZ\r"
      ]
     },
     "metadata": {},
     "output_type": "display_data"
    },
    {
     "data": {
      "text/html": [
       "<pre style=\"white-space:pre;overflow-x:auto;line-height:normal;font-family:Menlo,'DejaVu Sans Mono',consolas,'Courier New',monospace\"><span style=\"color: #008080; text-decoration-color: #008080; font-weight: bold\">2025</span>-<span style=\"color: #008080; text-decoration-color: #008080; font-weight: bold\">08</span>-15T<span style=\"color: #00ff00; text-decoration-color: #00ff00; font-weight: bold\">00:00:00</span>Z\r",
       "</pre>\n"
      ],
      "text/plain": [
       "\u001b[1;36m2025\u001b[0m-\u001b[1;36m08\u001b[0m-15T\u001b[1;92m00:00:00\u001b[0mZ\r"
      ]
     },
     "metadata": {},
     "output_type": "display_data"
    },
    {
     "data": {
      "text/html": [
       "<pre style=\"white-space:pre;overflow-x:auto;line-height:normal;font-family:Menlo,'DejaVu Sans Mono',consolas,'Courier New',monospace\"><span style=\"color: #008080; text-decoration-color: #008080; font-weight: bold\">2025</span>-<span style=\"color: #008080; text-decoration-color: #008080; font-weight: bold\">08</span>-16T<span style=\"color: #00ff00; text-decoration-color: #00ff00; font-weight: bold\">00:00:00</span>Z\r",
       "</pre>\n"
      ],
      "text/plain": [
       "\u001b[1;36m2025\u001b[0m-\u001b[1;36m08\u001b[0m-16T\u001b[1;92m00:00:00\u001b[0mZ\r"
      ]
     },
     "metadata": {},
     "output_type": "display_data"
    },
    {
     "data": {
      "text/html": [
       "<pre style=\"white-space:pre;overflow-x:auto;line-height:normal;font-family:Menlo,'DejaVu Sans Mono',consolas,'Courier New',monospace\"><span style=\"color: #008080; text-decoration-color: #008080; font-weight: bold\">2025</span>-<span style=\"color: #008080; text-decoration-color: #008080; font-weight: bold\">08</span>-17T<span style=\"color: #00ff00; text-decoration-color: #00ff00; font-weight: bold\">00:00:00</span>Z\r",
       "</pre>\n"
      ],
      "text/plain": [
       "\u001b[1;36m2025\u001b[0m-\u001b[1;36m08\u001b[0m-17T\u001b[1;92m00:00:00\u001b[0mZ\r"
      ]
     },
     "metadata": {},
     "output_type": "display_data"
    },
    {
     "data": {
      "text/html": [
       "<pre style=\"white-space:pre;overflow-x:auto;line-height:normal;font-family:Menlo,'DejaVu Sans Mono',consolas,'Courier New',monospace\"><span style=\"color: #008080; text-decoration-color: #008080; font-weight: bold\">2025</span>-<span style=\"color: #008080; text-decoration-color: #008080; font-weight: bold\">08</span>-18T<span style=\"color: #00ff00; text-decoration-color: #00ff00; font-weight: bold\">00:00:00</span>Z\r",
       "</pre>\n"
      ],
      "text/plain": [
       "\u001b[1;36m2025\u001b[0m-\u001b[1;36m08\u001b[0m-18T\u001b[1;92m00:00:00\u001b[0mZ\r"
      ]
     },
     "metadata": {},
     "output_type": "display_data"
    },
    {
     "data": {
      "text/html": [
       "<pre style=\"white-space:pre;overflow-x:auto;line-height:normal;font-family:Menlo,'DejaVu Sans Mono',consolas,'Courier New',monospace\"><span style=\"color: #008080; text-decoration-color: #008080; font-weight: bold\">2025</span>-<span style=\"color: #008080; text-decoration-color: #008080; font-weight: bold\">08</span>-19T<span style=\"color: #00ff00; text-decoration-color: #00ff00; font-weight: bold\">00:00:00</span>Z\r",
       "</pre>\n"
      ],
      "text/plain": [
       "\u001b[1;36m2025\u001b[0m-\u001b[1;36m08\u001b[0m-19T\u001b[1;92m00:00:00\u001b[0mZ\r"
      ]
     },
     "metadata": {},
     "output_type": "display_data"
    },
    {
     "data": {
      "text/html": [
       "<pre style=\"white-space:pre;overflow-x:auto;line-height:normal;font-family:Menlo,'DejaVu Sans Mono',consolas,'Courier New',monospace\"><span style=\"color: #008080; text-decoration-color: #008080; font-weight: bold\">2025</span>-<span style=\"color: #008080; text-decoration-color: #008080; font-weight: bold\">08</span>-20T<span style=\"color: #00ff00; text-decoration-color: #00ff00; font-weight: bold\">00:00:00</span>Z\r",
       "</pre>\n"
      ],
      "text/plain": [
       "\u001b[1;36m2025\u001b[0m-\u001b[1;36m08\u001b[0m-20T\u001b[1;92m00:00:00\u001b[0mZ\r"
      ]
     },
     "metadata": {},
     "output_type": "display_data"
    },
    {
     "data": {
      "text/html": [
       "<pre style=\"white-space:pre;overflow-x:auto;line-height:normal;font-family:Menlo,'DejaVu Sans Mono',consolas,'Courier New',monospace\"><span style=\"color: #008080; text-decoration-color: #008080; font-weight: bold\">2025</span>-<span style=\"color: #008080; text-decoration-color: #008080; font-weight: bold\">08</span>-21T<span style=\"color: #00ff00; text-decoration-color: #00ff00; font-weight: bold\">00:00:00</span>Z\r",
       "</pre>\n"
      ],
      "text/plain": [
       "\u001b[1;36m2025\u001b[0m-\u001b[1;36m08\u001b[0m-21T\u001b[1;92m00:00:00\u001b[0mZ\r"
      ]
     },
     "metadata": {},
     "output_type": "display_data"
    },
    {
     "data": {
      "text/html": [
       "<pre style=\"white-space:pre;overflow-x:auto;line-height:normal;font-family:Menlo,'DejaVu Sans Mono',consolas,'Courier New',monospace\"><span style=\"color: #008080; text-decoration-color: #008080; font-weight: bold\">2025</span>-<span style=\"color: #008080; text-decoration-color: #008080; font-weight: bold\">08</span>-22T<span style=\"color: #00ff00; text-decoration-color: #00ff00; font-weight: bold\">00:00:00</span>Z\r",
       "</pre>\n"
      ],
      "text/plain": [
       "\u001b[1;36m2025\u001b[0m-\u001b[1;36m08\u001b[0m-22T\u001b[1;92m00:00:00\u001b[0mZ\r"
      ]
     },
     "metadata": {},
     "output_type": "display_data"
    },
    {
     "data": {
      "text/html": [
       "<pre style=\"white-space:pre;overflow-x:auto;line-height:normal;font-family:Menlo,'DejaVu Sans Mono',consolas,'Courier New',monospace\"><span style=\"color: #008080; text-decoration-color: #008080; font-weight: bold\">2025</span>-<span style=\"color: #008080; text-decoration-color: #008080; font-weight: bold\">08</span>-23T<span style=\"color: #00ff00; text-decoration-color: #00ff00; font-weight: bold\">00:00:00</span>Z\r",
       "</pre>\n"
      ],
      "text/plain": [
       "\u001b[1;36m2025\u001b[0m-\u001b[1;36m08\u001b[0m-23T\u001b[1;92m00:00:00\u001b[0mZ\r"
      ]
     },
     "metadata": {},
     "output_type": "display_data"
    },
    {
     "data": {
      "text/html": [
       "<pre style=\"white-space:pre;overflow-x:auto;line-height:normal;font-family:Menlo,'DejaVu Sans Mono',consolas,'Courier New',monospace\"><span style=\"color: #008080; text-decoration-color: #008080; font-weight: bold\">2025</span>-<span style=\"color: #008080; text-decoration-color: #008080; font-weight: bold\">08</span>-24T<span style=\"color: #00ff00; text-decoration-color: #00ff00; font-weight: bold\">00:00:00</span>Z\r",
       "</pre>\n"
      ],
      "text/plain": [
       "\u001b[1;36m2025\u001b[0m-\u001b[1;36m08\u001b[0m-24T\u001b[1;92m00:00:00\u001b[0mZ\r"
      ]
     },
     "metadata": {},
     "output_type": "display_data"
    },
    {
     "data": {
      "text/html": [
       "<pre style=\"white-space:pre;overflow-x:auto;line-height:normal;font-family:Menlo,'DejaVu Sans Mono',consolas,'Courier New',monospace\"><span style=\"color: #008080; text-decoration-color: #008080; font-weight: bold\">2025</span>-<span style=\"color: #008080; text-decoration-color: #008080; font-weight: bold\">08</span>-25T<span style=\"color: #00ff00; text-decoration-color: #00ff00; font-weight: bold\">00:00:00</span>Z\r",
       "</pre>\n"
      ],
      "text/plain": [
       "\u001b[1;36m2025\u001b[0m-\u001b[1;36m08\u001b[0m-25T\u001b[1;92m00:00:00\u001b[0mZ\r"
      ]
     },
     "metadata": {},
     "output_type": "display_data"
    },
    {
     "data": {
      "text/html": [
       "<pre style=\"white-space:pre;overflow-x:auto;line-height:normal;font-family:Menlo,'DejaVu Sans Mono',consolas,'Courier New',monospace\"><span style=\"color: #008080; text-decoration-color: #008080; font-weight: bold\">2025</span>-<span style=\"color: #008080; text-decoration-color: #008080; font-weight: bold\">08</span>-26T<span style=\"color: #00ff00; text-decoration-color: #00ff00; font-weight: bold\">00:00:00</span>Z\r",
       "</pre>\n"
      ],
      "text/plain": [
       "\u001b[1;36m2025\u001b[0m-\u001b[1;36m08\u001b[0m-26T\u001b[1;92m00:00:00\u001b[0mZ\r"
      ]
     },
     "metadata": {},
     "output_type": "display_data"
    },
    {
     "data": {
      "text/html": [
       "<pre style=\"white-space:pre;overflow-x:auto;line-height:normal;font-family:Menlo,'DejaVu Sans Mono',consolas,'Courier New',monospace\"><span style=\"color: #008080; text-decoration-color: #008080; font-weight: bold\">2025</span>-<span style=\"color: #008080; text-decoration-color: #008080; font-weight: bold\">08</span>-27T<span style=\"color: #00ff00; text-decoration-color: #00ff00; font-weight: bold\">00:00:00</span>Z\r",
       "</pre>\n"
      ],
      "text/plain": [
       "\u001b[1;36m2025\u001b[0m-\u001b[1;36m08\u001b[0m-27T\u001b[1;92m00:00:00\u001b[0mZ\r"
      ]
     },
     "metadata": {},
     "output_type": "display_data"
    },
    {
     "data": {
      "text/html": [
       "<pre style=\"white-space:pre;overflow-x:auto;line-height:normal;font-family:Menlo,'DejaVu Sans Mono',consolas,'Courier New',monospace\"><span style=\"color: #008080; text-decoration-color: #008080; font-weight: bold\">2025</span>-<span style=\"color: #008080; text-decoration-color: #008080; font-weight: bold\">08</span>-28T<span style=\"color: #00ff00; text-decoration-color: #00ff00; font-weight: bold\">00:00:00</span>Z\r",
       "</pre>\n"
      ],
      "text/plain": [
       "\u001b[1;36m2025\u001b[0m-\u001b[1;36m08\u001b[0m-28T\u001b[1;92m00:00:00\u001b[0mZ\r"
      ]
     },
     "metadata": {},
     "output_type": "display_data"
    },
    {
     "data": {
      "text/html": [
       "<pre style=\"white-space:pre;overflow-x:auto;line-height:normal;font-family:Menlo,'DejaVu Sans Mono',consolas,'Courier New',monospace\"><span style=\"color: #008080; text-decoration-color: #008080; font-weight: bold\">2025</span>-<span style=\"color: #008080; text-decoration-color: #008080; font-weight: bold\">08</span>-29T<span style=\"color: #00ff00; text-decoration-color: #00ff00; font-weight: bold\">00:00:00</span>Z\r",
       "</pre>\n"
      ],
      "text/plain": [
       "\u001b[1;36m2025\u001b[0m-\u001b[1;36m08\u001b[0m-29T\u001b[1;92m00:00:00\u001b[0mZ\r"
      ]
     },
     "metadata": {},
     "output_type": "display_data"
    },
    {
     "data": {
      "text/html": [
       "<pre style=\"white-space:pre;overflow-x:auto;line-height:normal;font-family:Menlo,'DejaVu Sans Mono',consolas,'Courier New',monospace\"><span style=\"color: #008080; text-decoration-color: #008080; font-weight: bold\">2025</span>-<span style=\"color: #008080; text-decoration-color: #008080; font-weight: bold\">08</span>-30T<span style=\"color: #00ff00; text-decoration-color: #00ff00; font-weight: bold\">00:00:00</span>Z\r",
       "</pre>\n"
      ],
      "text/plain": [
       "\u001b[1;36m2025\u001b[0m-\u001b[1;36m08\u001b[0m-30T\u001b[1;92m00:00:00\u001b[0mZ\r"
      ]
     },
     "metadata": {},
     "output_type": "display_data"
    },
    {
     "data": {
      "text/html": [
       "<pre style=\"white-space:pre;overflow-x:auto;line-height:normal;font-family:Menlo,'DejaVu Sans Mono',consolas,'Courier New',monospace\"><span style=\"color: #008080; text-decoration-color: #008080; font-weight: bold\">2025</span>-<span style=\"color: #008080; text-decoration-color: #008080; font-weight: bold\">08</span>-31T<span style=\"color: #00ff00; text-decoration-color: #00ff00; font-weight: bold\">00:00:00</span>Z\r",
       "</pre>\n"
      ],
      "text/plain": [
       "\u001b[1;36m2025\u001b[0m-\u001b[1;36m08\u001b[0m-31T\u001b[1;92m00:00:00\u001b[0mZ\r"
      ]
     },
     "metadata": {},
     "output_type": "display_data"
    }
   ],
   "source": [
    "while pcrglob.time < pcrglob.end_time:\n",
    "    pcrglob.update()\n",
    "\n",
    "    # Track discharge at station location\n",
    "    discharge_at_station = pcrglob.get_value_at_coords(\n",
    "        \"discharge\", lat=[station_latitude], lon=[station_longitude]\n",
    "    )\n",
    "    time = pcrglob.time_as_isostr\n",
    "    timeseries[\"PCRGlobWB: Sonoran Desert\"][time] = discharge_at_station[0]\n",
    "\n",
    "    # Show progress\n",
    "    print(time,end='\\r')  # \"\\r\" clears the output before printing the next timestamp\n"
   ]
  },
  {
   "cell_type": "markdown",
   "id": "53a937e8",
   "metadata": {},
   "source": [
    "## Interacting with the model"
   ]
  },
  {
   "cell_type": "markdown",
   "id": "3ce583fa",
   "metadata": {},
   "source": [
    "PCRGlobWB exposes many variables. Just a few of them are shown here:"
   ]
  },
  {
   "cell_type": "code",
   "execution_count": 18,
   "id": "23d55863",
   "metadata": {},
   "outputs": [
    {
     "data": {
      "text/plain": [
       "['groundwater_recharge',\n",
       " 'lake_and_reservoir_storage',\n",
       " 'domesticWaterConsumptionVolume',\n",
       " 'land_surface_actual_evaporation',\n",
       " 'groundwater_storage',\n",
       " 'snow_melt',\n",
       " 'totalPotentialMaximumGrossDemand',\n",
       " 'interception_evaporation',\n",
       " 'flood_innundation_depth',\n",
       " 'total_groundwater_abstraction',\n",
       " 'water_body_actual_evaporation',\n",
       " 'interflow',\n",
       " 'consumptive_water_use_for_irrigation_demand',\n",
       " 'non_irrigation_gross_demand_volume',\n",
       " 'accumulated_total_surface_runoff',\n",
       " 'livestock_water_withdrawal',\n",
       " 'land_surface_potential_evaporation',\n",
       " 'total_groundwater_storage',\n",
       " 'bare_soil_evaporation',\n",
       " 'top_water_layer_evaporation',\n",
       " 'transpiration_from_irrigation',\n",
       " 'total_thickness_of_active_water_storage',\n",
       " 'domestic_water_withdrawal',\n",
       " 'netLqWaterToSoil_at_irrigation_volume',\n",
       " 'interception_storage',\n",
       " 'non_irrigation_gross_demand',\n",
       " 'livestockWaterConsumptionVolume',\n",
       " 'groundwater_depth_for_top_layer',\n",
       " 'surface_water_storage',\n",
       " 'irrigation_gross_demand_volume',\n",
       " 'return_flow_from_irrigation_demand_withdrawal',\n",
       " 'upper_soil_storage',\n",
       " 'desalination_source_abstraction_volume',\n",
       " 'snow_free_water_evaporation',\n",
       " 'surface_water_abstraction',\n",
       " 'industryWaterConsumptionVolume',\n",
       " 'fossil_groundwater_storage',\n",
       " 'evaporation_from_irrigation_volume',\n",
       " 'total_evaporation_fraction',\n",
       " 'evaporation_from_irrigation',\n",
       " 'direct_runoff',\n",
       " 'accumulated_land_surface_baseflow',\n",
       " 'snow_free_water',\n",
       " 'total_thickness_of_water_storage',\n",
       " 'precipitation',\n",
       " 'industryWaterWithdrawalVolume',\n",
       " 'net_liquid_water_to_soil',\n",
       " 'baseflow',\n",
       " 'return_flow_from_groundwater_abstraction',\n",
       " 'bottom_elevation_of_lowermost_layer',\n",
       " 'groundwater_head_for_layer_1',\n",
       " 'return_flow_from_non_irrigation_demand_withdrawal',\n",
       " 'domesticWaterWithdrawalVolume',\n",
       " 'top_water_layer',\n",
       " 'transpiration_from_irrigation_volume',\n",
       " 'total_gross_demand_volume',\n",
       " 'top_elevation_of_uppermost_layer',\n",
       " 'fraction_of_surface_water_allocation',\n",
       " 'total_groundwater_abstraction_volume',\n",
       " 'total_transpiration',\n",
       " 'precipitation_at_irrigation_volume',\n",
       " 'lower_soil_storage',\n",
       " 'land_surface_water_balance',\n",
       " 'water_body_potential_evaporation',\n",
       " 'netLqWaterToSoil_at_irrigation',\n",
       " 'groundwater_head_for_top_layer',\n",
       " 'fraction_of_other_water_source_allocation',\n",
       " 'infiltration',\n",
       " 'consumptive_water_use_for_non_irrigation_demand',\n",
       " 'irrigation_withdrawal',\n",
       " 'lower_soil_saturation_degree',\n",
       " 'fraction_of_desalinated_water_allocation',\n",
       " 'water_body_evaporation_fraction',\n",
       " 'non_paddy_irrigation_withdrawal',\n",
       " 'total_gross_demand',\n",
       " 'groundwater_capillary_rise',\n",
       " 'non_fossil_groundwater_abstraction',\n",
       " 'land_surface_evaporation_fraction',\n",
       " 'fraction_of_non_fossil_groundwater_allocation',\n",
       " 'groundwater_head_for_layer_2',\n",
       " 'flood_innundation_volume',\n",
       " 'paddy_irrigation_withdrawal',\n",
       " 'total_evaporation',\n",
       " 'local_water_body_flux',\n",
       " 'land_surface_evaporation',\n",
       " 'channel_storage',\n",
       " 'surface_water_level',\n",
       " 'accumulated_land_surface_runoff',\n",
       " 'lower_soil_transpiration',\n",
       " 'total_volume_of_water_storage',\n",
       " 'precipitation_at_irrigation',\n",
       " 'reference_potential_evaporation',\n",
       " 'upper_soil_saturation_degree',\n",
       " 'fossil_groundwater_abstraction',\n",
       " 'land_surface_runoff',\n",
       " 'total_abstraction',\n",
       " 'test',\n",
       " 'livestockWaterWithdrawalVolume',\n",
       " 'desalination_source_abstraction',\n",
       " 'discharge',\n",
       " 'groundwater_thickness_estimate',\n",
       " 'temperature',\n",
       " 'upper_soil_transpiration',\n",
       " 'snow_water_equivalent',\n",
       " 'total_runoff',\n",
       " 'transpiration_from_irrigation',\n",
       " 'fraction_of_surface_water',\n",
       " 'bottom_elevation_of_uppermost_layer',\n",
       " 'industry_water_withdrawal',\n",
       " 'relativeGroundwaterHead',\n",
       " 'total_fraction_water_allocation',\n",
       " 'groundwater_volume_estimate',\n",
       " 'groundwater_depth_for_layer_2',\n",
       " 'irrigation_gross_demand',\n",
       " 'groundwater_depth_for_layer_1',\n",
       " 'irrigationWaterWithdrawalVolume',\n",
       " 'surface_water_abstraction_volume']"
      ]
     },
     "execution_count": 18,
     "metadata": {},
     "output_type": "execute_result"
    }
   ],
   "source": [
    "list(pcrglob.output_var_names)"
   ]
  },
  {
   "cell_type": "markdown",
   "id": "bc3037d6",
   "metadata": {},
   "source": [
    "Model fields can be fetched as xarray objects (or as flat numpy arrays using `get_value()`):"
   ]
  },
  {
   "cell_type": "code",
   "execution_count": 19,
   "id": "b37943a9",
   "metadata": {},
   "outputs": [
    {
     "data": {
      "text/html": [
       "<div><svg style=\"position: absolute; width: 0; height: 0; overflow: hidden\">\n",
       "<defs>\n",
       "<symbol id=\"icon-database\" viewBox=\"0 0 32 32\">\n",
       "<path d=\"M16 0c-8.837 0-16 2.239-16 5v4c0 2.761 7.163 5 16 5s16-2.239 16-5v-4c0-2.761-7.163-5-16-5z\"></path>\n",
       "<path d=\"M16 17c-8.837 0-16-2.239-16-5v6c0 2.761 7.163 5 16 5s16-2.239 16-5v-6c0 2.761-7.163 5-16 5z\"></path>\n",
       "<path d=\"M16 26c-8.837 0-16-2.239-16-5v6c0 2.761 7.163 5 16 5s16-2.239 16-5v-6c0 2.761-7.163 5-16 5z\"></path>\n",
       "</symbol>\n",
       "<symbol id=\"icon-file-text2\" viewBox=\"0 0 32 32\">\n",
       "<path d=\"M28.681 7.159c-0.694-0.947-1.662-2.053-2.724-3.116s-2.169-2.030-3.116-2.724c-1.612-1.182-2.393-1.319-2.841-1.319h-15.5c-1.378 0-2.5 1.121-2.5 2.5v27c0 1.378 1.122 2.5 2.5 2.5h23c1.378 0 2.5-1.122 2.5-2.5v-19.5c0-0.448-0.137-1.23-1.319-2.841zM24.543 5.457c0.959 0.959 1.712 1.825 2.268 2.543h-4.811v-4.811c0.718 0.556 1.584 1.309 2.543 2.268zM28 29.5c0 0.271-0.229 0.5-0.5 0.5h-23c-0.271 0-0.5-0.229-0.5-0.5v-27c0-0.271 0.229-0.5 0.5-0.5 0 0 15.499-0 15.5 0v7c0 0.552 0.448 1 1 1h7v19.5z\"></path>\n",
       "<path d=\"M23 26h-14c-0.552 0-1-0.448-1-1s0.448-1 1-1h14c0.552 0 1 0.448 1 1s-0.448 1-1 1z\"></path>\n",
       "<path d=\"M23 22h-14c-0.552 0-1-0.448-1-1s0.448-1 1-1h14c0.552 0 1 0.448 1 1s-0.448 1-1 1z\"></path>\n",
       "<path d=\"M23 18h-14c-0.552 0-1-0.448-1-1s0.448-1 1-1h14c0.552 0 1 0.448 1 1s-0.448 1-1 1z\"></path>\n",
       "</symbol>\n",
       "</defs>\n",
       "</svg>\n",
       "<style>/* CSS stylesheet for displaying xarray objects in jupyterlab.\n",
       " *\n",
       " */\n",
       "\n",
       ":root {\n",
       "  --xr-font-color0: var(--jp-content-font-color0, rgba(0, 0, 0, 1));\n",
       "  --xr-font-color2: var(--jp-content-font-color2, rgba(0, 0, 0, 0.54));\n",
       "  --xr-font-color3: var(--jp-content-font-color3, rgba(0, 0, 0, 0.38));\n",
       "  --xr-border-color: var(--jp-border-color2, #e0e0e0);\n",
       "  --xr-disabled-color: var(--jp-layout-color3, #bdbdbd);\n",
       "  --xr-background-color: var(--jp-layout-color0, white);\n",
       "  --xr-background-color-row-even: var(--jp-layout-color1, white);\n",
       "  --xr-background-color-row-odd: var(--jp-layout-color2, #eeeeee);\n",
       "}\n",
       "\n",
       "html[theme=dark],\n",
       "html[data-theme=dark],\n",
       "body[data-theme=dark],\n",
       "body.vscode-dark {\n",
       "  --xr-font-color0: rgba(255, 255, 255, 1);\n",
       "  --xr-font-color2: rgba(255, 255, 255, 0.54);\n",
       "  --xr-font-color3: rgba(255, 255, 255, 0.38);\n",
       "  --xr-border-color: #1F1F1F;\n",
       "  --xr-disabled-color: #515151;\n",
       "  --xr-background-color: #111111;\n",
       "  --xr-background-color-row-even: #111111;\n",
       "  --xr-background-color-row-odd: #313131;\n",
       "}\n",
       "\n",
       ".xr-wrap {\n",
       "  display: block !important;\n",
       "  min-width: 300px;\n",
       "  max-width: 700px;\n",
       "}\n",
       "\n",
       ".xr-text-repr-fallback {\n",
       "  /* fallback to plain text repr when CSS is not injected (untrusted notebook) */\n",
       "  display: none;\n",
       "}\n",
       "\n",
       ".xr-header {\n",
       "  padding-top: 6px;\n",
       "  padding-bottom: 6px;\n",
       "  margin-bottom: 4px;\n",
       "  border-bottom: solid 1px var(--xr-border-color);\n",
       "}\n",
       "\n",
       ".xr-header > div,\n",
       ".xr-header > ul {\n",
       "  display: inline;\n",
       "  margin-top: 0;\n",
       "  margin-bottom: 0;\n",
       "}\n",
       "\n",
       ".xr-obj-type,\n",
       ".xr-array-name {\n",
       "  margin-left: 2px;\n",
       "  margin-right: 10px;\n",
       "}\n",
       "\n",
       ".xr-obj-type {\n",
       "  color: var(--xr-font-color2);\n",
       "}\n",
       "\n",
       ".xr-sections {\n",
       "  padding-left: 0 !important;\n",
       "  display: grid;\n",
       "  grid-template-columns: 150px auto auto 1fr 20px 20px;\n",
       "}\n",
       "\n",
       ".xr-section-item {\n",
       "  display: contents;\n",
       "}\n",
       "\n",
       ".xr-section-item input {\n",
       "  display: none;\n",
       "}\n",
       "\n",
       ".xr-section-item input + label {\n",
       "  color: var(--xr-disabled-color);\n",
       "}\n",
       "\n",
       ".xr-section-item input:enabled + label {\n",
       "  cursor: pointer;\n",
       "  color: var(--xr-font-color2);\n",
       "}\n",
       "\n",
       ".xr-section-item input:enabled + label:hover {\n",
       "  color: var(--xr-font-color0);\n",
       "}\n",
       "\n",
       ".xr-section-summary {\n",
       "  grid-column: 1;\n",
       "  color: var(--xr-font-color2);\n",
       "  font-weight: 500;\n",
       "}\n",
       "\n",
       ".xr-section-summary > span {\n",
       "  display: inline-block;\n",
       "  padding-left: 0.5em;\n",
       "}\n",
       "\n",
       ".xr-section-summary-in:disabled + label {\n",
       "  color: var(--xr-font-color2);\n",
       "}\n",
       "\n",
       ".xr-section-summary-in + label:before {\n",
       "  display: inline-block;\n",
       "  content: '►';\n",
       "  font-size: 11px;\n",
       "  width: 15px;\n",
       "  text-align: center;\n",
       "}\n",
       "\n",
       ".xr-section-summary-in:disabled + label:before {\n",
       "  color: var(--xr-disabled-color);\n",
       "}\n",
       "\n",
       ".xr-section-summary-in:checked + label:before {\n",
       "  content: '▼';\n",
       "}\n",
       "\n",
       ".xr-section-summary-in:checked + label > span {\n",
       "  display: none;\n",
       "}\n",
       "\n",
       ".xr-section-summary,\n",
       ".xr-section-inline-details {\n",
       "  padding-top: 4px;\n",
       "  padding-bottom: 4px;\n",
       "}\n",
       "\n",
       ".xr-section-inline-details {\n",
       "  grid-column: 2 / -1;\n",
       "}\n",
       "\n",
       ".xr-section-details {\n",
       "  display: none;\n",
       "  grid-column: 1 / -1;\n",
       "  margin-bottom: 5px;\n",
       "}\n",
       "\n",
       ".xr-section-summary-in:checked ~ .xr-section-details {\n",
       "  display: contents;\n",
       "}\n",
       "\n",
       ".xr-array-wrap {\n",
       "  grid-column: 1 / -1;\n",
       "  display: grid;\n",
       "  grid-template-columns: 20px auto;\n",
       "}\n",
       "\n",
       ".xr-array-wrap > label {\n",
       "  grid-column: 1;\n",
       "  vertical-align: top;\n",
       "}\n",
       "\n",
       ".xr-preview {\n",
       "  color: var(--xr-font-color3);\n",
       "}\n",
       "\n",
       ".xr-array-preview,\n",
       ".xr-array-data {\n",
       "  padding: 0 5px !important;\n",
       "  grid-column: 2;\n",
       "}\n",
       "\n",
       ".xr-array-data,\n",
       ".xr-array-in:checked ~ .xr-array-preview {\n",
       "  display: none;\n",
       "}\n",
       "\n",
       ".xr-array-in:checked ~ .xr-array-data,\n",
       ".xr-array-preview {\n",
       "  display: inline-block;\n",
       "}\n",
       "\n",
       ".xr-dim-list {\n",
       "  display: inline-block !important;\n",
       "  list-style: none;\n",
       "  padding: 0 !important;\n",
       "  margin: 0;\n",
       "}\n",
       "\n",
       ".xr-dim-list li {\n",
       "  display: inline-block;\n",
       "  padding: 0;\n",
       "  margin: 0;\n",
       "}\n",
       "\n",
       ".xr-dim-list:before {\n",
       "  content: '(';\n",
       "}\n",
       "\n",
       ".xr-dim-list:after {\n",
       "  content: ')';\n",
       "}\n",
       "\n",
       ".xr-dim-list li:not(:last-child):after {\n",
       "  content: ',';\n",
       "  padding-right: 5px;\n",
       "}\n",
       "\n",
       ".xr-has-index {\n",
       "  font-weight: bold;\n",
       "}\n",
       "\n",
       ".xr-var-list,\n",
       ".xr-var-item {\n",
       "  display: contents;\n",
       "}\n",
       "\n",
       ".xr-var-item > div,\n",
       ".xr-var-item label,\n",
       ".xr-var-item > .xr-var-name span {\n",
       "  background-color: var(--xr-background-color-row-even);\n",
       "  margin-bottom: 0;\n",
       "}\n",
       "\n",
       ".xr-var-item > .xr-var-name:hover span {\n",
       "  padding-right: 5px;\n",
       "}\n",
       "\n",
       ".xr-var-list > li:nth-child(odd) > div,\n",
       ".xr-var-list > li:nth-child(odd) > label,\n",
       ".xr-var-list > li:nth-child(odd) > .xr-var-name span {\n",
       "  background-color: var(--xr-background-color-row-odd);\n",
       "}\n",
       "\n",
       ".xr-var-name {\n",
       "  grid-column: 1;\n",
       "}\n",
       "\n",
       ".xr-var-dims {\n",
       "  grid-column: 2;\n",
       "}\n",
       "\n",
       ".xr-var-dtype {\n",
       "  grid-column: 3;\n",
       "  text-align: right;\n",
       "  color: var(--xr-font-color2);\n",
       "}\n",
       "\n",
       ".xr-var-preview {\n",
       "  grid-column: 4;\n",
       "}\n",
       "\n",
       ".xr-index-preview {\n",
       "  grid-column: 2 / 5;\n",
       "  color: var(--xr-font-color2);\n",
       "}\n",
       "\n",
       ".xr-var-name,\n",
       ".xr-var-dims,\n",
       ".xr-var-dtype,\n",
       ".xr-preview,\n",
       ".xr-attrs dt {\n",
       "  white-space: nowrap;\n",
       "  overflow: hidden;\n",
       "  text-overflow: ellipsis;\n",
       "  padding-right: 10px;\n",
       "}\n",
       "\n",
       ".xr-var-name:hover,\n",
       ".xr-var-dims:hover,\n",
       ".xr-var-dtype:hover,\n",
       ".xr-attrs dt:hover {\n",
       "  overflow: visible;\n",
       "  width: auto;\n",
       "  z-index: 1;\n",
       "}\n",
       "\n",
       ".xr-var-attrs,\n",
       ".xr-var-data,\n",
       ".xr-index-data {\n",
       "  display: none;\n",
       "  background-color: var(--xr-background-color) !important;\n",
       "  padding-bottom: 5px !important;\n",
       "}\n",
       "\n",
       ".xr-var-attrs-in:checked ~ .xr-var-attrs,\n",
       ".xr-var-data-in:checked ~ .xr-var-data,\n",
       ".xr-index-data-in:checked ~ .xr-index-data {\n",
       "  display: block;\n",
       "}\n",
       "\n",
       ".xr-var-data > table {\n",
       "  float: right;\n",
       "}\n",
       "\n",
       ".xr-var-name span,\n",
       ".xr-var-data,\n",
       ".xr-index-name div,\n",
       ".xr-index-data,\n",
       ".xr-attrs {\n",
       "  padding-left: 25px !important;\n",
       "}\n",
       "\n",
       ".xr-attrs,\n",
       ".xr-var-attrs,\n",
       ".xr-var-data,\n",
       ".xr-index-data {\n",
       "  grid-column: 1 / -1;\n",
       "}\n",
       "\n",
       "dl.xr-attrs {\n",
       "  padding: 0;\n",
       "  margin: 0;\n",
       "  display: grid;\n",
       "  grid-template-columns: 125px auto;\n",
       "}\n",
       "\n",
       ".xr-attrs dt,\n",
       ".xr-attrs dd {\n",
       "  padding: 0;\n",
       "  margin: 0;\n",
       "  float: left;\n",
       "  padding-right: 10px;\n",
       "  width: auto;\n",
       "}\n",
       "\n",
       ".xr-attrs dt {\n",
       "  font-weight: normal;\n",
       "  grid-column: 1;\n",
       "}\n",
       "\n",
       ".xr-attrs dt:hover span {\n",
       "  display: inline-block;\n",
       "  background: var(--xr-background-color);\n",
       "  padding-right: 10px;\n",
       "}\n",
       "\n",
       ".xr-attrs dd {\n",
       "  grid-column: 2;\n",
       "  white-space: pre-wrap;\n",
       "  word-break: break-all;\n",
       "}\n",
       "\n",
       ".xr-icon-database,\n",
       ".xr-icon-file-text2,\n",
       ".xr-no-icon {\n",
       "  display: inline-block;\n",
       "  vertical-align: middle;\n",
       "  width: 1em;\n",
       "  height: 1.5em !important;\n",
       "  stroke-width: 0;\n",
       "  stroke: currentColor;\n",
       "  fill: currentColor;\n",
       "}\n",
       "</style><pre class='xr-text-repr-fallback'>&lt;xarray.DataArray (longitude: 22, latitude: 15)&gt; Size: 3kB\n",
       "array([[0.00000000e+00, 0.00000000e+00, 0.00000000e+00, 0.00000000e+00,\n",
       "        0.00000000e+00, 0.00000000e+00, 0.00000000e+00, 0.00000000e+00,\n",
       "        0.00000000e+00, 0.00000000e+00, 2.84560490e-03, 0.00000000e+00,\n",
       "        8.10737722e-03, 0.00000000e+00, 0.00000000e+00],\n",
       "       [0.00000000e+00, 0.00000000e+00, 0.00000000e+00, 0.00000000e+00,\n",
       "        0.00000000e+00, 0.00000000e+00, 0.00000000e+00, 0.00000000e+00,\n",
       "        0.00000000e+00, 0.00000000e+00, 1.57073573e-05, 6.61684999e-06,\n",
       "        0.00000000e+00, 0.00000000e+00, 0.00000000e+00],\n",
       "       [0.00000000e+00, 0.00000000e+00, 0.00000000e+00, 0.00000000e+00,\n",
       "        0.00000000e+00, 0.00000000e+00, 0.00000000e+00, 0.00000000e+00,\n",
       "        0.00000000e+00, 0.00000000e+00, 9.23046173e-06, 1.20184513e-05,\n",
       "        0.00000000e+00, 0.00000000e+00, 0.00000000e+00],\n",
       "       [0.00000000e+00, 0.00000000e+00, 0.00000000e+00, 0.00000000e+00,\n",
       "        0.00000000e+00, 0.00000000e+00, 0.00000000e+00, 0.00000000e+00,\n",
       "        0.00000000e+00, 7.76020352e-06, 7.86819237e-06, 0.00000000e+00,\n",
       "        0.00000000e+00, 0.00000000e+00, 0.00000000e+00],\n",
       "       [0.00000000e+00, 0.00000000e+00, 0.00000000e+00, 0.00000000e+00,\n",
       "        0.00000000e+00, 0.00000000e+00, 0.00000000e+00, 0.00000000e+00,\n",
       "        0.00000000e+00, 0.00000000e+00, 0.00000000e+00, 0.00000000e+00,\n",
       "        0.00000000e+00, 0.00000000e+00, 0.00000000e+00],\n",
       "...\n",
       "       [2.43920895e-05, 0.00000000e+00, 1.60000018e-05, 0.00000000e+00,\n",
       "        0.00000000e+00, 0.00000000e+00, 0.00000000e+00, 0.00000000e+00,\n",
       "        0.00000000e+00, 0.00000000e+00, 0.00000000e+00, 0.00000000e+00,\n",
       "        0.00000000e+00, 8.53538659e-05, 8.27240656e-05],\n",
       "       [5.94355806e-05, 4.45761398e-05, 3.89591041e-05, 1.71280652e-03,\n",
       "        0.00000000e+00, 0.00000000e+00, 0.00000000e+00, 0.00000000e+00,\n",
       "        0.00000000e+00, 0.00000000e+00, 0.00000000e+00, 0.00000000e+00,\n",
       "        0.00000000e+00, 0.00000000e+00, 1.55192301e-05],\n",
       "       [6.17643745e-05, 5.35796955e-03, 0.00000000e+00, 0.00000000e+00,\n",
       "        0.00000000e+00, 0.00000000e+00, 0.00000000e+00, 0.00000000e+00,\n",
       "        0.00000000e+00, 0.00000000e+00, 0.00000000e+00, 0.00000000e+00,\n",
       "        0.00000000e+00, 3.13437590e-06, 2.63122289e-04],\n",
       "       [0.00000000e+00, 0.00000000e+00, 0.00000000e+00, 1.45370699e-03,\n",
       "        0.00000000e+00, 0.00000000e+00, 0.00000000e+00, 0.00000000e+00,\n",
       "        0.00000000e+00, 0.00000000e+00, 0.00000000e+00, 0.00000000e+00,\n",
       "        5.67337429e-06, 0.00000000e+00, 1.98712945e-03],\n",
       "       [0.00000000e+00, 0.00000000e+00, 0.00000000e+00, 0.00000000e+00,\n",
       "        0.00000000e+00, 0.00000000e+00, 0.00000000e+00, 0.00000000e+00,\n",
       "        0.00000000e+00, 0.00000000e+00, 2.80138716e-04, 2.94357957e-03,\n",
       "        5.79677243e-03, 9.13849217e-04, 2.49473075e-03]])\n",
       "Coordinates:\n",
       "  * latitude   (latitude) float64 120B -116.0 -115.5 -115.1 ... -110.5 -110.1\n",
       "  * longitude  (longitude) float64 176B 25.04 25.46 25.88 ... 32.96 33.38 33.79</pre><div class='xr-wrap' style='display:none'><div class='xr-header'><div class='xr-obj-type'>xarray.DataArray</div><div class='xr-array-name'></div><ul class='xr-dim-list'><li><span class='xr-has-index'>longitude</span>: 22</li><li><span class='xr-has-index'>latitude</span>: 15</li></ul></div><ul class='xr-sections'><li class='xr-section-item'><div class='xr-array-wrap'><input id='section-4343d509-165d-40fc-9b68-a868b6b5217c' class='xr-array-in' type='checkbox' checked><label for='section-4343d509-165d-40fc-9b68-a868b6b5217c' title='Show/hide data repr'><svg class='icon xr-icon-database'><use xlink:href='#icon-database'></use></svg></label><div class='xr-array-preview xr-preview'><span>0.0 0.0 0.0 0.0 0.0 ... 0.0002801 0.002944 0.005797 0.0009138 0.002495</span></div><div class='xr-array-data'><pre>array([[0.00000000e+00, 0.00000000e+00, 0.00000000e+00, 0.00000000e+00,\n",
       "        0.00000000e+00, 0.00000000e+00, 0.00000000e+00, 0.00000000e+00,\n",
       "        0.00000000e+00, 0.00000000e+00, 2.84560490e-03, 0.00000000e+00,\n",
       "        8.10737722e-03, 0.00000000e+00, 0.00000000e+00],\n",
       "       [0.00000000e+00, 0.00000000e+00, 0.00000000e+00, 0.00000000e+00,\n",
       "        0.00000000e+00, 0.00000000e+00, 0.00000000e+00, 0.00000000e+00,\n",
       "        0.00000000e+00, 0.00000000e+00, 1.57073573e-05, 6.61684999e-06,\n",
       "        0.00000000e+00, 0.00000000e+00, 0.00000000e+00],\n",
       "       [0.00000000e+00, 0.00000000e+00, 0.00000000e+00, 0.00000000e+00,\n",
       "        0.00000000e+00, 0.00000000e+00, 0.00000000e+00, 0.00000000e+00,\n",
       "        0.00000000e+00, 0.00000000e+00, 9.23046173e-06, 1.20184513e-05,\n",
       "        0.00000000e+00, 0.00000000e+00, 0.00000000e+00],\n",
       "       [0.00000000e+00, 0.00000000e+00, 0.00000000e+00, 0.00000000e+00,\n",
       "        0.00000000e+00, 0.00000000e+00, 0.00000000e+00, 0.00000000e+00,\n",
       "        0.00000000e+00, 7.76020352e-06, 7.86819237e-06, 0.00000000e+00,\n",
       "        0.00000000e+00, 0.00000000e+00, 0.00000000e+00],\n",
       "       [0.00000000e+00, 0.00000000e+00, 0.00000000e+00, 0.00000000e+00,\n",
       "        0.00000000e+00, 0.00000000e+00, 0.00000000e+00, 0.00000000e+00,\n",
       "        0.00000000e+00, 0.00000000e+00, 0.00000000e+00, 0.00000000e+00,\n",
       "        0.00000000e+00, 0.00000000e+00, 0.00000000e+00],\n",
       "...\n",
       "       [2.43920895e-05, 0.00000000e+00, 1.60000018e-05, 0.00000000e+00,\n",
       "        0.00000000e+00, 0.00000000e+00, 0.00000000e+00, 0.00000000e+00,\n",
       "        0.00000000e+00, 0.00000000e+00, 0.00000000e+00, 0.00000000e+00,\n",
       "        0.00000000e+00, 8.53538659e-05, 8.27240656e-05],\n",
       "       [5.94355806e-05, 4.45761398e-05, 3.89591041e-05, 1.71280652e-03,\n",
       "        0.00000000e+00, 0.00000000e+00, 0.00000000e+00, 0.00000000e+00,\n",
       "        0.00000000e+00, 0.00000000e+00, 0.00000000e+00, 0.00000000e+00,\n",
       "        0.00000000e+00, 0.00000000e+00, 1.55192301e-05],\n",
       "       [6.17643745e-05, 5.35796955e-03, 0.00000000e+00, 0.00000000e+00,\n",
       "        0.00000000e+00, 0.00000000e+00, 0.00000000e+00, 0.00000000e+00,\n",
       "        0.00000000e+00, 0.00000000e+00, 0.00000000e+00, 0.00000000e+00,\n",
       "        0.00000000e+00, 3.13437590e-06, 2.63122289e-04],\n",
       "       [0.00000000e+00, 0.00000000e+00, 0.00000000e+00, 1.45370699e-03,\n",
       "        0.00000000e+00, 0.00000000e+00, 0.00000000e+00, 0.00000000e+00,\n",
       "        0.00000000e+00, 0.00000000e+00, 0.00000000e+00, 0.00000000e+00,\n",
       "        5.67337429e-06, 0.00000000e+00, 1.98712945e-03],\n",
       "       [0.00000000e+00, 0.00000000e+00, 0.00000000e+00, 0.00000000e+00,\n",
       "        0.00000000e+00, 0.00000000e+00, 0.00000000e+00, 0.00000000e+00,\n",
       "        0.00000000e+00, 0.00000000e+00, 2.80138716e-04, 2.94357957e-03,\n",
       "        5.79677243e-03, 9.13849217e-04, 2.49473075e-03]])</pre></div></div></li><li class='xr-section-item'><input id='section-32b98be8-b47c-46ca-af41-124c96c75b89' class='xr-section-summary-in' type='checkbox'  checked><label for='section-32b98be8-b47c-46ca-af41-124c96c75b89' class='xr-section-summary' >Coordinates: <span>(2)</span></label><div class='xr-section-inline-details'></div><div class='xr-section-details'><ul class='xr-var-list'><li class='xr-var-item'><div class='xr-var-name'><span class='xr-has-index'>latitude</span></div><div class='xr-var-dims'>(latitude)</div><div class='xr-var-dtype'>float64</div><div class='xr-var-preview xr-preview'>-116.0 -115.5 ... -110.5 -110.1</div><input id='attrs-f45ac0e9-68c1-4f16-a459-0154dd73bf27' class='xr-var-attrs-in' type='checkbox' disabled><label for='attrs-f45ac0e9-68c1-4f16-a459-0154dd73bf27' title='Show/Hide attributes'><svg class='icon xr-icon-file-text2'><use xlink:href='#icon-file-text2'></use></svg></label><input id='data-ba48defd-be65-42fb-aa75-73a7b4a587b7' class='xr-var-data-in' type='checkbox'><label for='data-ba48defd-be65-42fb-aa75-73a7b4a587b7' title='Show/Hide data repr'><svg class='icon xr-icon-database'><use xlink:href='#icon-database'></use></svg></label><div class='xr-var-attrs'><dl class='xr-attrs'></dl></div><div class='xr-var-data'><pre>array([-115.958333, -115.541667, -115.125   , -114.708333, -114.291667,\n",
       "       -113.875   , -113.458333, -113.041667, -112.625   , -112.208333,\n",
       "       -111.791667, -111.375   , -110.958333, -110.541667, -110.125   ])</pre></div></li><li class='xr-var-item'><div class='xr-var-name'><span class='xr-has-index'>longitude</span></div><div class='xr-var-dims'>(longitude)</div><div class='xr-var-dtype'>float64</div><div class='xr-var-preview xr-preview'>25.04 25.46 25.88 ... 33.38 33.79</div><input id='attrs-c01b0511-47aa-417d-bfbf-2a2af8022abb' class='xr-var-attrs-in' type='checkbox' disabled><label for='attrs-c01b0511-47aa-417d-bfbf-2a2af8022abb' title='Show/Hide attributes'><svg class='icon xr-icon-file-text2'><use xlink:href='#icon-file-text2'></use></svg></label><input id='data-401dd908-2bf7-4b8c-9d71-b27eb5a17aee' class='xr-var-data-in' type='checkbox'><label for='data-401dd908-2bf7-4b8c-9d71-b27eb5a17aee' title='Show/Hide data repr'><svg class='icon xr-icon-database'><use xlink:href='#icon-database'></use></svg></label><div class='xr-var-attrs'><dl class='xr-attrs'></dl></div><div class='xr-var-data'><pre>array([25.041667, 25.458333, 25.875   , 26.291667, 26.708333, 27.125   ,\n",
       "       27.541667, 27.958333, 28.375   , 28.791667, 29.208333, 29.625   ,\n",
       "       30.041667, 30.458333, 30.875   , 31.291667, 31.708333, 32.125   ,\n",
       "       32.541667, 32.958333, 33.375   , 33.791667])</pre></div></li></ul></div></li><li class='xr-section-item'><input id='section-7b1692e5-b482-49e3-9262-ea2d593f5f52' class='xr-section-summary-in' type='checkbox'  ><label for='section-7b1692e5-b482-49e3-9262-ea2d593f5f52' class='xr-section-summary' >Indexes: <span>(2)</span></label><div class='xr-section-inline-details'></div><div class='xr-section-details'><ul class='xr-var-list'><li class='xr-var-item'><div class='xr-index-name'><div>latitude</div></div><div class='xr-index-preview'>PandasIndex</div><div></div><input id='index-9739d934-9188-45a8-81b3-33061e743303' class='xr-index-data-in' type='checkbox'/><label for='index-9739d934-9188-45a8-81b3-33061e743303' title='Show/Hide index repr'><svg class='icon xr-icon-database'><use xlink:href='#icon-database'></use></svg></label><div class='xr-index-data'><pre>PandasIndex(Index([-115.95833333335896, -115.54166666669246, -115.12500000002596,\n",
       "       -114.70833333335946, -114.29166666669296, -113.87500000002646,\n",
       "       -113.45833333335996, -113.04166666669346, -112.62500000002696,\n",
       "       -112.20833333336046, -111.79166666669396, -111.37500000002746,\n",
       "       -110.95833333336095, -110.54166666669445, -110.12500000002795],\n",
       "      dtype=&#x27;float64&#x27;, name=&#x27;latitude&#x27;))</pre></div></li><li class='xr-var-item'><div class='xr-index-name'><div>longitude</div></div><div class='xr-index-preview'>PandasIndex</div><div></div><input id='index-17f2e673-523f-45c7-a471-ecc93ebf0b57' class='xr-index-data-in' type='checkbox'/><label for='index-17f2e673-523f-45c7-a471-ecc93ebf0b57' title='Show/Hide index repr'><svg class='icon xr-icon-database'><use xlink:href='#icon-database'></use></svg></label><div class='xr-index-data'><pre>PandasIndex(Index([25.041666666692656, 25.458333333359157, 25.875000000025654,\n",
       "       26.291666666692155, 26.708333333358656, 27.125000000025157,\n",
       "       27.541666666691654, 27.958333333358155, 28.375000000024656,\n",
       "       28.791666666691157, 29.208333333357658, 29.625000000024155,\n",
       "       30.041666666690656, 30.458333333357157, 30.875000000023654,\n",
       "       31.291666666690155, 31.708333333356656,  32.12500000002316,\n",
       "        32.54166666668966,  32.95833333335616,  33.37500000002265,\n",
       "        33.79166666668915],\n",
       "      dtype=&#x27;float64&#x27;, name=&#x27;longitude&#x27;))</pre></div></li></ul></div></li><li class='xr-section-item'><input id='section-bf4c4ffd-9eb1-4111-b0bc-df2db586eaf8' class='xr-section-summary-in' type='checkbox' disabled ><label for='section-bf4c4ffd-9eb1-4111-b0bc-df2db586eaf8' class='xr-section-summary'  title='Expand/collapse section'>Attributes: <span>(0)</span></label><div class='xr-section-inline-details'></div><div class='xr-section-details'><dl class='xr-attrs'></dl></div></li></ul></div></div>"
      ],
      "text/plain": [
       "<xarray.DataArray (longitude: 22, latitude: 15)> Size: 3kB\n",
       "array([[0.00000000e+00, 0.00000000e+00, 0.00000000e+00, 0.00000000e+00,\n",
       "        0.00000000e+00, 0.00000000e+00, 0.00000000e+00, 0.00000000e+00,\n",
       "        0.00000000e+00, 0.00000000e+00, 2.84560490e-03, 0.00000000e+00,\n",
       "        8.10737722e-03, 0.00000000e+00, 0.00000000e+00],\n",
       "       [0.00000000e+00, 0.00000000e+00, 0.00000000e+00, 0.00000000e+00,\n",
       "        0.00000000e+00, 0.00000000e+00, 0.00000000e+00, 0.00000000e+00,\n",
       "        0.00000000e+00, 0.00000000e+00, 1.57073573e-05, 6.61684999e-06,\n",
       "        0.00000000e+00, 0.00000000e+00, 0.00000000e+00],\n",
       "       [0.00000000e+00, 0.00000000e+00, 0.00000000e+00, 0.00000000e+00,\n",
       "        0.00000000e+00, 0.00000000e+00, 0.00000000e+00, 0.00000000e+00,\n",
       "        0.00000000e+00, 0.00000000e+00, 9.23046173e-06, 1.20184513e-05,\n",
       "        0.00000000e+00, 0.00000000e+00, 0.00000000e+00],\n",
       "       [0.00000000e+00, 0.00000000e+00, 0.00000000e+00, 0.00000000e+00,\n",
       "        0.00000000e+00, 0.00000000e+00, 0.00000000e+00, 0.00000000e+00,\n",
       "        0.00000000e+00, 7.76020352e-06, 7.86819237e-06, 0.00000000e+00,\n",
       "        0.00000000e+00, 0.00000000e+00, 0.00000000e+00],\n",
       "       [0.00000000e+00, 0.00000000e+00, 0.00000000e+00, 0.00000000e+00,\n",
       "        0.00000000e+00, 0.00000000e+00, 0.00000000e+00, 0.00000000e+00,\n",
       "        0.00000000e+00, 0.00000000e+00, 0.00000000e+00, 0.00000000e+00,\n",
       "        0.00000000e+00, 0.00000000e+00, 0.00000000e+00],\n",
       "...\n",
       "       [2.43920895e-05, 0.00000000e+00, 1.60000018e-05, 0.00000000e+00,\n",
       "        0.00000000e+00, 0.00000000e+00, 0.00000000e+00, 0.00000000e+00,\n",
       "        0.00000000e+00, 0.00000000e+00, 0.00000000e+00, 0.00000000e+00,\n",
       "        0.00000000e+00, 8.53538659e-05, 8.27240656e-05],\n",
       "       [5.94355806e-05, 4.45761398e-05, 3.89591041e-05, 1.71280652e-03,\n",
       "        0.00000000e+00, 0.00000000e+00, 0.00000000e+00, 0.00000000e+00,\n",
       "        0.00000000e+00, 0.00000000e+00, 0.00000000e+00, 0.00000000e+00,\n",
       "        0.00000000e+00, 0.00000000e+00, 1.55192301e-05],\n",
       "       [6.17643745e-05, 5.35796955e-03, 0.00000000e+00, 0.00000000e+00,\n",
       "        0.00000000e+00, 0.00000000e+00, 0.00000000e+00, 0.00000000e+00,\n",
       "        0.00000000e+00, 0.00000000e+00, 0.00000000e+00, 0.00000000e+00,\n",
       "        0.00000000e+00, 3.13437590e-06, 2.63122289e-04],\n",
       "       [0.00000000e+00, 0.00000000e+00, 0.00000000e+00, 1.45370699e-03,\n",
       "        0.00000000e+00, 0.00000000e+00, 0.00000000e+00, 0.00000000e+00,\n",
       "        0.00000000e+00, 0.00000000e+00, 0.00000000e+00, 0.00000000e+00,\n",
       "        5.67337429e-06, 0.00000000e+00, 1.98712945e-03],\n",
       "       [0.00000000e+00, 0.00000000e+00, 0.00000000e+00, 0.00000000e+00,\n",
       "        0.00000000e+00, 0.00000000e+00, 0.00000000e+00, 0.00000000e+00,\n",
       "        0.00000000e+00, 0.00000000e+00, 2.80138716e-04, 2.94357957e-03,\n",
       "        5.79677243e-03, 9.13849217e-04, 2.49473075e-03]])\n",
       "Coordinates:\n",
       "  * latitude   (latitude) float64 120B -116.0 -115.5 -115.1 ... -110.5 -110.1\n",
       "  * longitude  (longitude) float64 176B 25.04 25.46 25.88 ... 32.96 33.38 33.79"
      ]
     },
     "execution_count": 19,
     "metadata": {},
     "output_type": "execute_result"
    }
   ],
   "source": [
    "da = pcrglob.get_value_as_xarray(\"infiltration\")\n",
    "da.thin(5)  # only show every 5th value in each dim"
   ]
  },
  {
   "cell_type": "markdown",
   "id": "b68de73f",
   "metadata": {},
   "source": [
    "Xarray makes it very easy to plot the data. In the figure below, we add a cross at the location where we collected the discharge every timestep: Leven at Newby bridge."
   ]
  },
  {
   "cell_type": "code",
   "execution_count": 20,
   "id": "f30ab9b3",
   "metadata": {},
   "outputs": [
    {
     "data": {
      "text/plain": [
       "<matplotlib.collections.PathCollection at 0x7f8cf8492f90>"
      ]
     },
     "execution_count": 20,
     "metadata": {},
     "output_type": "execute_result"
    },
    {
     "data": {
      "image/png": "[encoded data removed]",
      "text/plain": [
       "<Figure size 768x576 with 2 Axes>"
      ]
     },
     "metadata": {},
     "output_type": "display_data"
    }
   ],
   "source": [
    "fig = plt.figure(dpi=120)\n",
    "ax = fig.add_subplot(111, projection=crs.PlateCarree())\n",
    "da.plot(ax=ax, cmap=\"GnBu\")\n",
    "\n",
    "# Overlay ocean and coastines\n",
    "ax.add_feature(cfeature.OCEAN)\n",
    "ax.add_feature(cfeature.RIVERS, color=\"k\")\n",
    "ax.coastlines()\n",
    "\n",
    "# Add a red cross marker at the location of the Leven River at Newby Bridge\n",
    "ax.scatter(station_longitude, station_latitude, s=250, c=\"r\", marker=\"x\", lw=2)"
   ]
  },
  {
   "cell_type": "markdown",
   "id": "418c4d74",
   "metadata": {},
   "source": [
    "We can get (or set) the values at custom points as well:"
   ]
  },
  {
   "cell_type": "code",
   "execution_count": 21,
   "id": "eb8a054b-44dc-4bdc-8179-c3796af26c2e",
   "metadata": {},
   "outputs": [
    {
     "data": {
      "text/plain": [
       "<Axes: xlabel='time'>"
      ]
     },
     "execution_count": 21,
     "metadata": {},
     "output_type": "execute_result"
    },
    {
     "data": {
      "image/png": "[encoded data removed]",
      "text/plain": [
       "<Figure size 640x480 with 1 Axes>"
      ]
     },
     "metadata": {},
     "output_type": "display_data"
    }
   ],
   "source": [
    "#extra\n",
    "timeseries.plot()"
   ]
  },
  {
   "cell_type": "markdown",
   "id": "c3479c71",
   "metadata": {},
   "source": [
    "## Cleaning up\n",
    "\n",
    "Models usually perform some \"wrap up tasks\" at the end of a model run, such as writing the last outputs to disk and releasing memory. In the case of eWaterCycle, another important teardown task is destroying the container in which the model was running. This can free up a lot of resources on your system. Therefore it is good practice to always call `finalize()` when you're done with an experiment."
   ]
  },
  {
   "cell_type": "code",
   "execution_count": 22,
   "id": "b5846be2",
   "metadata": {},
   "outputs": [],
   "source": [
    "pcrglob.finalize()"
   ]
  },
  {
   "cell_type": "code",
   "execution_count": null,
   "id": "73a24d2a-8087-4818-9b6f-d256f0ae31f5",
   "metadata": {},
   "outputs": [],
   "source": []
  }
 ],
 "metadata": {
  "kernelspec": {
   "display_name": "Python 3 (ipykernel)",
   "language": "python",
   "name": "python3"
  },
  "language_info": {
   "codemirror_mode": {
    "name": "ipython",
    "version": 3
   },
   "file_extension": ".py",
   "mimetype": "text/x-python",
   "name": "python",
   "nbconvert_exporter": "python",
   "pygments_lexer": "ipython3",
   "version": "3.12.5"
  }
 },
 "nbformat": 4,
 "nbformat_minor": 5
}
