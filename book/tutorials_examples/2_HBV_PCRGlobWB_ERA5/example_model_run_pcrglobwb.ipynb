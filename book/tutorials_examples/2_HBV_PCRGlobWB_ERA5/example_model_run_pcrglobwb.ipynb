{
 "cells": [
  {
   "cell_type": "markdown",
   "id": "e5442182",
   "metadata": {},
   "source": [
    "![ewatercycle logo](https://raw.githubusercontent.com/eWaterCycle/ewatercycle/main/docs/examples/logo.png)\n",
    "\n",
    "# PCRGlobWB example use case\n",
    "\n",
    "This example shows how the [PCRGlobWB model](https://globalhydrology.nl/research/models/pcr-globwb-2-0/) can be used within the eWaterCycle system. It is assumed you have already seen [this tutorial notebook](../../example_model_run_HBV.ipynb) explaining how to run the simple HBV model for the River Leven at Newby Bridge. \n",
    "\n",
    "The PCRGlobWB model is an example of a distributed model where fluxes and stores in the balance are calculated for grid cells (often also called pixels). This requires both the forcing data as well as any parameters to also be spatially distributed. Depending on the complexity of the model, these datasets can be quite large in memory size.\n",
    "\n",
    "Here we will be running PCRGLobWB for Great Brittain and will extract discharge data at the location of the River Leven again, to compare with the HBV model run. We will also demonstrate how to interact with the state of the model, during runtime, showcasing the benefit of using the BMI interface when building experiments using models."
   ]
  },
  {
   "cell_type": "code",
   "id": "424992ea",
   "metadata": {},
   "source": [
    "# This cell is only used to suppress some distracting output messages\n",
    "import warnings\n",
    "\n",
    "warnings.filterwarnings(\"ignore\", category=UserWarning)"
   ],
   "outputs": [],
   "execution_count": null
  },
  {
   "cell_type": "code",
   "id": "cec50ce3",
   "metadata": {},
   "source": [
    "import matplotlib.pyplot as plt\n",
    "from cartopy import crs\n",
    "from cartopy import feature as cfeature\n",
    "from rich import print\n",
    "import pandas as pd\n",
    "import xarray as xr\n",
    "from pathlib import Path\n",
    "from datetime import datetime\n",
    "from ipywidgets import IntProgress\n",
    "from IPython.display import display\n",
    "import fiona\n",
    "import shapely.geometry\n",
    "from pyproj import Geod\n",
    "\n",
    "import ewatercycle.forcing\n",
    "import ewatercycle.models\n",
    "import ewatercycle.parameter_sets"
   ],
   "outputs": [],
   "execution_count": null
  },
  {
   "cell_type": "code",
   "id": "3f186494-1f05-445d-8663-306591c87320",
   "metadata": {},
   "source": [
    "station_latitude = 54.26935849558577  # Newby Bridge location from Google Maps\n",
    "station_longitude = -2.9710855713537745"
   ],
   "outputs": [],
   "execution_count": null
  },
  {
   "metadata": {},
   "cell_type": "code",
   "outputs": [],
   "execution_count": null,
   "source": [
    "camelsgb_id = \"camelsgb_73010\"\n",
    "forcing_path = Path.home() / \"forcing\" / camelsgb_id\n",
    "\n",
    "prepared_forcing_path_caravan_central = forcing_path / \"caravan\"\n",
    "# forcing_path = \"forcing/camelsgb_73010/caravan\"\n",
    "shapeFile = prepared_forcing_path_caravan_central / f\"{camelsgb_id}.shp\"\n",
    "\n",
    "pcr_glob_directory = Path(\"/data/shared/parameter-sets/pcrglobwb_global\")\n",
    "prepared_PCRGlob_forcing = Path(\"/data/datasets/egu/forcing/UK/work/diagnostic/script\")"
   ],
   "id": "d3623c9e57f7d0e2"
  },
  {
   "cell_type": "markdown",
   "id": "194f357f",
   "metadata": {},
   "source": [
    "## Loading a parameter set"
   ]
  },
  {
   "cell_type": "markdown",
   "id": "1cdf38a2",
   "metadata": {},
   "source": [
    "For this example we have prepared and hosted a global parameter set made by Utrecht University. For each model run, what needs to be specified to deliniate the region of interest is a \"clone map\". The config file has many options, one of which is the location of this clone map.\n",
    "\n",
    "Note that this is very specific to PCRGlobWB. For complex (and legacy) models like PCRGlobWB one needs to know quite detailed information about the model before being able to run it. However, using eWaterCycle does reduce the time for seting up the model and getting it to run."
   ]
  },
  {
   "cell_type": "code",
   "id": "90f4e3ba",
   "metadata": {},
   "source": [
    "parameter_set = ewatercycle.parameter_sets.ParameterSet(\n",
    "    name=\"custom_parameter_set\",\n",
    "    directory=pcr_glob_directory,\n",
    "    config=\"./pcrglobwb_uk_05min.ini\",\n",
    "    target_model=\"pcrglobwb\",\n",
    "    supported_model_versions={\"setters\"},\n",
    ")"
   ],
   "outputs": [],
   "execution_count": null
  },
  {
   "cell_type": "code",
   "id": "fbabe50c",
   "metadata": {},
   "source": [
    "print(parameter_set)"
   ],
   "outputs": [],
   "execution_count": null
  },
  {
   "cell_type": "markdown",
   "id": "1271ae04",
   "metadata": {},
   "source": [
    "## Load forcing data\n",
    "\n",
    "For this example case, the forcing is generated in [this seperate notebook](generate_forcing.ipynb). This is a common practice when generating forcing takes considerable (CPU, memory, disk) resources. \n",
    "\n",
    "In the cell below, we load the pre-generated forcing. Note that in contrast with HBV, PCRGlobWB only needs temperature and precipitation as forcing inputs. HBV also needs potential evaporation. PCRGlobWB calculated potential and actual evaporation as part of its update step."
   ]
  },
  {
   "cell_type": "code",
   "id": "870c4af6",
   "metadata": {},
   "source": [
    "forcing = ewatercycle.forcing.sources[\"PCRGlobWBForcing\"].load(\n",
    "    directory=prepared_PCRGlob_forcing,\n",
    ")\n",
    "\n",
    "print(forcing)"
   ],
   "outputs": [],
   "execution_count": null
  },
  {
   "cell_type": "markdown",
   "id": "d5b82a92",
   "metadata": {},
   "source": [
    "## Setting up the model\n",
    "\n",
    "Note that the model version and the parameterset versions should be compatible."
   ]
  },
  {
   "cell_type": "code",
   "id": "08a4ed9e",
   "metadata": {},
   "source": [
    "pcrglob = ewatercycle.models.PCRGlobWB(\n",
    "    parameter_set=parameter_set,\n",
    "    forcing=forcing\n",
    ")\n",
    "\n",
    "print(pcrglob)"
   ],
   "outputs": [],
   "execution_count": null
  },
  {
   "cell_type": "code",
   "id": "a45eba5c",
   "metadata": {},
   "source": [
    "pcrglob.version"
   ],
   "outputs": [],
   "execution_count": null
  },
  {
   "cell_type": "markdown",
   "id": "a69e1212",
   "metadata": {},
   "source": [
    "eWaterCycle exposes a selected set of configurable parameters. These can be modified in the `setup()` method."
   ]
  },
  {
   "cell_type": "code",
   "id": "4a62965a",
   "metadata": {},
   "source": [
    "print(pcrglob.parameters)"
   ],
   "outputs": [],
   "execution_count": null
  },
  {
   "cell_type": "markdown",
   "id": "2a27869b",
   "metadata": {},
   "source": [
    "Calling `setup()` will start up the model container. Be careful with calling it multiple times!"
   ]
  },
  {
   "cell_type": "code",
   "id": "cc852425",
   "metadata": {},
   "source": [
    "cfg_file, cfg_dir = pcrglob.setup(\n",
    "    # end_time=\"1997-08-31T00:00:00Z\",\n",
    "    end_time=\"2000-08-31T00:00:00Z\",  # takes about 22 minutes when alone on server\n",
    "    max_spinups_in_years=0\n",
    ")\n",
    "\n",
    "cfg_file, cfg_dir"
   ],
   "outputs": [],
   "execution_count": null
  },
  {
   "cell_type": "code",
   "id": "4456b5e2",
   "metadata": {},
   "source": [
    "print(pcrglob.parameters)\n",
    "\n",
    "print(pcrglob.parameters)\n",
    "\n",
    "dates = pcrglob.parameters\n",
    "\n",
    "# Convert ISO 8601 strings to datetime objects\n",
    "start_time = datetime.strptime(dates['start_time'], '%Y-%m-%dT%H:%M:%SZ')\n",
    "end_time = datetime.strptime(dates['end_time'], '%Y-%m-%dT%H:%M:%SZ')\n",
    "\n",
    "# Calculate the number of days between the two dates\n",
    "delta = end_time - start_time\n",
    "print(f\"Number of days: {delta.days}\")\n",
    "number_of_days = delta.days"
   ],
   "outputs": [],
   "execution_count": null
  },
  {
   "cell_type": "markdown",
   "id": "0480d34c",
   "metadata": {},
   "source": [
    "Note that the parameters have been changed. A new config file which incorporates these updated parameters has been generated as well. If you want to see or modify any additional model settings, you can acces this file directly. When you're ready, pass the path to the config file to `initialize()`."
   ]
  },
  {
   "cell_type": "code",
   "id": "87144041",
   "metadata": {},
   "source": [
    "pcrglob.initialize(cfg_file)"
   ],
   "outputs": [],
   "execution_count": null
  },
  {
   "cell_type": "markdown",
   "id": "f16e18c7-88b1-4019-9281-44a4a51d21d0",
   "metadata": {},
   "source": [
    "We prepare a small dataframe where we can store the discharge output from the model"
   ]
  },
  {
   "cell_type": "code",
   "id": "664b32b6-2b4c-49f1-be5a-b451fceb9ecc",
   "metadata": {},
   "source": [
    "time = pd.date_range(pcrglob.start_time_as_isostr, pcrglob.end_time_as_isostr)\n",
    "timeseries = pd.DataFrame(\n",
    "    index=pd.Index(time, name=\"time\"), columns=[\"PCRGlobWB: Leven\"]\n",
    ")\n",
    "\n",
    "timeseries.head()"
   ],
   "outputs": [],
   "execution_count": null
  },
  {
   "cell_type": "markdown",
   "id": "f0f4987f",
   "metadata": {},
   "source": [
    "## Running the model\n",
    "\n",
    "Simply running the model from start to end is straightforward. At each time step we can retrieve information from the model."
   ]
  },
  {
   "cell_type": "code",
   "id": "403d55e6",
   "metadata": {
    "scrolled": true
   },
   "source": [
    "# An object to show a progress bar, since this can take a while:\n",
    "f = IntProgress(min=0, max=number_of_days) # instantiate the bar\n",
    "display(f) # display the bar\n",
    "\n",
    "while pcrglob.time < pcrglob.end_time:\n",
    "    pcrglob.update()\n",
    "\n",
    "    # Track discharge at station location\n",
    "    discharge_at_station = pcrglob.get_value_at_coords(\n",
    "        \"discharge\", lat=[station_latitude], lon=[station_longitude]\n",
    "    )\n",
    "    time = pcrglob.time_as_isostr\n",
    "    timeseries[\"PCRGlobWB: Leven\"][time] = discharge_at_station[0]\n",
    "\n",
    "    # Show progress\n",
    "    # print(time,end='\\r')  # \"\\r\" clears the output before printing the next timestamp\n",
    "\n",
    "    # Update progress bar\n",
    "    f.value += 1\n"
   ],
   "outputs": [],
   "execution_count": null
  },
  {
   "cell_type": "markdown",
   "id": "53a937e8",
   "metadata": {},
   "source": [
    "## Interacting with the model"
   ]
  },
  {
   "cell_type": "markdown",
   "id": "3ce583fa",
   "metadata": {},
   "source": [
    "PCRGlobWB exposes many variables. Just a few of them are shown here:"
   ]
  },
  {
   "cell_type": "code",
   "id": "23d55863",
   "metadata": {},
   "source": [
    "list(pcrglob.output_var_names)[-15:-5]"
   ],
   "outputs": [],
   "execution_count": null
  },
  {
   "cell_type": "markdown",
   "id": "bc3037d6",
   "metadata": {},
   "source": [
    "Model fields can be fetched as xarray objects (or as flat numpy arrays using `get_value()`):"
   ]
  },
  {
   "cell_type": "code",
   "id": "b37943a9",
   "metadata": {},
   "source": [
    "da = pcrglob.get_value_as_xarray(\"discharge\")\n",
    "da.thin(5)  # only show every 5th value in each dim"
   ],
   "outputs": [],
   "execution_count": null
  },
  {
   "cell_type": "markdown",
   "id": "b68de73f",
   "metadata": {},
   "source": [
    "Xarray makes it very easy to plot the data. In the figure below, we add a cross at the location where we collected the discharge every timestep: Leven at Newby bridge."
   ]
  },
  {
   "cell_type": "code",
   "id": "f30ab9b3",
   "metadata": {},
   "source": [
    "fig = plt.figure(dpi=120)\n",
    "ax = fig.add_subplot(111, projection=crs.PlateCarree())\n",
    "da.plot(ax=ax, cmap=\"GnBu\")\n",
    "\n",
    "# Overlay ocean and coastines\n",
    "ax.add_feature(cfeature.OCEAN)\n",
    "ax.add_feature(cfeature.RIVERS, color=\"k\")\n",
    "ax.coastlines()\n",
    "\n",
    "# Add a red cross marker at the location of the Leven River at Newby Bridge\n",
    "ax.scatter(station_longitude, station_latitude, s=250, c=\"r\", marker=\"x\", lw=2)"
   ],
   "outputs": [],
   "execution_count": null
  },
  {
   "cell_type": "markdown",
   "id": "418c4d74",
   "metadata": {},
   "source": "We can get (or set) the values at custom points as well:"
  },
  {
   "cell_type": "code",
   "id": "eb8a054b-44dc-4bdc-8179-c3796af26c2e",
   "metadata": {},
   "source": [
    "# Extra\n",
    "timeseries.plot()"
   ],
   "outputs": [],
   "execution_count": null
  },
  {
   "cell_type": "markdown",
   "id": "e68ed4a2-82c9-482c-a51b-8973cd009091",
   "metadata": {},
   "source": [
    "We of course want to compare this both to observations as well as to the result of the HBV model.\n"
   ]
  },
  {
   "cell_type": "code",
   "id": "f62de858-940c-46d2-b5ac-5b5268609911",
   "metadata": {},
   "source": [
    "camelsgb_forcing = ewatercycle.forcing.sources['CaravanForcing'].load(directory=prepared_forcing_path_caravan_central)\n",
    "xr_camelsgb_forcing = xr.open_dataset(camelsgb_forcing['Q'])\n",
    "xr_hbv_model_output = xr.open_dataset('~/river_discharge_data.nc')\n",
    "\n",
    "# flux_out_Q unit conversion factor from mm/day to m3/s\n",
    "conversion_mmday2m3s = 1 / (1000 * 86400)\n",
    "shape = fiona.open(camelsgb_forcing.shape)\n",
    "poly = [shapely.geometry.shape(p[\"geometry\"]) for p in shape][0]\n",
    "geod = Geod(ellps=\"WGS84\")\n",
    "poly_area, poly_perimeter = geod.geometry_area_perimeter(poly)\n",
    "catchment_area_m2 = abs(poly_area)\n",
    "print(catchment_area_m2)\n",
    "\n",
    "xr_camelsgb_forcing[\"Q\"]  = xr_camelsgb_forcing[\"Q\"] * conversion_mmday2m3s * catchment_area_m2\n",
    "xr_hbv_model_output['Modelled_discharge'] = xr_hbv_model_output['Modelled_discharge']* conversion_mmday2m3s * catchment_area_m2\n"
   ],
   "outputs": [],
   "execution_count": null
  },
  {
   "cell_type": "code",
   "id": "05522b52-eb4a-458e-a44d-cda10229e0be",
   "metadata": {},
   "source": [
    "timeseries.plot()\n",
    "xr_camelsgb_forcing[\"Q\"].plot(label=\"Observed discharge\")\n",
    "xr_hbv_model_output['Modelled_discharge'].plot(label=\"modelled discharge HBV\")\n",
    "plt.ylabel(\"Discharge [mm/day]\")\n",
    "plt.xlabel(\"Day\")\n",
    "plt.legend()"
   ],
   "outputs": [],
   "execution_count": null
  },
  {
   "metadata": {},
   "cell_type": "markdown",
   "source": "Doesn't look to good for PCRGlobWB. This is because for this small area we are only looking at 10-ish pixels and most likely there is a big mismatch between the pixels that drain through the outlet in PCRGlobWB and the actual catchment. Please ask Rolf for details.",
   "id": "506bc09011f9dbe8"
  },
  {
   "cell_type": "markdown",
   "id": "c3479c71",
   "metadata": {},
   "source": [
    "## Cleaning up\n",
    "\n",
    "Models usually perform some \"wrap up tasks\" at the end of a model run, such as writing the last outputs to disk and releasing memory. In the case of eWaterCycle, another important teardown task is destroying the container in which the model was running. This can free up a lot of resources on your system. Therefore it is good practice to always call `finalize()` when you're done with an experiment."
   ]
  },
  {
   "cell_type": "code",
   "id": "b5846be2",
   "metadata": {},
   "source": [
    "pcrglob.finalize()"
   ],
   "outputs": [],
   "execution_count": null
  }
 ],
 "metadata": {
  "kernelspec": {
   "display_name": "Python 3 (ipykernel)",
   "language": "python",
   "name": "python3"
  },
  "language_info": {
   "codemirror_mode": {
    "name": "ipython",
    "version": 3
   },
   "file_extension": ".py",
   "mimetype": "text/x-python",
   "name": "python",
   "nbconvert_exporter": "python",
   "pygments_lexer": "ipython3",
   "version": "3.12.5"
  }
 },
 "nbformat": 4,
 "nbformat_minor": 5
}
